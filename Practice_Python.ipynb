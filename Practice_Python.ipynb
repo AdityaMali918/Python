{
  "cells": [
    {
      "cell_type": "markdown",
      "metadata": {
        "id": "view-in-github",
        "colab_type": "text"
      },
      "source": [
        "<a href=\"https://colab.research.google.com/github/AdityaMali918/Python/blob/main/Practice_Python.ipynb\" target=\"_parent\"><img src=\"https://colab.research.google.com/assets/colab-badge.svg\" alt=\"Open In Colab\"/></a>"
      ]
    },
    {
      "cell_type": "markdown",
      "metadata": {
        "id": "Hx_uLRe8t9fM"
      },
      "source": [
        "***IMMUTABLE***\n",
        "\n",
        "* String : we cannot change character, we can delete whole string but can't delete portion of it\n",
        "Function : len, max, min ,sorted ,'str'.split(), ','.join([str1,str2,str3]),  Capitalize/Title/Upper/Lower/Swapcase, count/find/index , endswith/startswith ,\n",
        "format(name,class), isalnum/ isalpha/ isdigit/ isidentifier, Split/Join/Strip/Replace,sorted()\n",
        "\n",
        "\n"
      ]
    },
    {
      "cell_type": "markdown",
      "metadata": {
        "id": "hKpirqKuMkRK"
      },
      "source": [
        "# ***Characterstics of a List***\n",
        "\n",
        "* Ordered\n",
        "* Changeble/Mutable\n",
        "* Hetrogeneous\n",
        "* Can have duplicates\n",
        "* are dynamic\n",
        "* can be nested\n",
        "* items can be accessed\n",
        "* can contain any kind of objects in python\n",
        "\n",
        "* # Function : append, extend, insert, remove, pop(index), clear, len, max , min, sorted, sort, count, index, copy, Zip, sum\n",
        "\n",
        "The zip() function returns a zip object, which is an iterator of tuples where the first item in each passed iterator is paired together, and then the second item in each passed iterator are paired together.\n",
        "\n",
        "If the passed iterators have different lengths, the iterator with the least items decides the length of the new iterator.\n"
      ]
    },
    {
      "cell_type": "markdown",
      "metadata": {
        "id": "aCoSlhWZLxRI"
      },
      "source": [
        "# Tuples\n",
        "\n",
        "A tuple in Python is similar to a list. The difference between the two is that we cannot change the elements of a tuple once it is assigned whereas we can change the elements of a list.\n",
        "\n",
        "In short, a tuple is an immutable list. A tuple can not be changed in any way once it is created.\n",
        "\n",
        "Characterstics\n",
        "\n",
        "- Ordered\n",
        "- Unchangeble\n",
        "- Allows duplicate\n",
        "- Function : count,index"
      ]
    },
    {
      "cell_type": "markdown",
      "metadata": {
        "id": "rHmPJ1ANNjR3"
      },
      "source": [
        "# Sets\n",
        "\n",
        "A set is an unordered collection of items. Every set element is unique (no duplicates) and must be immutable (cannot be changed).\n",
        "\n",
        "However, a set itself is mutable. We can add or remove items from it.\n",
        "\n",
        "Sets can also be used to perform mathematical set operations like union, intersection, symmetric difference, etc.\n",
        "\n",
        "Characterstics:\n",
        "- Unordered\n",
        "- Mutable\n",
        "- No Duplicates\n",
        "- Can't contain mutable data types\n",
        "\n",
        "* Function : add,update,remove,union"
      ]
    },
    {
      "cell_type": "markdown",
      "metadata": {
        "id": "dnlSG51p_rcJ"
      },
      "source": [
        "# **Function**\n",
        "```\n",
        "def is_even(num):\n",
        "  \"\"\"\n",
        "  This function returns if a given number is odd or even\n",
        "  input - any valid integer\n",
        "  output - odd/even\n",
        "  created on - 16th Nov 2022\n",
        "  \"\"\"\n",
        "- is_even.__doc__\n",
        "```\n",
        "### Parameters Vs Arguments\n",
        "### Types of Arguments\n",
        "\n",
        "- Default Argument\n",
        "- Positional Argument\n",
        "- Keyword Argument\n",
        "\n",
        "\n",
        "### `*args and **kwargs`\n",
        "`*args and **kwargs` are special Python keywords that are used to pass the variable length of arguments to a function\n",
        "\n",
        "# *args\n",
        "# allows us to pass a variable number of non-keyword arguments to a function.\n",
        "```\n",
        "def multiply(*args): multiply(1,2,3,4,5,6,7,8,9,10,12)\n",
        "```\n",
        "- # **kwargs\n",
        "# **kwargs allows us to pass any number of keyword arguments.\n",
        "# Keyword arguments mean that they contain a key-value pair, like a Python dictionary.\n",
        "```\n",
        "def display(**k):\n",
        "\n",
        "  for (key,value) in salman.items():\n",
        "    print(key,'->',value)\n",
        "```\n",
        "display(india='delhi',srilanka='colombo',nepal='kathmandu',pakistan='islamabad')   \n",
        "\n",
        "# global\n",
        "def h(y):\n",
        "\n",
        "\n",
        "```\n",
        "def h(y):\n",
        "    global x\n",
        "    x += 1\n",
        "x = 5\n",
        "h(x)\n",
        "print(x)\n",
        "```"
      ]
    },
    {
      "cell_type": "markdown",
      "metadata": {
        "id": "Ubxq4keqJbvY"
      },
      "source": [
        "# **1. Print**"
      ]
    },
    {
      "cell_type": "code",
      "execution_count": null,
      "metadata": {
        "colab": {
          "base_uri": "https://localhost:8080/"
        },
        "id": "F0Av9rdTzWaO",
        "outputId": "59320aff-912d-4a80-cb7c-de380785a580"
      },
      "outputs": [
        {
          "name": "stdout",
          "output_type": "stream",
          "text": [
            "Hello World 1 2 4.5 True\n"
          ]
        }
      ],
      "source": [
        "print('Hello World',1,2,4.5,True)"
      ]
    },
    {
      "cell_type": "code",
      "execution_count": null,
      "metadata": {
        "colab": {
          "base_uri": "https://localhost:8080/"
        },
        "id": "BgAW2GDVJolR",
        "outputId": "149368cb-6264-487b-bb3e-3e4ac232c139"
      },
      "outputs": [
        {
          "name": "stdout",
          "output_type": "stream",
          "text": [
            "Hello World/1/2/4.5/True\n"
          ]
        }
      ],
      "source": [
        "print('Hello World',1,2,4.5,True,sep='/')"
      ]
    },
    {
      "cell_type": "code",
      "execution_count": null,
      "metadata": {
        "colab": {
          "base_uri": "https://localhost:8080/"
        },
        "id": "mYG2hPisJ0an",
        "outputId": "59f0fa57-fda1-4e83-88b1-b20909d85b7b"
      },
      "outputs": [
        {
          "name": "stdout",
          "output_type": "stream",
          "text": [
            "Hello World 1 2 4.5 True-"
          ]
        }
      ],
      "source": [
        "print('Hello World',1,2,4.5,True,end='-')"
      ]
    },
    {
      "cell_type": "markdown",
      "metadata": {
        "id": "s3KjjB1mKSdm"
      },
      "source": [
        "# **2. Data Types**"
      ]
    },
    {
      "cell_type": "code",
      "execution_count": null,
      "metadata": {
        "colab": {
          "base_uri": "https://localhost:8080/"
        },
        "id": "TEg-k0LcJ3y_",
        "outputId": "7ed4d5d7-a75c-4b86-aa03-660d28d40176"
      },
      "outputs": [
        {
          "name": "stdout",
          "output_type": "stream",
          "text": [
            "8\n"
          ]
        }
      ],
      "source": [
        "print(8)"
      ]
    },
    {
      "cell_type": "code",
      "execution_count": null,
      "metadata": {
        "colab": {
          "base_uri": "https://localhost:8080/"
        },
        "id": "NssbxuxtKspK",
        "outputId": "0cc1e196-3d6f-4460-f9b7-e1b13808a392"
      },
      "outputs": [
        {
          "name": "stdout",
          "output_type": "stream",
          "text": [
            "1e+308\n"
          ]
        }
      ],
      "source": [
        "print(1e308)"
      ]
    },
    {
      "cell_type": "code",
      "execution_count": null,
      "metadata": {
        "colab": {
          "base_uri": "https://localhost:8080/"
        },
        "id": "3baeXFImKub-",
        "outputId": "b5d072d4-661f-40bf-9743-d5f123f2386f"
      },
      "outputs": [
        {
          "name": "stdout",
          "output_type": "stream",
          "text": [
            "8.55\n",
            "inf\n"
          ]
        }
      ],
      "source": [
        "# Decimal/Float\n",
        "print(8.55)\n",
        "print(1e309)"
      ]
    },
    {
      "cell_type": "code",
      "execution_count": null,
      "metadata": {
        "colab": {
          "base_uri": "https://localhost:8080/"
        },
        "id": "hSeqlqBeKwW-",
        "outputId": "4ad5f42a-20f5-4a56-ad94-e62220cebcbe"
      },
      "outputs": [
        {
          "name": "stdout",
          "output_type": "stream",
          "text": [
            "True\n",
            "False\n"
          ]
        }
      ],
      "source": [
        "# Boolean\n",
        "print(True)\n",
        "print(False)"
      ]
    },
    {
      "cell_type": "code",
      "execution_count": null,
      "metadata": {
        "colab": {
          "base_uri": "https://localhost:8080/"
        },
        "id": "TIxAvwHCK2S-",
        "outputId": "04e7bb60-8a51-402e-f32e-d87b7b769ee6"
      },
      "outputs": [
        {
          "name": "stdout",
          "output_type": "stream",
          "text": [
            "Hello World\n"
          ]
        }
      ],
      "source": [
        "# Text/String\n",
        "print('Hello World')"
      ]
    },
    {
      "cell_type": "code",
      "execution_count": null,
      "metadata": {
        "colab": {
          "base_uri": "https://localhost:8080/"
        },
        "id": "6RQInEtmK4iu",
        "outputId": "65b80fd0-1b14-4d2e-ef20-c7b425db7578"
      },
      "outputs": [
        {
          "name": "stdout",
          "output_type": "stream",
          "text": [
            "<class 'complex'>\n"
          ]
        }
      ],
      "source": [
        "#complex\n",
        "print(type(3+5j))"
      ]
    },
    {
      "cell_type": "code",
      "execution_count": null,
      "metadata": {
        "colab": {
          "base_uri": "https://localhost:8080/"
        },
        "id": "7_6Yxzj_NTDd",
        "outputId": "5d68a0f7-4cce-413c-b50c-ca78bf77dc08"
      },
      "outputs": [
        {
          "name": "stdout",
          "output_type": "stream",
          "text": [
            "[1, '23', True]\n"
          ]
        }
      ],
      "source": [
        "#list\n",
        "print([1,'23',True])"
      ]
    },
    {
      "cell_type": "code",
      "execution_count": null,
      "metadata": {
        "colab": {
          "base_uri": "https://localhost:8080/"
        },
        "id": "y0aC59xnNws9",
        "outputId": "f8ab0b30-6518-44e8-8039-7c0f42e01a35"
      },
      "outputs": [
        {
          "name": "stdout",
          "output_type": "stream",
          "text": [
            "(2, 3, 4)\n"
          ]
        }
      ],
      "source": [
        "#tuple\n",
        "print((2,3,4))"
      ]
    },
    {
      "cell_type": "code",
      "execution_count": null,
      "metadata": {
        "colab": {
          "base_uri": "https://localhost:8080/"
        },
        "id": "jyxgWXFmNz2V",
        "outputId": "c71252de-2855-4308-9689-debc51f30435"
      },
      "outputs": [
        {
          "name": "stdout",
          "output_type": "stream",
          "text": [
            "{1, 2, 4}\n"
          ]
        }
      ],
      "source": [
        "#set\n",
        "print({1,2,4,4})"
      ]
    },
    {
      "cell_type": "code",
      "execution_count": null,
      "metadata": {
        "colab": {
          "base_uri": "https://localhost:8080/"
        },
        "id": "1xcY6kUGOLIF",
        "outputId": "cf25ffd7-ba35-407b-bdb4-f49ee43267a0"
      },
      "outputs": [
        {
          "name": "stdout",
          "output_type": "stream",
          "text": [
            "{1: 3, 2: 4}\n"
          ]
        }
      ],
      "source": [
        "#dict\n",
        "print({1:2,1:3,2:4})"
      ]
    },
    {
      "cell_type": "markdown",
      "metadata": {
        "id": "CvsIu-8kOhNF"
      },
      "source": [
        "# **3. Variables**"
      ]
    },
    {
      "cell_type": "code",
      "execution_count": null,
      "metadata": {
        "id": "RFK7Nn_2OQSU"
      },
      "outputs": [],
      "source": [
        "# Static Vs Dynamic Typing\n",
        "# Static Vs Dynamic Binding\n",
        "# stylish declaration techniques"
      ]
    },
    {
      "cell_type": "code",
      "execution_count": null,
      "metadata": {
        "colab": {
          "base_uri": "https://localhost:8080/"
        },
        "id": "X__adzqJOgDN",
        "outputId": "8fd57cdc-3cb7-44bb-f183-761294f3eb5f"
      },
      "outputs": [
        {
          "name": "stdout",
          "output_type": "stream",
          "text": [
            "1 2 3\n"
          ]
        }
      ],
      "source": [
        "a,b,c = 1,2,3\n",
        "print(a,b,c)"
      ]
    },
    {
      "cell_type": "code",
      "execution_count": null,
      "metadata": {
        "colab": {
          "base_uri": "https://localhost:8080/"
        },
        "id": "Dx7TkIkDPFvI",
        "outputId": "ecf2a137-ba6a-4fab-ad98-a3d32fecaebc"
      },
      "outputs": [
        {
          "name": "stdout",
          "output_type": "stream",
          "text": [
            "5 5 5\n"
          ]
        }
      ],
      "source": [
        "a=b=c=5\n",
        "print(a,b,c)"
      ]
    },
    {
      "cell_type": "markdown",
      "metadata": {
        "id": "Bebs6Vv2Pg_j"
      },
      "source": [
        "# **4. Comment**"
      ]
    },
    {
      "cell_type": "code",
      "execution_count": null,
      "metadata": {
        "id": "vr4N6OPKPIdE"
      },
      "outputs": [],
      "source": [
        "#name"
      ]
    },
    {
      "cell_type": "code",
      "execution_count": null,
      "metadata": {
        "colab": {
          "base_uri": "https://localhost:8080/"
        },
        "id": "37QD_y_rPnAM",
        "outputId": "a75c6fb0-e332-4fed-aad7-476f1f7bc7df"
      },
      "outputs": [
        {
          "name": "stdout",
          "output_type": "stream",
          "text": [
            "3\n"
          ]
        }
      ],
      "source": [
        "'''\n",
        "a ffffffdasdf das\n",
        "asdasdsa\n",
        "'''\n",
        "print(3)"
      ]
    },
    {
      "cell_type": "code",
      "execution_count": null,
      "metadata": {
        "colab": {
          "base_uri": "https://localhost:8080/",
          "height": 36
        },
        "id": "ImICus85PsAT",
        "outputId": "3315c94b-5075-4867-8bb7-b33d976876b5"
      },
      "outputs": [
        {
          "data": {
            "application/vnd.google.colaboratory.intrinsic+json": {
              "type": "string"
            },
            "text/plain": [
              "'\\n This function prints a greeting message.\\n'"
            ]
          },
          "execution_count": 26,
          "metadata": {},
          "output_type": "execute_result"
        }
      ],
      "source": [
        "\"\"\"\n",
        " This function prints a greeting message.\n",
        "\"\"\""
      ]
    },
    {
      "cell_type": "code",
      "execution_count": null,
      "metadata": {
        "id": "jgb8rxs0Pwk7"
      },
      "outputs": [],
      "source": [
        "import torch\n",
        "\n",
        "outputs = torch.tensor([\n",
        "    [2.1, 0.9, 3.2],  # sample 0\n",
        "    [1.2, 4.0, 0.5]   # sample 1\n",
        "])\n",
        "\n",
        "_,predicted = torch.max(outputs,0)"
      ]
    },
    {
      "cell_type": "code",
      "execution_count": null,
      "metadata": {
        "colab": {
          "base_uri": "https://localhost:8080/"
        },
        "id": "XQIiFRTkTz2h",
        "outputId": "78e311e4-5156-40fa-d80c-a2852cca7cf3"
      },
      "outputs": [
        {
          "data": {
            "text/plain": [
              "tensor([0, 1, 0])"
            ]
          },
          "execution_count": 31,
          "metadata": {},
          "output_type": "execute_result"
        }
      ],
      "source": [
        "predicted"
      ]
    },
    {
      "cell_type": "code",
      "execution_count": null,
      "metadata": {
        "id": "1Q-1lhczT3ax"
      },
      "outputs": [],
      "source": [
        "a =1\n",
        "a = float(a)"
      ]
    },
    {
      "cell_type": "code",
      "execution_count": null,
      "metadata": {
        "colab": {
          "base_uri": "https://localhost:8080/"
        },
        "id": "79ie8zQoUHiZ",
        "outputId": "4fa449d5-98d9-481b-c156-ac9fc24e4cf8"
      },
      "outputs": [
        {
          "data": {
            "text/plain": [
              "1.0"
            ]
          },
          "execution_count": 37,
          "metadata": {},
          "output_type": "execute_result"
        }
      ],
      "source": [
        "a\n"
      ]
    },
    {
      "cell_type": "markdown",
      "metadata": {
        "id": "6yfG31RebmTu"
      },
      "source": [
        "# **5. User Input**"
      ]
    },
    {
      "cell_type": "code",
      "execution_count": null,
      "metadata": {
        "colab": {
          "base_uri": "https://localhost:8080/"
        },
        "id": "XUnGzeYwVC9Y",
        "outputId": "36ef0386-12ba-46b8-918c-71afc257b3fc"
      },
      "outputs": [
        {
          "name": "stdout",
          "output_type": "stream",
          "text": [
            "Enter ur nameAD\n"
          ]
        }
      ],
      "source": [
        "a = input(\"Enter ur name\")"
      ]
    },
    {
      "cell_type": "code",
      "execution_count": null,
      "metadata": {
        "colab": {
          "base_uri": "https://localhost:8080/",
          "height": 36
        },
        "id": "tIxR54SmbrWV",
        "outputId": "a62bd9c0-b2b4-4458-c45c-3c9cda2aa720"
      },
      "outputs": [
        {
          "data": {
            "application/vnd.google.colaboratory.intrinsic+json": {
              "type": "string"
            },
            "text/plain": [
              "'AD'"
            ]
          },
          "execution_count": 40,
          "metadata": {},
          "output_type": "execute_result"
        }
      ],
      "source": [
        "a"
      ]
    },
    {
      "cell_type": "code",
      "execution_count": null,
      "metadata": {
        "colab": {
          "base_uri": "https://localhost:8080/"
        },
        "id": "Gts1J2FLbv4l",
        "outputId": "a67f4ead-2905-4431-ee79-36cf9e40fa92"
      },
      "outputs": [
        {
          "name": "stdout",
          "output_type": "stream",
          "text": [
            "Enter 1 4\n",
            "Enter 2 5\n"
          ]
        },
        {
          "data": {
            "text/plain": [
              "float"
            ]
          },
          "execution_count": 45,
          "metadata": {},
          "output_type": "execute_result"
        }
      ],
      "source": [
        "a = int(input(\"Enter 1 \"))\n",
        "b = int(input(\"Enter 2 \"))\n",
        "result = a+float(b)\n",
        "type(result)"
      ]
    },
    {
      "cell_type": "code",
      "execution_count": null,
      "metadata": {
        "colab": {
          "base_uri": "https://localhost:8080/",
          "height": 141
        },
        "id": "O2IAmEfxb9rN",
        "outputId": "5c48dcdf-b55b-4b1f-90e9-f0a337c40227"
      },
      "outputs": [
        {
          "ename": "TypeError",
          "evalue": "unsupported operand type(s) for +: 'int' and 'str'",
          "output_type": "error",
          "traceback": [
            "\u001b[0;31m---------------------------------------------------------------------------\u001b[0m",
            "\u001b[0;31mTypeError\u001b[0m                                 Traceback (most recent call last)",
            "\u001b[0;32m<ipython-input-46-2065475997>\u001b[0m in \u001b[0;36m<cell line: 0>\u001b[0;34m()\u001b[0m\n\u001b[0;32m----> 1\u001b[0;31m \u001b[0mprint\u001b[0m\u001b[0;34m(\u001b[0m\u001b[0;36m4\u001b[0m \u001b[0;34m+\u001b[0m \u001b[0;34m'4'\u001b[0m\u001b[0;34m)\u001b[0m\u001b[0;34m\u001b[0m\u001b[0;34m\u001b[0m\u001b[0m\n\u001b[0m",
            "\u001b[0;31mTypeError\u001b[0m: unsupported operand type(s) for +: 'int' and 'str'"
          ]
        }
      ],
      "source": [
        "print(4 + '4')"
      ]
    },
    {
      "cell_type": "markdown",
      "metadata": {
        "id": "IYEu-hOVcj3-"
      },
      "source": [
        "# **6. Type Conversion**"
      ]
    },
    {
      "cell_type": "code",
      "execution_count": null,
      "metadata": {
        "colab": {
          "base_uri": "https://localhost:8080/",
          "height": 36
        },
        "id": "Dar-s4nFcTwl",
        "outputId": "d218040f-2e60-4c07-ee79-ed5b5d826e52"
      },
      "outputs": [
        {
          "data": {
            "application/vnd.google.colaboratory.intrinsic+json": {
              "type": "string"
            },
            "text/plain": [
              "'5'"
            ]
          },
          "execution_count": 47,
          "metadata": {},
          "output_type": "execute_result"
        }
      ],
      "source": [
        "str(5)"
      ]
    },
    {
      "cell_type": "code",
      "execution_count": null,
      "metadata": {
        "colab": {
          "base_uri": "https://localhost:8080/"
        },
        "id": "-id666cncXBF",
        "outputId": "6b42f40b-7626-4aba-e525-3a1db54f5627"
      },
      "outputs": [
        {
          "data": {
            "text/plain": [
              "4.0"
            ]
          },
          "execution_count": 49,
          "metadata": {},
          "output_type": "execute_result"
        }
      ],
      "source": [
        "float(4)"
      ]
    },
    {
      "cell_type": "code",
      "execution_count": null,
      "metadata": {
        "colab": {
          "base_uri": "https://localhost:8080/"
        },
        "id": "uHXsT2jUcmO8",
        "outputId": "39aedd83-9c77-4ab9-beaf-c942969a0414"
      },
      "outputs": [
        {
          "name": "stdout",
          "output_type": "stream",
          "text": [
            "10.6\n",
            "<class 'int'> <class 'float'>\n"
          ]
        }
      ],
      "source": [
        "# Implicit Vs Explicit\n",
        "print(5+5.6)\n",
        "print(type(5),type(5.6))"
      ]
    },
    {
      "cell_type": "markdown",
      "metadata": {
        "id": "CVe2mkUTcya7"
      },
      "source": [
        "# **7. Literals**"
      ]
    },
    {
      "cell_type": "code",
      "execution_count": null,
      "metadata": {
        "id": "hphHert5coVE"
      },
      "outputs": [],
      "source": [
        "a = 210 #decimal\n",
        "b = 0b1010 #Binary Literals\n",
        "c = 0x23c #Hexadecimal Literal\n",
        "d = 0o310 #Octal Literal"
      ]
    },
    {
      "cell_type": "code",
      "execution_count": null,
      "metadata": {
        "id": "feCBLAeyc4xE"
      },
      "outputs": [],
      "source": [
        "#Float Literal\n",
        "float_1 = 10.5\n",
        "float_2 = 1.5e2 # 1.5 * 10^2\n",
        "float_3 = 1.5e-3 # 1.5 * 10^-3"
      ]
    },
    {
      "cell_type": "code",
      "execution_count": null,
      "metadata": {
        "id": "Z0VQ-ChVc9Wk"
      },
      "outputs": [],
      "source": [
        "#Complex Literal\n",
        "x = 3.14j\n"
      ]
    },
    {
      "cell_type": "code",
      "execution_count": null,
      "metadata": {
        "colab": {
          "base_uri": "https://localhost:8080/"
        },
        "id": "tF9D4fWKdK8k",
        "outputId": "83077fb7-86c6-4036-efa4-533be30d130c"
      },
      "outputs": [
        {
          "name": "stdout",
          "output_type": "stream",
          "text": [
            "210 10 572 200\n"
          ]
        }
      ],
      "source": [
        "print(a, b, c, d)"
      ]
    },
    {
      "cell_type": "code",
      "execution_count": null,
      "metadata": {
        "colab": {
          "base_uri": "https://localhost:8080/"
        },
        "id": "d-MmoICjdLcA",
        "outputId": "10dfc304-8410-49f3-bb7e-9d594c5a7bad"
      },
      "outputs": [
        {
          "name": "stdout",
          "output_type": "stream",
          "text": [
            "10.5 150.0 0.0015\n"
          ]
        }
      ],
      "source": [
        "print(float_1, float_2,float_3)"
      ]
    },
    {
      "cell_type": "code",
      "execution_count": null,
      "metadata": {
        "colab": {
          "base_uri": "https://localhost:8080/",
          "height": 53
        },
        "id": "bT9eg5HQdiYk",
        "outputId": "4e9e5ba2-f4d9-4c49-e1c1-0da09fb30636"
      },
      "outputs": [
        {
          "name": "stdout",
          "output_type": "stream",
          "text": [
            "3.14j 3.14 0.0\n"
          ]
        },
        {
          "data": {
            "application/vnd.google.colaboratory.intrinsic+json": {
              "type": "string"
            },
            "text/plain": [
              "'\\nThis is a multiline string with more than one line code.\\n'"
            ]
          },
          "execution_count": 66,
          "metadata": {},
          "output_type": "execute_result"
        }
      ],
      "source": [
        "print(x, x.imag, x.real)\n",
        "\"\"\"\n",
        "This is a multiline string with more than one line code.\n",
        "\"\"\""
      ]
    },
    {
      "cell_type": "code",
      "execution_count": null,
      "metadata": {
        "id": "s-G_yoXYdlcM"
      },
      "outputs": [],
      "source": [
        "string = 'This is Python'\n",
        "strings = \"This is Python\"\n",
        "char = \"C\"\n",
        "multiline_str = \"\"\"This is a multiline string with more than one line code.\"\"\""
      ]
    },
    {
      "cell_type": "code",
      "execution_count": null,
      "metadata": {
        "id": "FiP9npG7eOHT"
      },
      "outputs": [],
      "source": [
        "unicode = u\"\\U0001f600\\U0001F606\\U0001F923\"\n",
        "raw_str = r\"raw \\n string\""
      ]
    },
    {
      "cell_type": "code",
      "execution_count": null,
      "metadata": {
        "colab": {
          "base_uri": "https://localhost:8080/"
        },
        "id": "5-cCAzceeleR",
        "outputId": "642b2fb7-bd65-46bd-d198-f811dd5276b6"
      },
      "outputs": [
        {
          "name": "stdout",
          "output_type": "stream",
          "text": [
            "😀😆🤣\n",
            "raw \\n string\n"
          ]
        }
      ],
      "source": [
        "print(unicode)\n",
        "print(raw_str)"
      ]
    },
    {
      "cell_type": "code",
      "execution_count": null,
      "metadata": {
        "colab": {
          "base_uri": "https://localhost:8080/",
          "height": 36
        },
        "id": "7lAi1MgXel8L",
        "outputId": "a3357f62-e33f-41b8-b590-09723f7365e9"
      },
      "outputs": [
        {
          "data": {
            "application/vnd.google.colaboratory.intrinsic+json": {
              "type": "string"
            },
            "text/plain": [
              "'raw \\\\n string'"
            ]
          },
          "execution_count": 78,
          "metadata": {},
          "output_type": "execute_result"
        }
      ],
      "source": [
        "a = r\"raw \\n string\"\n",
        "a"
      ]
    },
    {
      "cell_type": "code",
      "execution_count": null,
      "metadata": {
        "colab": {
          "base_uri": "https://localhost:8080/"
        },
        "id": "tw6Cru_ieoNL",
        "outputId": "bd134625-d07f-47ba-de9c-001c4b499004"
      },
      "outputs": [
        {
          "name": "stdout",
          "output_type": "stream",
          "text": [
            "asd raw \\n string\n"
          ]
        }
      ],
      "source": [
        "print(f\"asd {a}\")"
      ]
    },
    {
      "cell_type": "markdown",
      "metadata": {
        "id": "KPZiElis-sAm"
      },
      "source": [
        "# **Operators in Pythonn**\n",
        "\n",
        "\n",
        "*  Arithmetic Operators\n",
        "*  Relational Operators\n",
        "*  Logical Operators\n",
        "*  Bitwise Operators\n",
        "*  Assignment Operators\n",
        "*  Membership Operators\n",
        "*  List item"
      ]
    },
    {
      "cell_type": "code",
      "execution_count": null,
      "metadata": {
        "colab": {
          "base_uri": "https://localhost:8080/"
        },
        "id": "_yBHm9PDe8jI",
        "outputId": "d1bc5a20-8766-4c78-ca8c-1df5b64604fe"
      },
      "outputs": [
        {
          "name": "stdout",
          "output_type": "stream",
          "text": [
            "8\n",
            "1\n",
            "20\n",
            "2.5\n",
            "2\n",
            "1\n",
            "25\n"
          ]
        }
      ],
      "source": [
        "# Arithmetric Operators\n",
        "print(5+3)\n",
        "\n",
        "print(5-4)\n",
        "\n",
        "print(5*4)\n",
        "\n",
        "print(5/2)\n",
        "\n",
        "print(5//2)\n",
        "\n",
        "print(5%2)\n",
        "\n",
        "print(5**2)"
      ]
    },
    {
      "cell_type": "code",
      "execution_count": null,
      "metadata": {
        "colab": {
          "base_uri": "https://localhost:8080/"
        },
        "id": "NgRIgRA4_Lbu",
        "outputId": "026fb2fa-7207-4edf-eb62-ed560191ec4e"
      },
      "outputs": [
        {
          "name": "stdout",
          "output_type": "stream",
          "text": [
            "True\n",
            "False\n",
            "True\n",
            "True\n",
            "True\n",
            "True\n"
          ]
        }
      ],
      "source": [
        "# Relational Operators\n",
        "print(5>4)\n",
        "\n",
        "print(5<4)\n",
        "\n",
        "print(5>=5)\n",
        "\n",
        "print(2<=4)\n",
        "\n",
        "print(2!=3)\n",
        "\n",
        "print(4==4)"
      ]
    },
    {
      "cell_type": "code",
      "execution_count": null,
      "metadata": {
        "colab": {
          "base_uri": "https://localhost:8080/"
        },
        "id": "WF9BstuT_ay0",
        "outputId": "da51b403-7c3d-4029-cc07-d6e9df28c5b1"
      },
      "outputs": [
        {
          "name": "stdout",
          "output_type": "stream",
          "text": [
            "3\n",
            "4\n",
            "True\n"
          ]
        }
      ],
      "source": [
        "# Logical Operators\n",
        "\n",
        "print(1 and 3)\n",
        "\n",
        "print(4 or 3)\n",
        "\n",
        "print(not 0)"
      ]
    },
    {
      "cell_type": "code",
      "execution_count": null,
      "metadata": {
        "colab": {
          "base_uri": "https://localhost:8080/"
        },
        "id": "T7WUoMma_gFk",
        "outputId": "677db9c2-89a6-4463-a4c5-53f617f00aef"
      },
      "outputs": [
        {
          "name": "stdout",
          "output_type": "stream",
          "text": [
            "0\n",
            "3\n",
            "-2\n",
            "1\n",
            "1\n",
            "16\n"
          ]
        }
      ],
      "source": [
        "# Bitwise Operators\n",
        "\n",
        "print(3 & 4)\n",
        "\n",
        "print(1 | 2)\n",
        "\n",
        "print(~1)\n",
        "\n",
        "print(2^3)\n",
        "\n",
        "print(3>>1)\n",
        "\n",
        "print(2<<3)"
      ]
    },
    {
      "cell_type": "code",
      "execution_count": null,
      "metadata": {
        "id": "FrInYyg7_1EE"
      },
      "outputs": [],
      "source": [
        "# Assignment Operators\n",
        "\n",
        "# =\n",
        "# a = 2\n",
        "\n",
        "# a = 2\n",
        "\n",
        "a+=1"
      ]
    },
    {
      "cell_type": "code",
      "execution_count": null,
      "metadata": {
        "colab": {
          "base_uri": "https://localhost:8080/"
        },
        "id": "L4UmYZnSDclq",
        "outputId": "f7f5429e-8c03-4709-86b4-7f8842c74cc9"
      },
      "outputs": [
        {
          "data": {
            "text/plain": [
              "5"
            ]
          },
          "execution_count": 30,
          "metadata": {},
          "output_type": "execute_result"
        }
      ],
      "source": [
        "a"
      ]
    },
    {
      "cell_type": "code",
      "execution_count": null,
      "metadata": {
        "colab": {
          "base_uri": "https://localhost:8080/",
          "height": 106
        },
        "id": "hvU49YDZDe2B",
        "outputId": "0ee90f3b-d62d-4762-9a85-6d3ac7929fc4"
      },
      "outputs": [
        {
          "ename": "SyntaxError",
          "evalue": "invalid syntax (<ipython-input-32-1277751513>, line 1)",
          "output_type": "error",
          "traceback": [
            "\u001b[0;36m  File \u001b[0;32m\"<ipython-input-32-1277751513>\"\u001b[0;36m, line \u001b[0;32m1\u001b[0m\n\u001b[0;31m    a++\u001b[0m\n\u001b[0m       ^\u001b[0m\n\u001b[0;31mSyntaxError\u001b[0m\u001b[0;31m:\u001b[0m invalid syntax\n"
          ]
        }
      ],
      "source": [
        "a++"
      ]
    },
    {
      "cell_type": "code",
      "execution_count": null,
      "metadata": {
        "colab": {
          "base_uri": "https://localhost:8080/"
        },
        "id": "WZ5qaWO0D1Ph",
        "outputId": "0c021125-ee21-4f1f-bee8-d890d5d097e6"
      },
      "outputs": [
        {
          "name": "stdout",
          "output_type": "stream",
          "text": [
            "True\n",
            "True\n"
          ]
        }
      ],
      "source": [
        "# Membership Operators\n",
        "\n",
        "# in/not in\n",
        "\n",
        "print('D' in 'Delhi')\n",
        "\n",
        "print(1 in [1,2,3])"
      ]
    },
    {
      "cell_type": "code",
      "execution_count": null,
      "metadata": {
        "colab": {
          "base_uri": "https://localhost:8080/"
        },
        "id": "tGdtnr5rD-8x",
        "outputId": "5f160859-d0f1-4727-e7e6-12a9fe142a96"
      },
      "outputs": [
        {
          "name": "stdout",
          "output_type": "stream",
          "text": [
            "Enter a 3 digit number7777\n",
            "Enter a 3 digit number45\n",
            "Enter a 3 digit number7899\n",
            "Enter a 3 digit number555\n",
            "15\n"
          ]
        }
      ],
      "source": [
        "# Program - Find the sum of a 3 digit number entered by the user\n",
        "\n",
        "val = True\n",
        "\n",
        "while(val):\n",
        "  number = int(input('Enter a 3 digit number'))\n",
        "  if(len(str(number)) == 3):\n",
        "    val = False\n",
        "\n",
        "    sum = 0\n",
        "    remainder = number\n",
        "\n",
        "    while(remainder!=0):\n",
        "       sum += remainder%10\n",
        "       remainder //= 10\n",
        "\n",
        "    print(sum)\n",
        "\n"
      ]
    },
    {
      "cell_type": "code",
      "execution_count": null,
      "metadata": {
        "colab": {
          "base_uri": "https://localhost:8080/"
        },
        "id": "777BdUY1Edip",
        "outputId": "b270a352-d9eb-4bcd-91cb-bb65e97deacf"
      },
      "outputs": [
        {
          "data": {
            "text/plain": [
              "5"
            ]
          },
          "execution_count": 37,
          "metadata": {},
          "output_type": "execute_result"
        }
      ],
      "source": [
        "52//10"
      ]
    },
    {
      "cell_type": "code",
      "execution_count": null,
      "metadata": {
        "colab": {
          "base_uri": "https://localhost:8080/"
        },
        "id": "rusx942UEgPk",
        "outputId": "cf7aca03-ad98-446a-99be-14244464adf9"
      },
      "outputs": [
        {
          "data": {
            "text/plain": [
              "2"
            ]
          },
          "execution_count": 38,
          "metadata": {},
          "output_type": "execute_result"
        }
      ],
      "source": [
        "52%10"
      ]
    },
    {
      "cell_type": "code",
      "execution_count": null,
      "metadata": {
        "colab": {
          "base_uri": "https://localhost:8080/"
        },
        "id": "sGPXFcgVEjF-",
        "outputId": "878b8bb0-22fd-4ba2-b95f-8f2632ac3932"
      },
      "outputs": [
        {
          "data": {
            "text/plain": [
              "552"
            ]
          },
          "execution_count": 39,
          "metadata": {},
          "output_type": "execute_result"
        }
      ],
      "source": [
        "5522//10"
      ]
    },
    {
      "cell_type": "code",
      "execution_count": null,
      "metadata": {
        "colab": {
          "base_uri": "https://localhost:8080/"
        },
        "id": "fHHXgv8XEly5",
        "outputId": "29fe6fad-cd30-4a56-939d-c1932d0584af"
      },
      "outputs": [
        {
          "data": {
            "text/plain": [
              "3"
            ]
          },
          "execution_count": 40,
          "metadata": {},
          "output_type": "execute_result"
        }
      ],
      "source": [
        "2233%10"
      ]
    },
    {
      "cell_type": "code",
      "execution_count": null,
      "metadata": {
        "colab": {
          "base_uri": "https://localhost:8080/",
          "height": 176
        },
        "id": "haJOPP5GEneB",
        "outputId": "1c71b680-c8d0-4f32-aa9a-8ad9f5ee7cb5"
      },
      "outputs": [
        {
          "name": "stdout",
          "output_type": "stream",
          "text": [
            "Enter a 3 digit number444\n"
          ]
        },
        {
          "ename": "TypeError",
          "evalue": "object of type 'int' has no len()",
          "output_type": "error",
          "traceback": [
            "\u001b[0;31m---------------------------------------------------------------------------\u001b[0m",
            "\u001b[0;31mTypeError\u001b[0m                                 Traceback (most recent call last)",
            "\u001b[0;32m<ipython-input-41-3071295757>\u001b[0m in \u001b[0;36m<cell line: 0>\u001b[0;34m()\u001b[0m\n\u001b[1;32m      1\u001b[0m \u001b[0mnumber\u001b[0m \u001b[0;34m=\u001b[0m \u001b[0mint\u001b[0m\u001b[0;34m(\u001b[0m\u001b[0minput\u001b[0m\u001b[0;34m(\u001b[0m\u001b[0;34m'Enter a 3 digit number'\u001b[0m\u001b[0;34m)\u001b[0m\u001b[0;34m)\u001b[0m\u001b[0;34m\u001b[0m\u001b[0;34m\u001b[0m\u001b[0m\n\u001b[0;32m----> 2\u001b[0;31m \u001b[0mlen\u001b[0m\u001b[0;34m(\u001b[0m\u001b[0mnumber\u001b[0m\u001b[0;34m)\u001b[0m\u001b[0;34m\u001b[0m\u001b[0;34m\u001b[0m\u001b[0m\n\u001b[0m",
            "\u001b[0;31mTypeError\u001b[0m: object of type 'int' has no len()"
          ]
        }
      ],
      "source": [
        "number = int(input('Enter a 3 digit number'))\n",
        "len(number)"
      ]
    },
    {
      "cell_type": "code",
      "execution_count": null,
      "metadata": {
        "colab": {
          "base_uri": "https://localhost:8080/"
        },
        "id": "ZjXT09a1FIxJ",
        "outputId": "fa5cfa49-ff51-4f56-9b74-cc6590c14615"
      },
      "outputs": [
        {
          "data": {
            "text/plain": [
              "2"
            ]
          },
          "execution_count": 42,
          "metadata": {},
          "output_type": "execute_result"
        }
      ],
      "source": [
        "2%10"
      ]
    },
    {
      "cell_type": "code",
      "execution_count": null,
      "metadata": {
        "colab": {
          "base_uri": "https://localhost:8080/"
        },
        "id": "eP-5TuLPFRAQ",
        "outputId": "77a79b3b-5bb4-4920-a80f-e047e236453e"
      },
      "outputs": [
        {
          "data": {
            "text/plain": [
              "0"
            ]
          },
          "execution_count": 43,
          "metadata": {},
          "output_type": "execute_result"
        }
      ],
      "source": [
        "2//10"
      ]
    },
    {
      "cell_type": "code",
      "execution_count": null,
      "metadata": {
        "colab": {
          "base_uri": "https://localhost:8080/"
        },
        "id": "u_g7wnxkFR9I",
        "outputId": "4415e488-fa73-486b-f29d-5af3237b2c8f"
      },
      "outputs": [
        {
          "data": {
            "text/plain": [
              "1"
            ]
          },
          "execution_count": 51,
          "metadata": {},
          "output_type": "execute_result"
        }
      ],
      "source": [
        "#Find the min of 3 given numbers\n",
        "\n",
        "miminum = min(1,2,3)\n",
        "miminum"
      ]
    },
    {
      "cell_type": "code",
      "execution_count": null,
      "metadata": {
        "colab": {
          "base_uri": "https://localhost:8080/"
        },
        "id": "sBoJwjcEIyln",
        "outputId": "af1e5a7c-ab14-4232-99f6-626d29a025cf"
      },
      "outputs": [
        {
          "data": {
            "text/plain": [
              "3"
            ]
          },
          "execution_count": 52,
          "metadata": {},
          "output_type": "execute_result"
        }
      ],
      "source": [
        "maximum = max(1,2,3)\n",
        "maximum"
      ]
    },
    {
      "cell_type": "markdown",
      "metadata": {
        "id": "vLdUHBQ5JVhM"
      },
      "source": [
        "# **Modules in Python**\n",
        "\n",
        "\n",
        "\n",
        "*   math\n",
        "*   keywords\n",
        "*   random\n",
        "*   datetime\n",
        "\n"
      ]
    },
    {
      "cell_type": "code",
      "execution_count": null,
      "metadata": {
        "colab": {
          "base_uri": "https://localhost:8080/"
        },
        "id": "aHLAr6mLI4eO",
        "outputId": "8caa1af1-3943-44c8-c335-44d4f7666515"
      },
      "outputs": [
        {
          "data": {
            "text/plain": [
              "5.0"
            ]
          },
          "execution_count": 53,
          "metadata": {},
          "output_type": "execute_result"
        }
      ],
      "source": [
        "import math\n",
        "\n",
        "math.sqrt(25)"
      ]
    },
    {
      "cell_type": "code",
      "execution_count": null,
      "metadata": {
        "colab": {
          "base_uri": "https://localhost:8080/"
        },
        "id": "Sn5wbU1mJjg2",
        "outputId": "4aca17ca-2017-4068-beea-6fa6d2b2a9ee"
      },
      "outputs": [
        {
          "data": {
            "text/plain": [
              "['False',\n",
              " 'None',\n",
              " 'True',\n",
              " 'and',\n",
              " 'as',\n",
              " 'assert',\n",
              " 'async',\n",
              " 'await',\n",
              " 'break',\n",
              " 'class',\n",
              " 'continue',\n",
              " 'def',\n",
              " 'del',\n",
              " 'elif',\n",
              " 'else',\n",
              " 'except',\n",
              " 'finally',\n",
              " 'for',\n",
              " 'from',\n",
              " 'global',\n",
              " 'if',\n",
              " 'import',\n",
              " 'in',\n",
              " 'is',\n",
              " 'lambda',\n",
              " 'nonlocal',\n",
              " 'not',\n",
              " 'or',\n",
              " 'pass',\n",
              " 'raise',\n",
              " 'return',\n",
              " 'try',\n",
              " 'while',\n",
              " 'with',\n",
              " 'yield']"
            ]
          },
          "execution_count": 54,
          "metadata": {},
          "output_type": "execute_result"
        }
      ],
      "source": [
        "import keyword\n",
        "\n",
        "keyword.kwlist"
      ]
    },
    {
      "cell_type": "code",
      "execution_count": null,
      "metadata": {
        "colab": {
          "base_uri": "https://localhost:8080/"
        },
        "id": "LlBO59ckJm-e",
        "outputId": "2ca2f6df-4fdf-40e7-a6d9-3536e211a1e5"
      },
      "outputs": [
        {
          "data": {
            "text/plain": [
              "7"
            ]
          },
          "execution_count": 56,
          "metadata": {},
          "output_type": "execute_result"
        }
      ],
      "source": [
        "import random\n",
        "random.randint(1,10)"
      ]
    },
    {
      "cell_type": "code",
      "execution_count": null,
      "metadata": {
        "colab": {
          "base_uri": "https://localhost:8080/"
        },
        "id": "KUllt5hPJrOG",
        "outputId": "72b78db7-ddd9-4cf7-8ad6-6b3bf9d1c6e4"
      },
      "outputs": [
        {
          "name": "stdout",
          "output_type": "stream",
          "text": [
            "2025-06-15 05:55:20.397857\n"
          ]
        }
      ],
      "source": [
        "import datetime\n",
        "print(datetime.datetime.now())"
      ]
    },
    {
      "cell_type": "code",
      "execution_count": null,
      "metadata": {
        "colab": {
          "base_uri": "https://localhost:8080/"
        },
        "id": "zwAurJjtJ3tW",
        "outputId": "cd117963-65b6-4503-cca3-939e1d55be54"
      },
      "outputs": [
        {
          "name": "stdout",
          "output_type": "stream",
          "text": [
            "guess karo55\n",
            "galat!guess lower\n",
            "guess karo25\n",
            "galat!guess lower\n",
            "guess karo10\n",
            "galat!guess higher\n",
            "guess karo15\n",
            "galat!guess lower\n",
            "guess karo13\n",
            "galat!guess lower\n",
            "guess karo12\n",
            "galat!guess lower\n",
            "guess karo11\n",
            "correct guess\n",
            "attempts 7\n"
          ]
        }
      ],
      "source": [
        "# generate a random integer between 1 and 100\n",
        "import random\n",
        "jackpot = random.randint(1,100)\n",
        "\n",
        "guess = int(input('guess karo'))\n",
        "counter = 1\n",
        "while guess != jackpot:\n",
        "  if guess < jackpot:\n",
        "    print('galat!guess higher')\n",
        "  else:\n",
        "    print('galat!guess lower')\n",
        "\n",
        "  guess = int(input('guess karo'))\n",
        "  counter += 1\n",
        "\n",
        "else:\n",
        "  print('correct guess')\n",
        "  print('attempts',counter)"
      ]
    },
    {
      "cell_type": "code",
      "execution_count": null,
      "metadata": {
        "id": "n2n18u-nKIUu"
      },
      "outputs": [],
      "source": [
        "while guess != jackpot:\n",
        "    if guess == -1:\n",
        "        break\n",
        "else:\n",
        "    print(\"This will NOT run if loop was broken using break.\")"
      ]
    },
    {
      "cell_type": "markdown",
      "metadata": {
        "id": "OXDPSZwNQJlx"
      },
      "source": [
        "# **Loops in Python**"
      ]
    },
    {
      "cell_type": "code",
      "execution_count": null,
      "metadata": {
        "colab": {
          "base_uri": "https://localhost:8080/"
        },
        "id": "UVFx2V70M8nf",
        "outputId": "5659dca0-5c1d-4173-ccc0-833548704b45"
      },
      "outputs": [
        {
          "name": "stdout",
          "output_type": "stream",
          "text": [
            "1\n",
            "2\n",
            "limit crossed\n"
          ]
        }
      ],
      "source": [
        "# while loop with else\n",
        "\n",
        "x = 1\n",
        "\n",
        "while x < 3:\n",
        "  print(x)\n",
        "  x += 1\n",
        "\n",
        "else:\n",
        "  print('limit crossed')"
      ]
    },
    {
      "cell_type": "markdown",
      "metadata": {
        "id": "znKljOQ0MPa3"
      },
      "source": [
        "# ***Problem 1: Write a program that will give you in hand monthly salary after deduction on CTC - HRA(10%), DA(5%), PF(3%) and taxes deduction as below:***\n",
        "\n",
        "Salary(Lakhs) : Tax(%)\n",
        "\n",
        "Below 5 : 0%\n",
        "5-10 : 10%\n",
        "10-20 : 20%\n",
        "aboove 20 : 30%\n",
        "\n",
        "\n"
      ]
    },
    {
      "cell_type": "code",
      "execution_count": null,
      "metadata": {
        "colab": {
          "base_uri": "https://localhost:8080/"
        },
        "id": "c7F6Cf5dQPcB",
        "outputId": "003fce0c-f48c-46f8-a7a1-bd708e0b6426"
      },
      "outputs": [
        {
          "name": "stdout",
          "output_type": "stream",
          "text": [
            "Enter your annual CTC in lakhs: 5\n",
            "Your monthly in-hand salary is: ₹31100.62\n"
          ]
        }
      ],
      "source": [
        "ctc = float(input(\"Enter your annual CTC in lakhs: \"))\n",
        "\n",
        "# Step 1: Remove HRA (10%), DA (5%), PF (3%)\n",
        "net_salary = ctc\n",
        "net_salary *= 0.90  # HRA\n",
        "net_salary *= 0.95  # DA\n",
        "net_salary *= 0.97  # PF\n",
        "\n",
        "# Step 2: Apply tax based on slabs\n",
        "if 0 < ctc < 5:\n",
        "    tax_rate = 0\n",
        "elif 5 <= ctc < 10:\n",
        "    tax_rate = 0.10\n",
        "elif 10 <= ctc < 20:\n",
        "    tax_rate = 0.20\n",
        "elif ctc >= 20:\n",
        "    tax_rate = 0.30\n",
        "else:\n",
        "    print(\"Invalid input.\")\n",
        "    exit()\n",
        "\n",
        "net_salary_after_tax = net_salary * (1 - tax_rate)\n",
        "\n",
        "# Step 3: Monthly in-hand salary\n",
        "monthly_in_hand = (net_salary_after_tax * 1_00_000) / 12  # Convert lakhs to rupees\n",
        "\n",
        "print(f\"Your monthly in-hand salary is: ₹{monthly_in_hand:.2f}\")"
      ]
    },
    {
      "cell_type": "markdown",
      "metadata": {
        "id": "zBFTNAXGSsyb"
      },
      "source": [
        "# **Write a program that will take user input of cost price and selling price and determines whether its a loss or a profit.**"
      ]
    },
    {
      "cell_type": "code",
      "execution_count": null,
      "metadata": {
        "colab": {
          "base_uri": "https://localhost:8080/"
        },
        "id": "peznuk5zMhYW",
        "outputId": "4d7e337b-40a1-4696-c3d4-66718e30f7dd"
      },
      "outputs": [
        {
          "name": "stdout",
          "output_type": "stream",
          "text": [
            "Enter the cost price500\n",
            "Enter the selling price600\n",
            "Profit 1.2\n"
          ]
        }
      ],
      "source": [
        "cost_price = int(input(\"Enter the cost price\"))\n",
        "selling_price = int(input(\"Enter the selling price\"))\n",
        "ratio = selling_price/cost_price\n",
        "if(ratio > 1 ):\n",
        "  print(\"Profit\",ratio )\n",
        "elif(ratio == 1 ):\n",
        "  print(\"No loss no profit\")\n",
        "else:\n",
        "  print(\"Loss\")"
      ]
    },
    {
      "cell_type": "markdown",
      "metadata": {
        "id": "ygqu4QDAUFR7"
      },
      "source": [
        "# ***The Fibonacci Sequence is a series of numbers. The next number is found by adding up the two numbers before it. The first two numbers are 0 and 1. For example, 0, 1, 1, 2, 3, 5, 8, 13, 21. The next number in this series above is 13+21 = 34***"
      ]
    },
    {
      "cell_type": "code",
      "execution_count": null,
      "metadata": {
        "colab": {
          "base_uri": "https://localhost:8080/"
        },
        "id": "GcKV9_sSMx8W",
        "outputId": "d7a1c4f6-cd57-4305-a7e8-d19b89ea0de2"
      },
      "outputs": [
        {
          "name": "stdout",
          "output_type": "stream",
          "text": [
            "Enter the number of sequence10\n",
            "0 1 1 2 3 5 8 13 21 "
          ]
        }
      ],
      "source": [
        "n_term = int(input(\"Enter the number of sequence\"))\n",
        "a=0\n",
        "b=1\n",
        "for i in range(1,n_term):\n",
        "  print(a, end=\" \")\n",
        "  a, b = b, a + b\n",
        "\n"
      ]
    },
    {
      "cell_type": "code",
      "execution_count": null,
      "metadata": {
        "colab": {
          "base_uri": "https://localhost:8080/"
        },
        "id": "15-dvv7dUorj",
        "outputId": "bacff7eb-1317-47e0-c9a7-7df60e83a01f"
      },
      "outputs": [
        {
          "name": "stdout",
          "output_type": "stream",
          "text": [
            "Enter the number of sequence6\n",
            "6\n",
            "30\n",
            "120\n",
            "360\n",
            "720\n"
          ]
        }
      ],
      "source": [
        "n = int(input(\"Enter the number of sequence\"))\n",
        "factorial=1\n",
        "while(n != 1):\n",
        "    factorial *= n\n",
        "    print(factorial)\n",
        "    n-=1\n",
        "\n",
        "\n"
      ]
    },
    {
      "cell_type": "code",
      "execution_count": null,
      "metadata": {
        "colab": {
          "base_uri": "https://localhost:8080/",
          "height": 36
        },
        "id": "Uw_yiqLfXu7w",
        "outputId": "8d779fba-0d7c-4da0-d4b2-fdd129cc5b7b"
      },
      "outputs": [
        {
          "data": {
            "application/vnd.google.colaboratory.intrinsic+json": {
              "type": "string"
            },
            "text/plain": [
              "'986'"
            ]
          },
          "execution_count": 60,
          "metadata": {},
          "output_type": "execute_result"
        }
      ],
      "source": [
        "st= '45689'\n",
        "st[-1:-4:-1]\n"
      ]
    },
    {
      "cell_type": "code",
      "execution_count": null,
      "metadata": {
        "colab": {
          "base_uri": "https://localhost:8080/"
        },
        "id": "lqPSxXuecQiW",
        "outputId": "9dee0b85-1ca8-4d39-944a-70169f7174e3"
      },
      "outputs": [
        {
          "name": "stdout",
          "output_type": "stream",
          "text": [
            "2002,2009,2016,2023,2037,2044,2051,2058,2072,2079,2086,2093,2107,2114,2121,2128,2142,2149,2156,2163,2177,2184,2191,2198,2212,2219,2226,2233,2247,2254,2261,2268,2282,2289,2296,2303,2317,2324,2331,2338,2352,2359,2366,2373,2387,2394,2401,2408,2422,2429,2436,2443,2457,2464,2471,2478,2492,2499,2506,2513,2527,2534,2541,2548,2562,2569,2576,2583,2597,2604,2611,2618,2632,2639,2646,2653,2667,2674,2681,2688,2702,2709,2716,2723,2737,2744,2751,2758,2772,2779,2786,2793,2807,2814,2821,2828,2842,2849,2856,2863,2877,2884,2891,2898,2912,2919,2926,2933,2947,2954,2961,2968,2982,2989,2996,3003,3017,3024,3031,3038,3052,3059,3066,3073,3087,3094,3101,3108,3122,3129,3136,3143,3157,3164,3171,3178,3192,3199\n"
          ]
        }
      ],
      "source": [
        "result = []\n",
        "\n",
        "for i in range(2000,3201):\n",
        "  if(i%7==0 and i%5!=0):\n",
        "    result.append(str(i))\n",
        "\n",
        "print(\",\".join(result))"
      ]
    },
    {
      "cell_type": "code",
      "execution_count": null,
      "metadata": {
        "colab": {
          "base_uri": "https://localhost:8080/",
          "height": 36
        },
        "id": "-DA3_Bq4eKB8",
        "outputId": "05911364-e6d7-4330-af39-3ab40a9c9240"
      },
      "outputs": [
        {
          "data": {
            "application/vnd.google.colaboratory.intrinsic+json": {
              "type": "string"
            },
            "text/plain": [
              "'a-b-c'"
            ]
          },
          "execution_count": 69,
          "metadata": {},
          "output_type": "execute_result"
        }
      ],
      "source": [
        "result=['a','b','c']\n",
        "\"-\".join(result)"
      ]
    },
    {
      "cell_type": "code",
      "execution_count": null,
      "metadata": {
        "colab": {
          "base_uri": "https://localhost:8080/"
        },
        "id": "_WK-WU2Lg1xD",
        "outputId": "afa6caf2-bc92-4cdd-cff4-5fc2d120b299"
      },
      "outputs": [
        {
          "data": {
            "text/plain": [
              "2.23606797749979"
            ]
          },
          "execution_count": 70,
          "metadata": {},
          "output_type": "execute_result"
        }
      ],
      "source": [
        "5**(1/2)"
      ]
    },
    {
      "cell_type": "markdown",
      "metadata": {
        "id": "L2P8pmmujaSD"
      },
      "source": [
        "# ***:Write a program to print whether a given number is a prime number or not***"
      ]
    },
    {
      "cell_type": "code",
      "execution_count": null,
      "metadata": {
        "colab": {
          "base_uri": "https://localhost:8080/"
        },
        "id": "yYIzoqcXhkGa",
        "outputId": "59a26343-c1e9-4ae7-f9a4-536e31013d34"
      },
      "outputs": [
        {
          "name": "stdout",
          "output_type": "stream",
          "text": [
            "Enter11\n",
            "Prime number\n"
          ]
        }
      ],
      "source": [
        "num = int(input(\"Enter\"))\n",
        "\n",
        "if num<=1:\n",
        "  print(\"not a prime number\")\n",
        "else:\n",
        "  for i in range(2,int(num**0.5)):\n",
        "    if(num%i==0):\n",
        "      print(f\"{num} is not a prime number.\")\n",
        "      break\n",
        "  else:\n",
        "    print(\"Prime number\")    #so the loop ends naturally — and the else runs."
      ]
    },
    {
      "cell_type": "code",
      "execution_count": null,
      "metadata": {
        "id": "WPKljZbTkgBB"
      },
      "outputs": [],
      "source": [
        "#This else runs when guess == jackpot, meaning the condition guess != jackpot becomes False, so the loop ends naturally — and the else runs.\n",
        "\n"
      ]
    },
    {
      "cell_type": "code",
      "execution_count": null,
      "metadata": {
        "colab": {
          "base_uri": "https://localhost:8080/"
        },
        "id": "W6QyTnlUrjfW",
        "outputId": "a6f0a782-60d4-4e07-b2f7-a60d716614dd"
      },
      "outputs": [
        {
          "name": "stdout",
          "output_type": "stream",
          "text": [
            "Enter start of range: 100\n",
            "Enter end of range: 999\n",
            "Armstrong numbers between 100 and 999 are:\n",
            "153\n",
            "370\n",
            "371\n",
            "407\n"
          ]
        }
      ],
      "source": [
        "# Get user-defined range\n",
        "start = int(input(\"Enter start of range: \"))\n",
        "end = int(input(\"Enter end of range: \"))\n",
        "\n",
        "print(f\"Armstrong numbers between {start} and {end} are:\")\n",
        "\n",
        "for num in range(start, end + 1):\n",
        "    # Convert number to string to iterate digits\n",
        "    digits = str(num)\n",
        "    total = 0\n",
        "    for d in digits:\n",
        "        total += int(d) ** 3  # Cube of each digit\n",
        "\n",
        "    if total == num:\n",
        "        print(num)\n"
      ]
    },
    {
      "cell_type": "markdown",
      "metadata": {
        "id": "878fvYblixBx"
      },
      "source": [
        "# ***Pattern 1\n",
        "*\n",
        "**\n",
        "******"
      ]
    },
    {
      "cell_type": "code",
      "execution_count": null,
      "metadata": {
        "colab": {
          "base_uri": "https://localhost:8080/"
        },
        "id": "nwK-AvbarksW",
        "outputId": "4ecf6ccd-bc64-4e51-d399-13aad722d271"
      },
      "outputs": [
        {
          "name": "stdout",
          "output_type": "stream",
          "text": [
            "*\n",
            "**\n",
            "***\n",
            "****\n",
            "*****\n"
          ]
        }
      ],
      "source": [
        "for i in range(1,6):\n",
        "  print('*'*i)"
      ]
    },
    {
      "cell_type": "code",
      "execution_count": null,
      "metadata": {
        "colab": {
          "base_uri": "https://localhost:8080/"
        },
        "id": "1F1Qqy8DjBAb",
        "outputId": "4c0ab0c3-8814-4283-f220-5c8974a7b14b"
      },
      "outputs": [
        {
          "name": "stdout",
          "output_type": "stream",
          "text": [
            "0\n",
            "1\n",
            "2\n",
            "3\n"
          ]
        }
      ],
      "source": [
        "for i in range(4):\n",
        "  print(i)"
      ]
    },
    {
      "cell_type": "code",
      "execution_count": null,
      "metadata": {
        "colab": {
          "base_uri": "https://localhost:8080/"
        },
        "id": "hoXqXKArjgzI",
        "outputId": "0dae74e7-8759-42c4-c6e6-bcaec5deab89"
      },
      "outputs": [
        {
          "name": "stdout",
          "output_type": "stream",
          "text": [
            "10000\n",
            "9090.90909090909\n",
            "8264.462809917353\n",
            "7513.148009015775\n",
            "6830.134553650703\n",
            "6209.213230591548\n",
            "5644.739300537771\n",
            "5131.5811823070635\n",
            "4665.07380209733\n",
            "4240.976183724845\n"
          ]
        }
      ],
      "source": [
        "pop = 10000\n",
        "for i in range(10,0,-1):\n",
        "  print(pop)\n",
        "  pop /= 1.1\n",
        "  '''\n",
        "  Program - The current population of a town is 10000. The population of the town is increasing at the rate of 10% per year.\n",
        "  You have to write a program to find out the population at the end of each of the last 10 years.\n",
        "  '''"
      ]
    },
    {
      "cell_type": "code",
      "execution_count": null,
      "metadata": {
        "colab": {
          "base_uri": "https://localhost:8080/"
        },
        "id": "lxL5cTltkMdp",
        "outputId": "f2a6730c-d484-4926-a5fe-056424df8401"
      },
      "outputs": [
        {
          "name": "stdout",
          "output_type": "stream",
          "text": [
            "Enter2\n",
            "2.0\n"
          ]
        }
      ],
      "source": [
        "n = int(input(\"Enter\"))\n",
        "result = 0\n",
        "fact =1\n",
        "for i in range(1,n+1):\n",
        "  fact = fact * i\n",
        "  result = result + i/fact\n",
        "print(result)"
      ]
    },
    {
      "cell_type": "code",
      "execution_count": null,
      "metadata": {
        "colab": {
          "base_uri": "https://localhost:8080/"
        },
        "id": "WSHyvh92mhqP",
        "outputId": "f06963e8-c15d-4772-c23f-98b1e35e1873"
      },
      "outputs": [
        {
          "name": "stdout",
          "output_type": "stream",
          "text": [
            "1\n",
            "121\n",
            "12321\n",
            "1234321\n"
          ]
        }
      ],
      "source": [
        "n=5\n",
        "for i in range(1,n):\n",
        "  for j in range(1,i+1):\n",
        "    print(j,end='')\n",
        "  for k in range(i-1,0,-1):\n",
        "    print(k,end='')\n",
        "  print()\n"
      ]
    },
    {
      "cell_type": "markdown",
      "metadata": {
        "id": "kp9oZG3ZpbDu"
      },
      "source": [
        "# **Loop Control Statement**\n",
        "\n",
        "*   Break\n",
        "*   Continue\n",
        "*   Pass\n",
        "\n"
      ]
    },
    {
      "cell_type": "markdown",
      "metadata": {
        "id": "P-iwdNeRtF2r"
      },
      "source": [
        "# Strings are sequence of Characters\n",
        "\n",
        "In Python specifically, strings are a sequence of Unicode Characters\n",
        "\n",
        "* Creating Strings\n",
        "*  Accessing Strings\n",
        "* Adding Chars to Strings\n",
        "* Editing Strings\n",
        "* Deleting Strings\n",
        "* Operations on Strings\n",
        "* String Functions     "
      ]
    },
    {
      "cell_type": "code",
      "execution_count": null,
      "metadata": {
        "colab": {
          "base_uri": "https://localhost:8080/"
        },
        "id": "c60KmgC0odpe",
        "outputId": "9be4ae14-c9f4-46ae-b325-51a1d5e65a09"
      },
      "outputs": [
        {
          "name": "stdout",
          "output_type": "stream",
          "text": [
            "hello\n"
          ]
        }
      ],
      "source": [
        "s = 'hello'\n",
        "s = \"hello\"\n",
        "# multiline strings\n",
        "s = '''hello'''\n",
        "s = \"\"\"hello\"\"\"\n",
        "s = str('hello')\n",
        "print(s)"
      ]
    },
    {
      "cell_type": "code",
      "execution_count": null,
      "metadata": {
        "colab": {
          "base_uri": "https://localhost:8080/",
          "height": 36
        },
        "id": "vdpfyviutV7z",
        "outputId": "ed54a0d3-0f66-463f-fefd-addf6547b180"
      },
      "outputs": [
        {
          "data": {
            "application/vnd.google.colaboratory.intrinsic+json": {
              "type": "string"
            },
            "text/plain": [
              "\"it's raining outside\""
            ]
          },
          "execution_count": 27,
          "metadata": {},
          "output_type": "execute_result"
        }
      ],
      "source": [
        "\"it's raining outside\""
      ]
    },
    {
      "cell_type": "code",
      "execution_count": null,
      "metadata": {
        "colab": {
          "base_uri": "https://localhost:8080/",
          "height": 176
        },
        "id": "Y91rDwQMtZRz",
        "outputId": "6947d393-a82a-4894-fc09-4ee565ed9e72"
      },
      "outputs": [
        {
          "ename": "IndexError",
          "evalue": "string index out of range",
          "output_type": "error",
          "traceback": [
            "\u001b[0;31m---------------------------------------------------------------------------\u001b[0m",
            "\u001b[0;31mIndexError\u001b[0m                                Traceback (most recent call last)",
            "\u001b[0;32m<ipython-input-28-183994274>\u001b[0m in \u001b[0;36m<cell line: 0>\u001b[0;34m()\u001b[0m\n\u001b[1;32m      1\u001b[0m \u001b[0;31m# Positive Indexing\u001b[0m\u001b[0;34m\u001b[0m\u001b[0;34m\u001b[0m\u001b[0m\n\u001b[1;32m      2\u001b[0m \u001b[0ms\u001b[0m \u001b[0;34m=\u001b[0m \u001b[0;34m'hello world'\u001b[0m\u001b[0;34m\u001b[0m\u001b[0;34m\u001b[0m\u001b[0m\n\u001b[0;32m----> 3\u001b[0;31m \u001b[0mprint\u001b[0m\u001b[0;34m(\u001b[0m\u001b[0ms\u001b[0m\u001b[0;34m[\u001b[0m\u001b[0;36m41\u001b[0m\u001b[0;34m]\u001b[0m\u001b[0;34m)\u001b[0m\u001b[0;34m\u001b[0m\u001b[0;34m\u001b[0m\u001b[0m\n\u001b[0m",
            "\u001b[0;31mIndexError\u001b[0m: string index out of range"
          ]
        }
      ],
      "source": [
        "# Positive Indexing\n",
        "s = 'hello world'\n",
        "print(s[41])"
      ]
    },
    {
      "cell_type": "code",
      "execution_count": null,
      "metadata": {
        "colab": {
          "base_uri": "https://localhost:8080/"
        },
        "id": "-6MgkQVatbN7",
        "outputId": "ca4b30d1-3444-4ea5-98f6-27044a258834"
      },
      "outputs": [
        {
          "name": "stdout",
          "output_type": "stream",
          "text": [
            "r\n"
          ]
        }
      ],
      "source": [
        "# Negative Indexing\n",
        "s = 'hello world'\n",
        "print(s[-3])"
      ]
    },
    {
      "cell_type": "code",
      "execution_count": null,
      "metadata": {
        "colab": {
          "base_uri": "https://localhost:8080/"
        },
        "id": "UiS82jqYtdoD",
        "outputId": "bb7b8d4f-b9d0-4f93-9e4c-2ab119b38bb6"
      },
      "outputs": [
        {
          "name": "stdout",
          "output_type": "stream",
          "text": [
            "wol\n"
          ]
        }
      ],
      "source": [
        "# Slicing\n",
        "s = 'hello world'\n",
        "print(s[6:0:-2])"
      ]
    },
    {
      "cell_type": "code",
      "execution_count": null,
      "metadata": {
        "colab": {
          "base_uri": "https://localhost:8080/"
        },
        "id": "s7JumEmmtgCz",
        "outputId": "2b113905-9263-4460-a6e3-b3c1b7ae0bb0"
      },
      "outputs": [
        {
          "name": "stdout",
          "output_type": "stream",
          "text": [
            "dlrow olleh\n"
          ]
        }
      ],
      "source": [
        "print(s[::-1])"
      ]
    },
    {
      "cell_type": "code",
      "execution_count": null,
      "metadata": {
        "colab": {
          "base_uri": "https://localhost:8080/"
        },
        "id": "0KJJX-k-th_6",
        "outputId": "eec0eabe-06ef-416d-b85c-29f05260dad9"
      },
      "outputs": [
        {
          "name": "stdout",
          "output_type": "stream",
          "text": [
            "dlrow\n"
          ]
        }
      ],
      "source": [
        "s = 'hello world'\n",
        "print(s[-1:-6:-1])"
      ]
    },
    {
      "cell_type": "markdown",
      "metadata": {
        "id": "HMsK-EvOufQ6"
      },
      "source": [
        "***Editing and Deleting in Strings***"
      ]
    },
    {
      "cell_type": "code",
      "execution_count": null,
      "metadata": {
        "colab": {
          "base_uri": "https://localhost:8080/",
          "height": 211
        },
        "id": "-HohQYJLtjs6",
        "outputId": "1a23073d-3c13-4966-e55a-ffb38d1bdc80"
      },
      "outputs": [
        {
          "ename": "TypeError",
          "evalue": "'str' object does not support item assignment",
          "output_type": "error",
          "traceback": [
            "\u001b[0;31m---------------------------------------------------------------------------\u001b[0m",
            "\u001b[0;31mTypeError\u001b[0m                                 Traceback (most recent call last)",
            "\u001b[0;32m<ipython-input-33-3922687144>\u001b[0m in \u001b[0;36m<cell line: 0>\u001b[0;34m()\u001b[0m\n\u001b[1;32m      2\u001b[0m \u001b[0;34m\u001b[0m\u001b[0m\n\u001b[1;32m      3\u001b[0m \u001b[0ms\u001b[0m \u001b[0;34m=\u001b[0m \u001b[0;34m'hello world'\u001b[0m\u001b[0;34m\u001b[0m\u001b[0;34m\u001b[0m\u001b[0m\n\u001b[0;32m----> 4\u001b[0;31m \u001b[0ms\u001b[0m\u001b[0;34m[\u001b[0m\u001b[0;36m0\u001b[0m\u001b[0;34m]\u001b[0m \u001b[0;34m=\u001b[0m \u001b[0;34m'H'\u001b[0m\u001b[0;34m\u001b[0m\u001b[0;34m\u001b[0m\u001b[0m\n\u001b[0m\u001b[1;32m      5\u001b[0m \u001b[0;34m\u001b[0m\u001b[0m\n\u001b[1;32m      6\u001b[0m \u001b[0;31m# Python strings are immutable\u001b[0m\u001b[0;34m\u001b[0m\u001b[0;34m\u001b[0m\u001b[0m\n",
            "\u001b[0;31mTypeError\u001b[0m: 'str' object does not support item assignment"
          ]
        }
      ],
      "source": [
        "s = 'hello world'\n",
        "\n",
        "s = 'hello world'\n",
        "s[0] = 'H'\n",
        "\n",
        "# Python strings are immutable"
      ]
    },
    {
      "cell_type": "code",
      "execution_count": null,
      "metadata": {
        "id": "UAvU-y4juj5y"
      },
      "outputs": [],
      "source": [
        "del s"
      ]
    },
    {
      "cell_type": "code",
      "execution_count": null,
      "metadata": {
        "colab": {
          "base_uri": "https://localhost:8080/",
          "height": 158
        },
        "id": "nTCieWjNul66",
        "outputId": "45efaa6e-a7ae-4800-930a-d214e2980c82"
      },
      "outputs": [
        {
          "ename": "TypeError",
          "evalue": "'str' object does not support item deletion",
          "output_type": "error",
          "traceback": [
            "\u001b[0;31m---------------------------------------------------------------------------\u001b[0m",
            "\u001b[0;31mTypeError\u001b[0m                                 Traceback (most recent call last)",
            "\u001b[0;32m<ipython-input-37-758409316>\u001b[0m in \u001b[0;36m<cell line: 0>\u001b[0;34m()\u001b[0m\n\u001b[1;32m      1\u001b[0m \u001b[0ma\u001b[0m \u001b[0;34m=\u001b[0m \u001b[0;34m'helllo  wwww s'\u001b[0m\u001b[0;34m\u001b[0m\u001b[0;34m\u001b[0m\u001b[0m\n\u001b[0;32m----> 2\u001b[0;31m \u001b[0;32mdel\u001b[0m \u001b[0ma\u001b[0m\u001b[0;34m[\u001b[0m\u001b[0;36m1\u001b[0m\u001b[0;34m:\u001b[0m\u001b[0;36m5\u001b[0m\u001b[0;34m]\u001b[0m\u001b[0;34m\u001b[0m\u001b[0;34m\u001b[0m\u001b[0m\n\u001b[0m",
            "\u001b[0;31mTypeError\u001b[0m: 'str' object does not support item deletion"
          ]
        }
      ],
      "source": [
        "a = 'helllo  wwww s'\n",
        "del a[1:5]"
      ]
    },
    {
      "cell_type": "markdown",
      "metadata": {
        "id": "9d3vBoqzwx5C"
      },
      "source": [
        "***Operations on Strings***\n",
        "* Arithmetic Operations\n",
        "* Relational Operations\n",
        "* Logical Operations\n",
        "* Loops on Strings\n",
        "* Membership Operations\n",
        "\n"
      ]
    },
    {
      "cell_type": "code",
      "execution_count": null,
      "metadata": {
        "colab": {
          "base_uri": "https://localhost:8080/"
        },
        "id": "oLB_GOPVunsq",
        "outputId": "869a11e4-2fd0-41a1-f584-27aeb5b2acb5"
      },
      "outputs": [
        {
          "name": "stderr",
          "output_type": "stream",
          "text": [
            "<>:1: SyntaxWarning: \"is\" with a literal. Did you mean \"==\"?\n",
            "<>:1: SyntaxWarning: \"is\" with a literal. Did you mean \"==\"?\n",
            "<ipython-input-38-812578685>:1: SyntaxWarning: \"is\" with a literal. Did you mean \"==\"?\n",
            "  True is 1\n"
          ]
        },
        {
          "data": {
            "text/plain": [
              "False"
            ]
          },
          "execution_count": 38,
          "metadata": {},
          "output_type": "execute_result"
        }
      ],
      "source": []
    },
    {
      "cell_type": "code",
      "execution_count": null,
      "metadata": {
        "colab": {
          "base_uri": "https://localhost:8080/"
        },
        "id": "BPWoVBwfwprJ",
        "outputId": "595c1b53-65bb-49bd-e181-a7200fc33d15"
      },
      "outputs": [
        {
          "name": "stdout",
          "output_type": "stream",
          "text": [
            "ab\n"
          ]
        }
      ],
      "source": [
        "print('a'+'b')"
      ]
    },
    {
      "cell_type": "code",
      "execution_count": null,
      "metadata": {
        "colab": {
          "base_uri": "https://localhost:8080/"
        },
        "id": "oO4Ymf2ww_Wp",
        "outputId": "5a0a437f-7805-44de-c365-eb4cfce275e3"
      },
      "outputs": [
        {
          "name": "stdout",
          "output_type": "stream",
          "text": [
            "delhidelhidelhidelhidelhi\n"
          ]
        }
      ],
      "source": [
        "print('delhi'*5)"
      ]
    },
    {
      "cell_type": "code",
      "execution_count": null,
      "metadata": {
        "colab": {
          "base_uri": "https://localhost:8080/"
        },
        "id": "5MLCAGCaxBnp",
        "outputId": "f6ad10e9-1d1a-41cf-a937-acd5eb67945b"
      },
      "outputs": [
        {
          "data": {
            "text/plain": [
              "False"
            ]
          },
          "execution_count": 41,
          "metadata": {},
          "output_type": "execute_result"
        }
      ],
      "source": [
        "'delhi' != 'delhi'"
      ]
    },
    {
      "cell_type": "code",
      "execution_count": null,
      "metadata": {
        "colab": {
          "base_uri": "https://localhost:8080/"
        },
        "id": "QL6LmqbHxDKx",
        "outputId": "f5438fff-9371-4159-c195-ddcfcaac2b7c"
      },
      "outputs": [
        {
          "data": {
            "text/plain": [
              "False"
            ]
          },
          "execution_count": 42,
          "metadata": {},
          "output_type": "execute_result"
        }
      ],
      "source": [
        "'mumbai' > 'pune'\n",
        "# lexiographically"
      ]
    },
    {
      "cell_type": "code",
      "execution_count": null,
      "metadata": {
        "colab": {
          "base_uri": "https://localhost:8080/",
          "height": 36
        },
        "id": "Yb8IayZQxEsZ",
        "outputId": "2dcb569f-3ff3-472f-b1be-e892f4bbb735"
      },
      "outputs": [
        {
          "data": {
            "application/vnd.google.colaboratory.intrinsic+json": {
              "type": "string"
            },
            "text/plain": [
              "'world'"
            ]
          },
          "execution_count": 43,
          "metadata": {},
          "output_type": "execute_result"
        }
      ],
      "source": [
        "'hello' and 'world'"
      ]
    },
    {
      "cell_type": "code",
      "execution_count": null,
      "metadata": {
        "colab": {
          "base_uri": "https://localhost:8080/",
          "height": 36
        },
        "id": "v_gg3wShxGTJ",
        "outputId": "837a1431-44e5-4bc8-fdc8-3711cebcadca"
      },
      "outputs": [
        {
          "data": {
            "application/vnd.google.colaboratory.intrinsic+json": {
              "type": "string"
            },
            "text/plain": [
              "'hello'"
            ]
          },
          "execution_count": 44,
          "metadata": {},
          "output_type": "execute_result"
        }
      ],
      "source": [
        "'hello' or 'world'"
      ]
    },
    {
      "cell_type": "code",
      "execution_count": null,
      "metadata": {
        "colab": {
          "base_uri": "https://localhost:8080/"
        },
        "id": "L4A5edLWxH1h",
        "outputId": "7fb7a021-559b-4dfb-cc74-e69028dab5cb"
      },
      "outputs": [
        {
          "name": "stdout",
          "output_type": "stream",
          "text": [
            "h\n",
            "e\n",
            "l\n",
            "l\n",
            "o\n"
          ]
        }
      ],
      "source": [
        "for i in 'hello':\n",
        "  print(i)"
      ]
    },
    {
      "cell_type": "code",
      "execution_count": null,
      "metadata": {
        "colab": {
          "base_uri": "https://localhost:8080/"
        },
        "id": "Rrn52EFNxsBB",
        "outputId": "597f39a0-6cc8-4f8d-9bc3-d777afa3d6bf"
      },
      "outputs": [
        {
          "name": "stdout",
          "output_type": "stream",
          "text": [
            "pune\n",
            "pune\n",
            "pune\n",
            "pune\n",
            "pune\n"
          ]
        }
      ],
      "source": [
        "for i in 'delhi':\n",
        "  print('pune')"
      ]
    },
    {
      "cell_type": "code",
      "execution_count": null,
      "metadata": {
        "colab": {
          "base_uri": "https://localhost:8080/"
        },
        "id": "VedJV_Jbxtix",
        "outputId": "e1a1dbfc-61fd-4da1-a6db-8638d88aa232"
      },
      "outputs": [
        {
          "data": {
            "text/plain": [
              "False"
            ]
          },
          "execution_count": 47,
          "metadata": {},
          "output_type": "execute_result"
        }
      ],
      "source": [
        "'D' in 'delhi'"
      ]
    },
    {
      "cell_type": "markdown",
      "metadata": {
        "id": "eJthMr2-x5PI"
      },
      "source": [
        "***Common Functions :\n",
        "len\n",
        "max\n",
        "min\n",
        "sorted***"
      ]
    },
    {
      "cell_type": "code",
      "execution_count": null,
      "metadata": {
        "colab": {
          "base_uri": "https://localhost:8080/"
        },
        "id": "8qERURwvxvs5",
        "outputId": "0fc10e8a-f1a2-4fb9-d86e-ac92c6651ef3"
      },
      "outputs": [
        {
          "data": {
            "text/plain": [
              "11"
            ]
          },
          "execution_count": 48,
          "metadata": {},
          "output_type": "execute_result"
        }
      ],
      "source": [
        "len('hello world')"
      ]
    },
    {
      "cell_type": "code",
      "execution_count": null,
      "metadata": {
        "colab": {
          "base_uri": "https://localhost:8080/",
          "height": 36
        },
        "id": "hvYYBOegyKdZ",
        "outputId": "04ec634a-dc4c-4682-b0da-73b0c401ba4a"
      },
      "outputs": [
        {
          "data": {
            "application/vnd.google.colaboratory.intrinsic+json": {
              "type": "string"
            },
            "text/plain": [
              "'z'"
            ]
          },
          "execution_count": 50,
          "metadata": {},
          "output_type": "execute_result"
        }
      ],
      "source": [
        "max('asdfhgjkhlz')"
      ]
    },
    {
      "cell_type": "code",
      "execution_count": null,
      "metadata": {
        "colab": {
          "base_uri": "https://localhost:8080/",
          "height": 36
        },
        "id": "yEuMZXLNyMDA",
        "outputId": "b113c95e-3034-477d-fb22-84ad00f834a3"
      },
      "outputs": [
        {
          "data": {
            "application/vnd.google.colaboratory.intrinsic+json": {
              "type": "string"
            },
            "text/plain": [
              "'a'"
            ]
          },
          "execution_count": 51,
          "metadata": {},
          "output_type": "execute_result"
        }
      ],
      "source": [
        "min('asdfhgjkhlz')"
      ]
    },
    {
      "cell_type": "code",
      "execution_count": null,
      "metadata": {
        "colab": {
          "base_uri": "https://localhost:8080/"
        },
        "id": "uPvyAN4KyQZY",
        "outputId": "239be66c-68ff-4d25-bcb4-878b3ebc6165"
      },
      "outputs": [
        {
          "data": {
            "text/plain": [
              "['z', 's', 'l', 'k', 'j', 'h', 'h', 'g', 'f', 'd', 'a']"
            ]
          },
          "execution_count": 53,
          "metadata": {},
          "output_type": "execute_result"
        }
      ],
      "source": [
        "sorted('asdfhgjkhlz',reverse=True)"
      ]
    },
    {
      "cell_type": "code",
      "execution_count": null,
      "metadata": {
        "colab": {
          "base_uri": "https://localhost:8080/"
        },
        "id": "ZuuLE_OFyYQ4",
        "outputId": "426d426d-9e20-4af4-94c7-ee0c55880771"
      },
      "outputs": [
        {
          "data": {
            "text/plain": [
              "['asdfhgjkhlz']"
            ]
          },
          "execution_count": 54,
          "metadata": {},
          "output_type": "execute_result"
        }
      ],
      "source": [
        "'asdfhgjkhlz'.split()"
      ]
    },
    {
      "cell_type": "code",
      "execution_count": null,
      "metadata": {
        "colab": {
          "base_uri": "https://localhost:8080/",
          "height": 36
        },
        "id": "OFiBRceTyeGg",
        "outputId": "730439ad-12fc-472f-e941-693677f2ec59"
      },
      "outputs": [
        {
          "data": {
            "application/vnd.google.colaboratory.intrinsic+json": {
              "type": "string"
            },
            "text/plain": [
              "'a,b,c'"
            ]
          },
          "execution_count": 56,
          "metadata": {},
          "output_type": "execute_result"
        }
      ],
      "source": [
        "','.join(['a','b','c'])"
      ]
    },
    {
      "cell_type": "code",
      "execution_count": null,
      "metadata": {
        "colab": {
          "base_uri": "https://localhost:8080/"
        },
        "id": "3_k9DVc0yl5g",
        "outputId": "f84d3a78-aa99-4a97-d727-ec206e9191dd"
      },
      "outputs": [
        {
          "name": "stdout",
          "output_type": "stream",
          "text": [
            "Hello world.new store\n",
            "Hello world.New stOre\n"
          ]
        }
      ],
      "source": [
        "s = 'Hello world.New stOre'\n",
        "print(s.capitalize())\n",
        "print(s)"
      ]
    },
    {
      "cell_type": "code",
      "execution_count": null,
      "metadata": {
        "colab": {
          "base_uri": "https://localhost:8080/",
          "height": 36
        },
        "id": "syosCVtDzoRI",
        "outputId": "d53aa413-867d-4699-9702-88019e08b46e"
      },
      "outputs": [
        {
          "data": {
            "application/vnd.google.colaboratory.intrinsic+json": {
              "type": "string"
            },
            "text/plain": [
              "'Hello World.New Store'"
            ]
          },
          "execution_count": 58,
          "metadata": {},
          "output_type": "execute_result"
        }
      ],
      "source": [
        "s.title()"
      ]
    },
    {
      "cell_type": "code",
      "execution_count": null,
      "metadata": {
        "colab": {
          "base_uri": "https://localhost:8080/",
          "height": 36
        },
        "id": "p2FiSZe94cZF",
        "outputId": "81fc417e-bc1d-4294-f223-902ecdd2d0cb"
      },
      "outputs": [
        {
          "data": {
            "application/vnd.google.colaboratory.intrinsic+json": {
              "type": "string"
            },
            "text/plain": [
              "'hello world.new store'"
            ]
          },
          "execution_count": 59,
          "metadata": {},
          "output_type": "execute_result"
        }
      ],
      "source": [
        "s.lower()"
      ]
    },
    {
      "cell_type": "code",
      "execution_count": null,
      "metadata": {
        "colab": {
          "base_uri": "https://localhost:8080/",
          "height": 36
        },
        "id": "hCoFCEdQ4eAF",
        "outputId": "7df95a48-6fb2-494a-e8ac-72a0942b4dec"
      },
      "outputs": [
        {
          "data": {
            "application/vnd.google.colaboratory.intrinsic+json": {
              "type": "string"
            },
            "text/plain": [
              "'HELLO WORLD.NEW STORE'"
            ]
          },
          "execution_count": 60,
          "metadata": {},
          "output_type": "execute_result"
        }
      ],
      "source": [
        "s.upper()"
      ]
    },
    {
      "cell_type": "code",
      "execution_count": null,
      "metadata": {
        "colab": {
          "base_uri": "https://localhost:8080/",
          "height": 36
        },
        "id": "XWufiFfG4fTt",
        "outputId": "ee3f412e-64ce-4336-d564-15273b54d3a1"
      },
      "outputs": [
        {
          "data": {
            "application/vnd.google.colaboratory.intrinsic+json": {
              "type": "string"
            },
            "text/plain": [
              "'hELLO WORLD.nEW SToRE'"
            ]
          },
          "execution_count": 65,
          "metadata": {},
          "output_type": "execute_result"
        }
      ],
      "source": [
        "s.swapcase()"
      ]
    },
    {
      "cell_type": "markdown",
      "metadata": {
        "id": "w6CAZi-l4yOt"
      },
      "source": [
        "**Count/Find/Index**"
      ]
    },
    {
      "cell_type": "code",
      "execution_count": null,
      "metadata": {
        "colab": {
          "base_uri": "https://localhost:8080/"
        },
        "id": "wtz5kLP04l2N",
        "outputId": "54b45970-1786-4f78-aac9-724f668e7c32"
      },
      "outputs": [
        {
          "data": {
            "text/plain": [
              "3"
            ]
          },
          "execution_count": 66,
          "metadata": {},
          "output_type": "execute_result"
        }
      ],
      "source": [
        "'my name is nitish'.count('i')"
      ]
    },
    {
      "cell_type": "code",
      "execution_count": null,
      "metadata": {
        "colab": {
          "base_uri": "https://localhost:8080/"
        },
        "id": "S__pw42742PN",
        "outputId": "cf3d77b6-5b92-4b9a-a725-645540789c56"
      },
      "outputs": [
        {
          "data": {
            "text/plain": [
              "8"
            ]
          },
          "execution_count": 67,
          "metadata": {},
          "output_type": "execute_result"
        }
      ],
      "source": [
        "'my name is nitish'.find('i')"
      ]
    },
    {
      "cell_type": "code",
      "execution_count": null,
      "metadata": {
        "colab": {
          "base_uri": "https://localhost:8080/"
        },
        "id": "R99Mqw-r45CV",
        "outputId": "f67e4140-1827-4f5e-af0a-9a037e5b1af3"
      },
      "outputs": [
        {
          "data": {
            "text/plain": [
              "8"
            ]
          },
          "execution_count": 68,
          "metadata": {},
          "output_type": "execute_result"
        }
      ],
      "source": [
        "'my name is nitish'.index('i')"
      ]
    },
    {
      "cell_type": "code",
      "execution_count": null,
      "metadata": {
        "colab": {
          "base_uri": "https://localhost:8080/"
        },
        "id": "mmuxMBhf47Gd",
        "outputId": "4943f2a0-ef43-4489-a3e0-f4e77f5520ba"
      },
      "outputs": [
        {
          "data": {
            "text/plain": [
              "-1"
            ]
          },
          "execution_count": 69,
          "metadata": {},
          "output_type": "execute_result"
        }
      ],
      "source": [
        "'my name is nitish'.find('xc')"
      ]
    },
    {
      "cell_type": "code",
      "execution_count": null,
      "metadata": {
        "colab": {
          "base_uri": "https://localhost:8080/",
          "height": 141
        },
        "id": "Ul7bvmlh5D2U",
        "outputId": "53c262a8-9e74-41a7-d389-357b6ebbf11b"
      },
      "outputs": [
        {
          "ename": "ValueError",
          "evalue": "substring not found",
          "output_type": "error",
          "traceback": [
            "\u001b[0;31m---------------------------------------------------------------------------\u001b[0m",
            "\u001b[0;31mValueError\u001b[0m                                Traceback (most recent call last)",
            "\u001b[0;32m<ipython-input-70-3640552998>\u001b[0m in \u001b[0;36m<cell line: 0>\u001b[0;34m()\u001b[0m\n\u001b[0;32m----> 1\u001b[0;31m \u001b[0;34m'my name is nitish'\u001b[0m\u001b[0;34m.\u001b[0m\u001b[0mindex\u001b[0m\u001b[0;34m(\u001b[0m\u001b[0;34m'xc'\u001b[0m\u001b[0;34m)\u001b[0m\u001b[0;34m\u001b[0m\u001b[0;34m\u001b[0m\u001b[0m\n\u001b[0m",
            "\u001b[0;31mValueError\u001b[0m: substring not found"
          ]
        }
      ],
      "source": [
        "'my name is nitish'.index('xc')"
      ]
    },
    {
      "cell_type": "code",
      "execution_count": null,
      "metadata": {
        "colab": {
          "base_uri": "https://localhost:8080/"
        },
        "id": "BgbB0mDf5G2d",
        "outputId": "2a1641d2-f748-4933-e9f0-99720c36af5c"
      },
      "outputs": [
        {
          "data": {
            "text/plain": [
              "True"
            ]
          },
          "execution_count": 71,
          "metadata": {},
          "output_type": "execute_result"
        }
      ],
      "source": [
        "'my name is nitish'.endswith('nitish')"
      ]
    },
    {
      "cell_type": "code",
      "execution_count": null,
      "metadata": {
        "colab": {
          "base_uri": "https://localhost:8080/"
        },
        "id": "LcEqxS8e5qsN",
        "outputId": "4a3bbc26-ede4-40ad-e571-33b55994befb"
      },
      "outputs": [
        {
          "data": {
            "text/plain": [
              "False"
            ]
          },
          "execution_count": 73,
          "metadata": {},
          "output_type": "execute_result"
        }
      ],
      "source": [
        "'my name is nitish'.startswith('ma')"
      ]
    },
    {
      "cell_type": "code",
      "execution_count": null,
      "metadata": {
        "colab": {
          "base_uri": "https://localhost:8080/",
          "height": 36
        },
        "id": "6ZPC088e5tNc",
        "outputId": "03c96da7-41a5-44d6-f928-2b8c2701c74e"
      },
      "outputs": [
        {
          "data": {
            "application/vnd.google.colaboratory.intrinsic+json": {
              "type": "string"
            },
            "text/plain": [
              "'1,5,6'"
            ]
          },
          "execution_count": 75,
          "metadata": {},
          "output_type": "execute_result"
        }
      ],
      "source": [
        "\",\".join(['1','5','6'])"
      ]
    },
    {
      "cell_type": "code",
      "execution_count": null,
      "metadata": {
        "colab": {
          "base_uri": "https://localhost:8080/",
          "height": 36
        },
        "id": "URtiqO676lQ0",
        "outputId": "e9bc1115-dd45-468c-f860-9394002aae0a"
      },
      "outputs": [
        {
          "data": {
            "application/vnd.google.colaboratory.intrinsic+json": {
              "type": "string"
            },
            "text/plain": [
              "'ngfd'"
            ]
          },
          "execution_count": 76,
          "metadata": {},
          "output_type": "execute_result"
        }
      ],
      "source": [
        "\"   ngfd           \".strip()"
      ]
    },
    {
      "cell_type": "code",
      "execution_count": null,
      "metadata": {
        "colab": {
          "base_uri": "https://localhost:8080/",
          "height": 36
        },
        "id": "4e5RH9l96udE",
        "outputId": "88deef34-48a2-4096-bd54-1d5ba0705dbb"
      },
      "outputs": [
        {
          "data": {
            "application/vnd.google.colaboratory.intrinsic+json": {
              "type": "string"
            },
            "text/plain": [
              "'my name is nitish'"
            ]
          },
          "execution_count": 80,
          "metadata": {},
          "output_type": "execute_result"
        }
      ],
      "source": [
        "'my name is nitish'.replace('nami','an')"
      ]
    },
    {
      "cell_type": "code",
      "execution_count": null,
      "metadata": {
        "colab": {
          "base_uri": "https://localhost:8080/",
          "height": 36
        },
        "id": "COiftubA6y2O",
        "outputId": "c0283995-1667-4712-f10f-c3d78760c7a4"
      },
      "outputs": [
        {
          "data": {
            "application/vnd.google.colaboratory.intrinsic+json": {
              "type": "string"
            },
            "text/plain": [
              "'Hi my name is nitish and I am a male'"
            ]
          },
          "execution_count": 79,
          "metadata": {},
          "output_type": "execute_result"
        }
      ],
      "source": [
        "name = 'nitish'\n",
        "gender = 'male'\n",
        "\n",
        "'Hi my name is {1} and I am a {0}'.format(gender,name)"
      ]
    },
    {
      "cell_type": "code",
      "execution_count": null,
      "metadata": {
        "colab": {
          "base_uri": "https://localhost:8080/"
        },
        "id": "YLnNg1fw6578",
        "outputId": "fba34f61-54a2-4705-9a05-5f85ceaeb85d"
      },
      "outputs": [
        {
          "data": {
            "text/plain": [
              "True"
            ]
          },
          "execution_count": 81,
          "metadata": {},
          "output_type": "execute_result"
        }
      ],
      "source": [
        "'asd23'.isalnum()"
      ]
    },
    {
      "cell_type": "code",
      "execution_count": null,
      "metadata": {
        "colab": {
          "base_uri": "https://localhost:8080/"
        },
        "id": "BtFJSHGx7GAA",
        "outputId": "5adf4803-f29a-40ec-abe2-eec928e10971"
      },
      "outputs": [
        {
          "data": {
            "text/plain": [
              "True"
            ]
          },
          "execution_count": 82,
          "metadata": {},
          "output_type": "execute_result"
        }
      ],
      "source": [
        "'asdas'.isalpha()"
      ]
    },
    {
      "cell_type": "code",
      "execution_count": null,
      "metadata": {
        "colab": {
          "base_uri": "https://localhost:8080/"
        },
        "id": "luZ4dy4X7I6M",
        "outputId": "57888fdf-f02d-4c59-f639-a271af0592a2"
      },
      "outputs": [
        {
          "data": {
            "text/plain": [
              "True"
            ]
          },
          "execution_count": 83,
          "metadata": {},
          "output_type": "execute_result"
        }
      ],
      "source": [
        "'132'.isdigit()"
      ]
    },
    {
      "cell_type": "code",
      "execution_count": null,
      "metadata": {
        "colab": {
          "base_uri": "https://localhost:8080/"
        },
        "id": "c10Ujdgs7L4L",
        "outputId": "47264e4b-d2e3-4c46-c1b7-40fb7a6694c9"
      },
      "outputs": [
        {
          "data": {
            "text/plain": [
              "True"
            ]
          },
          "execution_count": 85,
          "metadata": {},
          "output_type": "execute_result"
        }
      ],
      "source": [
        "'_nbame'.isidentifier()"
      ]
    },
    {
      "cell_type": "code",
      "execution_count": null,
      "metadata": {
        "colab": {
          "base_uri": "https://localhost:8080/",
          "height": 36
        },
        "id": "zkF5AWJg7RTj",
        "outputId": "4e61ed09-1725-4312-a39b-d73aa06f1d8b"
      },
      "outputs": [
        {
          "data": {
            "application/vnd.google.colaboratory.intrinsic+json": {
              "type": "string"
            },
            "text/plain": [
              "'nitish24singh'"
            ]
          },
          "execution_count": 86,
          "metadata": {},
          "output_type": "execute_result"
        }
      ],
      "source": [
        "# Extract username from a given email.\n",
        "# Eg if the email is nitish24singh@gmail.com\n",
        "# then the username should be nitish24singh\n",
        "\n",
        "email = 'nitish24singh@gmail.com'\n",
        "user_index = email.find('@')\n",
        "email[:user_index]"
      ]
    },
    {
      "cell_type": "code",
      "execution_count": null,
      "metadata": {
        "colab": {
          "base_uri": "https://localhost:8080/"
        },
        "id": "qqkYbYLSUBlb",
        "outputId": "cf5f83c7-9f59-4a06-8595-5f16ea34929f"
      },
      "outputs": [
        {
          "data": {
            "text/plain": [
              "2"
            ]
          },
          "execution_count": 87,
          "metadata": {},
          "output_type": "execute_result"
        }
      ],
      "source": [
        "'hello how are you'.count('h')"
      ]
    },
    {
      "cell_type": "code",
      "execution_count": null,
      "metadata": {
        "colab": {
          "base_uri": "https://localhost:8080/",
          "height": 36
        },
        "id": "lGQDceIgUICh",
        "outputId": "00d73149-63f6-4ba4-af00-00269fffb402"
      },
      "outputs": [
        {
          "data": {
            "application/vnd.google.colaboratory.intrinsic+json": {
              "type": "string"
            },
            "text/plain": [
              "'ntsh'"
            ]
          },
          "execution_count": 88,
          "metadata": {},
          "output_type": "execute_result"
        }
      ],
      "source": [
        "'nitish'.replace('i',\"\")"
      ]
    },
    {
      "cell_type": "code",
      "execution_count": null,
      "metadata": {
        "colab": {
          "base_uri": "https://localhost:8080/"
        },
        "id": "zaivKWu7UiKh",
        "outputId": "a61485d8-10d4-4fc0-f7a9-018c47c2384a"
      },
      "outputs": [
        {
          "name": "stdout",
          "output_type": "stream",
          "text": [
            "Palindrome\n"
          ]
        }
      ],
      "source": [
        "s = 'malayalam'\n",
        "if s == s[::-1]:\n",
        "  print('Palindrome')"
      ]
    },
    {
      "cell_type": "code",
      "execution_count": null,
      "metadata": {
        "colab": {
          "base_uri": "https://localhost:8080/"
        },
        "id": "QkaT6llyUuj5",
        "outputId": "d3aaedf7-6f40-4852-ad51-0588dde515af"
      },
      "outputs": [
        {
          "data": {
            "text/plain": [
              "3"
            ]
          },
          "execution_count": 90,
          "metadata": {},
          "output_type": "execute_result"
        }
      ],
      "source": [
        "len('enter the string'.split())"
      ]
    },
    {
      "cell_type": "code",
      "execution_count": null,
      "metadata": {
        "colab": {
          "base_uri": "https://localhost:8080/"
        },
        "id": "CKhMdMeGWO6w",
        "outputId": "fa1fd372-97a6-4baf-d829-767d6d467264"
      },
      "outputs": [
        {
          "name": "stdout",
          "output_type": "stream",
          "text": [
            "enter the stringenter the string\n",
            "Enter The String\n"
          ]
        }
      ],
      "source": [
        "s = input('enter the string')\n",
        "\n",
        "L = []\n",
        "\n",
        "for i in s.split():\n",
        "  L.append(i[0].upper()+i[1:].lower())\n",
        "print(\" \".join(L))"
      ]
    },
    {
      "cell_type": "code",
      "execution_count": null,
      "metadata": {
        "colab": {
          "base_uri": "https://localhost:8080/"
        },
        "id": "nLrhk6ukW0Ep",
        "outputId": "777d4fbf-007f-408b-ec2a-eab15c2fb06b"
      },
      "outputs": [
        {
          "name": "stdout",
          "output_type": "stream",
          "text": [
            "enter the stringenter the string'\n",
            "Enter The String'\n"
          ]
        }
      ],
      "source": [
        "s = input('enter the string')\n",
        "\n",
        "L = []\n",
        "for i in s.split():\n",
        "  L.append(i[0].upper() + i[1:].lower())\n",
        "\n",
        "print(\" \".join(L))"
      ]
    },
    {
      "cell_type": "code",
      "execution_count": null,
      "metadata": {
        "colab": {
          "base_uri": "https://localhost:8080/"
        },
        "id": "ihC7U0c3XGFf",
        "outputId": "9ebad786-388f-44c2-b5cd-be62233bd5cb"
      },
      "outputs": [
        {
          "name": "stdout",
          "output_type": "stream",
          "text": [
            "5 4 3 2 1 \n",
            "4 3 2 1 \n",
            "3 2 1 \n",
            "2 1 \n",
            "1 \n"
          ]
        }
      ],
      "source": [
        "for i in range(5,0,-1):\n",
        "  for j in range(i,0,-1):\n",
        "    print(j,end=' ')\n",
        "  print()"
      ]
    },
    {
      "cell_type": "code",
      "execution_count": null,
      "metadata": {
        "colab": {
          "base_uri": "https://localhost:8080/"
        },
        "id": "pPzmWCEubG4u",
        "outputId": "fecfbfa6-8dcd-4aa0-d8e8-cbb7f8ce07b3"
      },
      "outputs": [
        {
          "name": "stdout",
          "output_type": "stream",
          "text": [
            "* \n",
            "* * \n",
            "* * * \n",
            "* * * * \n",
            "* * * * * \n",
            "* * * * \n",
            "* * * \n",
            "* * \n",
            "* \n"
          ]
        }
      ],
      "source": [
        "n = 5\n",
        "\n",
        "# Upper part\n",
        "for i in range(1, n + 1):\n",
        "    print(\"* \" * i)\n",
        "\n",
        "# Lower part\n",
        "for i in range(n - 1, 0, -1):\n",
        "    print(\"* \" * i)"
      ]
    },
    {
      "cell_type": "code",
      "execution_count": null,
      "metadata": {
        "colab": {
          "base_uri": "https://localhost:8080/"
        },
        "id": "1EokG8z1cK-t",
        "outputId": "5ed8e551-5877-4577-e0e4-cb37a21fa6ff"
      },
      "outputs": [
        {
          "name": "stdout",
          "output_type": "stream",
          "text": [
            "  *\n",
            " * * *\n",
            "* * * * *\n"
          ]
        }
      ],
      "source": [
        "n = 3  # number of rows\n",
        "\n",
        "for i in range(n):\n",
        "    spaces = ' ' * (n - i - 1)\n",
        "    stars = '* ' * (2 * i + 1)\n",
        "    print(spaces + stars.strip())"
      ]
    },
    {
      "cell_type": "code",
      "execution_count": null,
      "metadata": {
        "colab": {
          "base_uri": "https://localhost:8080/"
        },
        "id": "6B5tpgDbdJK8",
        "outputId": "fc722b17-5341-46cb-8bd2-871f4c086c02"
      },
      "outputs": [
        {
          "name": "stdout",
          "output_type": "stream",
          "text": [
            "1 \n",
            "2 1 \n",
            "3 2 1 \n",
            "4 3 2 1 \n",
            "5 4 3 2 1 \n"
          ]
        }
      ],
      "source": [
        "for i in range(5):\n",
        "  for j in range(i+1,0,-1):\n",
        "    print(j,end=\" \")\n",
        "  print()"
      ]
    },
    {
      "cell_type": "code",
      "execution_count": null,
      "metadata": {
        "colab": {
          "base_uri": "https://localhost:8080/"
        },
        "id": "7zJFxYwlWXxA",
        "outputId": "65b622d8-7ffe-4141-c7ce-7fae995d4d65"
      },
      "outputs": [
        {
          "name": "stdout",
          "output_type": "stream",
          "text": [
            "24690\n"
          ]
        }
      ],
      "source": [
        "n=5\n",
        "result=0\n",
        "for i in range(1,n+1):\n",
        "  s = '2'*i\n",
        "  result += int(s)\n",
        "\n",
        "print(result)"
      ]
    },
    {
      "cell_type": "code",
      "execution_count": null,
      "metadata": {
        "colab": {
          "base_uri": "https://localhost:8080/"
        },
        "id": "hWBDRJ5SXTEX",
        "outputId": "fc06b290-89cf-4a51-c384-9a5ce250601e"
      },
      "outputs": [
        {
          "name": "stdout",
          "output_type": "stream",
          "text": [
            "10001\n"
          ]
        }
      ],
      "source": [
        "remainder =0\n",
        "qutionent =0\n",
        "result=''\n",
        "\n",
        "num = 17\n",
        "while(num!=0):\n",
        "  remainder = num%2\n",
        "  num = num//2\n",
        "  result= result + str(remainder)\n",
        "\n",
        "print(result[::-1])  #Write a program that will take a decimal number as input and prints out the binary equivalent of the number"
      ]
    },
    {
      "cell_type": "code",
      "execution_count": null,
      "metadata": {
        "colab": {
          "base_uri": "https://localhost:8080/"
        },
        "id": "TDWcEAQcaG7b",
        "outputId": "53420445-d105-4f68-9eb2-ed7a33948894"
      },
      "outputs": [
        {
          "data": {
            "text/plain": [
              "9"
            ]
          },
          "execution_count": 27,
          "metadata": {},
          "output_type": "execute_result"
        }
      ],
      "source": [
        "#: Write a program that will take 2 numbers as input and prints the LCM and HCF of those 2 numbers\n",
        "\n",
        "'''✅ HCF (Highest Common Factor):\n",
        "Also called GCD (Greatest Common Divisor).\n",
        "\n",
        "It is the largest number that divides both numbers exactly.\n",
        "\n",
        "Example: HCF of 12 and 18 is 6\n",
        "\n",
        "✅ LCM (Least Common Multiple):\n",
        "It is the smallest number that is a multiple of both numbers.\n",
        "\n",
        "Example: LCM of 12 and 18 is 36\n",
        "HCF\n",
        "Initial:\n",
        "x = 48, y = 18\n",
        "\n",
        "1st Iteration:\n",
        "x, y = y, x % y\n",
        "\n",
        "x = 18, y = 48 % 18 = 12\n",
        "\n",
        "2nd Iteration:\n",
        "x = 12, y = 18 % 12 = 6\n",
        "\n",
        "3rd Iteration:\n",
        "x = 6, y = 12 % 6 = 0\n",
        "\n",
        "Now y = 0, so the loop stops.\n",
        "\n",
        "✅ Return:\n",
        "x = 6 → This is the HCF.'''\n",
        "\n",
        "def hcf(x,y):\n",
        "  while y:\n",
        "    x,y=y,x%y\n",
        "  return x\n",
        "hcf(9,18)"
      ]
    },
    {
      "cell_type": "code",
      "execution_count": null,
      "metadata": {
        "colab": {
          "base_uri": "https://localhost:8080/",
          "height": 36
        },
        "id": "A1dzlDzEc6m6",
        "outputId": "50b56f69-aded-4688-a9b7-5040b1fa4afb"
      },
      "outputs": [
        {
          "data": {
            "application/vnd.google.colaboratory.intrinsic+json": {
              "type": "string"
            },
            "text/plain": [
              "'DSMP'"
            ]
          },
          "execution_count": 31,
          "metadata": {},
          "output_type": "execute_result"
        }
      ],
      "source": [
        "word = []\n",
        "result=''\n",
        "words = 'Data science mentorship program'.split()\n",
        "for i in words:\n",
        "  result = result + i[0].upper()\n",
        "result"
      ]
    },
    {
      "cell_type": "code",
      "execution_count": null,
      "metadata": {
        "colab": {
          "base_uri": "https://localhost:8080/"
        },
        "id": "UsfppytEdofq",
        "outputId": "b1e1d137-5de5-4dc3-e29c-9f942e5bb801"
      },
      "outputs": [
        {
          "data": {
            "text/plain": [
              "3"
            ]
          },
          "execution_count": 34,
          "metadata": {},
          "output_type": "execute_result"
        }
      ],
      "source": [
        "len('campusx')//2"
      ]
    },
    {
      "cell_type": "code",
      "execution_count": null,
      "metadata": {
        "colab": {
          "base_uri": "https://localhost:8080/",
          "height": 36
        },
        "id": "CY1Ua4U_d_OJ",
        "outputId": "498db409-5c0b-4570-89ed-d2251589c76a"
      },
      "outputs": [
        {
          "data": {
            "application/vnd.google.colaboratory.intrinsic+json": {
              "type": "string"
            },
            "text/plain": [
              "'HeWorldllo'"
            ]
          },
          "execution_count": 35,
          "metadata": {},
          "output_type": "execute_result"
        }
      ],
      "source": [
        "str1 = \"Hello\"\n",
        "str2 = \"World\"\n",
        "\n",
        "# Find middle index of str1\n",
        "mid = len(str1) // 2\n",
        "\n",
        "word = str1[:mid]+str2+str1[mid:]\n",
        "word"
      ]
    },
    {
      "cell_type": "code",
      "execution_count": null,
      "metadata": {
        "colab": {
          "base_uri": "https://localhost:8080/",
          "height": 36
        },
        "id": "VeXwVPA5egK8",
        "outputId": "5ead5a19-0a4b-46c0-f107-54cdd5b47bca"
      },
      "outputs": [
        {
          "data": {
            "application/vnd.google.colaboratory.intrinsic+json": {
              "type": "string"
            },
            "text/plain": [
              "'yvieaTPN'"
            ]
          },
          "execution_count": 40,
          "metadata": {},
          "output_type": "execute_result"
        }
      ],
      "source": [
        "\"\".join(sorted('PyNaTive',reverse=True))"
      ]
    },
    {
      "cell_type": "code",
      "execution_count": null,
      "metadata": {
        "colab": {
          "base_uri": "https://localhost:8080/",
          "height": 36
        },
        "id": "vHbsEP6Aeo95",
        "outputId": "81bba215-3a34-4b1c-9732-399d4d445b20"
      },
      "outputs": [
        {
          "data": {
            "application/vnd.google.colaboratory.intrinsic+json": {
              "type": "string"
            },
            "text/plain": [
              "'code practice quiz geeks '"
            ]
          },
          "execution_count": 45,
          "metadata": {},
          "output_type": "execute_result"
        }
      ],
      "source": [
        "a = 'geeks quiz practice code'.split()\n",
        "r = ''\n",
        "for i in range(len(a)-1,-1,-1):\n",
        "  r = r+a[i]+\" \"\n",
        "r"
      ]
    },
    {
      "cell_type": "code",
      "execution_count": null,
      "metadata": {
        "colab": {
          "base_uri": "https://localhost:8080/"
        },
        "id": "_fgOJ8DmgQqc",
        "outputId": "41a43a28-de20-4731-c1ea-31d40e0c8934"
      },
      "outputs": [
        {
          "data": {
            "text/plain": [
              "1"
            ]
          },
          "execution_count": 47,
          "metadata": {},
          "output_type": "execute_result"
        }
      ],
      "source": [
        "'We can learn data science through campusx mentorship program.'.count('campusx')"
      ]
    },
    {
      "cell_type": "markdown",
      "metadata": {
        "id": "sXIUgWNNBOMj"
      },
      "source": [
        "# ***List***\n",
        "\n",
        "* What are Lists?\n",
        "* Lists Vs Arrays\n",
        "* Characterstics of a List\n",
        "* How to create a list\n",
        "* Access items from a List\n",
        "* Editing items in a List\n",
        "* Deleting items from a List\n",
        "* Operations on Lists\n",
        "* Functions on Lists"
      ]
    },
    {
      "cell_type": "markdown",
      "metadata": {
        "id": "wRpFPa9zBkxP"
      },
      "source": [
        "**Array Vs Lists**\n",
        "* Fixed Vs Dynamic Size\n",
        "* Convenience -> Hetrogeneous\n",
        "* Speed of Execution\n",
        "* Memory: Referential array"
      ]
    },
    {
      "cell_type": "code",
      "execution_count": null,
      "metadata": {
        "colab": {
          "base_uri": "https://localhost:8080/"
        },
        "id": "Nx9dp07-ghGR",
        "outputId": "8ead2167-498a-4874-b466-149dbabce035"
      },
      "outputs": [
        {
          "data": {
            "text/plain": [
              "list"
            ]
          },
          "execution_count": 7,
          "metadata": {},
          "output_type": "execute_result"
        }
      ],
      "source": [
        "l = list({1,2,3})\n",
        "type(l)"
      ]
    },
    {
      "cell_type": "code",
      "execution_count": null,
      "metadata": {
        "colab": {
          "base_uri": "https://localhost:8080/"
        },
        "id": "TII69I7RB57p",
        "outputId": "4e54055d-3e12-4c6c-c03d-719448bbd03b"
      },
      "outputs": [
        {
          "data": {
            "text/plain": [
              "132334406606656"
            ]
          },
          "execution_count": 10,
          "metadata": {},
          "output_type": "execute_result"
        }
      ],
      "source": [
        "id(l)"
      ]
    },
    {
      "cell_type": "code",
      "execution_count": null,
      "metadata": {
        "colab": {
          "base_uri": "https://localhost:8080/"
        },
        "id": "CNlGR_L1CHw_",
        "outputId": "158e0532-f06a-4d18-93f3-9b2223bc6adb"
      },
      "outputs": [
        {
          "data": {
            "text/plain": [
              "10757704"
            ]
          },
          "execution_count": 11,
          "metadata": {},
          "output_type": "execute_result"
        }
      ],
      "source": [
        "id(l[0])\n"
      ]
    },
    {
      "cell_type": "code",
      "execution_count": null,
      "metadata": {
        "colab": {
          "base_uri": "https://localhost:8080/"
        },
        "id": "xFnhzARCCPmX",
        "outputId": "cf7d1fbb-f7fd-4596-ce9c-0b04bfb3effd"
      },
      "outputs": [
        {
          "data": {
            "text/plain": [
              "10758024"
            ]
          },
          "execution_count": 13,
          "metadata": {},
          "output_type": "execute_result"
        }
      ],
      "source": [
        "id(10)"
      ]
    },
    {
      "cell_type": "code",
      "execution_count": null,
      "metadata": {
        "id": "7BZaC-ssILeU"
      },
      "outputs": [],
      "source": [
        "del l[0]"
      ]
    },
    {
      "cell_type": "code",
      "execution_count": null,
      "metadata": {
        "colab": {
          "base_uri": "https://localhost:8080/"
        },
        "id": "-5cL8SSfI1o8",
        "outputId": "f9b666fc-fcc6-4a91-e87f-1ddd3a1ab9b9"
      },
      "outputs": [
        {
          "data": {
            "text/plain": [
              "[2, 3]"
            ]
          },
          "execution_count": 15,
          "metadata": {},
          "output_type": "execute_result"
        }
      ],
      "source": [
        "l"
      ]
    },
    {
      "cell_type": "code",
      "execution_count": null,
      "metadata": {
        "colab": {
          "base_uri": "https://localhost:8080/"
        },
        "id": "RtZD3TitI2Sj",
        "outputId": "c5482ba1-0cc2-4045-9806-e8fbeb652305"
      },
      "outputs": [
        {
          "data": {
            "text/plain": [
              "[1, 2, 3]"
            ]
          },
          "execution_count": 16,
          "metadata": {},
          "output_type": "execute_result"
        }
      ],
      "source": [
        "l.insert(0,1)\n",
        "l"
      ]
    },
    {
      "cell_type": "code",
      "execution_count": null,
      "metadata": {
        "id": "M3svE5PLI-5D"
      },
      "outputs": [],
      "source": [
        "del l[1]"
      ]
    },
    {
      "cell_type": "code",
      "execution_count": null,
      "metadata": {
        "colab": {
          "base_uri": "https://localhost:8080/"
        },
        "id": "lulGeok3JA2D",
        "outputId": "22928d6a-ee05-4616-8c64-62b0ce0524dd"
      },
      "outputs": [
        {
          "data": {
            "text/plain": [
              "[1, 3]"
            ]
          },
          "execution_count": 18,
          "metadata": {},
          "output_type": "execute_result"
        }
      ],
      "source": [
        "l"
      ]
    },
    {
      "cell_type": "code",
      "execution_count": null,
      "metadata": {
        "colab": {
          "base_uri": "https://localhost:8080/"
        },
        "id": "PnoXJZnnJBUj",
        "outputId": "04bfa3d1-01fa-4bdc-e1c1-26744d626a96"
      },
      "outputs": [
        {
          "data": {
            "text/plain": [
              "True"
            ]
          },
          "execution_count": 19,
          "metadata": {},
          "output_type": "execute_result"
        }
      ],
      "source": [
        "L = [1,2]\n",
        "L1 = [1,2]\n",
        "L == L1\n"
      ]
    },
    {
      "cell_type": "markdown",
      "metadata": {
        "id": "Rs9WEtu8KAvD"
      },
      "source": [
        "# ***Characterstics of a List***\n",
        "\n",
        "* Ordered\n",
        "* Changeble/Mutable\n",
        "* Hetrogeneous\n",
        "* Can have duplicates\n",
        "* are dynamic\n",
        "* can be nested\n",
        "* items can be accessed\n",
        "* can contain any kind of objects in python\n"
      ]
    },
    {
      "cell_type": "code",
      "execution_count": null,
      "metadata": {
        "colab": {
          "base_uri": "https://localhost:8080/"
        },
        "id": "U2GGp_7wJ5w6",
        "outputId": "26b00f95-2d65-4a68-dc70-07ba4a082b00"
      },
      "outputs": [
        {
          "name": "stdout",
          "output_type": "stream",
          "text": [
            "[]\n",
            "[1, 2, 3, 4, 5]\n",
            "[1, 2, 3, [4, 5]]\n",
            "[[[1, 2, 3], [4, 5, 6]], [[1, 2, 3], [4, 5, 6]]]\n",
            "[1, True, 5.6, (5+6j), 'Hello']\n"
          ]
        },
        {
          "data": {
            "text/plain": [
              "['h', 'e', 'l', 'l', 'o']"
            ]
          },
          "execution_count": 22,
          "metadata": {},
          "output_type": "execute_result"
        }
      ],
      "source": [
        "print([])\n",
        "# 1D -> Homo\n",
        "print([1,2,3,4,5])\n",
        "# 2D\n",
        "print([1,2,3,[4,5]])\n",
        "# 3D\n",
        "print([\n",
        "    [[1,2,3],\n",
        "    [4,5,6]],\n",
        "    [[1,2,3],\n",
        "    [4,5,6]],\n",
        "])\n",
        "# Hetrogenous\n",
        "print([1,True,5.6,5+6j,'Hello'])\n",
        "#\n",
        "list('hello')"
      ]
    },
    {
      "cell_type": "code",
      "execution_count": null,
      "metadata": {
        "colab": {
          "base_uri": "https://localhost:8080/"
        },
        "id": "0xrGGyT6MwfB",
        "outputId": "3c10c274-e006-4e96-c94b-43ef5c0f9d02"
      },
      "outputs": [
        {
          "data": {
            "text/plain": [
              "30"
            ]
          },
          "execution_count": 27,
          "metadata": {},
          "output_type": "execute_result"
        }
      ],
      "source": [
        "A = [\n",
        "    [[1,2,3],\n",
        "    [4,5,6]],\n",
        "    [[10,20,30],\n",
        "    [40,5,6]],\n",
        "]\n",
        "A[1][0][2]"
      ]
    },
    {
      "cell_type": "code",
      "execution_count": null,
      "metadata": {
        "colab": {
          "base_uri": "https://localhost:8080/"
        },
        "id": "pDyjny07NfsB",
        "outputId": "23a88773-59db-4b8d-ff61-aaa631aebcf8"
      },
      "outputs": [
        {
          "name": "stdout",
          "output_type": "stream",
          "text": [
            "[6, 5, 4, 3, 2, 1]\n"
          ]
        },
        {
          "data": {
            "text/plain": [
              "[1, 2, 3, 4, 5, 6]"
            ]
          },
          "execution_count": 37,
          "metadata": {},
          "output_type": "execute_result"
        }
      ],
      "source": [
        "# Slicing\n",
        "L = [1,2,3,4,5,6]\n",
        "\n",
        "print(L[::-1])\n",
        "L"
      ]
    },
    {
      "cell_type": "code",
      "execution_count": null,
      "metadata": {
        "colab": {
          "base_uri": "https://localhost:8080/"
        },
        "id": "Qge8IwTvNwOg",
        "outputId": "b72af613-7100-44a5-f40b-7bd73ca5762c"
      },
      "outputs": [
        {
          "data": {
            "text/plain": [
              "[6, 5, 4, 3, 2, 1]"
            ]
          },
          "execution_count": 35,
          "metadata": {},
          "output_type": "execute_result"
        }
      ],
      "source": [
        "L.reverse()\n",
        "L"
      ]
    },
    {
      "cell_type": "code",
      "execution_count": null,
      "metadata": {
        "colab": {
          "base_uri": "https://localhost:8080/"
        },
        "id": "yUZfIgx2N_C4",
        "outputId": "61e02345-92cb-4a47-871f-69b16005a789"
      },
      "outputs": [
        {
          "data": {
            "text/plain": [
              "[1, 2, 3, 4, 5, 6]"
            ]
          },
          "execution_count": 36,
          "metadata": {},
          "output_type": "execute_result"
        }
      ],
      "source": [
        "L.reverse()\n",
        "L"
      ]
    },
    {
      "cell_type": "code",
      "execution_count": null,
      "metadata": {
        "id": "PuiRBKEfODQp"
      },
      "outputs": [],
      "source": [
        "L.sort()"
      ]
    },
    {
      "cell_type": "markdown",
      "metadata": {
        "id": "msH4rCmeQbyB"
      },
      "source": [
        "# ***Adding Items to a List***"
      ]
    },
    {
      "cell_type": "code",
      "execution_count": null,
      "metadata": {
        "colab": {
          "base_uri": "https://localhost:8080/"
        },
        "id": "rgjmsh_TQYqX",
        "outputId": "46b03d38-242f-4650-aafb-74060c6f4008"
      },
      "outputs": [
        {
          "data": {
            "text/plain": [
              "['Hello']"
            ]
          },
          "execution_count": 50,
          "metadata": {},
          "output_type": "execute_result"
        }
      ],
      "source": [
        "L=[]\n",
        "L.append('Hello')\n",
        "L"
      ]
    },
    {
      "cell_type": "code",
      "execution_count": null,
      "metadata": {
        "colab": {
          "base_uri": "https://localhost:8080/"
        },
        "id": "noBzP3ANQmdf",
        "outputId": "7b75c4ff-cb77-4dc4-9e13-27a7e317c264"
      },
      "outputs": [
        {
          "data": {
            "text/plain": [
              "['Hello', 'w', 'o']"
            ]
          },
          "execution_count": 51,
          "metadata": {},
          "output_type": "execute_result"
        }
      ],
      "source": [
        "L.extend('wo')\n",
        "L"
      ]
    },
    {
      "cell_type": "code",
      "execution_count": null,
      "metadata": {
        "colab": {
          "base_uri": "https://localhost:8080/"
        },
        "id": "NKMkofu7Qp53",
        "outputId": "fa25cfd9-fac0-4bea-b48b-87a40fd25c88"
      },
      "outputs": [
        {
          "data": {
            "text/plain": [
              "['Hello', 'w', 'o', [1, 2, 3]]"
            ]
          },
          "execution_count": 52,
          "metadata": {},
          "output_type": "execute_result"
        }
      ],
      "source": [
        "L.append([1,2,3])\n",
        "L"
      ]
    },
    {
      "cell_type": "code",
      "execution_count": null,
      "metadata": {
        "colab": {
          "base_uri": "https://localhost:8080/"
        },
        "id": "LfGvUZpWQt4n",
        "outputId": "9163a619-c084-4cde-bd3e-08d2bc46b300"
      },
      "outputs": [
        {
          "data": {
            "text/plain": [
              "['Hello', 'w', 'o', [1, 2, 3], 4, 5]"
            ]
          },
          "execution_count": 53,
          "metadata": {},
          "output_type": "execute_result"
        }
      ],
      "source": [
        "L.extend([4,5])\n",
        "L"
      ]
    },
    {
      "cell_type": "code",
      "execution_count": null,
      "metadata": {
        "colab": {
          "base_uri": "https://localhost:8080/"
        },
        "id": "fJOfJy5_Qyhp",
        "outputId": "205227a0-8d05-44ed-9435-1ce36a9c8b67"
      },
      "outputs": [
        {
          "data": {
            "text/plain": [
              "[1, None, [1, 23], 4, 1, 23]"
            ]
          },
          "execution_count": 60,
          "metadata": {},
          "output_type": "execute_result"
        }
      ],
      "source": [
        "L.insert(1,L.extend([1,23]))\n",
        "L"
      ]
    },
    {
      "cell_type": "code",
      "execution_count": null,
      "metadata": {
        "id": "bdmFCEAfRRmX"
      },
      "outputs": [],
      "source": [
        "L.remove(9)"
      ]
    },
    {
      "cell_type": "code",
      "execution_count": null,
      "metadata": {
        "colab": {
          "base_uri": "https://localhost:8080/"
        },
        "id": "zw-1TlUfRYEP",
        "outputId": "4101651f-706a-4a34-d7ca-a5857ec8b132"
      },
      "outputs": [
        {
          "data": {
            "text/plain": [
              "['Hello', 9, 'w', 'o', [1, 2, 3], 4, 5]"
            ]
          },
          "execution_count": 57,
          "metadata": {},
          "output_type": "execute_result"
        }
      ],
      "source": [
        "L"
      ]
    },
    {
      "cell_type": "markdown",
      "metadata": {
        "id": "QmNPAccfV1XW"
      },
      "source": [
        "# ***Editing And Deleting***"
      ]
    },
    {
      "cell_type": "code",
      "execution_count": null,
      "metadata": {
        "colab": {
          "base_uri": "https://localhost:8080/"
        },
        "id": "F0s8oZMnRYs2",
        "outputId": "91e99ef7-60e3-43ed-b03d-6f3b5419ba36"
      },
      "outputs": [
        {
          "name": "stdout",
          "output_type": "stream",
          "text": [
            "[1, 4]\n"
          ]
        }
      ],
      "source": [
        "# del\n",
        "L = [1,2,3,4,5]\n",
        "\n",
        "# indexing\n",
        "del L[-1]\n",
        "\n",
        "# slicing\n",
        "del L[1:3]\n",
        "print(L)"
      ]
    },
    {
      "cell_type": "code",
      "execution_count": null,
      "metadata": {
        "colab": {
          "base_uri": "https://localhost:8080/"
        },
        "id": "4wka3hToVBGN",
        "outputId": "89bb9921-9596-4ce9-ee0d-59caf2eec4ed"
      },
      "outputs": [
        {
          "data": {
            "text/plain": [
              "[1, 23, 24, 4]"
            ]
          },
          "execution_count": 63,
          "metadata": {},
          "output_type": "execute_result"
        }
      ],
      "source": [
        "L[1:1] = [23,24]\n",
        "L\n",
        "# IMPORTANT"
      ]
    },
    {
      "cell_type": "code",
      "execution_count": null,
      "metadata": {
        "colab": {
          "base_uri": "https://localhost:8080/"
        },
        "id": "GKp8iNgGVtx8",
        "outputId": "a5aec91b-1584-4ed8-a8f5-bb7d7770a6c0"
      },
      "outputs": [
        {
          "name": "stdout",
          "output_type": "stream",
          "text": [
            "[1, 2, 3, 4]\n"
          ]
        }
      ],
      "source": [
        "# remove\n",
        "\n",
        "L = [1,2,3,4,5]\n",
        "\n",
        "L.remove(5)\n",
        "\n",
        "print(L)"
      ]
    },
    {
      "cell_type": "code",
      "execution_count": null,
      "metadata": {
        "colab": {
          "base_uri": "https://localhost:8080/"
        },
        "id": "nCGHfXK_V-fd",
        "outputId": "a565e28a-b9ab-4d8e-b06e-8945e5f7cfc4"
      },
      "outputs": [
        {
          "data": {
            "text/plain": [
              "1"
            ]
          },
          "execution_count": 80,
          "metadata": {},
          "output_type": "execute_result"
        }
      ],
      "source": [
        "L.pop(0)"
      ]
    },
    {
      "cell_type": "code",
      "execution_count": null,
      "metadata": {
        "colab": {
          "base_uri": "https://localhost:8080/"
        },
        "id": "xfiHmwkfWA9F",
        "outputId": "c7c91a45-0e0d-4613-e064-fe683c2463f5"
      },
      "outputs": [
        {
          "data": {
            "text/plain": [
              "[2, 3, 4]"
            ]
          },
          "execution_count": 81,
          "metadata": {},
          "output_type": "execute_result"
        }
      ],
      "source": [
        "L"
      ]
    },
    {
      "cell_type": "code",
      "execution_count": null,
      "metadata": {
        "colab": {
          "base_uri": "https://localhost:8080/"
        },
        "id": "Xd04vJzhWC5U",
        "outputId": "56ef9da9-a213-4beb-d30d-a0b05c4e9fa5"
      },
      "outputs": [
        {
          "data": {
            "text/plain": [
              "[]"
            ]
          },
          "execution_count": 68,
          "metadata": {},
          "output_type": "execute_result"
        }
      ],
      "source": [
        "\n",
        "L.clear()\n",
        "L"
      ]
    },
    {
      "cell_type": "markdown",
      "metadata": {
        "id": "-BKLAjEUWLw0"
      },
      "source": [
        "## Operations on Lists\n",
        "\n",
        "- Arithmetic\n",
        "- Membership\n",
        "- Loop"
      ]
    },
    {
      "cell_type": "code",
      "execution_count": null,
      "metadata": {
        "colab": {
          "base_uri": "https://localhost:8080/"
        },
        "id": "NOwC6jNBWIIU",
        "outputId": "06b1f678-47fc-4235-8761-1b677ed05d4f"
      },
      "outputs": [
        {
          "data": {
            "text/plain": [
              "[1, 2, 3, 4, 5, 6, 7, 8]"
            ]
          },
          "execution_count": 82,
          "metadata": {},
          "output_type": "execute_result"
        }
      ],
      "source": [
        "# Arithmetic (+ ,*)\n",
        "\n",
        "L1 = [1,2,3,4]\n",
        "L2 = [5,6,7,8]\n",
        "\n",
        "L1+L2"
      ]
    },
    {
      "cell_type": "code",
      "execution_count": null,
      "metadata": {
        "colab": {
          "base_uri": "https://localhost:8080/"
        },
        "id": "h_CCVO_vWeEU",
        "outputId": "55729efa-3f9b-465f-80aa-799e1cb09370"
      },
      "outputs": [
        {
          "data": {
            "text/plain": [
              "[1, 2, 3, 4, 1, 2, 3, 4, 1, 2, 3, 4]"
            ]
          },
          "execution_count": 83,
          "metadata": {},
          "output_type": "execute_result"
        }
      ],
      "source": [
        "L1*3"
      ]
    },
    {
      "cell_type": "code",
      "execution_count": null,
      "metadata": {
        "colab": {
          "base_uri": "https://localhost:8080/"
        },
        "id": "V_tPjTowWfIU",
        "outputId": "2d4843fa-a926-4683-9729-24eee0a0f73d"
      },
      "outputs": [
        {
          "name": "stdout",
          "output_type": "stream",
          "text": [
            "False\n",
            "5 True\n"
          ]
        }
      ],
      "source": [
        "print(5 in L1)\n",
        "print(5,6 in L2)"
      ]
    },
    {
      "cell_type": "code",
      "execution_count": null,
      "metadata": {
        "colab": {
          "base_uri": "https://localhost:8080/"
        },
        "id": "AUdY3qViWsDM",
        "outputId": "ad8ccff4-ee9d-470e-9ca3-e38339b79952"
      },
      "outputs": [
        {
          "name": "stdout",
          "output_type": "stream",
          "text": [
            "5\n",
            "0\n",
            "7\n",
            "[7, 5, 2, 1, 0]\n"
          ]
        }
      ],
      "source": [
        "# len/min/max/sorted\n",
        "L = [2,1,5,7,0]\n",
        "\n",
        "print(len(L))\n",
        "print(min(L))\n",
        "print(max(L))\n",
        "print(sorted(L,reverse=True))"
      ]
    },
    {
      "cell_type": "code",
      "execution_count": null,
      "metadata": {
        "colab": {
          "base_uri": "https://localhost:8080/"
        },
        "id": "mrNWg4eCbRub",
        "outputId": "dd6b03c2-4424-4eb6-b6f3-fd3619c3b584"
      },
      "outputs": [
        {
          "name": "stdout",
          "output_type": "stream",
          "text": [
            "[0, 7, 5, 1, 2]\n"
          ]
        }
      ],
      "source": [
        "# reverse\n",
        "L = [2,1,5,7,0]\n",
        "# permanently reverses the list\n",
        "L.reverse()\n",
        "print(L)"
      ]
    },
    {
      "cell_type": "code",
      "execution_count": null,
      "metadata": {
        "colab": {
          "base_uri": "https://localhost:8080/"
        },
        "id": "hKxNwTHkbZPa",
        "outputId": "901d52a4-21c6-4989-9629-313cf5bab142"
      },
      "outputs": [
        {
          "name": "stdout",
          "output_type": "stream",
          "text": [
            "[2, 1, 5, 7, 0]\n",
            "[0, 1, 2, 5, 7]\n",
            "[2, 1, 5, 7, 0]\n",
            "[0, 1, 2, 5, 7]\n"
          ]
        }
      ],
      "source": [
        "# sort (vs sorted)\n",
        "L = [2,1,5,7,0]\n",
        "print(L)\n",
        "print(sorted(L))\n",
        "print(L)\n",
        "L.sort()\n",
        "print(L)"
      ]
    },
    {
      "cell_type": "code",
      "execution_count": null,
      "metadata": {
        "id": "5YSzjbhhbhxh"
      },
      "outputs": [],
      "source": [
        "L1 = [1,2,3]\n",
        "L2 = L1.copy()\n",
        "L2[0] = 5\n"
      ]
    },
    {
      "cell_type": "code",
      "execution_count": null,
      "metadata": {
        "colab": {
          "base_uri": "https://localhost:8080/"
        },
        "id": "XSJy6-_fci7h",
        "outputId": "17aa7a86-a149-4424-eb1b-dd8848972b06"
      },
      "outputs": [
        {
          "data": {
            "text/plain": [
              "[1, 2, 3]"
            ]
          },
          "execution_count": 90,
          "metadata": {},
          "output_type": "execute_result"
        }
      ],
      "source": [
        "L1"
      ]
    },
    {
      "cell_type": "code",
      "execution_count": null,
      "metadata": {
        "colab": {
          "base_uri": "https://localhost:8080/"
        },
        "id": "BuAUKVQ7cpKo",
        "outputId": "fb4811ec-ed8f-4346-cdc7-eeb4b3347922"
      },
      "outputs": [
        {
          "data": {
            "text/plain": [
              "[5, 2, 3]"
            ]
          },
          "execution_count": 91,
          "metadata": {},
          "output_type": "execute_result"
        }
      ],
      "source": [
        "L2"
      ]
    },
    {
      "cell_type": "code",
      "execution_count": null,
      "metadata": {
        "colab": {
          "base_uri": "https://localhost:8080/"
        },
        "id": "fe41x8uAdK7Z",
        "outputId": "1658c353-5ac2-4e99-8dea-7e04b52fbb39"
      },
      "outputs": [
        {
          "name": "stdout",
          "output_type": "stream",
          "text": [
            "[[99, 33], [3, 4]]\n",
            "[[99, 33], [3, 4]]\n"
          ]
        }
      ],
      "source": [
        "L1 = [[1, 2], [3, 4]]\n",
        "L2 = L1.copy()\n",
        "\n",
        "L1[0][0] = 99\n",
        "\n",
        "L2[0][1]=33\n",
        "\n",
        "print(L1)  # [[99, 2], [3, 4]]\n",
        "print(L2)  # [[99, 2], [3, 4]] ← changed too!\n",
        "#shallow copy"
      ]
    },
    {
      "cell_type": "code",
      "execution_count": null,
      "metadata": {
        "colab": {
          "base_uri": "https://localhost:8080/"
        },
        "id": "N5OIYArPdTEx",
        "outputId": "b27c67c4-eec1-47de-a590-4a1dbdef414f"
      },
      "outputs": [
        {
          "name": "stdout",
          "output_type": "stream",
          "text": [
            "[[99, 2], [3, 4]]\n",
            "[[1, 2], [3, 4]]\n"
          ]
        }
      ],
      "source": [
        "import copy\n",
        "\n",
        "L1 = [[1, 2], [3, 4]]\n",
        "L2 = copy.deepcopy(L1)\n",
        "\n",
        "L1[0][0] = 99\n",
        "\n",
        "print(L1)  # [[99, 2], [3, 4]]\n",
        "print(L2)  # [[1, 2], [3, 4]] ← not affected"
      ]
    },
    {
      "cell_type": "markdown",
      "metadata": {
        "id": "9lLFNyucc1zi"
      },
      "source": [
        "## List Comprehension\n",
        "\n",
        "List Comprehension provides a concise way of creating lists.\n",
        "\n",
        "newlist = [expression for item in iterable if condition == True]![image.png](data:image/png;base64,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)\n",
        "\n",
        "Advantages of List Comprehension\n",
        "- More time-efficient and space-efficient than loops.\n",
        "- Require fewer lines of code.\n",
        "- Transforms iterative statement into a formula.\n",
        "\n",
        "L = [300 if i==3 else i for i in L ]"
      ]
    },
    {
      "cell_type": "code",
      "execution_count": null,
      "metadata": {
        "colab": {
          "base_uri": "https://localhost:8080/"
        },
        "id": "xry9KwMgcp5Y",
        "outputId": "9017ffe2-8878-4f12-8810-4c36b3cefc73"
      },
      "outputs": [
        {
          "data": {
            "text/plain": [
              "[0, 5, 10, 15, 20, 25, 30, 35, 40, 45, 50]"
            ]
          },
          "execution_count": 96,
          "metadata": {},
          "output_type": "execute_result"
        }
      ],
      "source": [
        "L = [i for i in range(51) if i%5==0]"
      ]
    },
    {
      "cell_type": "code",
      "execution_count": null,
      "metadata": {
        "colab": {
          "base_uri": "https://localhost:8080/"
        },
        "id": "grFLF73Jp__U",
        "outputId": "c41bf682-58e5-4b0e-d935-e5e082ecbda8"
      },
      "outputs": [
        {
          "data": {
            "text/plain": [
              "[1, 4, 9, 16, 25]"
            ]
          },
          "execution_count": 98,
          "metadata": {},
          "output_type": "execute_result"
        }
      ],
      "source": [
        "# Add squares\n",
        "L = [1,2,3,4,5]\n",
        "\n",
        "[i**2 for i in L]"
      ]
    },
    {
      "cell_type": "code",
      "execution_count": null,
      "metadata": {
        "colab": {
          "base_uri": "https://localhost:8080/"
        },
        "id": "dSzAjt-BqECW",
        "outputId": "db2a8580-7b6f-4209-d821-83302702a142"
      },
      "outputs": [
        {
          "data": {
            "text/plain": [
              "['python', 'php']"
            ]
          },
          "execution_count": 99,
          "metadata": {},
          "output_type": "execute_result"
        }
      ],
      "source": [
        "# find languages which start with letter p\n",
        "languages = ['java','python','php','c','javascript']\n",
        "\n",
        "[language for language in languages if language.startswith('p')]"
      ]
    },
    {
      "cell_type": "code",
      "execution_count": null,
      "metadata": {
        "colab": {
          "base_uri": "https://localhost:8080/"
        },
        "id": "dbBS3liaqITL",
        "outputId": "edac4b72-e25f-4b49-c7b8-de09857dbd7e"
      },
      "outputs": [
        {
          "data": {
            "text/plain": [
              "[5, 12, 21, 32]"
            ]
          },
          "execution_count": 112,
          "metadata": {},
          "output_type": "execute_result"
        }
      ],
      "source": [
        "# cartesian products -> List comprehension on 2 lists together\n",
        "L1 = [1,2,3,4]\n",
        "L2 = [5,6,7,8]\n",
        "\n",
        "[i*j for i,j in zip(L1,L2)]"
      ]
    },
    {
      "cell_type": "markdown",
      "metadata": {
        "id": "In7vQ189qm42"
      },
      "source": [
        "# ***zip(L1, L2) pairs elements like: (1,5), (2,6), (3,7), (4,8)***"
      ]
    },
    {
      "cell_type": "markdown",
      "metadata": {
        "id": "9xVn3orQrdyL"
      },
      "source": [
        "# **## Zip\n",
        "\n",
        "The zip() function returns a zip object, which is an iterator of tuples where the first item in each passed iterator is paired together, and then the second item in each passed iterator are paired together.\n",
        "\n",
        "If the passed iterators have different lengths, the iterator with the least items decides the length of the new iterator.**"
      ]
    },
    {
      "cell_type": "code",
      "execution_count": null,
      "metadata": {
        "colab": {
          "base_uri": "https://localhost:8080/"
        },
        "id": "tl7d7__JqP0U",
        "outputId": "090e4562-fd67-4852-a895-94ad0ed2503f"
      },
      "outputs": [
        {
          "data": {
            "text/plain": [
              "[(1, 5), (2, 6), (3, 7), (4, 8)]"
            ]
          },
          "execution_count": 103,
          "metadata": {},
          "output_type": "execute_result"
        }
      ],
      "source": [
        "# cartesian products -> List comprehension on 2 lists together\n",
        "L1 = [1,2,3,4]\n",
        "L2 = [5,6,7,8]\n",
        "\n",
        "[i*j for i,j in zip(L1,L2)]\n",
        "\n",
        "list(zip(L1,L2))"
      ]
    },
    {
      "cell_type": "code",
      "execution_count": null,
      "metadata": {
        "colab": {
          "base_uri": "https://localhost:8080/"
        },
        "id": "DTxBDjPaqgP2",
        "outputId": "f44335ae-02fe-4ba4-f893-6ff478f776b7"
      },
      "outputs": [
        {
          "data": {
            "text/plain": [
              "[1, 2, 3, 4, 5, 6, 7, 8]"
            ]
          },
          "execution_count": 104,
          "metadata": {},
          "output_type": "execute_result"
        }
      ],
      "source": [
        "# Write a program to merge 2 list without using the + operator\n",
        "L1 = [1,2,3,4]\n",
        "L2 = [5,6,7,8]\n",
        "L1.extend(L2)\n",
        "L1"
      ]
    },
    {
      "cell_type": "code",
      "execution_count": null,
      "metadata": {
        "colab": {
          "base_uri": "https://localhost:8080/"
        },
        "id": "nDOHS_7-r6_D",
        "outputId": "7db98a31-4aab-48d9-90cc-3fe03fc2fd31"
      },
      "outputs": [
        {
          "name": "stdout",
          "output_type": "stream",
          "text": [
            "[1, 2, 3]\n",
            "[1, 2, 3]\n",
            "[1, 2, 3, 4]\n",
            "[1, 2, 3]\n"
          ]
        }
      ],
      "source": [
        "a = [1,2,3]\n",
        "b = a.copy()\n",
        "\n",
        "print(a)\n",
        "print(b)\n",
        "\n",
        "a.append(4)\n",
        "print(a)\n",
        "print(b)"
      ]
    },
    {
      "cell_type": "code",
      "execution_count": null,
      "metadata": {
        "colab": {
          "base_uri": "https://localhost:8080/"
        },
        "id": "TvnBGpk9sB_C",
        "outputId": "a91d77ee-dd17-4ac0-fd90-45a25d737fcb"
      },
      "outputs": [
        {
          "data": {
            "text/plain": [
              "[1, 3, 5]"
            ]
          },
          "execution_count": 107,
          "metadata": {},
          "output_type": "execute_result"
        }
      ],
      "source": [
        "# Create 2 lists from a given list where\n",
        "# 1st list will contain all the odd numbers from the original list and\n",
        "# the 2nd one will contain all the even numbers\n",
        "\n",
        "L = [1,2,3,4,5,6]\n",
        "\n",
        "odd = []\n",
        "even = []\n",
        "\n",
        "for i in L:\n",
        "  if i%2==0:\n",
        "    even.append(i)\n",
        "  else:\n",
        "    odd.append(i)\n",
        "\n",
        "odd"
      ]
    },
    {
      "cell_type": "code",
      "execution_count": null,
      "metadata": {
        "colab": {
          "base_uri": "https://localhost:8080/",
          "height": 106
        },
        "id": "ppcsJvjwseby",
        "outputId": "22ccbef1-58fc-4527-918c-dd2a67f62380"
      },
      "outputs": [
        {
          "ename": "SyntaxError",
          "evalue": "invalid syntax (<ipython-input-113-2151416079>, line 5)",
          "output_type": "error",
          "traceback": [
            "\u001b[0;36m  File \u001b[0;32m\"<ipython-input-113-2151416079>\"\u001b[0;36m, line \u001b[0;32m5\u001b[0m\n\u001b[0;31m    L = [300 for i in L if i==3 else i]\u001b[0m\n\u001b[0m                                ^\u001b[0m\n\u001b[0;31mSyntaxError\u001b[0m\u001b[0;31m:\u001b[0m invalid syntax\n"
          ]
        }
      ],
      "source": [
        "# Write a program to replace an item with a different item if found in the list\n",
        "L = [1,2,3,4,5,3]\n",
        "# replace 3 with 300\n",
        "\n",
        "L = [300 for i in L if i==3 else i]\n",
        "L"
      ]
    },
    {
      "cell_type": "code",
      "execution_count": null,
      "metadata": {
        "colab": {
          "base_uri": "https://localhost:8080/"
        },
        "id": "ldvfCo8pstoF",
        "outputId": "94953c16-4141-4467-b580-e131f1ead165"
      },
      "outputs": [
        {
          "data": {
            "text/plain": [
              "[1, 2, 300, 4, 5, 300]"
            ]
          },
          "execution_count": 115,
          "metadata": {},
          "output_type": "execute_result"
        }
      ],
      "source": [
        "L = [300 if i==3 else i for i in L ]\n",
        "L"
      ]
    },
    {
      "cell_type": "code",
      "execution_count": null,
      "metadata": {
        "colab": {
          "base_uri": "https://localhost:8080/"
        },
        "id": "YyD005AEtqJa",
        "outputId": "38fb4c01-5e36-4c4a-ee86-f79ef7265af0"
      },
      "outputs": [
        {
          "data": {
            "text/plain": [
              "[1, 2, 3]"
            ]
          },
          "execution_count": 123,
          "metadata": {},
          "output_type": "execute_result"
        }
      ],
      "source": [
        "L = [1,2,3]\n",
        "L1 = L.copy()\n",
        "L[0]=33\n",
        "L1"
      ]
    },
    {
      "cell_type": "code",
      "execution_count": null,
      "metadata": {
        "colab": {
          "base_uri": "https://localhost:8080/"
        },
        "id": "VrYOxqHQuYBy",
        "outputId": "3b084bb1-697d-43a4-9b92-64364895b6de"
      },
      "outputs": [
        {
          "data": {
            "text/plain": [
              "[33, 2, 3]"
            ]
          },
          "execution_count": 124,
          "metadata": {},
          "output_type": "execute_result"
        }
      ],
      "source": [
        "L"
      ]
    },
    {
      "cell_type": "code",
      "execution_count": null,
      "metadata": {
        "colab": {
          "base_uri": "https://localhost:8080/"
        },
        "id": "z-ypyzM5ubrZ",
        "outputId": "80056916-ed2f-4b4d-9d1d-e86255849d8a"
      },
      "outputs": [
        {
          "data": {
            "text/plain": [
              "[1, 2, 3]"
            ]
          },
          "execution_count": 125,
          "metadata": {},
          "output_type": "execute_result"
        }
      ],
      "source": [
        "L1"
      ]
    },
    {
      "cell_type": "code",
      "execution_count": null,
      "metadata": {
        "colab": {
          "base_uri": "https://localhost:8080/"
        },
        "id": "NrsNVTjsuhVp",
        "outputId": "10aed728-f69e-41a2-e038-146615bf040a"
      },
      "outputs": [
        {
          "data": {
            "text/plain": [
              "[1, 2, 3, 4]"
            ]
          },
          "execution_count": 121,
          "metadata": {},
          "output_type": "execute_result"
        }
      ],
      "source": [
        "L1"
      ]
    },
    {
      "cell_type": "code",
      "execution_count": null,
      "metadata": {
        "colab": {
          "base_uri": "https://localhost:8080/"
        },
        "id": "0tW_6X30uh1R",
        "outputId": "78cf9d5a-2122-45e7-f38a-fdca780c4141"
      },
      "outputs": [
        {
          "data": {
            "text/plain": [
              "[['M', 'y'], ['na', 'me'], ['i', 's'], ['Kh', 'an']]"
            ]
          },
          "execution_count": 3,
          "metadata": {},
          "output_type": "execute_result"
        }
      ],
      "source": [
        "list1 = [\"M\", \"na\", \"i\", \"Kh\"]\n",
        "list2 = [\"y\", \"me\", \"s\", \"an\"]\n",
        "\n",
        "[[i,j] for i,j in zip(list1,list2)]"
      ]
    },
    {
      "cell_type": "code",
      "execution_count": null,
      "metadata": {
        "colab": {
          "base_uri": "https://localhost:8080/"
        },
        "id": "-KnfXSCEcJ4Q",
        "outputId": "f9474d6f-9c8d-404c-b619-9b3917ae3158"
      },
      "outputs": [
        {
          "data": {
            "text/plain": [
              "[10, 20, [300, 400, [5000, 6000, 7000], 500], 30, 40]"
            ]
          },
          "execution_count": 9,
          "metadata": {},
          "output_type": "execute_result"
        }
      ],
      "source": [
        "list1 = [10, 20, [300, 400, [5000, 6000], 500], 30, 40]\n",
        "\n",
        "list1[2][2].append(7000)\n",
        "list1"
      ]
    },
    {
      "cell_type": "code",
      "execution_count": null,
      "metadata": {
        "colab": {
          "base_uri": "https://localhost:8080/"
        },
        "id": "Uq75ZPfmdDol",
        "outputId": "9c41367e-d7a6-4016-b1b4-088385faecef"
      },
      "outputs": [
        {
          "name": "stdout",
          "output_type": "stream",
          "text": [
            "Jelly Belly - 10\n",
            "Kit Kat - 20\n",
            "Double Bubble - 34\n",
            "Milky Way - 74\n",
            "Three Musketeers - 32\n",
            "Jelly Belly - 10\n",
            "Kit Kat - 20\n",
            "Double Bubble - 34\n",
            "Milky Way - 74\n",
            "Three Musketeers - 32\n"
          ]
        }
      ],
      "source": [
        "candy_list = ['Jelly Belly','Kit Kat','Double Bubble','Milky Way','Three Musketeers']\n",
        "no_of_items = [10,20,34,74,32]\n",
        "\n",
        "L = [print(i,\"-\",j) for i,j in zip(candy_list,no_of_items)]\n",
        "\n",
        "for i in range(5):\n",
        "  print(candy_list[i],'-',no_of_items[i])"
      ]
    },
    {
      "cell_type": "code",
      "execution_count": null,
      "metadata": {
        "colab": {
          "base_uri": "https://localhost:8080/"
        },
        "id": "bbM30JCdeCOt",
        "outputId": "bb58fa68-b90c-4d3e-a3e9-e441fdc44f83"
      },
      "outputs": [
        {
          "data": {
            "text/plain": [
              "[1, 2, 3, 4, 6, 7]"
            ]
          },
          "execution_count": 19,
          "metadata": {},
          "output_type": "execute_result"
        }
      ],
      "source": [
        "list1 = [1,3,4,7,2,6]\n",
        "\n",
        "l=[]\n",
        "l.append(list1[0])\n",
        "result =1\n",
        "for i in range(1,6):\n",
        "  result += list1[i]\n",
        "  l.append(result)\n",
        "\n",
        "list1.sort()\n",
        "list1"
      ]
    },
    {
      "cell_type": "code",
      "execution_count": null,
      "metadata": {
        "colab": {
          "base_uri": "https://localhost:8080/"
        },
        "id": "x8uB0iNDfQT0",
        "outputId": "51ab8e20-8ba0-4ea5-fd76-ea14dfdac372"
      },
      "outputs": [
        {
          "data": {
            "text/plain": [
              "56"
            ]
          },
          "execution_count": 20,
          "metadata": {},
          "output_type": "execute_result"
        }
      ],
      "source": [
        "sum([1,3,6,10,15,21])"
      ]
    },
    {
      "cell_type": "code",
      "execution_count": null,
      "metadata": {
        "colab": {
          "base_uri": "https://localhost:8080/"
        },
        "id": "4TRyd6Vmh1pa",
        "outputId": "cacb00e1-ffd2-4152-fb46-3362dd6c0f5c"
      },
      "outputs": [
        {
          "data": {
            "text/plain": [
              "[22, 20, 16, 10, 1]"
            ]
          },
          "execution_count": 22,
          "metadata": {},
          "output_type": "execute_result"
        }
      ],
      "source": [
        "input_list = [2, 4, 6, 10, 1]\n",
        "\n",
        "[sum([x for x in input_list[i:] if x>=input_list[i]]) for i in range(len(input_list))]"
      ]
    },
    {
      "cell_type": "code",
      "execution_count": null,
      "metadata": {
        "colab": {
          "base_uri": "https://localhost:8080/"
        },
        "id": "hX_iO2eYio-q",
        "outputId": "46ff65ce-85f8-46c7-dd9a-4f482908fa3b"
      },
      "outputs": [
        {
          "name": "stdout",
          "output_type": "stream",
          "text": [
            "[22, 20, 16, 10, 23]\n"
          ]
        }
      ],
      "source": [
        "input_list = [2, 4, 6, 10, 1]\n",
        "\n",
        "result = [sum([x for x in input_list if x >= input_list[i]]) for i in range(len(input_list))]\n",
        "print(result)\n"
      ]
    },
    {
      "cell_type": "code",
      "execution_count": null,
      "metadata": {
        "colab": {
          "base_uri": "https://localhost:8080/"
        },
        "id": "BpWNKeSzjIGx",
        "outputId": "6fae50d4-67ee-40c0-e261-954abf7a72a4"
      },
      "outputs": [
        {
          "data": {
            "text/plain": [
              "[22, 20, 16, 10, 23]"
            ]
          },
          "execution_count": 28,
          "metadata": {},
          "output_type": "execute_result"
        }
      ],
      "source": [
        "[sum([x for x in input_list if x>=input_list[i]]) for i in range(len(input_list))]"
      ]
    },
    {
      "cell_type": "code",
      "execution_count": null,
      "metadata": {
        "colab": {
          "base_uri": "https://localhost:8080/"
        },
        "id": "s75Lok9jlomw",
        "outputId": "8732ffa1-4dd4-4613-ffb6-331dcc8d92d0"
      },
      "outputs": [
        {
          "data": {
            "text/plain": [
              "[34, 67, 89]"
            ]
          },
          "execution_count": 45,
          "metadata": {},
          "output_type": "execute_result"
        }
      ],
      "source": [
        "result = []\n",
        "num1 = [23,45,67,78,89,34]\n",
        "num2 = [34,89,55,56,39,67]\n",
        "\n",
        "for i in num1:\n",
        "  if i in num2:\n",
        "    result.append(i)\n",
        "result.sort()\n",
        "result"
      ]
    },
    {
      "cell_type": "code",
      "execution_count": null,
      "metadata": {
        "colab": {
          "base_uri": "https://localhost:8080/",
          "height": 36
        },
        "id": "UvTJoaGBofOf",
        "outputId": "b77d1887-ddb5-4bae-ce0b-6fd0e919a6e2"
      },
      "outputs": [
        {
          "data": {
            "application/vnd.google.colaboratory.intrinsic+json": {
              "type": "string"
            },
            "text/plain": [
              "'campux is best channel'"
            ]
          },
          "execution_count": 47,
          "metadata": {},
          "output_type": "execute_result"
        }
      ],
      "source": [
        "a= [['c', 'a', 'm', 'p', 'u', 'x'], ['i', 's'], ['b', 'e', 's', 't'], ['c', 'h', 'a', 'n', 'n', 'e', 'l']]\n",
        "\n",
        "\" \".join([ \"\".join(i) for i in a])"
      ]
    },
    {
      "cell_type": "code",
      "execution_count": null,
      "metadata": {
        "colab": {
          "base_uri": "https://localhost:8080/"
        },
        "id": "UhcoK7-oq4ud",
        "outputId": "6f628c4d-b7b5-4a96-85f7-b33c1fe349f7"
      },
      "outputs": [
        {
          "data": {
            "text/plain": [
              "[7, 8, 1, 2, 3, 4, 5]"
            ]
          },
          "execution_count": 51,
          "metadata": {},
          "output_type": "execute_result"
        }
      ],
      "source": [
        "a = list(set([1,2,3,4,5,1]))\n",
        "b = [2,3,5,7,8]\n",
        "[i for i in b if i not in a] + a"
      ]
    },
    {
      "cell_type": "code",
      "execution_count": null,
      "metadata": {
        "colab": {
          "base_uri": "https://localhost:8080/"
        },
        "id": "B2tp8GtwrFVN",
        "outputId": "acf21dab-706f-4142-b673-48be86bcdee0"
      },
      "outputs": [
        {
          "data": {
            "text/plain": [
              "[3, 6, 9]"
            ]
          },
          "execution_count": 52,
          "metadata": {},
          "output_type": "execute_result"
        }
      ],
      "source": [
        "c = [[1,2,3],[4,5,6],[7,8,9]]\n",
        "[max(i) for i in c]"
      ]
    },
    {
      "cell_type": "code",
      "execution_count": null,
      "metadata": {
        "colab": {
          "base_uri": "https://localhost:8080/"
        },
        "id": "EXMsGuiKsD_l",
        "outputId": "3b28a563-571f-4e5f-b8fb-51ee1de68598"
      },
      "outputs": [
        {
          "data": {
            "text/plain": [
              "[None, None, None]"
            ]
          },
          "execution_count": 61,
          "metadata": {},
          "output_type": "execute_result"
        }
      ],
      "source": [
        "a = [[0, 1, 2], [3, 4, 5], [6, 7, 8]]\n",
        "result =[]\n",
        "[result.extend(i) for i in a]"
      ]
    },
    {
      "cell_type": "code",
      "execution_count": null,
      "metadata": {
        "colab": {
          "base_uri": "https://localhost:8080/"
        },
        "id": "mZgADd1NuX8r",
        "outputId": "acf77a1e-e0d0-432e-a72f-3548ca37e19f"
      },
      "outputs": [
        {
          "data": {
            "text/plain": [
              "[0, 1, 2, 3, 4, 5, 6, 7, 8]"
            ]
          },
          "execution_count": 62,
          "metadata": {},
          "output_type": "execute_result"
        }
      ],
      "source": [
        "result"
      ]
    },
    {
      "cell_type": "code",
      "execution_count": null,
      "metadata": {
        "colab": {
          "base_uri": "https://localhost:8080/"
        },
        "id": "qmtK2HvFujUL",
        "outputId": "401f504f-9f9c-4a34-d092-1fc782aa2dc8"
      },
      "outputs": [
        {
          "name": "stdout",
          "output_type": "stream",
          "text": [
            "[0, 1, 2, 3, 4, 5, 6, 7, 8]\n"
          ]
        }
      ],
      "source": [
        "a = [[0, 1, 2], [3, 4, 5], [6, 7, 8]]\n",
        "flattened = [item for sublist in a for item in sublist]\n",
        "print(flattened)"
      ]
    },
    {
      "cell_type": "code",
      "execution_count": null,
      "metadata": {
        "colab": {
          "base_uri": "https://localhost:8080/"
        },
        "id": "uYUyHhNgwAuG",
        "outputId": "71ad3ff6-43df-4ca6-be05-1e4450184850"
      },
      "outputs": [
        {
          "data": {
            "text/plain": [
              "['h', 'a', 'd', 's', 'f', 'h', 'j', 'k']"
            ]
          },
          "execution_count": 64,
          "metadata": {},
          "output_type": "execute_result"
        }
      ],
      "source": [
        "list('hadsfhjk')"
      ]
    },
    {
      "cell_type": "code",
      "execution_count": null,
      "metadata": {
        "id": "rZN4zVOT9Y4H"
      },
      "outputs": [],
      "source": [
        "t1=(5,)"
      ]
    },
    {
      "cell_type": "code",
      "execution_count": null,
      "metadata": {
        "colab": {
          "base_uri": "https://localhost:8080/",
          "height": 141
        },
        "id": "7EudoIPLmGRl",
        "outputId": "418294f1-2f21-4862-fecb-c645f5683ec7"
      },
      "outputs": [
        {
          "ename": "AttributeError",
          "evalue": "'tuple' object has no attribute 'append'",
          "output_type": "error",
          "traceback": [
            "\u001b[0;31m---------------------------------------------------------------------------\u001b[0m",
            "\u001b[0;31mAttributeError\u001b[0m                            Traceback (most recent call last)",
            "\u001b[0;32m<ipython-input-3-1055591270>\u001b[0m in \u001b[0;36m<cell line: 0>\u001b[0;34m()\u001b[0m\n\u001b[0;32m----> 1\u001b[0;31m \u001b[0mt1\u001b[0m\u001b[0;34m.\u001b[0m\u001b[0mappend\u001b[0m\u001b[0;34m(\u001b[0m\u001b[0;36m5\u001b[0m\u001b[0;34m)\u001b[0m\u001b[0;34m\u001b[0m\u001b[0;34m\u001b[0m\u001b[0m\n\u001b[0m",
            "\u001b[0;31mAttributeError\u001b[0m: 'tuple' object has no attribute 'append'"
          ]
        }
      ],
      "source": [
        "t1.append(5)"
      ]
    },
    {
      "cell_type": "code",
      "execution_count": null,
      "metadata": {
        "colab": {
          "base_uri": "https://localhost:8080/"
        },
        "id": "vsAM6ZgimKZP",
        "outputId": "64187cea-1390-44e6-ebb1-4b94d2e2217b"
      },
      "outputs": [
        {
          "data": {
            "text/plain": [
              "[1, 2]"
            ]
          },
          "execution_count": 5,
          "metadata": {},
          "output_type": "execute_result"
        }
      ],
      "source": [
        "a=[1,2]\n",
        "b=a.copy()\n",
        "a.append(3)\n",
        "a.remove(1)\n",
        "b"
      ]
    },
    {
      "cell_type": "code",
      "execution_count": null,
      "metadata": {
        "colab": {
          "base_uri": "https://localhost:8080/"
        },
        "id": "Q7nTllaOpLMe",
        "outputId": "8715fd78-3ddf-4352-db54-3d3cca66b5ab"
      },
      "outputs": [
        {
          "data": {
            "text/plain": [
              "[2, 3]"
            ]
          },
          "execution_count": 6,
          "metadata": {},
          "output_type": "execute_result"
        }
      ],
      "source": [
        "a"
      ]
    },
    {
      "cell_type": "code",
      "execution_count": null,
      "metadata": {
        "colab": {
          "base_uri": "https://localhost:8080/"
        },
        "id": "VF9fVVi5pcnN",
        "outputId": "3d862fb8-464c-47af-bcce-647a0c6644ee"
      },
      "outputs": [
        {
          "data": {
            "text/plain": [
              "5"
            ]
          },
          "execution_count": 7,
          "metadata": {},
          "output_type": "execute_result"
        }
      ],
      "source": [
        "x=10\n",
        "y=5\n",
        "x = x+y\n",
        "y = x-y\n",
        "x =x-y\n",
        "x"
      ]
    },
    {
      "cell_type": "code",
      "execution_count": null,
      "metadata": {
        "colab": {
          "base_uri": "https://localhost:8080/"
        },
        "id": "_clZ_7MrqGmU",
        "outputId": "ae0729c0-6478-4e0a-c5d2-233215eb06de"
      },
      "outputs": [
        {
          "data": {
            "text/plain": [
              "10"
            ]
          },
          "execution_count": 8,
          "metadata": {},
          "output_type": "execute_result"
        }
      ],
      "source": [
        "y"
      ]
    },
    {
      "cell_type": "markdown",
      "metadata": {
        "id": "JxLrJCXzMCdQ"
      },
      "source": [
        "# ***Tuple***"
      ]
    },
    {
      "cell_type": "code",
      "execution_count": null,
      "metadata": {
        "colab": {
          "base_uri": "https://localhost:8080/"
        },
        "id": "gD5VZbRYqHRk",
        "outputId": "8d67ca67-77af-45fd-db13-7a6be8a44590"
      },
      "outputs": [
        {
          "name": "stdout",
          "output_type": "stream",
          "text": [
            "()\n",
            "('hello',)\n",
            "<class 'tuple'>\n",
            "(1, 2, 3, 4)\n",
            "(1, 2.5, True, [1, 2, 3])\n",
            "(1, 2, 3, (4, 5))\n",
            "('h', 'e', 'l', 'l', 'o')\n"
          ]
        }
      ],
      "source": [
        "#creating\n",
        "\n",
        "# empty\n",
        "t1 = ()\n",
        "print(t1)\n",
        "# create a tuple with a single item\n",
        "t2 = ('hello',)\n",
        "print(t2)\n",
        "print(type(t2))\n",
        "# homo\n",
        "t3 = (1,2,3,4)\n",
        "print(t3)\n",
        "# hetro\n",
        "t4 = (1,2.5,True,[1,2,3])\n",
        "print(t4)\n",
        "# tuple\n",
        "t5 = (1,2,3,(4,5))\n",
        "print(t5)\n",
        "# using type conversion\n",
        "t6 = tuple('hello')\n",
        "print(t6)"
      ]
    },
    {
      "cell_type": "markdown",
      "metadata": {
        "id": "HxcPRgbHMN1u"
      },
      "source": [
        "### Accessing Items\n",
        "\n",
        "- Indexing\n",
        "- Slicing"
      ]
    },
    {
      "cell_type": "code",
      "execution_count": null,
      "metadata": {
        "colab": {
          "base_uri": "https://localhost:8080/"
        },
        "id": "CQ7QjIfKMKEv",
        "outputId": "c035a0f6-f0f3-4e0d-beee-9580e687001c"
      },
      "outputs": [
        {
          "name": "stdout",
          "output_type": "stream",
          "text": [
            "(1, 2, 3, 4)\n",
            "1\n",
            "4\n"
          ]
        }
      ],
      "source": [
        "print(t3)\n",
        "print(t3[0])\n",
        "print(t3[-1])"
      ]
    },
    {
      "cell_type": "code",
      "execution_count": null,
      "metadata": {
        "colab": {
          "base_uri": "https://localhost:8080/",
          "height": 211
        },
        "id": "4-2f8gSgMQr3",
        "outputId": "7b1c04f9-e3b2-433b-d7e1-8e5095418352"
      },
      "outputs": [
        {
          "name": "stdout",
          "output_type": "stream",
          "text": [
            "(1, 2, 3, 4)\n"
          ]
        },
        {
          "ename": "TypeError",
          "evalue": "'tuple' object does not support item assignment",
          "output_type": "error",
          "traceback": [
            "\u001b[0;31m---------------------------------------------------------------------------\u001b[0m",
            "\u001b[0;31mTypeError\u001b[0m                                 Traceback (most recent call last)",
            "\u001b[0;32m<ipython-input-4-192000417>\u001b[0m in \u001b[0;36m<cell line: 0>\u001b[0;34m()\u001b[0m\n\u001b[1;32m      2\u001b[0m \u001b[0;34m\u001b[0m\u001b[0m\n\u001b[1;32m      3\u001b[0m \u001b[0mprint\u001b[0m\u001b[0;34m(\u001b[0m\u001b[0mt3\u001b[0m\u001b[0;34m)\u001b[0m\u001b[0;34m\u001b[0m\u001b[0;34m\u001b[0m\u001b[0m\n\u001b[0;32m----> 4\u001b[0;31m \u001b[0mt3\u001b[0m\u001b[0;34m[\u001b[0m\u001b[0;36m0\u001b[0m\u001b[0;34m]\u001b[0m \u001b[0;34m=\u001b[0m \u001b[0;36m100\u001b[0m\u001b[0;34m\u001b[0m\u001b[0;34m\u001b[0m\u001b[0m\n\u001b[0m\u001b[1;32m      5\u001b[0m \u001b[0;31m# immutable just like strings\u001b[0m\u001b[0;34m\u001b[0m\u001b[0;34m\u001b[0m\u001b[0m\n",
            "\u001b[0;31mTypeError\u001b[0m: 'tuple' object does not support item assignment"
          ]
        }
      ],
      "source": [
        "#editing\n",
        "\n",
        "print(t3)\n",
        "t3[0] = 100\n",
        "# immutable just like strings"
      ]
    },
    {
      "cell_type": "code",
      "execution_count": null,
      "metadata": {
        "colab": {
          "base_uri": "https://localhost:8080/"
        },
        "id": "py7hL5spMWUP",
        "outputId": "017875f8-9376-4174-88e5-38c263524035"
      },
      "outputs": [
        {
          "name": "stdout",
          "output_type": "stream",
          "text": [
            "(1, 2, 3, 4)\n"
          ]
        }
      ],
      "source": [
        "print(t3)\n",
        "del t3"
      ]
    },
    {
      "cell_type": "code",
      "execution_count": null,
      "metadata": {
        "colab": {
          "base_uri": "https://localhost:8080/",
          "height": 176
        },
        "id": "TBK-UGXTMZV3",
        "outputId": "e7d9473c-05ea-4a7b-dbfb-392e8926d57d"
      },
      "outputs": [
        {
          "name": "stdout",
          "output_type": "stream",
          "text": [
            "(1, 2, 3, (4, 5))\n"
          ]
        },
        {
          "ename": "TypeError",
          "evalue": "'tuple' object doesn't support item deletion",
          "output_type": "error",
          "traceback": [
            "\u001b[0;31m---------------------------------------------------------------------------\u001b[0m",
            "\u001b[0;31mTypeError\u001b[0m                                 Traceback (most recent call last)",
            "\u001b[0;32m<ipython-input-6-3182731913>\u001b[0m in \u001b[0;36m<cell line: 0>\u001b[0;34m()\u001b[0m\n\u001b[1;32m      1\u001b[0m \u001b[0mprint\u001b[0m\u001b[0;34m(\u001b[0m\u001b[0mt5\u001b[0m\u001b[0;34m)\u001b[0m\u001b[0;34m\u001b[0m\u001b[0;34m\u001b[0m\u001b[0m\n\u001b[0;32m----> 2\u001b[0;31m \u001b[0;32mdel\u001b[0m \u001b[0mt5\u001b[0m\u001b[0;34m[\u001b[0m\u001b[0;34m-\u001b[0m\u001b[0;36m1\u001b[0m\u001b[0;34m]\u001b[0m\u001b[0;34m\u001b[0m\u001b[0;34m\u001b[0m\u001b[0m\n\u001b[0m",
            "\u001b[0;31mTypeError\u001b[0m: 'tuple' object doesn't support item deletion"
          ]
        }
      ],
      "source": [
        "print(t5)\n",
        "del t5[-1]"
      ]
    },
    {
      "cell_type": "code",
      "execution_count": null,
      "metadata": {
        "colab": {
          "base_uri": "https://localhost:8080/"
        },
        "id": "V7ASA47-Mdf-",
        "outputId": "60e1fef3-e2df-41cd-f632-5b8fb698ca18"
      },
      "outputs": [
        {
          "name": "stdout",
          "output_type": "stream",
          "text": [
            "(1, 2, 3, 4, 5, 6, 7, 8)\n",
            "(1, 2, 3, 4, 1, 2, 3, 4, 1, 2, 3, 4)\n",
            "1\n",
            "2\n",
            "3\n",
            "4\n"
          ]
        }
      ],
      "source": [
        "# + and *\n",
        "t1 = (1,2,3,4)\n",
        "t2 = (5,6,7,8)\n",
        "\n",
        "print(t1 + t2)\n",
        "\n",
        "print(t1*3)\n",
        "# membership\n",
        "1 in t1\n",
        "# iteration\n",
        "for i in t1:\n",
        "  print(i)"
      ]
    },
    {
      "cell_type": "code",
      "execution_count": null,
      "metadata": {
        "colab": {
          "base_uri": "https://localhost:8080/"
        },
        "id": "yDWO8zgSMkhm",
        "outputId": "8f0bac06-09e8-4bf8-a573-992879f78779"
      },
      "outputs": [
        {
          "data": {
            "text/plain": [
              "[4, 3, 2, 1]"
            ]
          },
          "execution_count": 8,
          "metadata": {},
          "output_type": "execute_result"
        }
      ],
      "source": [
        "# len/sum/min/max/sorted\n",
        "t = (1,2,3,4)\n",
        "len(t)\n",
        "\n",
        "sum(t)\n",
        "\n",
        "min(t)\n",
        "\n",
        "max(t)\n",
        "\n",
        "sorted(t,reverse=True)"
      ]
    },
    {
      "cell_type": "code",
      "execution_count": null,
      "metadata": {
        "colab": {
          "base_uri": "https://localhost:8080/"
        },
        "id": "n15-EUKFMoff",
        "outputId": "1a77c2a4-7d1e-4e99-e064-64dd6265a79c"
      },
      "outputs": [
        {
          "data": {
            "text/plain": [
              "0"
            ]
          },
          "execution_count": 9,
          "metadata": {},
          "output_type": "execute_result"
        }
      ],
      "source": [
        "# count\n",
        "\n",
        "t = (1,2,3,4,5)\n",
        "\n",
        "t.count(50)"
      ]
    },
    {
      "cell_type": "code",
      "execution_count": null,
      "metadata": {
        "colab": {
          "base_uri": "https://localhost:8080/"
        },
        "id": "631ykE-WMs3X",
        "outputId": "9c989a51-7f04-4648-8a1e-ca84a5c6a06c"
      },
      "outputs": [
        {
          "data": {
            "text/plain": [
              "4"
            ]
          },
          "execution_count": 10,
          "metadata": {},
          "output_type": "execute_result"
        }
      ],
      "source": [
        "# index\n",
        "t.index(5)"
      ]
    },
    {
      "cell_type": "markdown",
      "metadata": {
        "id": "SPkULSkKMy6k"
      },
      "source": [
        "### Difference between Lists and Tuples\n",
        "\n",
        "- Syntax\n",
        "- Mutability\n",
        "- Speed\n",
        "- Memory\n",
        "- Built in functionality\n",
        "- Error prone\n",
        "- Usability"
      ]
    },
    {
      "cell_type": "code",
      "execution_count": null,
      "metadata": {
        "colab": {
          "base_uri": "https://localhost:8080/"
        },
        "id": "Eg_UE5mBMvS-",
        "outputId": "8257fd1d-850b-4ffa-ef0d-03e95b870623"
      },
      "outputs": [
        {
          "name": "stdout",
          "output_type": "stream",
          "text": [
            "List time 9.4388267993927\n",
            "Tuple time 8.271653413772583\n"
          ]
        }
      ],
      "source": [
        "import time\n",
        "\n",
        "L = list(range(100000000))\n",
        "T = tuple(range(100000000))\n",
        "\n",
        "start = time.time()\n",
        "for i in L:\n",
        "  i*5\n",
        "print('List time',time.time()-start)\n",
        "\n",
        "start = time.time()\n",
        "for i in T:\n",
        "  i*5\n",
        "print('Tuple time',time.time()-start)"
      ]
    },
    {
      "cell_type": "code",
      "execution_count": null,
      "metadata": {
        "colab": {
          "base_uri": "https://localhost:8080/"
        },
        "id": "BqgZv08BM2mf",
        "outputId": "f16167b2-94e9-4e9b-cd52-a462563b8796"
      },
      "outputs": [
        {
          "name": "stdout",
          "output_type": "stream",
          "text": [
            "List size 8056\n",
            "Tuple size 8040\n"
          ]
        }
      ],
      "source": [
        "import sys\n",
        "\n",
        "L = list(range(1000))\n",
        "T = tuple(range(1000))\n",
        "\n",
        "print('List size',sys.getsizeof(L))\n",
        "print('Tuple size',sys.getsizeof(T))\n"
      ]
    },
    {
      "cell_type": "code",
      "execution_count": null,
      "metadata": {
        "colab": {
          "base_uri": "https://localhost:8080/"
        },
        "id": "KFSabdNAM5a2",
        "outputId": "5d21526c-6899-4fc2-fe25-2e8709442de4"
      },
      "outputs": [
        {
          "name": "stdout",
          "output_type": "stream",
          "text": [
            "[1, 2, 3, 4]\n",
            "[1, 2, 3, 4]\n"
          ]
        }
      ],
      "source": [
        "a = [1,2,3]\n",
        "b = a\n",
        "\n",
        "a.append(4)\n",
        "print(a)\n",
        "print(b)"
      ]
    },
    {
      "cell_type": "code",
      "execution_count": null,
      "metadata": {
        "colab": {
          "base_uri": "https://localhost:8080/"
        },
        "id": "QI9b4c_FM9cG",
        "outputId": "1a688287-e44c-4025-86e8-0406ce61553d"
      },
      "outputs": [
        {
          "name": "stdout",
          "output_type": "stream",
          "text": [
            "(1, 2, 3, 4)\n",
            "(1, 2, 3)\n"
          ]
        }
      ],
      "source": [
        "a = (1,2,3)\n",
        "b = a\n",
        "\n",
        "a = a + (4,)\n",
        "print(a)\n",
        "print(b)"
      ]
    },
    {
      "cell_type": "markdown",
      "metadata": {
        "id": "pWPT9R3vNDet"
      },
      "source": [
        "### Special Syntax\n",
        "\n"
      ]
    },
    {
      "cell_type": "code",
      "execution_count": null,
      "metadata": {
        "id": "a4rqromGM_b2"
      },
      "outputs": [],
      "source": [
        "a,b,c = (1,2,3)"
      ]
    },
    {
      "cell_type": "code",
      "execution_count": null,
      "metadata": {
        "colab": {
          "base_uri": "https://localhost:8080/"
        },
        "id": "UrT83sxTNGme",
        "outputId": "17c902d6-4078-40b2-ae7a-2f551f4189e1"
      },
      "outputs": [
        {
          "data": {
            "text/plain": [
              "[3, 4, 5]"
            ]
          },
          "execution_count": 17,
          "metadata": {},
          "output_type": "execute_result"
        }
      ],
      "source": [
        "a,b,*other = (1,2,3,4,5)\n",
        "other"
      ]
    },
    {
      "cell_type": "code",
      "execution_count": null,
      "metadata": {
        "colab": {
          "base_uri": "https://localhost:8080/"
        },
        "id": "aaQz-khwNLyW",
        "outputId": "6a64d6a6-f50d-4be4-d519-a2fe72e94b85"
      },
      "outputs": [
        {
          "name": "stdout",
          "output_type": "stream",
          "text": [
            "2 1\n"
          ]
        }
      ],
      "source": [
        "a = 1\n",
        "b = 2\n",
        "a,b = b,a\n",
        "\n",
        "print(a,b)"
      ]
    },
    {
      "cell_type": "code",
      "execution_count": null,
      "metadata": {
        "colab": {
          "base_uri": "https://localhost:8080/"
        },
        "id": "xjGZ5elmNRgi",
        "outputId": "337ec8b2-cdbd-4b14-9e18-0205d5891250"
      },
      "outputs": [
        {
          "data": {
            "text/plain": [
              "((1, 5), (2, 6), (3, 7), (4, 8))"
            ]
          },
          "execution_count": 19,
          "metadata": {},
          "output_type": "execute_result"
        }
      ],
      "source": [
        "# zipping tuples\n",
        "a = (1,2,3,4)\n",
        "b = (5,6,7,8)\n",
        "\n",
        "tuple(zip(a,b))"
      ]
    },
    {
      "cell_type": "code",
      "execution_count": null,
      "metadata": {
        "colab": {
          "base_uri": "https://localhost:8080/"
        },
        "id": "S2Lsi2w1NXGu",
        "outputId": "27de96e3-fd09-4a5a-df56-168e1582159d"
      },
      "outputs": [
        {
          "data": {
            "text/plain": [
              "<zip at 0x78f7c81f9340>"
            ]
          },
          "execution_count": 20,
          "metadata": {},
          "output_type": "execute_result"
        }
      ],
      "source": [
        "zip(a,b)"
      ]
    },
    {
      "cell_type": "markdown",
      "metadata": {
        "id": "XY4DDyfONmRH"
      },
      "source": [
        "# Sets\n"
      ]
    },
    {
      "cell_type": "code",
      "execution_count": null,
      "metadata": {
        "colab": {
          "base_uri": "https://localhost:8080/"
        },
        "id": "jUQBXlT6NaD4",
        "outputId": "5d2b9112-d001-45db-8ed4-56b5a00772eb"
      },
      "outputs": [
        {
          "data": {
            "text/plain": [
              "dict"
            ]
          },
          "execution_count": 22,
          "metadata": {},
          "output_type": "execute_result"
        }
      ],
      "source": [
        "s = {}\n",
        "type(s)"
      ]
    },
    {
      "cell_type": "code",
      "execution_count": null,
      "metadata": {
        "id": "Onxtx2PlNvc-"
      },
      "outputs": [],
      "source": [
        "s = set()"
      ]
    },
    {
      "cell_type": "code",
      "execution_count": null,
      "metadata": {
        "colab": {
          "base_uri": "https://localhost:8080/"
        },
        "id": "ms_zkcOkSHkM",
        "outputId": "ddf93a39-9ded-47f9-d249-4d8a38510607"
      },
      "outputs": [
        {
          "data": {
            "text/plain": [
              "set"
            ]
          },
          "execution_count": 26,
          "metadata": {},
          "output_type": "execute_result"
        }
      ],
      "source": [
        "# 1D and 2D\n",
        "s1 = {1,2,3}\n",
        "type(s1)"
      ]
    },
    {
      "cell_type": "code",
      "execution_count": null,
      "metadata": {
        "colab": {
          "base_uri": "https://localhost:8080/",
          "height": 141
        },
        "id": "vFSzH0dXSW5T",
        "outputId": "4a4ed5e9-e5b4-44d3-acc4-8b0bc094fd0c"
      },
      "outputs": [
        {
          "ename": "TypeError",
          "evalue": "unhashable type: 'set'",
          "output_type": "error",
          "traceback": [
            "\u001b[0;31m---------------------------------------------------------------------------\u001b[0m",
            "\u001b[0;31mTypeError\u001b[0m                                 Traceback (most recent call last)",
            "\u001b[0;32m<ipython-input-27-3089208233>\u001b[0m in \u001b[0;36m<cell line: 0>\u001b[0;34m()\u001b[0m\n\u001b[0;32m----> 1\u001b[0;31m \u001b[0ms1\u001b[0m \u001b[0;34m=\u001b[0m \u001b[0;34m{\u001b[0m\u001b[0;36m1\u001b[0m\u001b[0;34m,\u001b[0m\u001b[0;36m2\u001b[0m\u001b[0;34m,\u001b[0m\u001b[0;36m3\u001b[0m\u001b[0;34m,\u001b[0m\u001b[0;34m{\u001b[0m\u001b[0;36m4\u001b[0m\u001b[0;34m,\u001b[0m\u001b[0;36m5\u001b[0m\u001b[0;34m}\u001b[0m\u001b[0;34m}\u001b[0m\u001b[0;34m\u001b[0m\u001b[0;34m\u001b[0m\u001b[0m\n\u001b[0m",
            "\u001b[0;31mTypeError\u001b[0m: unhashable type: 'set'"
          ]
        }
      ],
      "source": [
        "s1 = {1,2,3,{4,5}}"
      ]
    },
    {
      "cell_type": "code",
      "execution_count": null,
      "metadata": {
        "id": "IpKNWLKaSmVk"
      },
      "outputs": [],
      "source": [
        "s1 = {1,2,True,(1,2)}"
      ]
    },
    {
      "cell_type": "code",
      "execution_count": null,
      "metadata": {
        "colab": {
          "base_uri": "https://localhost:8080/"
        },
        "id": "6pEFvrIRStAD",
        "outputId": "af1f84c8-e038-429d-a282-d367cc91b7eb"
      },
      "outputs": [
        {
          "name": "stdout",
          "output_type": "stream",
          "text": [
            "{1, 2, 3, 4}\n"
          ]
        }
      ],
      "source": [
        "s4 = set([1,4,3,2]) #hashing for order\n",
        "print(s4)"
      ]
    },
    {
      "cell_type": "code",
      "execution_count": null,
      "metadata": {
        "colab": {
          "base_uri": "https://localhost:8080/",
          "height": 141
        },
        "id": "vNHpyUt8TI5L",
        "outputId": "c0ec0ad5-092d-46a6-ae01-783339b15d89"
      },
      "outputs": [
        {
          "ename": "TypeError",
          "evalue": "unhashable type: 'list'",
          "output_type": "error",
          "traceback": [
            "\u001b[0;31m---------------------------------------------------------------------------\u001b[0m",
            "\u001b[0;31mTypeError\u001b[0m                                 Traceback (most recent call last)",
            "\u001b[0;32m<ipython-input-31-3322550313>\u001b[0m in \u001b[0;36m<cell line: 0>\u001b[0;34m()\u001b[0m\n\u001b[0;32m----> 1\u001b[0;31m \u001b[0ms1\u001b[0m \u001b[0;34m=\u001b[0m \u001b[0;34m{\u001b[0m\u001b[0;36m1\u001b[0m\u001b[0;34m,\u001b[0m\u001b[0;36m2\u001b[0m\u001b[0;34m,\u001b[0m\u001b[0;36m3\u001b[0m\u001b[0;34m,\u001b[0m\u001b[0;34m[\u001b[0m\u001b[0;36m4\u001b[0m\u001b[0;34m,\u001b[0m\u001b[0;36m5\u001b[0m\u001b[0;34m]\u001b[0m\u001b[0;34m}\u001b[0m\u001b[0;34m\u001b[0m\u001b[0;34m\u001b[0m\u001b[0m\n\u001b[0m",
            "\u001b[0;31mTypeError\u001b[0m: unhashable type: 'list'"
          ]
        }
      ],
      "source": [
        "s1 = {1,2,3,[4,5]}"
      ]
    },
    {
      "cell_type": "code",
      "execution_count": null,
      "metadata": {
        "colab": {
          "base_uri": "https://localhost:8080/"
        },
        "id": "Sj6xCNacTNPT",
        "outputId": "f43f4353-9a43-471e-ecd4-cc51a92cd19d"
      },
      "outputs": [
        {
          "name": "stdout",
          "output_type": "stream",
          "text": [
            "{1, 2, 3}\n",
            "{1, 2, 3}\n"
          ]
        }
      ],
      "source": [
        "s4 = set([1,2,3])\n",
        "print(s4)\n",
        "# duplicates not allowed\n",
        "s5 = {1,1,2,2,3,3}\n",
        "print(s5)"
      ]
    },
    {
      "cell_type": "code",
      "execution_count": null,
      "metadata": {
        "colab": {
          "base_uri": "https://localhost:8080/"
        },
        "id": "P3h8CQi_Tasj",
        "outputId": "7620bf38-ec5a-4ae6-b609-3f826f0d8d5a"
      },
      "outputs": [
        {
          "name": "stdout",
          "output_type": "stream",
          "text": [
            "True\n"
          ]
        }
      ],
      "source": [
        "s1 = {1,2,3}\n",
        "s2 = {3,2,1}\n",
        "\n",
        "print(s1 == s2)"
      ]
    },
    {
      "cell_type": "markdown",
      "metadata": {
        "id": "WPNJ9__8TmLL"
      },
      "source": [
        "### Accessing Items"
      ]
    },
    {
      "cell_type": "code",
      "execution_count": null,
      "metadata": {
        "colab": {
          "base_uri": "https://localhost:8080/",
          "height": 158
        },
        "id": "8RKsDN95TfP6",
        "outputId": "96d65d13-9862-4776-d666-893950ca8420"
      },
      "outputs": [
        {
          "ename": "TypeError",
          "evalue": "'set' object is not subscriptable",
          "output_type": "error",
          "traceback": [
            "\u001b[0;31m---------------------------------------------------------------------------\u001b[0m",
            "\u001b[0;31mTypeError\u001b[0m                                 Traceback (most recent call last)",
            "\u001b[0;32m<ipython-input-36-1772707306>\u001b[0m in \u001b[0;36m<cell line: 0>\u001b[0;34m()\u001b[0m\n\u001b[1;32m      1\u001b[0m \u001b[0ms1\u001b[0m \u001b[0;34m=\u001b[0m \u001b[0;34m{\u001b[0m\u001b[0;36m1\u001b[0m\u001b[0;34m,\u001b[0m\u001b[0;36m2\u001b[0m\u001b[0;34m,\u001b[0m\u001b[0;36m3\u001b[0m\u001b[0;34m,\u001b[0m\u001b[0;36m4\u001b[0m\u001b[0;34m}\u001b[0m\u001b[0;34m\u001b[0m\u001b[0;34m\u001b[0m\u001b[0m\n\u001b[0;32m----> 2\u001b[0;31m \u001b[0ms1\u001b[0m\u001b[0;34m[\u001b[0m\u001b[0;36m0\u001b[0m\u001b[0;34m:\u001b[0m\u001b[0;36m3\u001b[0m\u001b[0;34m]\u001b[0m\u001b[0;34m\u001b[0m\u001b[0;34m\u001b[0m\u001b[0m\n\u001b[0m",
            "\u001b[0;31mTypeError\u001b[0m: 'set' object is not subscriptable"
          ]
        }
      ],
      "source": [
        "s1 = {1,2,3,4}\n",
        "s1[0:3]"
      ]
    },
    {
      "cell_type": "markdown",
      "metadata": {
        "id": "o3SLngDyTtXb"
      },
      "source": [
        "### Editing Items"
      ]
    },
    {
      "cell_type": "code",
      "execution_count": null,
      "metadata": {
        "colab": {
          "base_uri": "https://localhost:8080/",
          "height": 158
        },
        "id": "lou-udwuTpET",
        "outputId": "62864625-0d8d-4840-8aec-4418e2f2960c"
      },
      "outputs": [
        {
          "ename": "TypeError",
          "evalue": "'set' object does not support item assignment",
          "output_type": "error",
          "traceback": [
            "\u001b[0;31m---------------------------------------------------------------------------\u001b[0m",
            "\u001b[0;31mTypeError\u001b[0m                                 Traceback (most recent call last)",
            "\u001b[0;32m<ipython-input-37-1929688710>\u001b[0m in \u001b[0;36m<cell line: 0>\u001b[0;34m()\u001b[0m\n\u001b[1;32m      1\u001b[0m \u001b[0ms1\u001b[0m \u001b[0;34m=\u001b[0m \u001b[0;34m{\u001b[0m\u001b[0;36m1\u001b[0m\u001b[0;34m,\u001b[0m\u001b[0;36m2\u001b[0m\u001b[0;34m,\u001b[0m\u001b[0;36m3\u001b[0m\u001b[0;34m,\u001b[0m\u001b[0;36m4\u001b[0m\u001b[0;34m}\u001b[0m\u001b[0;34m\u001b[0m\u001b[0;34m\u001b[0m\u001b[0m\n\u001b[0;32m----> 2\u001b[0;31m \u001b[0ms1\u001b[0m\u001b[0;34m[\u001b[0m\u001b[0;36m0\u001b[0m\u001b[0;34m]\u001b[0m \u001b[0;34m=\u001b[0m \u001b[0;36m100\u001b[0m\u001b[0;34m\u001b[0m\u001b[0;34m\u001b[0m\u001b[0m\n\u001b[0m",
            "\u001b[0;31mTypeError\u001b[0m: 'set' object does not support item assignment"
          ]
        }
      ],
      "source": [
        "s1 = {1,2,3,4}\n",
        "s1[0] = 100"
      ]
    },
    {
      "cell_type": "markdown",
      "metadata": {
        "id": "2TRbYzENUKpL"
      },
      "source": [
        "### Adding Items"
      ]
    },
    {
      "cell_type": "code",
      "execution_count": null,
      "metadata": {
        "id": "i1H4kGb5TvFL"
      },
      "outputs": [],
      "source": [
        "s1.add(5) # add single item"
      ]
    },
    {
      "cell_type": "code",
      "execution_count": null,
      "metadata": {
        "colab": {
          "base_uri": "https://localhost:8080/"
        },
        "id": "2qs-p-i7UN9D",
        "outputId": "46e40049-49f4-431a-9790-6286d935de27"
      },
      "outputs": [
        {
          "data": {
            "text/plain": [
              "{2, 3, 4, 5}"
            ]
          },
          "execution_count": 42,
          "metadata": {},
          "output_type": "execute_result"
        }
      ],
      "source": [
        "s1"
      ]
    },
    {
      "cell_type": "code",
      "execution_count": null,
      "metadata": {
        "colab": {
          "base_uri": "https://localhost:8080/"
        },
        "id": "Qu18l04eUnVL",
        "outputId": "c36125b3-7749-4416-c8da-42f991973620"
      },
      "outputs": [
        {
          "data": {
            "text/plain": [
              "{1, 2, 3, 4, 5, 6, 7}"
            ]
          },
          "execution_count": 44,
          "metadata": {},
          "output_type": "execute_result"
        }
      ],
      "source": [
        "s1.update([6,7,1]) # add multiple item\n",
        "s1"
      ]
    },
    {
      "cell_type": "code",
      "execution_count": null,
      "metadata": {
        "colab": {
          "base_uri": "https://localhost:8080/"
        },
        "id": "i5QBaZHnUOfL",
        "outputId": "499289da-ab04-40a8-9969-8609fe39cdec"
      },
      "outputs": [
        {
          "data": {
            "text/plain": [
              "{2, 3, 4, 5, 6, 7}"
            ]
          },
          "execution_count": 45,
          "metadata": {},
          "output_type": "execute_result"
        }
      ],
      "source": []
    },
    {
      "cell_type": "markdown",
      "metadata": {
        "id": "LLQUOWbBUzK0"
      },
      "source": [
        "### Deleting Items"
      ]
    },
    {
      "cell_type": "code",
      "execution_count": null,
      "metadata": {
        "colab": {
          "base_uri": "https://localhost:8080/",
          "height": 193
        },
        "id": "bxjVfFI9UUQa",
        "outputId": "9c3a6e80-bc93-4dbe-9832-495da81e4d0b"
      },
      "outputs": [
        {
          "name": "stdout",
          "output_type": "stream",
          "text": [
            "{1, 2, 3, 4, 5}\n"
          ]
        },
        {
          "ename": "TypeError",
          "evalue": "'set' object doesn't support item deletion",
          "output_type": "error",
          "traceback": [
            "\u001b[0;31m---------------------------------------------------------------------------\u001b[0m",
            "\u001b[0;31mTypeError\u001b[0m                                 Traceback (most recent call last)",
            "\u001b[0;32m<ipython-input-48-4241266410>\u001b[0m in \u001b[0;36m<cell line: 0>\u001b[0;34m()\u001b[0m\n\u001b[1;32m      2\u001b[0m \u001b[0ms\u001b[0m \u001b[0;34m=\u001b[0m \u001b[0;34m{\u001b[0m\u001b[0;36m1\u001b[0m\u001b[0;34m,\u001b[0m\u001b[0;36m2\u001b[0m\u001b[0;34m,\u001b[0m\u001b[0;36m3\u001b[0m\u001b[0;34m,\u001b[0m\u001b[0;36m4\u001b[0m\u001b[0;34m,\u001b[0m\u001b[0;36m5\u001b[0m\u001b[0;34m}\u001b[0m\u001b[0;34m\u001b[0m\u001b[0;34m\u001b[0m\u001b[0m\n\u001b[1;32m      3\u001b[0m \u001b[0mprint\u001b[0m\u001b[0;34m(\u001b[0m\u001b[0ms\u001b[0m\u001b[0;34m)\u001b[0m\u001b[0;34m\u001b[0m\u001b[0;34m\u001b[0m\u001b[0m\n\u001b[0;32m----> 4\u001b[0;31m \u001b[0;32mdel\u001b[0m \u001b[0ms\u001b[0m\u001b[0;34m[\u001b[0m\u001b[0;36m0\u001b[0m\u001b[0;34m]\u001b[0m\u001b[0;34m\u001b[0m\u001b[0;34m\u001b[0m\u001b[0m\n\u001b[0m",
            "\u001b[0;31mTypeError\u001b[0m: 'set' object doesn't support item deletion"
          ]
        }
      ],
      "source": [
        "# del\n",
        "s = {1,2,3,4,5}\n",
        "print(s)\n",
        "del s[0]"
      ]
    },
    {
      "cell_type": "code",
      "execution_count": null,
      "metadata": {
        "colab": {
          "base_uri": "https://localhost:8080/"
        },
        "id": "SGR3urZzbNif",
        "outputId": "1a1a1029-3556-4a41-f0ec-c29f981e3a16"
      },
      "outputs": [
        {
          "name": "stdout",
          "output_type": "stream",
          "text": [
            "{4, 5}\n"
          ]
        }
      ],
      "source": [
        "\n",
        "s.discard(50)\n",
        "print(s)"
      ]
    },
    {
      "cell_type": "code",
      "execution_count": null,
      "metadata": {
        "colab": {
          "base_uri": "https://localhost:8080/",
          "height": 158
        },
        "id": "nkl9DbqqVNTS",
        "outputId": "2514139c-0ab6-4a57-cb4a-586eab3cde83"
      },
      "outputs": [
        {
          "ename": "KeyError",
          "evalue": "10",
          "output_type": "error",
          "traceback": [
            "\u001b[0;31m---------------------------------------------------------------------------\u001b[0m",
            "\u001b[0;31mKeyError\u001b[0m                                  Traceback (most recent call last)",
            "\u001b[0;32m<ipython-input-54-2282197034>\u001b[0m in \u001b[0;36m<cell line: 0>\u001b[0;34m()\u001b[0m\n\u001b[0;32m----> 1\u001b[0;31m \u001b[0ms\u001b[0m\u001b[0;34m.\u001b[0m\u001b[0mremove\u001b[0m\u001b[0;34m(\u001b[0m\u001b[0;36m10\u001b[0m\u001b[0;34m)\u001b[0m\u001b[0;34m\u001b[0m\u001b[0;34m\u001b[0m\u001b[0m\n\u001b[0m\u001b[1;32m      2\u001b[0m \u001b[0ms\u001b[0m\u001b[0;34m\u001b[0m\u001b[0;34m\u001b[0m\u001b[0m\n",
            "\u001b[0;31mKeyError\u001b[0m: 10"
          ]
        }
      ],
      "source": [
        "s.remove(10)\n",
        "s"
      ]
    },
    {
      "cell_type": "code",
      "execution_count": null,
      "metadata": {
        "colab": {
          "base_uri": "https://localhost:8080/"
        },
        "id": "TlBRMqYGVOQq",
        "outputId": "2e318fa7-b791-42c0-ed0a-4d74b7952773"
      },
      "outputs": [
        {
          "data": {
            "text/plain": [
              "2"
            ]
          },
          "execution_count": 51,
          "metadata": {},
          "output_type": "execute_result"
        }
      ],
      "source": [
        "s.pop()"
      ]
    },
    {
      "cell_type": "code",
      "execution_count": null,
      "metadata": {
        "colab": {
          "base_uri": "https://localhost:8080/"
        },
        "id": "benEr5rKVXpi",
        "outputId": "90065840-7111-4244-cf8c-0309d476f958"
      },
      "outputs": [
        {
          "data": {
            "text/plain": [
              "3"
            ]
          },
          "execution_count": 52,
          "metadata": {},
          "output_type": "execute_result"
        }
      ],
      "source": [
        "s.pop()"
      ]
    },
    {
      "cell_type": "code",
      "execution_count": null,
      "metadata": {
        "colab": {
          "base_uri": "https://localhost:8080/"
        },
        "id": "gFTbGg6EVa6q",
        "outputId": "b85653d1-aeed-442a-ff9b-03649ccc1651"
      },
      "outputs": [
        {
          "data": {
            "text/plain": [
              "{4, 5}"
            ]
          },
          "execution_count": 53,
          "metadata": {},
          "output_type": "execute_result"
        }
      ],
      "source": [
        "s"
      ]
    },
    {
      "cell_type": "code",
      "execution_count": null,
      "metadata": {
        "colab": {
          "base_uri": "https://localhost:8080/"
        },
        "id": "U2V2bG1EVbw5",
        "outputId": "31452748-aa57-4ce0-e7aa-6189697ef48b"
      },
      "outputs": [
        {
          "name": "stdout",
          "output_type": "stream",
          "text": [
            "set()\n"
          ]
        }
      ],
      "source": [
        "# clear\n",
        "s.clear()\n",
        "print(s)"
      ]
    },
    {
      "cell_type": "markdown",
      "metadata": {
        "id": "hu8hVu44eb4e"
      },
      "source": [
        "# **Set operation**"
      ]
    },
    {
      "cell_type": "code",
      "execution_count": null,
      "metadata": {
        "colab": {
          "base_uri": "https://localhost:8080/"
        },
        "id": "0teABhsDbhg2",
        "outputId": "3aefee83-3cbb-4dd5-b717-2ec15f3e1690"
      },
      "outputs": [
        {
          "data": {
            "text/plain": [
              "{1, 2, 3, 4, 5, 6, 7, 8}"
            ]
          },
          "execution_count": 67,
          "metadata": {},
          "output_type": "execute_result"
        }
      ],
      "source": [
        "s1 = {1,2,3,4,5}\n",
        "s2 = {4,5,6,7,8}\n",
        "\n",
        "s1|s2 # Union(|)"
      ]
    },
    {
      "cell_type": "code",
      "execution_count": null,
      "metadata": {
        "colab": {
          "base_uri": "https://localhost:8080/"
        },
        "id": "MEKoRUBfeg9F",
        "outputId": "0ba3d8ac-c289-43c3-da84-c7fd9d0e4930"
      },
      "outputs": [
        {
          "data": {
            "text/plain": [
              "{4, 5}"
            ]
          },
          "execution_count": 61,
          "metadata": {},
          "output_type": "execute_result"
        }
      ],
      "source": [
        "s1 & s2\n",
        "# Intersection(&)"
      ]
    },
    {
      "cell_type": "code",
      "execution_count": null,
      "metadata": {
        "colab": {
          "base_uri": "https://localhost:8080/"
        },
        "id": "VbVLSae-eifF",
        "outputId": "75edb7c7-4cff-45af-e79a-7e9764572673"
      },
      "outputs": [
        {
          "data": {
            "text/plain": [
              "{1, 2, 3}"
            ]
          },
          "execution_count": 62,
          "metadata": {},
          "output_type": "execute_result"
        }
      ],
      "source": [
        "s1 - s2"
      ]
    },
    {
      "cell_type": "code",
      "execution_count": null,
      "metadata": {
        "colab": {
          "base_uri": "https://localhost:8080/"
        },
        "id": "Qi0kXvDeekX9",
        "outputId": "4261c79c-a1d0-45cd-92af-e3ea81da2bae"
      },
      "outputs": [
        {
          "data": {
            "text/plain": [
              "{6, 7, 8}"
            ]
          },
          "execution_count": 63,
          "metadata": {},
          "output_type": "execute_result"
        }
      ],
      "source": [
        "s2 - s1 # Difference(-)"
      ]
    },
    {
      "cell_type": "code",
      "execution_count": null,
      "metadata": {
        "colab": {
          "base_uri": "https://localhost:8080/"
        },
        "id": "iv1JMRndelsN",
        "outputId": "757ec1aa-0793-4760-c84b-7996317d3e7c"
      },
      "outputs": [
        {
          "data": {
            "text/plain": [
              "{1, 2, 3, 6, 7, 8}"
            ]
          },
          "execution_count": 64,
          "metadata": {},
          "output_type": "execute_result"
        }
      ],
      "source": [
        "s1^s2 # Symmetric Difference(^)"
      ]
    },
    {
      "cell_type": "code",
      "execution_count": null,
      "metadata": {
        "colab": {
          "base_uri": "https://localhost:8080/"
        },
        "id": "KGpxy76venTl",
        "outputId": "c434b686-4524-4217-d55c-ea529f8b4d01"
      },
      "outputs": [
        {
          "name": "stdout",
          "output_type": "stream",
          "text": [
            "False\n",
            "1\n",
            "2\n",
            "3\n",
            "4\n",
            "5\n"
          ]
        }
      ],
      "source": [
        "# Membership Test\n",
        "print(1 not in s1)\n",
        "# Iteration\n",
        "for i in s1:\n",
        "  print(i)"
      ]
    },
    {
      "cell_type": "markdown",
      "metadata": {
        "id": "cKRR4PoNe-_9"
      },
      "source": [
        "### Set Functions"
      ]
    },
    {
      "cell_type": "code",
      "execution_count": null,
      "metadata": {
        "colab": {
          "base_uri": "https://localhost:8080/"
        },
        "id": "NieWjmtMe2b1",
        "outputId": "0bde17c2-8e5d-4774-b35c-05da8cb3061f"
      },
      "outputs": [
        {
          "data": {
            "text/plain": [
              "[1, 2, 3, 4, 5, 7]"
            ]
          },
          "execution_count": 72,
          "metadata": {},
          "output_type": "execute_result"
        }
      ],
      "source": [
        "# len/sum/min/max/sorted\n",
        "s = {3,1,4,5,2,7}\n",
        "len(s)\n",
        "sum(s)\n",
        "min(s)\n",
        "max(s)\n",
        "sorted(s)"
      ]
    },
    {
      "cell_type": "code",
      "execution_count": null,
      "metadata": {
        "colab": {
          "base_uri": "https://localhost:8080/"
        },
        "id": "d9fKseN7fA-t",
        "outputId": "73a69b68-b22f-4304-8e15-75485cda7722"
      },
      "outputs": [
        {
          "data": {
            "text/plain": [
              "{1, 2, 3, 4, 5, 6, 7, 8, 32, 45, 66}"
            ]
          },
          "execution_count": 77,
          "metadata": {},
          "output_type": "execute_result"
        }
      ],
      "source": [
        "# union/update\n",
        "s1 = {1,2,3,4,5}\n",
        "s2 = {4,5,6,7,8}\n",
        "s3 = {32,45,66}\n",
        "\n",
        "s1.union(s2,s3)"
      ]
    },
    {
      "cell_type": "code",
      "execution_count": null,
      "metadata": {
        "colab": {
          "base_uri": "https://localhost:8080/"
        },
        "id": "-u_PSR8nfKbl",
        "outputId": "70d90115-14a2-4f27-882b-036bfd1e6ca3"
      },
      "outputs": [
        {
          "data": {
            "text/plain": [
              "{1, 2, 3, 4, 5}"
            ]
          },
          "execution_count": 78,
          "metadata": {},
          "output_type": "execute_result"
        }
      ],
      "source": [
        "s1\n"
      ]
    },
    {
      "cell_type": "code",
      "execution_count": null,
      "metadata": {
        "colab": {
          "base_uri": "https://localhost:8080/"
        },
        "id": "y7MZLcR0gNgM",
        "outputId": "f13146f0-41d1-41e5-f564-09714174b2f2"
      },
      "outputs": [
        {
          "name": "stdout",
          "output_type": "stream",
          "text": [
            "{1, 2, 3, 4, 5, 6, 7, 8}\n"
          ]
        }
      ],
      "source": [
        "s1.update(s2)\n",
        "print(s1)"
      ]
    },
    {
      "cell_type": "code",
      "execution_count": null,
      "metadata": {
        "colab": {
          "base_uri": "https://localhost:8080/"
        },
        "id": "gSM_WVJNgOVD",
        "outputId": "a832ff27-7ed6-488f-98a6-ad00376e47d3"
      },
      "outputs": [
        {
          "data": {
            "text/plain": [
              "{4, 5, 6, 7, 8}"
            ]
          },
          "execution_count": 75,
          "metadata": {},
          "output_type": "execute_result"
        }
      ],
      "source": [
        "s1.intersection_update(s2)\n",
        "s1"
      ]
    },
    {
      "cell_type": "code",
      "execution_count": null,
      "metadata": {
        "colab": {
          "base_uri": "https://localhost:8080/"
        },
        "id": "LsnrfiyFgV3k",
        "outputId": "bdf2022d-d1b6-41ee-901f-934403ffc5ea"
      },
      "outputs": [
        {
          "name": "stdout",
          "output_type": "stream",
          "text": [
            "{4, 5}\n",
            "{4, 5, 6, 7, 8}\n"
          ]
        }
      ],
      "source": [
        "# intersection/intersection_update\n",
        "s1 = {1,2,3,4,5}\n",
        "s2 = {4,5,6,7,8}\n",
        "\n",
        "s1.intersection(s2)\n",
        "\n",
        "s1.intersection_update(s2)\n",
        "print(s1)\n",
        "print(s2)"
      ]
    },
    {
      "cell_type": "code",
      "execution_count": null,
      "metadata": {
        "colab": {
          "base_uri": "https://localhost:8080/"
        },
        "id": "VkHoQW_Cgm4h",
        "outputId": "5ce1be95-ceef-4a50-ecd8-b37be4b00199"
      },
      "outputs": [
        {
          "name": "stdout",
          "output_type": "stream",
          "text": [
            "{1, 2, 3}\n",
            "{4, 5, 6, 7, 8}\n"
          ]
        }
      ],
      "source": [
        "# difference/difference_update\n",
        "s1 = {1,2,3,4,5}\n",
        "s2 = {4,5,6,7,8}\n",
        "\n",
        "s1.difference(s2)\n",
        "\n",
        "s1.difference_update(s2)\n",
        "print(s1)\n",
        "print(s2)"
      ]
    },
    {
      "cell_type": "code",
      "execution_count": null,
      "metadata": {
        "colab": {
          "base_uri": "https://localhost:8080/"
        },
        "id": "BFKizcjrg637",
        "outputId": "fc979f4b-9375-41dc-d2af-c292f98b339a"
      },
      "outputs": [
        {
          "name": "stdout",
          "output_type": "stream",
          "text": [
            "{1, 2, 3, 6, 7, 8}\n",
            "{4, 5, 6, 7, 8}\n"
          ]
        }
      ],
      "source": [
        "# symmetric_difference/symmetric_difference_update\n",
        "s1 = {1,2,3,4,5}\n",
        "s2 = {4,5,6,7,8}\n",
        "\n",
        "s1.symmetric_difference(s2)\n",
        "\n",
        "s1.symmetric_difference_update(s2)\n",
        "print(s1)\n",
        "print(s2)"
      ]
    },
    {
      "cell_type": "code",
      "execution_count": null,
      "metadata": {
        "colab": {
          "base_uri": "https://localhost:8080/"
        },
        "id": "qTc2cdSug-38",
        "outputId": "811de907-b510-4d55-df30-f96bd975dd51"
      },
      "outputs": [
        {
          "data": {
            "text/plain": [
              "True"
            ]
          },
          "execution_count": 1,
          "metadata": {},
          "output_type": "execute_result"
        }
      ],
      "source": [
        "# isdisjoint/issubset/issuperset\n",
        "s1 = {1,2,3,4}\n",
        "s2 = {7,8,5,6}\n",
        "\n",
        "s1.isdisjoint(s2)"
      ]
    },
    {
      "cell_type": "code",
      "execution_count": null,
      "metadata": {
        "colab": {
          "base_uri": "https://localhost:8080/"
        },
        "id": "uklmfWwOH4da",
        "outputId": "db73d320-761d-4473-d9b5-f3ce5eeaab29"
      },
      "outputs": [
        {
          "data": {
            "text/plain": [
              "True"
            ]
          },
          "execution_count": 4,
          "metadata": {},
          "output_type": "execute_result"
        }
      ],
      "source": [
        "s1 = {1,2,3,4,5}\n",
        "s2 = {3,4,5}\n",
        "\n",
        "s2.issubset(s1)"
      ]
    },
    {
      "cell_type": "code",
      "execution_count": null,
      "metadata": {
        "colab": {
          "base_uri": "https://localhost:8080/"
        },
        "id": "mYmvI_uSH6RR",
        "outputId": "96ed1d99-b021-4152-f0e4-f2545b088dc4"
      },
      "outputs": [
        {
          "data": {
            "text/plain": [
              "False"
            ]
          },
          "execution_count": 5,
          "metadata": {},
          "output_type": "execute_result"
        }
      ],
      "source": [
        "s1 = {1,2,3,4,5}\n",
        "s2 = {3,4,5}\n",
        "\n",
        "s1.issubset(s2)"
      ]
    },
    {
      "cell_type": "code",
      "execution_count": null,
      "metadata": {
        "colab": {
          "base_uri": "https://localhost:8080/"
        },
        "id": "VSv0ud6TIHwQ",
        "outputId": "5cd8a22a-3839-4c46-c849-6d690faa69ff"
      },
      "outputs": [
        {
          "data": {
            "text/plain": [
              "True"
            ]
          },
          "execution_count": 6,
          "metadata": {},
          "output_type": "execute_result"
        }
      ],
      "source": [
        "s1 = {1,2,3,4,5}\n",
        "s2 = {3,4,5}\n",
        "\n",
        "s1.issuperset(s2)"
      ]
    },
    {
      "cell_type": "code",
      "execution_count": null,
      "metadata": {
        "colab": {
          "base_uri": "https://localhost:8080/"
        },
        "id": "0LnPTFDsIJJw",
        "outputId": "2b7479d8-8df5-46de-8981-033f7f470932"
      },
      "outputs": [
        {
          "name": "stdout",
          "output_type": "stream",
          "text": [
            "{1, 2, 3}\n",
            "{1, 2, 3}\n"
          ]
        }
      ],
      "source": [
        "# copy\n",
        "s1 = {1,2,3}\n",
        "s2 = s1.copy()\n",
        "\n",
        "print(s1)\n",
        "print(s2)"
      ]
    },
    {
      "cell_type": "markdown",
      "metadata": {
        "id": "KWTO8wX_IT1v"
      },
      "source": [
        "### Frozenset\n",
        "Frozen set is just an immutable version of a Python set object"
      ]
    },
    {
      "cell_type": "code",
      "execution_count": null,
      "metadata": {
        "colab": {
          "base_uri": "https://localhost:8080/"
        },
        "id": "znyx2wqlIO94",
        "outputId": "23ef65bf-56d3-4949-d2e5-2164303d61c5"
      },
      "outputs": [
        {
          "data": {
            "text/plain": [
              "frozenset({1, 2, 3, 4, 5})"
            ]
          },
          "execution_count": 8,
          "metadata": {},
          "output_type": "execute_result"
        }
      ],
      "source": [
        "fs1 = frozenset([1,2,3])\n",
        "fs2 = frozenset([3,4,5])\n",
        "\n",
        "fs1 | fs2"
      ]
    },
    {
      "cell_type": "code",
      "execution_count": null,
      "metadata": {
        "colab": {
          "base_uri": "https://localhost:8080/"
        },
        "id": "BL7nFdVPI58I",
        "outputId": "9dc9bac6-5dc7-48b3-8753-83f106841d1d"
      },
      "outputs": [
        {
          "data": {
            "text/plain": [
              "frozenset({3})"
            ]
          },
          "execution_count": 9,
          "metadata": {},
          "output_type": "execute_result"
        }
      ],
      "source": [
        "fs1 & fs2"
      ]
    },
    {
      "cell_type": "code",
      "execution_count": null,
      "metadata": {
        "colab": {
          "base_uri": "https://localhost:8080/"
        },
        "id": "lyNbT9wDJSdQ",
        "outputId": "2385241a-6736-47cf-ebd2-b4a9ef33afea"
      },
      "outputs": [
        {
          "data": {
            "text/plain": [
              "frozenset({1, 2, 4, 5})"
            ]
          },
          "execution_count": 10,
          "metadata": {},
          "output_type": "execute_result"
        }
      ],
      "source": [
        "fs1 ^ fs2"
      ]
    },
    {
      "cell_type": "code",
      "execution_count": null,
      "metadata": {
        "colab": {
          "base_uri": "https://localhost:8080/"
        },
        "id": "BobsBQn-JURH",
        "outputId": "24602a89-d27b-457d-f6f2-6c60df47dce1"
      },
      "outputs": [
        {
          "data": {
            "text/plain": [
              "frozenset({1, 2})"
            ]
          },
          "execution_count": 11,
          "metadata": {},
          "output_type": "execute_result"
        }
      ],
      "source": [
        "fs1 - fs2"
      ]
    },
    {
      "cell_type": "code",
      "execution_count": null,
      "metadata": {
        "id": "MbWcW3NWJWQf"
      },
      "outputs": [],
      "source": [
        "# what works and what does not\n",
        "# works -> all read functions\n",
        "# does't work -> write operations"
      ]
    },
    {
      "cell_type": "code",
      "execution_count": null,
      "metadata": {
        "colab": {
          "base_uri": "https://localhost:8080/"
        },
        "id": "jVtEMeexJcm3",
        "outputId": "2646cbfa-04bd-4765-bf8e-a3361c98259d"
      },
      "outputs": [
        {
          "data": {
            "text/plain": [
              "frozenset({1, 2, frozenset({3, 4})})"
            ]
          },
          "execution_count": 13,
          "metadata": {},
          "output_type": "execute_result"
        }
      ],
      "source": [
        "# When to use\n",
        "# 2D sets\n",
        "fs = frozenset([1,2,frozenset([3,4])])\n",
        "fs"
      ]
    },
    {
      "cell_type": "markdown",
      "metadata": {
        "id": "R4WYySgxJl0Z"
      },
      "source": [
        "### Set Comprehension"
      ]
    },
    {
      "cell_type": "code",
      "execution_count": null,
      "metadata": {
        "colab": {
          "base_uri": "https://localhost:8080/"
        },
        "id": "5CqYKvb1JejX",
        "outputId": "0559caaa-6fbc-4195-936e-9c9d9d232df6"
      },
      "outputs": [
        {
          "data": {
            "text/plain": [
              "{0, 1, 4, 9, 16, 25, 36, 49, 64, 81}"
            ]
          },
          "execution_count": 15,
          "metadata": {},
          "output_type": "execute_result"
        }
      ],
      "source": [
        "{i**2 for i in range(10)}"
      ]
    },
    {
      "cell_type": "markdown",
      "metadata": {
        "id": "BIGgzgpnK_qv"
      },
      "source": [
        "# Dictionary\n",
        "\n",
        "Dictionary in Python is a collection of keys values, used to store data values like a map, which, unlike other data types which hold only a single value as an element.\n",
        "\n",
        "In some languages it is known as map or assosiative arrays.\n",
        "\n",
        "dict = { 'name' : 'nitish' , 'age' : 33 , 'gender' : 'male' }\n",
        "\n",
        "Characterstics:\n",
        "\n",
        "- Mutable\n",
        "- Indexing has no meaning\n",
        "- keys can't be duplicated\n",
        "- keys can't be mutable items"
      ]
    },
    {
      "cell_type": "code",
      "execution_count": null,
      "metadata": {
        "colab": {
          "base_uri": "https://localhost:8080/"
        },
        "id": "evI-NX0rJqbf",
        "outputId": "46aa4a98-0801-47cf-a304-05f1cac3ef80"
      },
      "outputs": [
        {
          "data": {
            "text/plain": [
              "{'name': 'nitish',\n",
              " 'college': 'bit',\n",
              " 'sem': 4,\n",
              " 'subjects': {'dsa': 50, 'maths': 67, 'english': 34}}"
            ]
          },
          "execution_count": 1,
          "metadata": {},
          "output_type": "execute_result"
        }
      ],
      "source": [
        "# empty dictionary\n",
        "d = {}\n",
        "d\n",
        "# 1D dictionary\n",
        "d1 = { 'name' : 'nitish' ,'gender' : 'male' }\n",
        "d1\n",
        "# with mixed keys\n",
        "d2 = {(1,2,3):1,'hello':'world'}\n",
        "d2\n",
        "# 2D dictionary -> JSON\n",
        "s = {\n",
        "    'name':'nitish',\n",
        "     'college':'bit',\n",
        "     'sem':4,\n",
        "     'subjects':{\n",
        "         'dsa':50,\n",
        "         'maths':67,\n",
        "         'english':34\n",
        "     }\n",
        "}\n",
        "s"
      ]
    },
    {
      "cell_type": "code",
      "execution_count": null,
      "metadata": {
        "colab": {
          "base_uri": "https://localhost:8080/"
        },
        "id": "oQFsm06BF3wp",
        "outputId": "1dae9dcb-ed67-4292-fbcc-69572568e345"
      },
      "outputs": [
        {
          "data": {
            "text/plain": [
              "{'name': 'aditya', 'age': '22'}"
            ]
          },
          "execution_count": 3,
          "metadata": {},
          "output_type": "execute_result"
        }
      ],
      "source": [
        "d3 = dict([('name','aditya'),('age','22')])\n",
        "d3"
      ]
    },
    {
      "cell_type": "code",
      "execution_count": null,
      "metadata": {
        "colab": {
          "base_uri": "https://localhost:8080/"
        },
        "id": "XoEd5fdFGGj3",
        "outputId": "af11a2ee-5886-4d1b-a912-103c5bfc5e73"
      },
      "outputs": [
        {
          "data": {
            "text/plain": [
              "{'name': 'rahul'}"
            ]
          },
          "execution_count": 4,
          "metadata": {},
          "output_type": "execute_result"
        }
      ],
      "source": [
        "# duplicate keys\n",
        "d5 = {'name':'nitish','name':'rahul'}\n",
        "d5"
      ]
    },
    {
      "cell_type": "code",
      "execution_count": null,
      "metadata": {
        "colab": {
          "base_uri": "https://localhost:8080/"
        },
        "id": "zQGGlqQDGSKm",
        "outputId": "168623e4-70b7-4f82-f5ae-9077aeec0059"
      },
      "outputs": [
        {
          "name": "stdout",
          "output_type": "stream",
          "text": [
            "{'name': 'nitish', (1, 2, 3): 2}\n"
          ]
        }
      ],
      "source": [
        "# mutable items as keys\n",
        "d6 = {'name':'nitish',(1,2,3):2}\n",
        "print(d6)"
      ]
    },
    {
      "cell_type": "code",
      "execution_count": null,
      "metadata": {
        "colab": {
          "base_uri": "https://localhost:8080/"
        },
        "id": "_ZM06TMdGWlm",
        "outputId": "22250c04-a500-4665-9afb-252d65f9ea20"
      },
      "outputs": [
        {
          "data": {
            "text/plain": [
              "2"
            ]
          },
          "execution_count": 6,
          "metadata": {},
          "output_type": "execute_result"
        }
      ],
      "source": [
        "d6[(1,2,3)]"
      ]
    },
    {
      "cell_type": "markdown",
      "metadata": {
        "id": "n4jEWtjWGiMH"
      },
      "source": [
        "### Accessing items"
      ]
    },
    {
      "cell_type": "code",
      "execution_count": null,
      "metadata": {
        "colab": {
          "base_uri": "https://localhost:8080/",
          "height": 36
        },
        "id": "U0C6sub9GZWW",
        "outputId": "6c2b92dc-21bf-4bf4-e051-283314cf0bba"
      },
      "outputs": [
        {
          "data": {
            "application/vnd.google.colaboratory.intrinsic+json": {
              "type": "string"
            },
            "text/plain": [
              "'Jack'"
            ]
          },
          "execution_count": 8,
          "metadata": {},
          "output_type": "execute_result"
        }
      ],
      "source": [
        "my_dict = {'name': 'Jack', 'age': 26}\n",
        "# []\n",
        "my_dict['name']"
      ]
    },
    {
      "cell_type": "code",
      "execution_count": null,
      "metadata": {
        "colab": {
          "base_uri": "https://localhost:8080/"
        },
        "id": "DKnacCTUGeVO",
        "outputId": "49669622-bb9b-4d0c-e2a1-07a07cb7c493"
      },
      "outputs": [
        {
          "data": {
            "text/plain": [
              "26"
            ]
          },
          "execution_count": 9,
          "metadata": {},
          "output_type": "execute_result"
        }
      ],
      "source": [
        "my_dict.get('age')"
      ]
    },
    {
      "cell_type": "markdown",
      "metadata": {
        "id": "MVIpmexHHLn_"
      },
      "source": [
        "### Adding key-value pair"
      ]
    },
    {
      "cell_type": "code",
      "execution_count": null,
      "metadata": {
        "id": "-Z0mMmG9HIS-"
      },
      "outputs": [],
      "source": [
        "s['subjects']['ppl']=88"
      ]
    },
    {
      "cell_type": "code",
      "execution_count": null,
      "metadata": {
        "colab": {
          "base_uri": "https://localhost:8080/"
        },
        "id": "djZPm3pWIhcd",
        "outputId": "2967c6df-8c77-4f75-804f-5e9032e49b77"
      },
      "outputs": [
        {
          "data": {
            "text/plain": [
              "{'name': 'nitish',\n",
              " 'college': 'bit',\n",
              " 'sem': 4,\n",
              " 'subjects': {'dsa': 50, 'maths': 67, 'english': 34, 'ppl': 88}}"
            ]
          },
          "execution_count": 13,
          "metadata": {},
          "output_type": "execute_result"
        }
      ],
      "source": [
        "s"
      ]
    },
    {
      "cell_type": "markdown",
      "metadata": {
        "id": "g9Wu3_77IqZ2"
      },
      "source": [
        "### Remove key-value pair"
      ]
    },
    {
      "cell_type": "code",
      "execution_count": null,
      "metadata": {
        "colab": {
          "base_uri": "https://localhost:8080/"
        },
        "id": "nNi9ahFoInpt",
        "outputId": "ed06c23f-fb25-4a82-987a-9ba2681deb8d"
      },
      "outputs": [
        {
          "data": {
            "text/plain": [
              "{'name': 'nitish', 'age': 32, 'gender': 'male', 'weight': 72}"
            ]
          },
          "execution_count": 15,
          "metadata": {},
          "output_type": "execute_result"
        }
      ],
      "source": [
        "d = {'name': 'nitish', 'age': 32, 3: 3, 'gender': 'male', 'weight': 72}\n",
        "# pop\n",
        "d.pop(3)\n",
        "d"
      ]
    },
    {
      "cell_type": "code",
      "execution_count": null,
      "metadata": {
        "colab": {
          "base_uri": "https://localhost:8080/"
        },
        "id": "k1qy5KJzIxD9",
        "outputId": "6bb59dbf-efe4-4ebe-f3e1-cce3c7b0e233"
      },
      "outputs": [
        {
          "data": {
            "text/plain": [
              "{'name': 'nitish', 'age': 32, 'gender': 'male'}"
            ]
          },
          "execution_count": 16,
          "metadata": {},
          "output_type": "execute_result"
        }
      ],
      "source": [
        "d.popitem()\n",
        "d"
      ]
    },
    {
      "cell_type": "code",
      "execution_count": null,
      "metadata": {
        "colab": {
          "base_uri": "https://localhost:8080/"
        },
        "id": "PC6Zw0yVJawc",
        "outputId": "dffe7313-c585-411e-de30-1981885f3a8d"
      },
      "outputs": [
        {
          "data": {
            "text/plain": [
              "{'age': 32, 'gender': 'male'}"
            ]
          },
          "execution_count": 17,
          "metadata": {},
          "output_type": "execute_result"
        }
      ],
      "source": [
        "del d['name']\n",
        "d"
      ]
    },
    {
      "cell_type": "code",
      "execution_count": null,
      "metadata": {
        "id": "ooYD2GW8JgxO"
      },
      "outputs": [],
      "source": [
        "d.clear()"
      ]
    },
    {
      "cell_type": "code",
      "execution_count": null,
      "metadata": {
        "colab": {
          "base_uri": "https://localhost:8080/"
        },
        "id": "RWwl5WuIJiLE",
        "outputId": "d1df11be-6dd6-4e9f-b263-6e31ffa32b1a"
      },
      "outputs": [
        {
          "data": {
            "text/plain": [
              "{}"
            ]
          },
          "execution_count": 19,
          "metadata": {},
          "output_type": "execute_result"
        }
      ],
      "source": [
        "d"
      ]
    },
    {
      "cell_type": "markdown",
      "metadata": {
        "id": "vF24G7_hJoyO"
      },
      "source": [
        "### Dictionary Operations\n",
        "\n",
        "- Membership\n",
        "- Iteration"
      ]
    },
    {
      "cell_type": "code",
      "execution_count": null,
      "metadata": {
        "colab": {
          "base_uri": "https://localhost:8080/"
        },
        "id": "USEUFR8RJimM",
        "outputId": "136a2755-5c30-4207-9a41-8bfcd997ca96"
      },
      "outputs": [
        {
          "name": "stdout",
          "output_type": "stream",
          "text": [
            "{'name': 'nitish', 'college': 'bit', 'sem': 4, 'subjects': {'dsa': 50, 'maths': 67, 'english': 34, 'ppl': 88}}\n"
          ]
        },
        {
          "data": {
            "text/plain": [
              "True"
            ]
          },
          "execution_count": 20,
          "metadata": {},
          "output_type": "execute_result"
        }
      ],
      "source": [
        "print(s)\n",
        "\n",
        "'name' in s"
      ]
    },
    {
      "cell_type": "code",
      "execution_count": null,
      "metadata": {
        "colab": {
          "base_uri": "https://localhost:8080/"
        },
        "id": "8BZ5P6aVJsms",
        "outputId": "72ade48c-e03b-4d63-971a-86e54c7ee5d4"
      },
      "outputs": [
        {
          "name": "stdout",
          "output_type": "stream",
          "text": [
            "name nitish\n",
            "gender male\n",
            "age 33\n"
          ]
        }
      ],
      "source": [
        "d = {'name':'nitish','gender':'male','age':33}\n",
        "\n",
        "for i in d:\n",
        "  print(i,d[i])"
      ]
    },
    {
      "cell_type": "code",
      "execution_count": null,
      "metadata": {
        "colab": {
          "base_uri": "https://localhost:8080/",
          "height": 53
        },
        "id": "5oq-bzADJuok",
        "outputId": "ae945099-e965-4be0-c35c-76610d4682a0"
      },
      "outputs": [
        {
          "name": "stdout",
          "output_type": "stream",
          "text": [
            "{'name': 'nitish', 'gender': 'male', 'age': 33}\n"
          ]
        },
        {
          "data": {
            "application/vnd.google.colaboratory.intrinsic+json": {
              "type": "string"
            },
            "text/plain": [
              "'name'"
            ]
          },
          "execution_count": 22,
          "metadata": {},
          "output_type": "execute_result"
        }
      ],
      "source": [
        "# len/sorted\n",
        "len(d)\n",
        "print(d)\n",
        "sorted(d,reverse=True)\n",
        "max(d)"
      ]
    },
    {
      "cell_type": "code",
      "execution_count": null,
      "metadata": {
        "colab": {
          "base_uri": "https://localhost:8080/"
        },
        "id": "ow24__OTJywl",
        "outputId": "226b9bd0-f9d1-40ae-f119-ce563111aa08"
      },
      "outputs": [
        {
          "data": {
            "text/plain": [
              "dict_keys"
            ]
          },
          "execution_count": 24,
          "metadata": {},
          "output_type": "execute_result"
        }
      ],
      "source": [
        "type(d.keys())"
      ]
    },
    {
      "cell_type": "code",
      "execution_count": null,
      "metadata": {
        "colab": {
          "base_uri": "https://localhost:8080/"
        },
        "id": "a0oOO0LDJ12M",
        "outputId": "9bfd91df-ca62-4144-eedc-c891e1ceae59"
      },
      "outputs": [
        {
          "data": {
            "text/plain": [
              "dict_items([('name', 'nitish'), ('gender', 'male'), ('age', 33)])"
            ]
          },
          "execution_count": 27,
          "metadata": {},
          "output_type": "execute_result"
        }
      ],
      "source": [
        "d.items()"
      ]
    },
    {
      "cell_type": "code",
      "execution_count": null,
      "metadata": {
        "colab": {
          "base_uri": "https://localhost:8080/"
        },
        "id": "miGctEWRJ8jM",
        "outputId": "b820273c-8c71-436a-ec81-c0bbce45f9ef"
      },
      "outputs": [
        {
          "data": {
            "text/plain": [
              "['nitish', 'male', 33]"
            ]
          },
          "execution_count": 30,
          "metadata": {},
          "output_type": "execute_result"
        }
      ],
      "source": [
        "list(d.values())"
      ]
    },
    {
      "cell_type": "code",
      "execution_count": null,
      "metadata": {
        "colab": {
          "base_uri": "https://localhost:8080/"
        },
        "id": "eCr8LtmXKHxM",
        "outputId": "3dc01b83-9388-4062-fcca-e35766ff3f9c"
      },
      "outputs": [
        {
          "name": "stdout",
          "output_type": "stream",
          "text": [
            "{1: 2, 3: 4, 4: 7, 6: 8}\n"
          ]
        }
      ],
      "source": [
        "# update\n",
        "d1 = {1:2,3:4,4:5}\n",
        "d2 = {4:7,6:8}\n",
        "\n",
        "d1.update(d2)\n",
        "print(d1)"
      ]
    },
    {
      "cell_type": "markdown",
      "metadata": {
        "id": "26leRFQ4KXkO"
      },
      "source": [
        "### Dictionary Comprehension\n",
        "![image.png](data:image/png;base64,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)"
      ]
    },
    {
      "cell_type": "code",
      "execution_count": null,
      "metadata": {
        "colab": {
          "base_uri": "https://localhost:8080/"
        },
        "id": "gvFmnuMCKUO8",
        "outputId": "5885c6e0-683a-4433-9483-02b167dc0352"
      },
      "outputs": [
        {
          "data": {
            "text/plain": [
              "{1: 1, 2: 4, 3: 9, 4: 16, 5: 25, 6: 36, 7: 49, 8: 64, 9: 81, 10: 100}"
            ]
          },
          "execution_count": 32,
          "metadata": {},
          "output_type": "execute_result"
        }
      ],
      "source": [
        "# print 1st 10 numbers and their squares\n",
        "{i:i**2 for i in range(1,11)}"
      ]
    },
    {
      "cell_type": "code",
      "execution_count": null,
      "metadata": {
        "colab": {
          "base_uri": "https://localhost:8080/"
        },
        "id": "CsDnUQDmKgKE",
        "outputId": "0b465358-7269-4a54-c03a-390aace63096"
      },
      "outputs": [
        {
          "name": "stdout",
          "output_type": "stream",
          "text": [
            "dict_items([('delhi', 1000), ('mumbai', 2000), ('bangalore', 3000)])\n"
          ]
        }
      ],
      "source": [
        "distances = {'delhi':1000,'mumbai':2000,'bangalore':3000}\n",
        "print(distances.items())"
      ]
    },
    {
      "cell_type": "code",
      "execution_count": null,
      "metadata": {
        "colab": {
          "base_uri": "https://localhost:8080/"
        },
        "id": "vdfk3J9SKncY",
        "outputId": "ccb90a94-c16c-4fca-ab17-f64aaa7e40d3"
      },
      "outputs": [
        {
          "data": {
            "text/plain": [
              "{'delhi': 77.62471166286917,\n",
              " 'mumbai': 120.12928640327802,\n",
              " 'bangalore': 155.09092651791744}"
            ]
          },
          "execution_count": 34,
          "metadata": {},
          "output_type": "execute_result"
        }
      ],
      "source": [
        "{key:value**0.63 for (key,value) in distances.items()}"
      ]
    },
    {
      "cell_type": "code",
      "execution_count": null,
      "metadata": {
        "colab": {
          "base_uri": "https://localhost:8080/"
        },
        "id": "kBWTIbfRK3J8",
        "outputId": "fded1d60-2bf6-436e-8404-1d14e5881846"
      },
      "outputs": [
        {
          "data": {
            "text/plain": [
              "{'phone': 10, 'charger': 32}"
            ]
          },
          "execution_count": 35,
          "metadata": {},
          "output_type": "execute_result"
        }
      ],
      "source": [
        "# using if condition\n",
        "products = {'phone':10,'laptop':0,'charger':32,'tablet':0}\n",
        "\n",
        "{key:value for (key,value) in products.items() if value>0}"
      ]
    },
    {
      "cell_type": "code",
      "execution_count": null,
      "metadata": {
        "colab": {
          "base_uri": "https://localhost:8080/"
        },
        "id": "jMG5wc8GK-W8",
        "outputId": "13f63832-c515-43f1-9d25-41cf2e323008"
      },
      "outputs": [
        {
          "data": {
            "text/plain": [
              "{'Sunday': 30.5,\n",
              " 'Monday': 32.6,\n",
              " 'Tuesday': 31.8,\n",
              " 'Wednesday': 33.4,\n",
              " 'Thursday': 29.8,\n",
              " 'Friday': 30.2,\n",
              " 'Saturday': 29.9}"
            ]
          },
          "execution_count": 36,
          "metadata": {},
          "output_type": "execute_result"
        }
      ],
      "source": [
        "# using zip\n",
        "days = [\"Sunday\", \"Monday\",\"Tuesday\",\"Wednesday\",\"Thursday\",\"Friday\",\"Saturday\"]\n",
        "temp_C = [30.5,32.6,31.8,33.4,29.8,30.2,29.9]\n",
        "\n",
        "{i:j for (i,j) in zip(days,temp_C)}"
      ]
    },
    {
      "cell_type": "code",
      "execution_count": null,
      "metadata": {
        "colab": {
          "base_uri": "https://localhost:8080/"
        },
        "id": "lzBfx1MnLI5b",
        "outputId": "b3640f40-f2c7-40a4-fd4d-1f99bc8718cd"
      },
      "outputs": [
        {
          "data": {
            "text/plain": [
              "{1: {1: 1, 2: 2, 3: 3, 4: 4, 5: 5, 6: 6, 7: 7, 8: 8, 9: 9, 10: 10},\n",
              " 2: {1: 2, 2: 4, 3: 6, 4: 8, 5: 10, 6: 12, 7: 14, 8: 16, 9: 18, 10: 20},\n",
              " 3: {1: 3, 2: 6, 3: 9, 4: 12, 5: 15, 6: 18, 7: 21, 8: 24, 9: 27, 10: 30},\n",
              " 4: {1: 4, 2: 8, 3: 12, 4: 16, 5: 20, 6: 24, 7: 28, 8: 32, 9: 36, 10: 40},\n",
              " 5: {1: 5, 2: 10, 3: 15, 4: 20, 5: 25, 6: 30, 7: 35, 8: 40, 9: 45, 10: 50}}"
            ]
          },
          "execution_count": 37,
          "metadata": {},
          "output_type": "execute_result"
        }
      ],
      "source": [
        "{i:{j:i*j for j in range(1,11)} for i in range(1,6)}"
      ]
    },
    {
      "cell_type": "code",
      "execution_count": null,
      "metadata": {
        "colab": {
          "base_uri": "https://localhost:8080/"
        },
        "id": "pv0dBbNVLx3u",
        "outputId": "a0a3402b-5862-44ce-8d72-12ab2fea0d77"
      },
      "outputs": [
        {
          "data": {
            "text/plain": [
              "{1, 2, 3}"
            ]
          },
          "execution_count": 2,
          "metadata": {},
          "output_type": "execute_result"
        }
      ],
      "source": [
        "t1 = (1,2)\n",
        "t2 = (2,3)\n",
        "set(t1+t2)"
      ]
    },
    {
      "cell_type": "code",
      "execution_count": null,
      "metadata": {
        "colab": {
          "base_uri": "https://localhost:8080/"
        },
        "id": "ob2n9TEXagnh",
        "outputId": "f182435a-6107-4bdc-c7c7-d2ad6c08d0b0"
      },
      "outputs": [
        {
          "data": {
            "text/plain": [
              "False"
            ]
          },
          "execution_count": 3,
          "metadata": {},
          "output_type": "execute_result"
        }
      ],
      "source": [
        "t1 = (1,2,3,0)\n",
        "t2 = (0,1,2,3)\n",
        "t1 == t2"
      ]
    },
    {
      "cell_type": "code",
      "execution_count": null,
      "metadata": {
        "colab": {
          "base_uri": "https://localhost:8080/"
        },
        "id": "0qH6NddBbNUS",
        "outputId": "98e5809c-8848-4879-c4e9-66cd77a78663"
      },
      "outputs": [
        {
          "data": {
            "text/plain": [
              "1"
            ]
          },
          "execution_count": 4,
          "metadata": {},
          "output_type": "execute_result"
        }
      ],
      "source": [
        "t1[0]"
      ]
    },
    {
      "cell_type": "code",
      "execution_count": null,
      "metadata": {
        "colab": {
          "base_uri": "https://localhost:8080/"
        },
        "id": "lpXCmVdvbPr_",
        "outputId": "944eb05c-222a-4517-b5f0-a56e490aa800"
      },
      "outputs": [
        {
          "data": {
            "text/plain": [
              "(5, 40, 91, 136, 80)"
            ]
          },
          "execution_count": 8,
          "metadata": {},
          "output_type": "execute_result"
        }
      ],
      "source": [
        "t = (1, 5, 7, 8, 10)\n",
        "r = []\n",
        "r.append(t[0]*t[1])\n",
        "for i in range(1,len(t)):\n",
        "  if i==len(t)-1:\n",
        "    r.append(t[i-1]*t[i])\n",
        "  else:\n",
        "    r.append(t[i-1]*t[i] + t[i+1]*t[i])\n",
        "\n",
        "tuple(r)"
      ]
    },
    {
      "cell_type": "code",
      "execution_count": null,
      "metadata": {
        "colab": {
          "base_uri": "https://localhost:8080/"
        },
        "id": "HzCqAQTGmfRy",
        "outputId": "2e598ef0-f62d-4ed3-970a-1b5cd3cf55dd"
      },
      "outputs": [
        {
          "name": "stdout",
          "output_type": "stream",
          "text": [
            "list: 2\n"
          ]
        }
      ],
      "source": [
        "list1 = [{'hi', 'bye'},{'Geeks', 'forGeeks'},('a', 'b'),['hi', 'bye'],['a', 'b']]\n",
        "\n",
        "set_count=tuple_count=list_count =0\n",
        "\n",
        "for i in list1:\n",
        "  if type(i) == set:\n",
        "    set_count += 1\n",
        "  elif type(i)==tuple:\n",
        "    tuple_count+=1\n",
        "  else :\n",
        "    list_count+=1\n",
        "\n",
        "print('list:',list_count)"
      ]
    },
    {
      "cell_type": "code",
      "execution_count": null,
      "metadata": {
        "colab": {
          "base_uri": "https://localhost:8080/"
        },
        "id": "wZBR0EcpoFVx",
        "outputId": "4c3bed45-be32-479e-ae2a-45c6476912f9"
      },
      "outputs": [
        {
          "data": {
            "text/plain": [
              "True"
            ]
          },
          "execution_count": 14,
          "metadata": {},
          "output_type": "execute_result"
        }
      ],
      "source": [
        "type(list1) == list"
      ]
    },
    {
      "cell_type": "markdown",
      "metadata": {
        "id": "I9XJJv3gr5SH"
      },
      "source": [
        "###`Q5`: Shortlist Students for a Job role\n",
        "Ask user to input students record and store in tuples for each record. Then Ask user to input three things he wants in the candidate- Primary Skill, Higher Education, Year of Graduation.\n",
        "\n",
        "Show every students record in form of tuples if matches all required criteria.\n",
        "\n",
        "It is assumed that there will be only one primry skill.\n",
        "\n",
        "If no such candidate found, print `No such candidate`\n",
        "\n",
        "`Input:`\n",
        "```\n",
        "Enter No of records- 2\n",
        "Enter Details of student-1\n",
        "Enter Student name- Manohar\n",
        "Enter Higher Education- B.Tech\n",
        "Enter Primary Skill- Python\n",
        "Enter Year of Graduation- 2022\n",
        "Enter Details of student-2\n",
        "Enter Student name- Ponian\n",
        "Enter Higher Education- B.Sc.\n",
        "Enter Primary Skill- C++\n",
        "Enter Year of Graduation- 2020\n",
        "\n",
        "Enter Job Role Requirement\n",
        "Enter Skill- Python\n",
        "Enter Higher Education- B.Tech\n",
        "Enter Year of Graduation- 2022\n",
        "```\n",
        "\n",
        "`Output`\n",
        "```\n",
        "('Manohar', 'B.tech', 'Python', '2022')\n",
        "```\n"
      ]
    },
    {
      "cell_type": "code",
      "execution_count": null,
      "metadata": {
        "id": "W9bhbQX-tZy8"
      },
      "outputs": [],
      "source": [
        "records = ()"
      ]
    },
    {
      "cell_type": "code",
      "execution_count": null,
      "metadata": {
        "colab": {
          "base_uri": "https://localhost:8080/"
        },
        "id": "BaWt5sikoLE_",
        "outputId": "7476e6b0-d21e-4a81-fcd1-ff5c47ba88bc"
      },
      "outputs": [
        {
          "name": "stdout",
          "output_type": "stream",
          "text": [
            "Enter the number of records: 2\n",
            "Enter for record: 0\n",
            "Enter Student name: AD\n",
            "Enter Higher Education: B.E\n",
            "Enter Primary Skill: Python\n",
            "Enter Year of Graduation (e.g. 2023): 2025\n",
            "Enter for record: 1\n",
            "Enter Student name: Harsh\n",
            "Enter Higher Education: B.Tech\n",
            "Enter Primary Skill: C++\n",
            "Enter Year of Graduation (e.g. 2023): 2024\n",
            "(('AD', 'B.E', 'Python', '2025'), ('Harsh', 'B.Tech', 'C++', '2024'))\n"
          ]
        }
      ],
      "source": [
        "no_of_records = int(input(\"Enter the number of records: \"))\n",
        "records = []  # use a list to collect tuples\n",
        "\n",
        "for i in range(no_of_records):\n",
        "    print(\"Enter for record:\", i)\n",
        "    name = input(\"Enter Student name: \")\n",
        "    education = input(\"Enter Higher Education: \")\n",
        "    skill = input(\"Enter Primary Skill: \")\n",
        "    graduation_year = input(\"Enter Year of Graduation (e.g. 2023): \")\n",
        "\n",
        "    input_tuple = (name, education, skill, graduation_year)\n",
        "    records.append(input_tuple)  # add tuple to list\n",
        "\n",
        "records = tuple(records)  # convert list to tuple of tuples\n",
        "print(records)\n"
      ]
    },
    {
      "cell_type": "code",
      "execution_count": null,
      "metadata": {
        "colab": {
          "base_uri": "https://localhost:8080/",
          "height": 36
        },
        "id": "Ma7yvXhDtd2E",
        "outputId": "0368422d-dd4d-42b9-b5f1-24d285501cb0"
      },
      "outputs": [
        {
          "data": {
            "application/vnd.google.colaboratory.intrinsic+json": {
              "type": "string"
            },
            "text/plain": [
              "'Python'"
            ]
          },
          "execution_count": 25,
          "metadata": {},
          "output_type": "execute_result"
        }
      ],
      "source": [
        "records[0][2]"
      ]
    },
    {
      "cell_type": "code",
      "execution_count": null,
      "metadata": {
        "colab": {
          "base_uri": "https://localhost:8080/"
        },
        "id": "lxZExxCTupdU",
        "outputId": "04f9c988-25fc-4252-8ff0-24ae6f26775b"
      },
      "outputs": [
        {
          "data": {
            "text/plain": [
              "{20, 80}"
            ]
          },
          "execution_count": 26,
          "metadata": {},
          "output_type": "execute_result"
        }
      ],
      "source": [
        "ar1 = [1, 5, 10, 20, 40, 80]\n",
        "ar2 = [6, 7, 20, 80, 100]\n",
        "ar3 = [3, 4, 15, 20, 30, 70, 80, 120]\n",
        "\n",
        "set(ar1) & set(ar2) & set(ar3)"
      ]
    },
    {
      "cell_type": "code",
      "execution_count": null,
      "metadata": {
        "colab": {
          "base_uri": "https://localhost:8080/"
        },
        "id": "dAHupEKPvAi8",
        "outputId": "9ebf1342-9c10-4bbd-8575-d619293a2876"
      },
      "outputs": [
        {
          "data": {
            "text/plain": [
              "{'e', 'h', 'l', 'o'}"
            ]
          },
          "execution_count": 27,
          "metadata": {},
          "output_type": "execute_result"
        }
      ],
      "source": [
        "set('hello')"
      ]
    },
    {
      "cell_type": "code",
      "execution_count": null,
      "metadata": {
        "colab": {
          "base_uri": "https://localhost:8080/"
        },
        "id": "OKnytFCCvGbz",
        "outputId": "8c21e612-a1e6-4cd5-8cbe-59c30d264460"
      },
      "outputs": [
        {
          "data": {
            "text/plain": [
              "5"
            ]
          },
          "execution_count": 35,
          "metadata": {},
          "output_type": "execute_result"
        }
      ],
      "source": [
        "count = 0\n",
        "for i in ['a','e','i','o','u']:\n",
        "  if i in \"hands-on data science mentorship progrAm with live classes at affordable fee only on CampusX\":\n",
        "    count+=1\n",
        "\n",
        "count"
      ]
    },
    {
      "cell_type": "code",
      "execution_count": null,
      "metadata": {
        "colab": {
          "base_uri": "https://localhost:8080/"
        },
        "id": "zmSWQiHYvTir",
        "outputId": "b0dc9034-9166-468f-b5b8-09272375dbad"
      },
      "outputs": [
        {
          "data": {
            "text/plain": [
              "True"
            ]
          },
          "execution_count": 38,
          "metadata": {},
          "output_type": "execute_result"
        }
      ],
      "source": [
        "# Input: str = \"01010101010\"\n",
        "# Output: Yes\n",
        "str = \"0101010101011\"\n",
        "\n",
        "set(str).issubset({'0','1'})\n"
      ]
    },
    {
      "cell_type": "code",
      "execution_count": null,
      "metadata": {
        "colab": {
          "base_uri": "https://localhost:8080/"
        },
        "id": "e_I5KEzvxAhS",
        "outputId": "859173df-3fea-49e4-bb02-4e858feaf4f7"
      },
      "outputs": [
        {
          "data": {
            "text/plain": [
              "2"
            ]
          },
          "execution_count": 40,
          "metadata": {},
          "output_type": "execute_result"
        }
      ],
      "source": [
        "len(set(str))"
      ]
    },
    {
      "cell_type": "code",
      "execution_count": null,
      "metadata": {
        "colab": {
          "base_uri": "https://localhost:8080/",
          "height": 141
        },
        "id": "Zqqcj58KxULK",
        "outputId": "443b5dcc-7222-4918-fafd-2c1093c5667b"
      },
      "outputs": [
        {
          "ename": "TypeError",
          "evalue": "'int' object is not iterable",
          "output_type": "error",
          "traceback": [
            "\u001b[0;31m---------------------------------------------------------------------------\u001b[0m",
            "\u001b[0;31mTypeError\u001b[0m                                 Traceback (most recent call last)",
            "\u001b[0;32m<ipython-input-42-3131577741>\u001b[0m in \u001b[0;36m<cell line: 0>\u001b[0;34m()\u001b[0m\n\u001b[0;32m----> 1\u001b[0;31m \u001b[0mset\u001b[0m\u001b[0;34m(\u001b[0m\u001b[0;36m1\u001b[0m\u001b[0;34m)\u001b[0m \u001b[0;34m+\u001b[0m \u001b[0mset\u001b[0m\u001b[0;34m(\u001b[0m\u001b[0;36m2\u001b[0m\u001b[0;34m)\u001b[0m\u001b[0;34m\u001b[0m\u001b[0;34m\u001b[0m\u001b[0m\n\u001b[0m",
            "\u001b[0;31mTypeError\u001b[0m: 'int' object is not iterable"
          ]
        }
      ],
      "source": [
        "set(1) + set(2)"
      ]
    },
    {
      "cell_type": "code",
      "execution_count": null,
      "metadata": {
        "colab": {
          "base_uri": "https://localhost:8080/"
        },
        "id": "SaHVRimhxkIb",
        "outputId": "9def0e20-502f-4a3a-ecc5-2bb6554e8e25"
      },
      "outputs": [
        {
          "data": {
            "text/plain": [
              "{1, 2, 3, 4}"
            ]
          },
          "execution_count": 43,
          "metadata": {},
          "output_type": "execute_result"
        }
      ],
      "source": [
        "a = {1,2}\n",
        "b = {3,4}\n",
        "a.union(b)"
      ]
    },
    {
      "cell_type": "code",
      "execution_count": null,
      "metadata": {
        "colab": {
          "base_uri": "https://localhost:8080/"
        },
        "id": "2IW73m-Ixw_6",
        "outputId": "3e1082dc-c706-4d78-ef3f-ed031d7c50c8"
      },
      "outputs": [
        {
          "name": "stdout",
          "output_type": "stream",
          "text": [
            "{1, 2, 3, 4, 5, 6, 7, 9}\n"
          ]
        }
      ],
      "source": [
        "c = [[1, 2, 2, 4, 3, 6],\n",
        " [5, 1, 3, 4],\n",
        " [9, 5, 7, 1],\n",
        " [2, 4, 1, 3]]\n",
        "\n",
        "result = set()\n",
        "for i in c:\n",
        "  result.update(set(i))\n",
        "print(result)"
      ]
    },
    {
      "cell_type": "code",
      "execution_count": null,
      "metadata": {
        "colab": {
          "base_uri": "https://localhost:8080/"
        },
        "id": "dcuuAC9Xx9p6",
        "outputId": "6e1cf011-a796-44a4-f825-376f03d6c2b9"
      },
      "outputs": [
        {
          "data": {
            "text/plain": [
              "[{4, 5, 9, 10}]"
            ]
          },
          "execution_count": 52,
          "metadata": {},
          "output_type": "execute_result"
        }
      ],
      "source": [
        "lst1 = {15, 9, 10, 56, 23, 78, 5, 4, 9}\n",
        "lst2 = {9, 4, 5, 36, 47, 26, 10, 45, 87}\n",
        "\n",
        "[lst1 & lst2 ]"
      ]
    },
    {
      "cell_type": "code",
      "execution_count": null,
      "metadata": {
        "id": "A0_2cmDMy2fy"
      },
      "outputs": [],
      "source": [
        "lst1 = [15, 9, 10, 56, 23, 78, 5, 4, 9]\n",
        "lst2 = [9, 4, 5, 36, 47, 26, 10, 45, 87]\n",
        "\n",
        "# Intersection using list comprehension\n",
        "intersection = [x for x in lst1 if x in lst2]"
      ]
    },
    {
      "cell_type": "code",
      "execution_count": null,
      "metadata": {
        "colab": {
          "base_uri": "https://localhost:8080/"
        },
        "id": "BZgd3tUuzPep",
        "outputId": "f7f54299-e5a1-4fda-d884-679a6b9e4951"
      },
      "outputs": [
        {
          "data": {
            "text/plain": [
              "{4, 5, 9, 10}"
            ]
          },
          "execution_count": 55,
          "metadata": {},
          "output_type": "execute_result"
        }
      ],
      "source": [
        "set(intersection)"
      ]
    },
    {
      "cell_type": "code",
      "execution_count": null,
      "metadata": {
        "colab": {
          "base_uri": "https://localhost:8080/",
          "height": 36
        },
        "id": "zI7PNprrzRNR",
        "outputId": "fa04a82c-f5e2-4de0-a248-b9c845d6c059"
      },
      "outputs": [
        {
          "data": {
            "application/vnd.google.colaboratory.intrinsic+json": {
              "type": "string"
            },
            "text/plain": [
              "'Best'"
            ]
          },
          "execution_count": 71,
          "metadata": {},
          "output_type": "execute_result"
        }
      ],
      "source": [
        "test_dict = {\"CampusX\" : [5,7, 7, 7, 7], \"is\" : [6, 7, 4, 3, 3], \"Best\" : [9, 9, 6, 5, 5,8,2]}\n",
        "test_values= test_dict.values()\n",
        "min = 0\n",
        "\n",
        "for i in test_dict:\n",
        "  if len(set(test_dict[i])) > min:\n",
        "    max = i\n",
        "    min = len(set(test_dict[i]))\n",
        "\n",
        "\n",
        "max"
      ]
    },
    {
      "cell_type": "code",
      "execution_count": null,
      "metadata": {
        "colab": {
          "base_uri": "https://localhost:8080/"
        },
        "id": "aZ_VhrEMztKZ",
        "outputId": "8990077f-5e10-46fd-f816-d4573584b55a"
      },
      "outputs": [
        {
          "data": {
            "text/plain": [
              "dict_values([[5, 7, 9, 4, 0], [6, 7, 4, 3, 3], [9, 9, 6, 5, 5]])"
            ]
          },
          "execution_count": 59,
          "metadata": {},
          "output_type": "execute_result"
        }
      ],
      "source": [
        "test_dict.values()"
      ]
    },
    {
      "cell_type": "code",
      "execution_count": null,
      "metadata": {
        "colab": {
          "base_uri": "https://localhost:8080/",
          "height": 36
        },
        "id": "mTpmpx5v0BPJ",
        "outputId": "d94a2c44-67fd-42dd-ef82-5c3195090c3e"
      },
      "outputs": [
        {
          "data": {
            "application/vnd.google.colaboratory.intrinsic+json": {
              "type": "string"
            },
            "text/plain": [
              "'CampusX is the best channel for Data-Science students.'"
            ]
          },
          "execution_count": 79,
          "metadata": {},
          "output_type": "execute_result"
        }
      ],
      "source": [
        "test_str = 'CampusX best for DS students.'\n",
        "repl_dict = {\"best\" : \"is the best channel\", \"DS\" : \"Data-Science\"}\n",
        "\n",
        "a = test_str.split()\n",
        "index=0\n",
        "for i in repl_dict:\n",
        "  if i in a:\n",
        "    a[a.index(i)]= repl_dict[i]\n",
        "\n",
        "\" \".join(a)"
      ]
    },
    {
      "cell_type": "code",
      "execution_count": null,
      "metadata": {
        "colab": {
          "base_uri": "https://localhost:8080/"
        },
        "id": "l2DbjpY72ZWq",
        "outputId": "5dd93ba1-0d2c-422c-9d2c-2201bd2ba961"
      },
      "outputs": [
        {
          "data": {
            "text/plain": [
              "True"
            ]
          },
          "execution_count": 72,
          "metadata": {},
          "output_type": "execute_result"
        }
      ],
      "source": [
        "1 in [1,2,3]"
      ]
    },
    {
      "cell_type": "code",
      "execution_count": null,
      "metadata": {
        "colab": {
          "base_uri": "https://localhost:8080/"
        },
        "id": "EphDqG482bG4",
        "outputId": "97f4225f-19de-4137-ac2f-12b595043937"
      },
      "outputs": [
        {
          "data": {
            "text/plain": [
              "1"
            ]
          },
          "execution_count": 78,
          "metadata": {},
          "output_type": "execute_result"
        }
      ],
      "source": [
        "a.index('best')"
      ]
    },
    {
      "cell_type": "code",
      "execution_count": null,
      "metadata": {
        "colab": {
          "base_uri": "https://localhost:8080/"
        },
        "id": "7W5i87yx3g2I",
        "outputId": "839c513c-efae-45d2-b61c-eb36543036bf"
      },
      "outputs": [
        {
          "name": "stdout",
          "output_type": "stream",
          "text": [
            "0\n",
            "2\n"
          ]
        }
      ],
      "source": [
        "for i in range(0,4,2):\n",
        "  print(i)\n"
      ]
    },
    {
      "cell_type": "code",
      "execution_count": null,
      "metadata": {
        "colab": {
          "base_uri": "https://localhost:8080/"
        },
        "id": "gqGtJgU035jn",
        "outputId": "f1df1841-5a39-4210-97c2-65dd1b0149f5"
      },
      "outputs": [
        {
          "data": {
            "text/plain": [
              "{'DataScience': 3}"
            ]
          },
          "execution_count": 83,
          "metadata": {},
          "output_type": "execute_result"
        }
      ],
      "source": [
        "test_list = [\"DataScience\", 3, \"is\", 8]\n",
        "key_list = [\"name\", \"id\"]\n",
        "\n",
        "a={}\n",
        "\n",
        "for i in range(0,len(key_list),2):\n",
        "  a[test_list[i]] = test_list[i+1]\n",
        "a"
      ]
    },
    {
      "cell_type": "code",
      "execution_count": null,
      "metadata": {
        "colab": {
          "base_uri": "https://localhost:8080/"
        },
        "id": "cvEwQbN54xYG",
        "outputId": "d354c8fe-36fd-4c6a-c508-e3a156320ac3"
      },
      "outputs": [
        {
          "data": {
            "text/plain": [
              "{'CampusX': 'name', 10: 'id'}"
            ]
          },
          "execution_count": 84,
          "metadata": {},
          "output_type": "execute_result"
        }
      ],
      "source": [
        "test_list = [\"CampusX\", 10]\n",
        "key_list = [\"name\", \"id\"]\n",
        "\n",
        "{i:j for (i,j) in zip(test_list,key_list)}"
      ]
    },
    {
      "cell_type": "code",
      "execution_count": null,
      "metadata": {
        "colab": {
          "base_uri": "https://localhost:8080/"
        },
        "id": "vJnBZZyC5MXW",
        "outputId": "35840fb3-2ace-45b7-f679-e50318ebcd0f"
      },
      "outputs": [
        {
          "data": {
            "text/plain": [
              "{'akash': 10,\n",
              " 'gaurav': 12,\n",
              " 'anand': 14,\n",
              " 'suraj': 20,\n",
              " 'akhil': 25,\n",
              " 'ashish': 30}"
            ]
          },
          "execution_count": 85,
          "metadata": {},
          "output_type": "execute_result"
        }
      ],
      "source": [
        "a = [(\"akash\", 10), (\"gaurav\", 12), (\"anand\", 14), (\"suraj\", 20), (\"akhil\", 25), (\"ashish\", 30)]\n",
        "\n",
        "{i:j for (i,j) in a}"
      ]
    },
    {
      "cell_type": "code",
      "execution_count": null,
      "metadata": {
        "colab": {
          "base_uri": "https://localhost:8080/"
        },
        "id": "grvHi1bW5cpG",
        "outputId": "58a725ac-d39a-4073-8ffe-afd3f2384da8"
      },
      "outputs": [
        {
          "data": {
            "text/plain": [
              "{'A': [1], 'B': [2], 'C': [3]}"
            ]
          },
          "execution_count": 88,
          "metadata": {},
          "output_type": "execute_result"
        }
      ],
      "source": [
        "b = [('A', 1), ('B', 2), ('C', 3)]\n",
        "{i:[j] for (i,j) in b}"
      ]
    },
    {
      "cell_type": "code",
      "execution_count": null,
      "metadata": {
        "id": "lU96ioKd5kh-"
      },
      "outputs": [],
      "source": [
        "a = {'c': [3], 'b': [12, 10], 'a': [19, 4]}\n",
        "for i in a:\n",
        "  a[i].sort()"
      ]
    },
    {
      "cell_type": "code",
      "execution_count": null,
      "metadata": {
        "colab": {
          "base_uri": "https://localhost:8080/"
        },
        "id": "2ZRnAxSs52ZV",
        "outputId": "4d845b35-18a9-4fb0-d298-1ab169313716"
      },
      "outputs": [
        {
          "data": {
            "text/plain": [
              "['a', 'b', 'c']"
            ]
          },
          "execution_count": 98,
          "metadata": {},
          "output_type": "execute_result"
        }
      ],
      "source": [
        "sorted(a)"
      ]
    },
    {
      "cell_type": "code",
      "execution_count": null,
      "metadata": {
        "id": "ZN-nxklc6H2F"
      },
      "outputs": [],
      "source": [
        "sorted_dict = {k: sorted(v) for (k, v) in a.items()}"
      ]
    },
    {
      "cell_type": "code",
      "execution_count": null,
      "metadata": {
        "colab": {
          "base_uri": "https://localhost:8080/"
        },
        "id": "8cbPE_KA6rut",
        "outputId": "6f2252ee-4a03-4a1f-f1a5-19e931173c76"
      },
      "outputs": [
        {
          "data": {
            "text/plain": [
              "{'c': [3], 'b': [10, 12], 'a': [4, 19]}"
            ]
          },
          "execution_count": 102,
          "metadata": {},
          "output_type": "execute_result"
        }
      ],
      "source": [
        "sorted_dict"
      ]
    },
    {
      "cell_type": "markdown",
      "metadata": {
        "id": "0h4NWRGU2aqO"
      },
      "source": [
        "# ***Function***"
      ]
    },
    {
      "cell_type": "code",
      "execution_count": null,
      "metadata": {
        "id": "TwwfHDr96tiF"
      },
      "outputs": [],
      "source": [
        "def is_even(num):\n",
        "  \"\"\"\n",
        "  This function returns if a given number is odd or even\n",
        "  input - any valid integer\n",
        "  output - odd/even\n",
        "  created on - 16th Nov 2022\n",
        "  \"\"\"\n",
        "  if type(num) == int:\n",
        "    if num % 2 == 0:\n",
        "      return 'even'\n",
        "    else:\n",
        "      return 'odd'\n",
        "  else:\n",
        "    return 'pagal hai kya?'"
      ]
    },
    {
      "cell_type": "markdown",
      "metadata": {
        "id": "ksUSQdxq4ggG"
      },
      "source": [
        "# ***DOC READING***"
      ]
    },
    {
      "cell_type": "code",
      "execution_count": null,
      "metadata": {
        "colab": {
          "base_uri": "https://localhost:8080/"
        },
        "id": "yxAn-5Te4jWl",
        "outputId": "8bdf2761-597f-429b-f317-89329d3ac040"
      },
      "outputs": [
        {
          "name": "stdout",
          "output_type": "stream",
          "text": [
            "\n",
            "  This function returns if a given number is odd or even\n",
            "  input - any valid integer\n",
            "  output - odd/even\n",
            "  created on - 16th Nov 2022\n",
            "  \n"
          ]
        }
      ],
      "source": [
        "print(is_even.__doc__)"
      ]
    },
    {
      "cell_type": "code",
      "execution_count": null,
      "metadata": {
        "colab": {
          "base_uri": "https://localhost:8080/"
        },
        "id": "9bn5t7Rw43xs",
        "outputId": "9680645a-9534-4f75-fe24-82ee3c0473d7"
      },
      "outputs": [
        {
          "name": "stdout",
          "output_type": "stream",
          "text": [
            "max(iterable, *[, default=obj, key=func]) -> value\n",
            "max(arg1, arg2, *args, *[, key=func]) -> value\n",
            "\n",
            "With a single iterable argument, return its biggest item. The\n",
            "default keyword-only argument specifies an object to return if\n",
            "the provided iterable is empty.\n",
            "With two or more arguments, return the largest argument.\n"
          ]
        }
      ],
      "source": [
        "print(max.__doc__)"
      ]
    },
    {
      "cell_type": "code",
      "execution_count": null,
      "metadata": {
        "colab": {
          "base_uri": "https://localhost:8080/"
        },
        "id": "W7ySs20S2doS",
        "outputId": "d782f7c9-690a-4a20-b0ee-04aef7afaa67"
      },
      "outputs": [
        {
          "name": "stdout",
          "output_type": "stream",
          "text": [
            "odd\n",
            "even\n",
            "odd\n",
            "even\n",
            "odd\n",
            "even\n",
            "odd\n",
            "even\n",
            "odd\n",
            "even\n"
          ]
        }
      ],
      "source": [
        "# function\n",
        "# function_name(input)\n",
        "for i in range(1,11):\n",
        "  x = is_even(i)\n",
        "  print(x)"
      ]
    },
    {
      "cell_type": "markdown",
      "metadata": {
        "id": "4kEiZ8tV2oO2"
      },
      "source": [
        "### Parameters Vs Arguments\n",
        "### Types of Arguments\n",
        "\n",
        "- Default Argument\n",
        "- Positional Argument\n",
        "- Keyword Argument"
      ]
    },
    {
      "cell_type": "code",
      "execution_count": null,
      "metadata": {
        "id": "A3sNLYH22hxF"
      },
      "outputs": [],
      "source": [
        "def power(a=1,b=1):\n",
        "  return a**b"
      ]
    },
    {
      "cell_type": "code",
      "execution_count": null,
      "metadata": {
        "colab": {
          "base_uri": "https://localhost:8080/"
        },
        "id": "XEVS8gCX2ufd",
        "outputId": "065e615f-7c8a-455b-c51d-59a1e2684792"
      },
      "outputs": [
        {
          "data": {
            "text/plain": [
              "8"
            ]
          },
          "execution_count": 4,
          "metadata": {},
          "output_type": "execute_result"
        }
      ],
      "source": [
        "# positional argument\n",
        "power(2,3)"
      ]
    },
    {
      "cell_type": "code",
      "execution_count": null,
      "metadata": {
        "colab": {
          "base_uri": "https://localhost:8080/"
        },
        "id": "J6Ij6RXx2wWs",
        "outputId": "ee9d87e4-0537-4550-e70e-eac1cd3d179f"
      },
      "outputs": [
        {
          "data": {
            "text/plain": [
              "8"
            ]
          },
          "execution_count": 5,
          "metadata": {},
          "output_type": "execute_result"
        }
      ],
      "source": [
        "# keyword argument\n",
        "power(b=3,a=2)"
      ]
    },
    {
      "cell_type": "markdown",
      "metadata": {
        "id": "Ly5EpH_T2245"
      },
      "source": [
        "### `*args and **kwargs`\n",
        "`*args and **kwargs` are special Python keywords that are used to pass the variable length of arguments to a function"
      ]
    },
    {
      "cell_type": "code",
      "execution_count": null,
      "metadata": {
        "id": "mxx9uzjJ2xw0"
      },
      "outputs": [],
      "source": [
        "# *args\n",
        "# allows us to pass a variable number of non-keyword arguments to a function.\n",
        "def multiply(*args):\n",
        "  product =1\n",
        "  for i in args:\n",
        "    product *= i\n",
        "  print(product)"
      ]
    },
    {
      "cell_type": "code",
      "execution_count": null,
      "metadata": {
        "colab": {
          "base_uri": "https://localhost:8080/"
        },
        "id": "aO4HkTJ_3wVF",
        "outputId": "690578b0-3be6-43e3-bf33-563cecc9b5cb"
      },
      "outputs": [
        {
          "name": "stdout",
          "output_type": "stream",
          "text": [
            "24\n"
          ]
        }
      ],
      "source": [
        "multiply(1,2,3,4)"
      ]
    },
    {
      "cell_type": "markdown",
      "metadata": {
        "id": "CWaty2a26Oms"
      },
      "source": [
        "# **kwargs\n",
        "# **kwargs allows us to pass any number of keyword arguments.\n",
        "# Keyword arguments mean that they contain a key-value pair, like a Python dictionary."
      ]
    },
    {
      "cell_type": "code",
      "execution_count": null,
      "metadata": {
        "id": "GLHxRWm23yS0"
      },
      "outputs": [],
      "source": [
        "def display(**kwargs):\n",
        "  for (key,value) in kwargs.items():\n",
        "    print(key,'->',value)"
      ]
    },
    {
      "cell_type": "code",
      "execution_count": null,
      "metadata": {
        "colab": {
          "base_uri": "https://localhost:8080/"
        },
        "id": "KJGjVHQE6d5j",
        "outputId": "f5847326-decd-4ab9-ee0c-482f4b3bf39b"
      },
      "outputs": [
        {
          "name": "stdout",
          "output_type": "stream",
          "text": [
            "india -> delhi\n",
            "srilanka -> colombo\n",
            "nepal -> kathmandu\n"
          ]
        }
      ],
      "source": [
        "display(india='delhi',srilanka='colombo',nepal='kathmandu')"
      ]
    },
    {
      "cell_type": "markdown",
      "metadata": {
        "id": "jMPWLmik8uI7"
      },
      "source": [
        "### Without return statement"
      ]
    },
    {
      "cell_type": "code",
      "execution_count": null,
      "metadata": {
        "colab": {
          "base_uri": "https://localhost:8080/"
        },
        "id": "QJLTBGRl6iJ-",
        "outputId": "c79ede59-1fbf-40d3-845b-0bdb543de664"
      },
      "outputs": [
        {
          "name": "stdout",
          "output_type": "stream",
          "text": [
            "2\n",
            "None\n"
          ]
        }
      ],
      "source": [
        "def g(y):\n",
        "    print(y)\n",
        "\n",
        "print(g(2))"
      ]
    },
    {
      "cell_type": "code",
      "execution_count": null,
      "metadata": {
        "colab": {
          "base_uri": "https://localhost:8080/"
        },
        "id": "UozKFCXp8j0q",
        "outputId": "81fb0388-0945-41ea-aac0-4bdaa6e8f2ab"
      },
      "outputs": [
        {
          "name": "stdout",
          "output_type": "stream",
          "text": [
            "None\n",
            "[1, 2, 3, 4]\n"
          ]
        }
      ],
      "source": [
        "L = [1,2,3]\n",
        "print(L.append(4))\n",
        "print(L)"
      ]
    },
    {
      "cell_type": "markdown",
      "metadata": {
        "id": "s7rHUNkc9XeD"
      },
      "source": [
        "## Variable Scope"
      ]
    },
    {
      "cell_type": "code",
      "execution_count": null,
      "metadata": {
        "colab": {
          "base_uri": "https://localhost:8080/"
        },
        "id": "ZJS4keu39Avh",
        "outputId": "e66ab229-7138-475d-f653-fa201a50d3a6"
      },
      "outputs": [
        {
          "name": "stdout",
          "output_type": "stream",
          "text": [
            "5\n",
            "6\n",
            "5\n"
          ]
        }
      ],
      "source": [
        "def g(y):\n",
        "    print(x)\n",
        "    print(x+1)\n",
        "x = 5\n",
        "g(x)\n",
        "print(x)"
      ]
    },
    {
      "cell_type": "code",
      "execution_count": null,
      "metadata": {
        "colab": {
          "base_uri": "https://localhost:8080/"
        },
        "id": "Do5Anqjm9NYh",
        "outputId": "73ec4793-96b3-4da9-9d6c-b62b8d2b981b"
      },
      "outputs": [
        {
          "name": "stdout",
          "output_type": "stream",
          "text": [
            "2\n",
            "5\n"
          ]
        }
      ],
      "source": [
        "def f(y):\n",
        "    x = 1\n",
        "    x += 1\n",
        "    print(x)\n",
        "x = 5\n",
        "f(x)\n",
        "print(x)"
      ]
    },
    {
      "cell_type": "code",
      "execution_count": null,
      "metadata": {
        "colab": {
          "base_uri": "https://localhost:8080/",
          "height": 315
        },
        "id": "3HYZfZxA9ceZ",
        "outputId": "376d2e0e-3dc0-428b-c862-2fa92328f834"
      },
      "outputs": [
        {
          "ename": "UnboundLocalError",
          "evalue": "cannot access local variable 'x' where it is not associated with a value",
          "output_type": "error",
          "traceback": [
            "\u001b[0;31m---------------------------------------------------------------------------\u001b[0m",
            "\u001b[0;31mUnboundLocalError\u001b[0m                         Traceback (most recent call last)",
            "\u001b[0;32m/tmp/ipython-input-22-1829714546.py\u001b[0m in \u001b[0;36m<cell line: 0>\u001b[0;34m()\u001b[0m\n\u001b[1;32m      2\u001b[0m     \u001b[0mx\u001b[0m \u001b[0;34m+=\u001b[0m \u001b[0;36m1\u001b[0m\u001b[0;34m\u001b[0m\u001b[0;34m\u001b[0m\u001b[0m\n\u001b[1;32m      3\u001b[0m \u001b[0mx\u001b[0m \u001b[0;34m=\u001b[0m \u001b[0;36m5\u001b[0m\u001b[0;34m\u001b[0m\u001b[0;34m\u001b[0m\u001b[0m\n\u001b[0;32m----> 4\u001b[0;31m \u001b[0mh\u001b[0m\u001b[0;34m(\u001b[0m\u001b[0mx\u001b[0m\u001b[0;34m)\u001b[0m\u001b[0;34m\u001b[0m\u001b[0;34m\u001b[0m\u001b[0m\n\u001b[0m\u001b[1;32m      5\u001b[0m \u001b[0mprint\u001b[0m\u001b[0;34m(\u001b[0m\u001b[0mx\u001b[0m\u001b[0;34m)\u001b[0m\u001b[0;34m\u001b[0m\u001b[0;34m\u001b[0m\u001b[0m\n",
            "\u001b[0;32m/tmp/ipython-input-22-1829714546.py\u001b[0m in \u001b[0;36mh\u001b[0;34m(y)\u001b[0m\n\u001b[1;32m      1\u001b[0m \u001b[0;32mdef\u001b[0m \u001b[0mh\u001b[0m\u001b[0;34m(\u001b[0m\u001b[0my\u001b[0m\u001b[0;34m)\u001b[0m\u001b[0;34m:\u001b[0m\u001b[0;34m\u001b[0m\u001b[0;34m\u001b[0m\u001b[0m\n\u001b[0;32m----> 2\u001b[0;31m     \u001b[0mx\u001b[0m \u001b[0;34m+=\u001b[0m \u001b[0;36m1\u001b[0m\u001b[0;34m\u001b[0m\u001b[0;34m\u001b[0m\u001b[0m\n\u001b[0m\u001b[1;32m      3\u001b[0m \u001b[0mx\u001b[0m \u001b[0;34m=\u001b[0m \u001b[0;36m5\u001b[0m\u001b[0;34m\u001b[0m\u001b[0;34m\u001b[0m\u001b[0m\n\u001b[1;32m      4\u001b[0m \u001b[0mh\u001b[0m\u001b[0;34m(\u001b[0m\u001b[0mx\u001b[0m\u001b[0;34m)\u001b[0m\u001b[0;34m\u001b[0m\u001b[0;34m\u001b[0m\u001b[0m\n\u001b[1;32m      5\u001b[0m \u001b[0mprint\u001b[0m\u001b[0;34m(\u001b[0m\u001b[0mx\u001b[0m\u001b[0;34m)\u001b[0m\u001b[0;34m\u001b[0m\u001b[0;34m\u001b[0m\u001b[0m\n",
            "\u001b[0;31mUnboundLocalError\u001b[0m: cannot access local variable 'x' where it is not associated with a value"
          ]
        }
      ],
      "source": [
        "def h(y):\n",
        "    x += 1\n",
        "x = 5\n",
        "h(x)\n",
        "print(x)"
      ]
    },
    {
      "cell_type": "markdown",
      "metadata": {
        "id": "rcfFU-55_Y_B"
      },
      "source": [
        "# **You can still change the global variable**"
      ]
    },
    {
      "cell_type": "code",
      "execution_count": null,
      "metadata": {
        "colab": {
          "base_uri": "https://localhost:8080/"
        },
        "id": "OwBQ6ZIt_fwh",
        "outputId": "cf7c04b2-7394-433b-9815-4fd9e642b509"
      },
      "outputs": [
        {
          "name": "stdout",
          "output_type": "stream",
          "text": [
            "6\n"
          ]
        }
      ],
      "source": [
        "def h(y):\n",
        "    global x\n",
        "    x += 1\n",
        "x = 5\n",
        "h(x)\n",
        "print(x)"
      ]
    },
    {
      "cell_type": "code",
      "execution_count": null,
      "metadata": {
        "colab": {
          "base_uri": "https://localhost:8080/"
        },
        "id": "rhe7G8DD9huZ",
        "outputId": "281db683-2f1a-4957-8851-e3df5428f355"
      },
      "outputs": [
        {
          "name": "stdout",
          "output_type": "stream",
          "text": [
            "6\n",
            "5\n"
          ]
        }
      ],
      "source": [
        "def h(x):\n",
        "    x += 1\n",
        "    print(x)\n",
        "x = 5\n",
        "h(x)\n",
        "print(x)"
      ]
    },
    {
      "cell_type": "code",
      "execution_count": null,
      "metadata": {
        "colab": {
          "base_uri": "https://localhost:8080/"
        },
        "id": "6frndl5T9vFY",
        "outputId": "2f9043f2-a322-4806-9184-1d0c12b34e29"
      },
      "outputs": [
        {
          "name": "stdout",
          "output_type": "stream",
          "text": [
            "in f(x): x = 4\n",
            "in main program scope: z = 4\n",
            "in main program scope: x = 3\n"
          ]
        }
      ],
      "source": [
        "def f(x):\n",
        "   x = x + 1\n",
        "   print('in f(x): x =', x)\n",
        "   return x\n",
        "\n",
        "x = 3\n",
        "z = f(x)\n",
        "print('in main program scope: z =', z)\n",
        "print('in main program scope: x =', x)"
      ]
    },
    {
      "cell_type": "markdown",
      "metadata": {
        "id": "ikM9TFsNf4AZ"
      },
      "source": [
        "### Nested Functions\n"
      ]
    },
    {
      "cell_type": "code",
      "execution_count": null,
      "metadata": {
        "colab": {
          "base_uri": "https://localhost:8080/"
        },
        "id": "YneeZlWV92vI",
        "outputId": "d7643675-e427-4825-fc2a-36b1136b6cb9"
      },
      "outputs": [
        {
          "name": "stdout",
          "output_type": "stream",
          "text": [
            "in g(x): x = 4\n"
          ]
        }
      ],
      "source": [
        "def g(x):\n",
        "    def h():\n",
        "        x = 'abc'\n",
        "    x = x + 1\n",
        "    print('in g(x): x =', x)\n",
        "    h()\n",
        "    return x\n",
        "\n",
        "x = 3\n",
        "z = g(x)\n",
        "z"
      ]
    },
    {
      "cell_type": "code",
      "execution_count": null,
      "metadata": {
        "colab": {
          "base_uri": "https://localhost:8080/"
        },
        "id": "uAcuPXFLf8Q4",
        "outputId": "3319e815-a192-4bc6-bc02-1ea32bd6d5a4"
      },
      "outputs": [
        {
          "name": "stdout",
          "output_type": "stream",
          "text": [
            "in g(x): x =  4\n",
            "in h(x): x =  5\n",
            "in main program scope: x =  3\n",
            "in main program scope: z =  4\n"
          ]
        }
      ],
      "source": [
        "def g(x):\n",
        "    def h(x):\n",
        "        x = x+1\n",
        "        print(\"in h(x): x = \", x)\n",
        "    x = x + 1\n",
        "    print('in g(x): x = ', x)\n",
        "    h(x)\n",
        "    return x\n",
        "\n",
        "x = 3\n",
        "z = g(x)\n",
        "print('in main program scope: x = ', x)\n",
        "print('in main program scope: z = ', z)"
      ]
    },
    {
      "cell_type": "markdown",
      "metadata": {
        "id": "L8_9h97BgwjP"
      },
      "source": [
        "### Functions are 1st class citizens"
      ]
    },
    {
      "cell_type": "code",
      "execution_count": null,
      "metadata": {
        "colab": {
          "base_uri": "https://localhost:8080/"
        },
        "id": "i5YL2e67gT-u",
        "outputId": "9155a117-a7e5-4bc2-abcd-2f4d305d6db9"
      },
      "outputs": [
        {
          "data": {
            "text/plain": [
              "function"
            ]
          },
          "execution_count": 20,
          "metadata": {},
          "output_type": "execute_result"
        }
      ],
      "source": [
        "def square(num):\n",
        "  return num**2\n",
        "\n",
        "type(square)"
      ]
    },
    {
      "cell_type": "code",
      "execution_count": null,
      "metadata": {
        "colab": {
          "base_uri": "https://localhost:8080/"
        },
        "id": "rKn37r7BgtzG",
        "outputId": "ba058954-491a-407a-8394-b33c9cce0d64"
      },
      "outputs": [
        {
          "data": {
            "text/plain": [
              "134654378964160"
            ]
          },
          "execution_count": 21,
          "metadata": {},
          "output_type": "execute_result"
        }
      ],
      "source": [
        "id(square)"
      ]
    },
    {
      "cell_type": "code",
      "execution_count": null,
      "metadata": {
        "colab": {
          "base_uri": "https://localhost:8080/"
        },
        "id": "Nh1OxxC8g1b1",
        "outputId": "b31de8a3-cc6d-4c36-bb41-4303f5c6aaeb"
      },
      "outputs": [
        {
          "data": {
            "text/plain": [
              "134654378964160"
            ]
          },
          "execution_count": 22,
          "metadata": {},
          "output_type": "execute_result"
        }
      ],
      "source": [
        "# reassign\n",
        "x = square\n",
        "id(x)\n"
      ]
    },
    {
      "cell_type": "code",
      "execution_count": null,
      "metadata": {
        "colab": {
          "base_uri": "https://localhost:8080/"
        },
        "id": "UtKneDoig3l-",
        "outputId": "4fd4f18b-db2c-4877-863a-483097a947ed"
      },
      "outputs": [
        {
          "data": {
            "text/plain": [
              "1849"
            ]
          },
          "execution_count": 15,
          "metadata": {},
          "output_type": "execute_result"
        }
      ],
      "source": [
        "x(43)"
      ]
    },
    {
      "cell_type": "code",
      "execution_count": null,
      "metadata": {
        "id": "apWcro49g5yd"
      },
      "outputs": [],
      "source": [
        "# deleting a function\n",
        "del square"
      ]
    },
    {
      "cell_type": "code",
      "execution_count": null,
      "metadata": {
        "colab": {
          "base_uri": "https://localhost:8080/"
        },
        "id": "Dyk77OkNhDBB",
        "outputId": "73412ec0-8b4a-47be-afe6-89f1c7c85757"
      },
      "outputs": [
        {
          "data": {
            "text/plain": [
              "4"
            ]
          },
          "execution_count": 17,
          "metadata": {},
          "output_type": "execute_result"
        }
      ],
      "source": [
        "x(2)"
      ]
    },
    {
      "cell_type": "code",
      "execution_count": null,
      "metadata": {
        "id": "UXdY2_ZThDf9"
      },
      "outputs": [],
      "source": [
        "del x"
      ]
    },
    {
      "cell_type": "code",
      "execution_count": null,
      "metadata": {
        "colab": {
          "base_uri": "https://localhost:8080/",
          "height": 141
        },
        "id": "VDOrgJu2hMRN",
        "outputId": "9c6d201d-24dc-464c-dfd0-d8f434024957"
      },
      "outputs": [
        {
          "ename": "NameError",
          "evalue": "name 'x' is not defined",
          "output_type": "error",
          "traceback": [
            "\u001b[0;31m---------------------------------------------------------------------------\u001b[0m",
            "\u001b[0;31mNameError\u001b[0m                                 Traceback (most recent call last)",
            "\u001b[0;32m/tmp/ipython-input-19-602585053.py\u001b[0m in \u001b[0;36m<cell line: 0>\u001b[0;34m()\u001b[0m\n\u001b[0;32m----> 1\u001b[0;31m \u001b[0mx\u001b[0m\u001b[0;34m(\u001b[0m\u001b[0;36m3\u001b[0m\u001b[0;34m)\u001b[0m\u001b[0;34m\u001b[0m\u001b[0;34m\u001b[0m\u001b[0m\n\u001b[0m",
            "\u001b[0;31mNameError\u001b[0m: name 'x' is not defined"
          ]
        }
      ],
      "source": [
        "x(3)"
      ]
    },
    {
      "cell_type": "code",
      "execution_count": null,
      "metadata": {
        "colab": {
          "base_uri": "https://localhost:8080/"
        },
        "id": "qHr1kAZfhM9V",
        "outputId": "18759652-0849-4012-b7a1-303b96230666"
      },
      "outputs": [
        {
          "data": {
            "text/plain": [
              "9"
            ]
          },
          "execution_count": 23,
          "metadata": {},
          "output_type": "execute_result"
        }
      ],
      "source": [
        "# storing\n",
        "L = [1,2,3,4,square]\n",
        "L[-1](3)"
      ]
    },
    {
      "cell_type": "code",
      "execution_count": null,
      "metadata": {
        "colab": {
          "base_uri": "https://localhost:8080/"
        },
        "id": "dGrwLLWHips0",
        "outputId": "b9a2fc62-6c77-4a51-ba09-1f787c979d64"
      },
      "outputs": [
        {
          "data": {
            "text/plain": [
              "{2, <function __main__.square(num)>}"
            ]
          },
          "execution_count": 27,
          "metadata": {},
          "output_type": "execute_result"
        }
      ],
      "source": [
        "s = {square,2}\n",
        "s"
      ]
    },
    {
      "cell_type": "markdown",
      "metadata": {
        "id": "KXMD4f1ilLP7"
      },
      "source": [
        "# returning a function"
      ]
    },
    {
      "cell_type": "code",
      "execution_count": null,
      "metadata": {
        "colab": {
          "base_uri": "https://localhost:8080/"
        },
        "id": "VjHvnhrIiuiM",
        "outputId": "a1020083-f8b2-4e8a-f0e1-4b970fe4c5c2"
      },
      "outputs": [
        {
          "name": "stdout",
          "output_type": "stream",
          "text": [
            "7\n"
          ]
        }
      ],
      "source": [
        "def f():\n",
        "    def x(a, b):\n",
        "        return a+b\n",
        "    return x\n",
        "\n",
        "val = f()(3,4)\n",
        "print(val)"
      ]
    },
    {
      "cell_type": "code",
      "execution_count": null,
      "metadata": {
        "colab": {
          "base_uri": "https://localhost:8080/"
        },
        "id": "n9m36Fw7lSoj",
        "outputId": "f8d4210b-2a29-4940-c718-76161e07e643"
      },
      "outputs": [
        {
          "data": {
            "text/plain": [
              "3"
            ]
          },
          "execution_count": 29,
          "metadata": {},
          "output_type": "execute_result"
        }
      ],
      "source": [
        "def f():\n",
        "  def x(a,b):\n",
        "    return a+b\n",
        "  return x\n",
        "\n",
        "v = f()(1,2)\n",
        "v"
      ]
    },
    {
      "cell_type": "code",
      "execution_count": null,
      "metadata": {
        "colab": {
          "base_uri": "https://localhost:8080/"
        },
        "id": "TSqfLV2oleq7",
        "outputId": "f4e6187a-14a1-4db5-9096-43ed8ae9715e"
      },
      "outputs": [
        {
          "name": "stdout",
          "output_type": "stream",
          "text": [
            "Hello z\n",
            "Hello a\n"
          ]
        }
      ],
      "source": [
        "def a():\n",
        "  print(\"Hello a\")\n",
        "\n",
        "def z(x):\n",
        "  print(\"Hello z\")\n",
        "  return x()\n",
        "z(a)"
      ]
    },
    {
      "cell_type": "markdown",
      "metadata": {
        "id": "8JkguK3bwU-C"
      },
      "source": [
        "### Lambda Function\n",
        "\n",
        "A lambda function is a small anonymous function.\n",
        "\n",
        "A lambda function can take any number of arguments, but can only have one expression.\n",
        "\n",
        "![image.png](data:image/png;base64,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)"
      ]
    },
    {
      "cell_type": "code",
      "execution_count": null,
      "metadata": {
        "colab": {
          "base_uri": "https://localhost:8080/"
        },
        "id": "Mm2gyXxVmIHT",
        "outputId": "2a60a173-cef6-419f-c494-238f2eb70b6f"
      },
      "outputs": [
        {
          "data": {
            "text/plain": [
              "5"
            ]
          },
          "execution_count": 31,
          "metadata": {},
          "output_type": "execute_result"
        }
      ],
      "source": [
        "a = lambda x,y:x+y\n",
        "a(2,3)"
      ]
    },
    {
      "cell_type": "code",
      "execution_count": null,
      "metadata": {
        "colab": {
          "base_uri": "https://localhost:8080/"
        },
        "id": "K9qmyPeswZtu",
        "outputId": "b5557b58-cf09-45d8-ca9b-e4cb2dcfe8e7"
      },
      "outputs": [
        {
          "data": {
            "text/plain": [
              "16"
            ]
          },
          "execution_count": 33,
          "metadata": {},
          "output_type": "execute_result"
        }
      ],
      "source": [
        "z = lambda x:x**2\n",
        "z(4)"
      ]
    },
    {
      "cell_type": "markdown",
      "metadata": {
        "id": "c9NJvyRGwooO"
      },
      "source": [
        "#### Diff between lambda vs Normal Function\n",
        "\n",
        "- No name\n",
        "- lambda has no return value(infact,returns a function)\n",
        "- lambda is written in 1 line\n",
        "- not reusable\n",
        "\n",
        "Then why use lambda functions?<br>\n",
        "**They are used with HOF**\n"
      ]
    },
    {
      "cell_type": "code",
      "execution_count": null,
      "metadata": {
        "colab": {
          "base_uri": "https://localhost:8080/"
        },
        "id": "NJ8blBkfwh--",
        "outputId": "0956f3fa-cf6a-460d-83f6-dd3f17a0ab6a"
      },
      "outputs": [
        {
          "data": {
            "text/plain": [
              "False"
            ]
          },
          "execution_count": 34,
          "metadata": {},
          "output_type": "execute_result"
        }
      ],
      "source": [
        "# check if a string has 'a'\n",
        "a = lambda s:'a' in s\n",
        "a('hello')"
      ]
    },
    {
      "cell_type": "code",
      "execution_count": null,
      "metadata": {
        "colab": {
          "base_uri": "https://localhost:8080/",
          "height": 36
        },
        "id": "husDgJWowu0-",
        "outputId": "dfd5b91f-cc37-4919-9e7d-e796dca24403"
      },
      "outputs": [
        {
          "data": {
            "application/vnd.google.colaboratory.intrinsic+json": {
              "type": "string"
            },
            "text/plain": [
              "'odd'"
            ]
          },
          "execution_count": 36,
          "metadata": {},
          "output_type": "execute_result"
        }
      ],
      "source": [
        "a = lambda i:'even' if i%2==0 else 'odd'\n",
        "a(3)"
      ]
    },
    {
      "cell_type": "markdown",
      "metadata": {
        "id": "PpYIYcvNxAok"
      },
      "source": [
        "### Higher Order Functions"
      ]
    },
    {
      "cell_type": "code",
      "execution_count": null,
      "metadata": {
        "colab": {
          "base_uri": "https://localhost:8080/"
        },
        "id": "SuXCHAdpw85G",
        "outputId": "a4a932e4-da18-4db6-9d2b-f27c7174db1b"
      },
      "outputs": [
        {
          "name": "stdout",
          "output_type": "stream",
          "text": [
            "[False, True, False, True, False]\n"
          ]
        }
      ],
      "source": [
        "# Example\n",
        "\n",
        "def square(x):\n",
        "  return x**2\n",
        "\n",
        "def cube(x):\n",
        "  return x**3\n",
        "#HOF\n",
        "\n",
        "def a(f,L):\n",
        "  output=[]\n",
        "  for i in L:\n",
        "    output.append(f(i))\n",
        "  print(output)\n",
        "\n",
        "L = [1,2,3,4,5]\n",
        "a(lambda x:x%2==0,L)"
      ]
    },
    {
      "cell_type": "markdown",
      "metadata": {
        "id": "v4jDFqdTySCY"
      },
      "source": [
        "### Map\n",
        "\n",
        "- map(function,list)"
      ]
    },
    {
      "cell_type": "code",
      "execution_count": null,
      "metadata": {
        "id": "GlFEVF9DE45v"
      },
      "outputs": [],
      "source": []
    },
    {
      "cell_type": "code",
      "execution_count": null,
      "metadata": {
        "colab": {
          "base_uri": "https://localhost:8080/"
        },
        "id": "9M0f5C91x46u",
        "outputId": "fc8f3258-7da5-41d4-ea97-804342ef7e46"
      },
      "outputs": [
        {
          "data": {
            "text/plain": [
              "[4, 9, 16, 25]"
            ]
          },
          "execution_count": 40,
          "metadata": {},
          "output_type": "execute_result"
        }
      ],
      "source": [
        "list(map(lambda x:x**2,[2,3,4,5]))"
      ]
    },
    {
      "cell_type": "code",
      "execution_count": null,
      "metadata": {
        "colab": {
          "base_uri": "https://localhost:8080/"
        },
        "id": "fOQIoupeyxD9",
        "outputId": "2b45a5cb-c428-4ac2-8148-47f44a0bcc06"
      },
      "outputs": [
        {
          "data": {
            "text/plain": [
              "['odd', 'even', 'odd', 'even', 'odd']"
            ]
          },
          "execution_count": 42,
          "metadata": {},
          "output_type": "execute_result"
        }
      ],
      "source": [
        "L = [1,2,3,4,5]\n",
        "list(map(lambda x:'even' if x%2==0 else 'odd',L))"
      ]
    },
    {
      "cell_type": "code",
      "execution_count": null,
      "metadata": {
        "colab": {
          "base_uri": "https://localhost:8080/"
        },
        "id": "QmppJTA-zFx2",
        "outputId": "43a60ea0-ad13-4c40-8dfd-9bbed00b368e"
      },
      "outputs": [
        {
          "data": {
            "text/plain": [
              "['male', 'male', 'female']"
            ]
          },
          "execution_count": 44,
          "metadata": {},
          "output_type": "execute_result"
        }
      ],
      "source": [
        "# fetch names from a list of dict\n",
        "\n",
        "users = [\n",
        "    {\n",
        "        'name':'Rahul',\n",
        "        'age':45,\n",
        "        'gender':'male'\n",
        "    },\n",
        "    {\n",
        "        'name':'Nitish',\n",
        "        'age':33,\n",
        "        'gender':'male'\n",
        "    },\n",
        "    {\n",
        "        'name':'Ankita',\n",
        "        'age':50,\n",
        "        'gender':'female'\n",
        "    }\n",
        "]\n",
        "\n",
        "list(map(lambda user:user['gender'],users))"
      ]
    },
    {
      "cell_type": "markdown",
      "metadata": {
        "id": "zkdWHNRF0FjR"
      },
      "source": [
        "### Filter\n",
        "- filter(function return true,List)"
      ]
    },
    {
      "cell_type": "code",
      "execution_count": null,
      "metadata": {
        "colab": {
          "base_uri": "https://localhost:8080/"
        },
        "id": "GnwjFXidzYQV",
        "outputId": "4b3b4ce7-1416-4f41-817d-54c9258b8b5d"
      },
      "outputs": [
        {
          "data": {
            "text/plain": [
              "[12, 7, 8]"
            ]
          },
          "execution_count": 45,
          "metadata": {},
          "output_type": "execute_result"
        }
      ],
      "source": [
        "list(filter(lambda x:x>5,[12,7,2,4,8]))"
      ]
    },
    {
      "cell_type": "code",
      "execution_count": null,
      "metadata": {
        "colab": {
          "base_uri": "https://localhost:8080/"
        },
        "id": "_wV-LVQi0ZS3",
        "outputId": "52d0fc9e-5606-4545-8d7e-9fcc9117fa2e"
      },
      "outputs": [
        {
          "data": {
            "text/plain": [
              "['apple']"
            ]
          },
          "execution_count": 46,
          "metadata": {},
          "output_type": "execute_result"
        }
      ],
      "source": [
        "# fetch fruits starting with 'a'\n",
        "fruits = ['apple','guava','cherry']\n",
        "\n",
        "list(filter(lambda x:x.startswith('a'),fruits))"
      ]
    },
    {
      "cell_type": "code",
      "execution_count": null,
      "metadata": {
        "colab": {
          "base_uri": "https://localhost:8080/"
        },
        "id": "S2R77CXK05cE",
        "outputId": "fe0438f7-9323-4b64-f832-244b61a2d8b9"
      },
      "outputs": [
        {
          "data": {
            "text/plain": [
              "[{'name': 'Rahul', 'age': 45, 'gender': 'male'},\n",
              " {'name': 'Ankita', 'age': 50, 'gender': 'female'}]"
            ]
          },
          "execution_count": 47,
          "metadata": {},
          "output_type": "execute_result"
        }
      ],
      "source": [
        "users = [\n",
        "    {\n",
        "        'name':'Rahul',\n",
        "        'age':45,\n",
        "        'gender':'male'\n",
        "    },\n",
        "    {\n",
        "        'name':'Nitish',\n",
        "        'age':33,\n",
        "        'gender':'male'\n",
        "    },\n",
        "    {\n",
        "        'name':'Ankita',\n",
        "        'age':50,\n",
        "        'gender':'female'\n",
        "    }\n",
        "]\n",
        "\n",
        "list(filter(lambda user :user['age'] != 33,users ))"
      ]
    },
    {
      "cell_type": "markdown",
      "metadata": {
        "id": "02hb9JSZ1Map"
      },
      "source": [
        "### Reduce"
      ]
    },
    {
      "cell_type": "code",
      "execution_count": null,
      "metadata": {
        "colab": {
          "base_uri": "https://localhost:8080/"
        },
        "id": "T2l63N3_1JGs",
        "outputId": "4878e635-54fe-4277-86ee-4c562de5c8b5"
      },
      "outputs": [
        {
          "data": {
            "text/plain": [
              "15"
            ]
          },
          "execution_count": 48,
          "metadata": {},
          "output_type": "execute_result"
        }
      ],
      "source": [
        "# sum of all item\n",
        "import functools\n",
        "\n",
        "functools.reduce(lambda x,y:x+y,[1,2,3,4,5])"
      ]
    },
    {
      "cell_type": "code",
      "execution_count": null,
      "metadata": {
        "colab": {
          "base_uri": "https://localhost:8080/"
        },
        "id": "mMGINgF21XWs",
        "outputId": "8777d2c5-0988-4b28-85ff-09ecbe956f03"
      },
      "outputs": [
        {
          "data": {
            "text/plain": [
              "4"
            ]
          },
          "execution_count": 51,
          "metadata": {},
          "output_type": "execute_result"
        }
      ],
      "source": [
        "import functools\n",
        "functools.reduce(lambda x,y:x if x>y else y,[1,2,3,4])"
      ]
    },
    {
      "cell_type": "code",
      "execution_count": null,
      "metadata": {
        "colab": {
          "base_uri": "https://localhost:8080/"
        },
        "id": "mO_WUZxQ1kdM",
        "outputId": "3d25964a-5d8a-4d6c-ffc2-e35c549bf2e2"
      },
      "outputs": [
        {
          "data": {
            "text/plain": [
              "[1, 2, 3, 5]"
            ]
          },
          "execution_count": 54,
          "metadata": {},
          "output_type": "execute_result"
        }
      ],
      "source": [
        "def l(li):\n",
        "  return list(set(li))\n",
        "\n",
        "li = [1,2,3,2,3,1,5,5]\n",
        "l(li)"
      ]
    },
    {
      "cell_type": "code",
      "execution_count": null,
      "metadata": {
        "colab": {
          "base_uri": "https://localhost:8080/",
          "height": 36
        },
        "id": "ek39_odz9KS6",
        "outputId": "e9872604-dbf1-4785-c39a-b6ec5a7e4fa1"
      },
      "outputs": [
        {
          "data": {
            "application/vnd.google.colaboratory.intrinsic+json": {
              "type": "string"
            },
            "text/plain": [
              "'black-green-red-white-yellow'"
            ]
          },
          "execution_count": 57,
          "metadata": {},
          "output_type": "execute_result"
        }
      ],
      "source": [
        "a = 'green-red-yellow-black-white'\n",
        "\n",
        "def s(a):\n",
        "  list_word = a.split(\"-\")\n",
        "  return \"-\".join(sorted(list_word))\n",
        "s(a)"
      ]
    },
    {
      "cell_type": "code",
      "execution_count": null,
      "metadata": {
        "colab": {
          "base_uri": "https://localhost:8080/"
        },
        "id": "cnv3L9nH9uta",
        "outputId": "2837366a-fcc3-43b1-904c-8096446a7fc8"
      },
      "outputs": [
        {
          "data": {
            "text/plain": [
              "[2, 4, 6, 8]"
            ]
          },
          "execution_count": 59,
          "metadata": {},
          "output_type": "execute_result"
        }
      ],
      "source": [
        "SampleList = [1, 2, 3, 4, 5, 6, 7, 8, 9]\n",
        "\n",
        "list(filter(lambda x: x%2==0,SampleList))"
      ]
    },
    {
      "cell_type": "code",
      "execution_count": null,
      "metadata": {
        "colab": {
          "base_uri": "https://localhost:8080/"
        },
        "id": "ioKb42Vz-Fxp",
        "outputId": "654d079c-8e2c-4fd1-fd43-7661ad28e6b5"
      },
      "outputs": [
        {
          "data": {
            "text/plain": [
              "{1: 10, 2: 20, 3: 30, 4: 40, 5: 50, 6: 60}"
            ]
          },
          "execution_count": 64,
          "metadata": {},
          "output_type": "execute_result"
        }
      ],
      "source": [
        "dict1={1:10, 2:20}\n",
        "dict2={3:30, 4:40}\n",
        "dict3={5:50,6:60}\n",
        "\n",
        "def con(*args):\n",
        "  s = {}\n",
        "  for i in args:\n",
        "    s.update(i)\n",
        "  return s\n",
        "con(dict1,dict2,dict3)"
      ]
    },
    {
      "cell_type": "code",
      "execution_count": null,
      "metadata": {
        "id": "PdwH4dD6-saT"
      },
      "outputs": [],
      "source": [
        "inpu ='hello how are you i am fine thank you'\n",
        "\n",
        "def occurence(inpu):\n",
        "  a = inpu.split()\n",
        "  print(a)\n",
        "  maqx =0\n",
        "  value = None\n",
        "  for i in a:\n",
        "    if a.count(i) > maqx:\n",
        "      maqx = a.count(i)\n",
        "      value = i\n",
        "  return value,maqx"
      ]
    },
    {
      "cell_type": "code",
      "execution_count": null,
      "metadata": {
        "colab": {
          "base_uri": "https://localhost:8080/"
        },
        "id": "yUYDeF4X_8WY",
        "outputId": "7276971b-3c80-4590-8462-1cb09696e9db"
      },
      "outputs": [
        {
          "name": "stdout",
          "output_type": "stream",
          "text": [
            "['hello', 'how', 'are', 'you', 'i', 'am', 'fine', 'thank', 'you']\n"
          ]
        },
        {
          "data": {
            "text/plain": [
              "('you', 2)"
            ]
          },
          "execution_count": 76,
          "metadata": {},
          "output_type": "execute_result"
        }
      ],
      "source": [
        "occurence(inpu)"
      ]
    },
    {
      "cell_type": "code",
      "execution_count": null,
      "metadata": {
        "colab": {
          "base_uri": "https://localhost:8080/"
        },
        "id": "gmRtNaWsAAQY",
        "outputId": "b4656fa6-fa42-42c3-a2ab-5a9bbc69d042"
      },
      "outputs": [
        {
          "data": {
            "text/plain": [
              "2"
            ]
          },
          "execution_count": 70,
          "metadata": {},
          "output_type": "execute_result"
        }
      ],
      "source": [
        "l =[1,1,2,3,3]\n",
        "l.count(1)"
      ]
    },
    {
      "cell_type": "code",
      "execution_count": null,
      "metadata": {
        "colab": {
          "base_uri": "https://localhost:8080/"
        },
        "id": "75dGShQxAL1x",
        "outputId": "ed8bed32-608e-4cd4-86f8-fe800e2c298e"
      },
      "outputs": [
        {
          "data": {
            "text/plain": [
              "[1, 2, 3, 4]"
            ]
          },
          "execution_count": 77,
          "metadata": {},
          "output_type": "execute_result"
        }
      ],
      "source": [
        "import functools\n",
        "\n",
        "a = [[1,2],[3,4]]\n",
        "\n",
        "functools.reduce(lambda x,y:x+y,a)"
      ]
    },
    {
      "cell_type": "code",
      "execution_count": null,
      "metadata": {
        "colab": {
          "base_uri": "https://localhost:8080/"
        },
        "id": "Xm9NcNxfBtVU",
        "outputId": "dd857915-6e2c-491c-a9a7-3af05dfbac93"
      },
      "outputs": [
        {
          "data": {
            "text/plain": [
              "['A', 'i', 'a']"
            ]
          },
          "execution_count": 78,
          "metadata": {},
          "output_type": "execute_result"
        }
      ],
      "source": [
        "s = 'Aditya'\n",
        "list(filter(lambda x:x.lower() in ['a','e','i','o','u'],list(s)))\n"
      ]
    },
    {
      "cell_type": "code",
      "execution_count": null,
      "metadata": {
        "colab": {
          "base_uri": "https://localhost:8080/"
        },
        "id": "lfcQ701iEQKm",
        "outputId": "a399611c-2fee-42ca-cab4-bfbd62433bf4"
      },
      "outputs": [
        {
          "name": "stdout",
          "output_type": "stream",
          "text": [
            "Sum of three lists: [12, 15, 18]\n"
          ]
        }
      ],
      "source": [
        "# Define the three lists\n",
        "list1 = [1, 2, 3]\n",
        "list2 = [4, 5, 6]\n",
        "list3 = [7, 8, 9]\n",
        "\n",
        "# Use map and lambda to add the lists element-wise\n",
        "result = list(map(lambda x, y, z: x + y + z, list1, list2, list3))\n",
        "\n",
        "# Print the result\n",
        "print(\"Sum of three lists:\", result)\n"
      ]
    },
    {
      "cell_type": "code",
      "execution_count": null,
      "metadata": {
        "colab": {
          "base_uri": "https://localhost:8080/"
        },
        "id": "N2EcfYtDFIAl",
        "outputId": "5ccc676b-1d8b-4065-8793-daccfbcb5cc8"
      },
      "outputs": [
        {
          "name": "stdout",
          "output_type": "stream",
          "text": [
            "The string is in uppercase.\n"
          ]
        }
      ],
      "source": [
        "text = \"HELLO\"\n",
        "\n",
        "if text.isupper():\n",
        "    print(\"The string is in uppercase.\")\n",
        "else:\n",
        "    print(\"The string is not in uppercase.\")\n"
      ]
    },
    {
      "cell_type": "code",
      "execution_count": null,
      "metadata": {
        "colab": {
          "base_uri": "https://localhost:8080/",
          "height": 36
        },
        "id": "cTw1x8qmnNcC",
        "outputId": "4d7e6da3-87b6-48ae-8fb4-16ccad7c5ca0"
      },
      "outputs": [
        {
          "data": {
            "application/vnd.google.colaboratory.intrinsic+json": {
              "type": "string"
            },
            "text/plain": [
              "'HELLO'"
            ]
          },
          "execution_count": 2,
          "metadata": {},
          "output_type": "execute_result"
        }
      ],
      "source": [
        "text.upper()"
      ]
    },
    {
      "cell_type": "markdown",
      "metadata": {
        "id": "pNX1jPXexAwE"
      },
      "source": [
        "# ***Class***"
      ]
    },
    {
      "cell_type": "code",
      "execution_count": null,
      "metadata": {
        "id": "_LrhxMTknQsw"
      },
      "outputs": [],
      "source": [
        "# object literal\n",
        "L = [1,2,3]"
      ]
    },
    {
      "cell_type": "code",
      "execution_count": null,
      "metadata": {
        "colab": {
          "base_uri": "https://localhost:8080/"
        },
        "id": "bCruBtYdxD51",
        "outputId": "33b05113-290b-4081-9639-8163a707fe4a"
      },
      "outputs": [
        {
          "name": "stdout",
          "output_type": "stream",
          "text": [
            "<class 'list'>\n"
          ]
        }
      ],
      "source": [
        "print(type(L))"
      ]
    },
    {
      "cell_type": "code",
      "execution_count": null,
      "metadata": {
        "colab": {
          "base_uri": "https://localhost:8080/"
        },
        "id": "zaeVyJS1xFiz",
        "outputId": "e7733421-8b38-4427-ba9f-4b46a6a6d64e"
      },
      "outputs": [
        {
          "data": {
            "text/plain": [
              "[]"
            ]
          },
          "execution_count": 5,
          "metadata": {},
          "output_type": "execute_result"
        }
      ],
      "source": [
        "L = list()\n",
        "L"
      ]
    },
    {
      "cell_type": "code",
      "execution_count": null,
      "metadata": {
        "id": "0FenkTZKxHWr"
      },
      "outputs": [],
      "source": [
        "# Pascal Case\n",
        "\n",
        "HelloWorld"
      ]
    },
    {
      "cell_type": "code",
      "execution_count": null,
      "metadata": {
        "id": "eT47Xs_oxJIb"
      },
      "outputs": [],
      "source": [
        "class Atm:\n",
        "\n",
        "  def __init__(self):\n",
        "    self.pin = None\n",
        "    self.balance = 0\n",
        "\n",
        "  def menu(self):\n",
        "    user_input = input(\"\"\"\n",
        "    Hi how can I help you?\n",
        "    1. Press 1 to create pin\n",
        "    2. Press 2 to change pin\n",
        "    3. Press 3 to check balance\n",
        "    4. Press 4 to withdraw\n",
        "    5. Anything else to exit\n",
        "    \"\"\")\n",
        "\n",
        "    if user_input == '1':\n",
        "      self.create_pin()\n",
        "    elif user_input == '2':\n",
        "      self.change_pin()\n",
        "    elif user_input == '3':\n",
        "      self.check_balance()\n",
        "    elif user_input == '4':\n",
        "      self.withdraw()\n",
        "    else:\n",
        "      exit()\n",
        "\n",
        "  def create_pin(self):\n",
        "    self.pin = input(\"Enter the pin\")\n",
        "\n",
        "    user_balance = int(input('enter balance'))\n",
        "    self.balance = user_balance\n",
        "\n",
        "    print('pin created successfully')\n",
        "    self.menu()\n",
        "\n",
        "  def change_pin(self):\n",
        "    old_pin = input('enter old pin')\n",
        "    if old_pin == self.pin:\n",
        "      self.pin = input(\"Enter the new pin\")\n",
        "      print('pin change successful')\n",
        "      self.menu()\n",
        "    else:\n",
        "       print('wrong pin, try again.')\n",
        "    self.menu()\n",
        "\n",
        "  def check_balance(self):\n",
        "    pin = input('Enter the pin')\n",
        "    if pin == self.pin:\n",
        "      print(\"Balance : \",self.balance)\n",
        "    else:\n",
        "       print(\"Enter right pin\")\n",
        "    self.menu()\n",
        "\n",
        "  def withdraw(self):\n",
        "    pin = input('Enter the pin')\n",
        "    if pin == self.pin:\n",
        "      amount = int(input('Enter the amount'))\n",
        "      if amount<=self.balance:\n",
        "        self.balance -= amount\n",
        "      else:\n",
        "        print('Amount is greater than balance')\n",
        "\n",
        "    else:\n",
        "       print('wrong pin, try again.')\n",
        "    self.menu()\n",
        "\n",
        "\n"
      ]
    },
    {
      "cell_type": "code",
      "execution_count": null,
      "metadata": {
        "id": "A_d0_Usw1tqK"
      },
      "outputs": [],
      "source": [
        "obj = Atm()"
      ]
    },
    {
      "cell_type": "code",
      "execution_count": null,
      "metadata": {
        "colab": {
          "base_uri": "https://localhost:8080/"
        },
        "id": "g5MzroVz2ACI",
        "outputId": "ccd4bb11-826f-4e2e-def6-5bc4340a830a"
      },
      "outputs": [
        {
          "name": "stdout",
          "output_type": "stream",
          "text": [
            "\n",
            "    Hi how can I help you?\n",
            "    1. Press 1 to create pin\n",
            "    2. Press 2 to change pin\n",
            "    3. Press 3 to check balance\n",
            "    4. Press 4 to withdraw\n",
            "    5. Anything else to exit\n",
            "    1\n",
            "Enter the pin123\n",
            "enter balance1000\n",
            "pin created successfully\n",
            "\n",
            "    Hi how can I help you?\n",
            "    1. Press 1 to create pin\n",
            "    2. Press 2 to change pin\n",
            "    3. Press 3 to check balance\n",
            "    4. Press 4 to withdraw\n",
            "    5. Anything else to exit\n",
            "    2\n",
            "enter old pin111\n",
            "wrong pin, try again.\n",
            "\n",
            "    Hi how can I help you?\n",
            "    1. Press 1 to create pin\n",
            "    2. Press 2 to change pin\n",
            "    3. Press 3 to check balance\n",
            "    4. Press 4 to withdraw\n",
            "    5. Anything else to exit\n",
            "    3\n",
            "Enter the pin111\n",
            "Enter right pin\n",
            "\n",
            "    Hi how can I help you?\n",
            "    1. Press 1 to create pin\n",
            "    2. Press 2 to change pin\n",
            "    3. Press 3 to check balance\n",
            "    4. Press 4 to withdraw\n",
            "    5. Anything else to exit\n",
            "    3\n",
            "Enter the pin123\n",
            "Balance :  1000\n",
            "\n",
            "    Hi how can I help you?\n",
            "    1. Press 1 to create pin\n",
            "    2. Press 2 to change pin\n",
            "    3. Press 3 to check balance\n",
            "    4. Press 4 to withdraw\n",
            "    5. Anything else to exit\n",
            "    4\n",
            "Enter the pin123\n",
            "Enter the amount10000\n",
            "Amount is greater than balance\n",
            "\n",
            "    Hi how can I help you?\n",
            "    1. Press 1 to create pin\n",
            "    2. Press 2 to change pin\n",
            "    3. Press 3 to check balance\n",
            "    4. Press 4 to withdraw\n",
            "    5. Anything else to exit\n",
            "    5\n"
          ]
        }
      ],
      "source": [
        "obj.menu()"
      ]
    },
    {
      "cell_type": "markdown",
      "metadata": {
        "id": "3bKwA_F78AHd"
      },
      "source": [
        "# **Magic Method**\n",
        "\n",
        "* #__name__  in this format\n"
      ]
    },
    {
      "cell_type": "code",
      "execution_count": null,
      "metadata": {
        "id": "L_RCmbLL2C8o"
      },
      "outputs": [],
      "source": [
        "# __name__,__init__,"
      ]
    },
    {
      "cell_type": "code",
      "execution_count": null,
      "metadata": {
        "colab": {
          "base_uri": "https://localhost:8080/",
          "height": 36
        },
        "id": "k3n5E8t58OC-",
        "outputId": "65df355c-4a51-49da-aefe-5ec9a5a27ebf"
      },
      "outputs": [
        {
          "data": {
            "application/vnd.google.colaboratory.intrinsic+json": {
              "type": "string"
            },
            "text/plain": [
              "'YD,AD'"
            ]
          },
          "execution_count": 2,
          "metadata": {},
          "output_type": "execute_result"
        }
      ],
      "source": [
        "'{1},{0}'.format('AD','YD')"
      ]
    },
    {
      "cell_type": "code",
      "execution_count": null,
      "metadata": {
        "id": "ljeQyZtbDq-x"
      },
      "outputs": [],
      "source": [
        "class Fraction:\n",
        "\n",
        "  def __init__(self,x,y):\n",
        "    self.num = x\n",
        "    self.den = y\n",
        "\n",
        "  def __str__(self):\n",
        "    return \"{}/{}\".format(self.num,self.den)\n",
        "\n",
        "  def __add__(self,other):\n",
        "    num = self.num*other.den + other.num*self.den\n",
        "    den = self.den*other.den\n",
        "    return \"{}/{}\".format(num,den)\n",
        "\n",
        "  def __sub__(self,other):\n",
        "    num = self.num*other.den - other.num*self.den\n",
        "    den = self.den*other.den\n",
        "    return \"{}/{}\".format(num,den)\n",
        "\n",
        "  def __mul__(self,other):\n",
        "    new_num = self.num*other.num\n",
        "    new_den = self.den*other.den\n",
        "    return \"{}/{}\".format(new_num,new_den)\n",
        "\n",
        "  def __truediv__(self,other):\n",
        "    new_num = self.num*other.den\n",
        "    new_den = self.den*other.num\n",
        "\n",
        "    return '{}/{}'.format(new_num,new_den)"
      ]
    },
    {
      "cell_type": "code",
      "execution_count": null,
      "metadata": {
        "colab": {
          "base_uri": "https://localhost:8080/"
        },
        "id": "EcHvvq02ARYo",
        "outputId": "a8991217-2805-4826-f255-e0cf63e5629b"
      },
      "outputs": [
        {
          "name": "stdout",
          "output_type": "stream",
          "text": [
            "2/3\n"
          ]
        }
      ],
      "source": [
        "a = Fraction(2,3)\n",
        "b = Fraction(1,3)\n",
        "print(a)"
      ]
    },
    {
      "cell_type": "code",
      "execution_count": null,
      "metadata": {
        "colab": {
          "base_uri": "https://localhost:8080/"
        },
        "id": "0W6dA9_sAUdY",
        "outputId": "aa466b5e-4257-4621-ae56-7ae45f2b5e7b"
      },
      "outputs": [
        {
          "name": "stdout",
          "output_type": "stream",
          "text": [
            "6/3\n"
          ]
        }
      ],
      "source": [
        "print(a/b)"
      ]
    },
    {
      "cell_type": "markdown",
      "metadata": {
        "id": "VjvYCcZkZsyx"
      },
      "source": [
        "### Write OOP classes to handle the following scenarios:\n",
        "\n",
        "- A user can create and view 2D coordinates\n",
        "- A user can find out the distance between 2 coordinates\n",
        "- A user can find find the distance of a coordinate from origin\n",
        "- A user can check if a point lies on a given line\n",
        "- A user can find the distance between a given 2D point and a given line\n",
        "\n"
      ]
    },
    {
      "cell_type": "code",
      "execution_count": null,
      "metadata": {
        "id": "CGIJ4TlHAwmX"
      },
      "outputs": [],
      "source": [
        "class Point:\n",
        "\n",
        "  def __init__(self,x,y):\n",
        "    self.x_cod = x\n",
        "    self.y_cod = y\n",
        "\n",
        "  def __str__(self):\n",
        "    return '<{},{}>'.format(self.x_cod,self.y_cod)\n",
        "\n",
        "  def euclidean_distance(self,other):\n",
        "    return ((self.x_cod - other.x_cod)**2 + (self.y_cod - other.y_cod)**2)**0.5\n",
        "\n",
        "  def distance_from_origin(self):\n",
        "    return (self.x_cod**2 + self.y_cod**2)**0.5\n",
        "    # return self.euclidean_distance(Point(0,0))\n",
        "\n",
        "\n",
        "class Line:\n",
        "\n",
        "  def __init__(self,A,B,C):\n",
        "    self.A = A\n",
        "    self.B = B\n",
        "    self.C = C\n",
        "\n",
        "  def __str__(self):\n",
        "    return '{}x + {}y + {} = 0'.format(self.A,self.B,self.C)\n",
        "\n",
        "  def point_on_line(line,point):\n",
        "    if line.A*point.x_cod + line.B*point.y_cod + line.C == 0:\n",
        "      return \"lies on the line\"\n",
        "    else:\n",
        "      return \"does not lie on the line\"\n",
        "\n",
        "  def shortest_distance(line,point):\n",
        "    return abs(line.A*point.x_cod + line.B*point.y_cod + line.C)/(line.A**2 + line.B**2)**0.5\n"
      ]
    },
    {
      "cell_type": "code",
      "execution_count": null,
      "metadata": {
        "colab": {
          "base_uri": "https://localhost:8080/",
          "height": 36
        },
        "id": "36zbkVtdZvgl",
        "outputId": "29b83b2e-da1b-4ebe-dbf4-ee7fb3d4a714"
      },
      "outputs": [
        {
          "data": {
            "application/vnd.google.colaboratory.intrinsic+json": {
              "type": "string"
            },
            "text/plain": [
              "'1/ = a'"
            ]
          },
          "execution_count": 3,
          "metadata": {},
          "output_type": "execute_result"
        }
      ],
      "source": [
        "\"{}/{} = a\".format(1,2 if 2%2==1 else '')"
      ]
    },
    {
      "cell_type": "code",
      "execution_count": null,
      "metadata": {
        "colab": {
          "base_uri": "https://localhost:8080/"
        },
        "id": "E8fd79_Sac_w",
        "outputId": "acbc1ffe-2131-4ab4-ab7c-6320389e4d15"
      },
      "outputs": [
        {
          "name": "stdout",
          "output_type": "stream",
          "text": [
            "1x + 1y + -2 = 0\n",
            "<1,1>\n"
          ]
        }
      ],
      "source": [
        "l1 = Line(1,1,-2)\n",
        "p1 = Point(1,1)\n",
        "print(l1)\n",
        "print(p1)"
      ]
    },
    {
      "cell_type": "code",
      "execution_count": null,
      "metadata": {
        "colab": {
          "base_uri": "https://localhost:8080/"
        },
        "id": "_m-FpGyKbXUR",
        "outputId": "1fd661ac-e9df-44e7-9dc8-63dece4c0bae"
      },
      "outputs": [
        {
          "data": {
            "text/plain": [
              "0.0"
            ]
          },
          "execution_count": 8,
          "metadata": {},
          "output_type": "execute_result"
        }
      ],
      "source": [
        "l1.shortest_distance(p1)"
      ]
    },
    {
      "cell_type": "code",
      "execution_count": null,
      "metadata": {
        "colab": {
          "base_uri": "https://localhost:8080/",
          "height": 36
        },
        "id": "EJaoUbHxbbGW",
        "outputId": "7e4cf50e-9756-45de-f86f-b513226f2061"
      },
      "outputs": [
        {
          "data": {
            "application/vnd.google.colaboratory.intrinsic+json": {
              "type": "string"
            },
            "text/plain": [
              "'lies on the line'"
            ]
          },
          "execution_count": 9,
          "metadata": {},
          "output_type": "execute_result"
        }
      ],
      "source": [
        "l1.point_on_line(p1)"
      ]
    },
    {
      "cell_type": "markdown",
      "metadata": {
        "id": "VIRox-AHhWuP"
      },
      "source": [
        "### How objects access attributes"
      ]
    },
    {
      "cell_type": "code",
      "execution_count": null,
      "metadata": {
        "id": "EqEJDnYEbdoW"
      },
      "outputs": [],
      "source": [
        "class Person:\n",
        "\n",
        "  def __init__(self,name_input,country_input):\n",
        "    self.name = name_input\n",
        "    self.country = country_input\n",
        "\n",
        "  def greet(self):\n",
        "    if self.country == 'india':\n",
        "      print('Namaste',self.name)\n",
        "    else:\n",
        "      print('Hello',self.name)\n"
      ]
    },
    {
      "cell_type": "code",
      "execution_count": null,
      "metadata": {
        "id": "tpfICKndhYv8"
      },
      "outputs": [],
      "source": [
        "# how to access attributes\n",
        "p = Person('nitish','india')"
      ]
    },
    {
      "cell_type": "code",
      "execution_count": null,
      "metadata": {
        "colab": {
          "base_uri": "https://localhost:8080/",
          "height": 36
        },
        "id": "k47re1nphaGj",
        "outputId": "39a214b7-5b24-466e-cdbe-87fa998f714e"
      },
      "outputs": [
        {
          "data": {
            "application/vnd.google.colaboratory.intrinsic+json": {
              "type": "string"
            },
            "text/plain": [
              "'nitish'"
            ]
          },
          "execution_count": 12,
          "metadata": {},
          "output_type": "execute_result"
        }
      ],
      "source": [
        "p.name"
      ]
    },
    {
      "cell_type": "code",
      "execution_count": null,
      "metadata": {
        "colab": {
          "base_uri": "https://localhost:8080/",
          "height": 158
        },
        "id": "jlIcYQBQhbYr",
        "outputId": "48d7bf02-3d97-48cb-e90d-770b421e5ef0"
      },
      "outputs": [
        {
          "ename": "AttributeError",
          "evalue": "'Person' object has no attribute 'gender'",
          "output_type": "error",
          "traceback": [
            "\u001b[0;31m---------------------------------------------------------------------------\u001b[0m",
            "\u001b[0;31mAttributeError\u001b[0m                            Traceback (most recent call last)",
            "\u001b[0;32m/tmp/ipython-input-13-4288628511.py\u001b[0m in \u001b[0;36m<cell line: 0>\u001b[0;34m()\u001b[0m\n\u001b[1;32m      1\u001b[0m \u001b[0;31m# what if i try to access non-existent attributes\u001b[0m\u001b[0;34m\u001b[0m\u001b[0;34m\u001b[0m\u001b[0m\n\u001b[0;32m----> 2\u001b[0;31m \u001b[0mp\u001b[0m\u001b[0;34m.\u001b[0m\u001b[0mgender\u001b[0m\u001b[0;34m\u001b[0m\u001b[0;34m\u001b[0m\u001b[0m\n\u001b[0m",
            "\u001b[0;31mAttributeError\u001b[0m: 'Person' object has no attribute 'gender'"
          ]
        }
      ],
      "source": [
        "# what if i try to access non-existent attributes\n",
        "p.gender"
      ]
    },
    {
      "cell_type": "markdown",
      "metadata": {
        "id": "u2Wk3cWthfaF"
      },
      "source": [
        "### Attribute creation from outside of the class"
      ]
    },
    {
      "cell_type": "code",
      "execution_count": null,
      "metadata": {
        "id": "4_y0ZxaShc9j"
      },
      "outputs": [],
      "source": [
        "p.gender = 'male'"
      ]
    },
    {
      "cell_type": "code",
      "execution_count": null,
      "metadata": {
        "id": "44C5t63Mhehr"
      },
      "outputs": [],
      "source": [
        "l1 = list()\n"
      ]
    },
    {
      "cell_type": "code",
      "execution_count": null,
      "metadata": {
        "colab": {
          "base_uri": "https://localhost:8080/"
        },
        "id": "gFPNrruShnbD",
        "outputId": "10dc6afd-0a74-42f6-db74-d9072ab7e76a"
      },
      "outputs": [
        {
          "data": {
            "text/plain": [
              "[]"
            ]
          },
          "execution_count": 17,
          "metadata": {},
          "output_type": "execute_result"
        }
      ],
      "source": [
        "l1"
      ]
    },
    {
      "cell_type": "code",
      "execution_count": null,
      "metadata": {
        "colab": {
          "base_uri": "https://localhost:8080/",
          "height": 141
        },
        "id": "CvkWxBFlhn1T",
        "outputId": "3cc11e5c-42cd-41d5-8a06-e652d24d90e1"
      },
      "outputs": [
        {
          "ename": "AttributeError",
          "evalue": "'list' object has no attribute 'name'",
          "output_type": "error",
          "traceback": [
            "\u001b[0;31m---------------------------------------------------------------------------\u001b[0m",
            "\u001b[0;31mAttributeError\u001b[0m                            Traceback (most recent call last)",
            "\u001b[0;32m/tmp/ipython-input-18-4051176163.py\u001b[0m in \u001b[0;36m<cell line: 0>\u001b[0;34m()\u001b[0m\n\u001b[0;32m----> 1\u001b[0;31m \u001b[0ml1\u001b[0m\u001b[0;34m.\u001b[0m\u001b[0mname\u001b[0m \u001b[0;34m=\u001b[0m \u001b[0;34m'Am'\u001b[0m\u001b[0;34m\u001b[0m\u001b[0;34m\u001b[0m\u001b[0m\n\u001b[0m",
            "\u001b[0;31mAttributeError\u001b[0m: 'list' object has no attribute 'name'"
          ]
        }
      ],
      "source": [
        "l1.name = 'Am'"
      ]
    },
    {
      "cell_type": "markdown",
      "metadata": {
        "id": "co__qBB_lIMe"
      },
      "source": [
        "# *** If you want to make a custom class that behaves like a data type and prevents adding new attributes, you can use:  __slots__ __setattr__***"
      ]
    },
    {
      "cell_type": "markdown",
      "metadata": {
        "id": "op4BjNFdlQ1V"
      },
      "source": [
        "# ***__slots__***\n",
        "\n",
        "\n",
        "\n",
        "```\n",
        "class Person:\n",
        "    __slots__ = ['name', 'country']\n",
        "\n",
        "    def __init__(self, name, country):\n",
        "        self.name = name\n",
        "        self.country = country\n",
        "\n",
        "```\n",
        "\n"
      ]
    },
    {
      "cell_type": "code",
      "execution_count": null,
      "metadata": {
        "id": "CRDlv9Bfhp6j"
      },
      "outputs": [],
      "source": [
        "class Person:\n",
        "    __slots__ = ['name', 'country']\n",
        "\n",
        "    def __init__(self, name, country):\n",
        "        self.name = name\n",
        "        self.country = country\n"
      ]
    },
    {
      "cell_type": "code",
      "execution_count": null,
      "metadata": {
        "colab": {
          "base_uri": "https://localhost:8080/",
          "height": 158
        },
        "id": "gUWt0OAflXth",
        "outputId": "3c56309f-b86e-4928-d619-3c932ca2f765"
      },
      "outputs": [
        {
          "ename": "AttributeError",
          "evalue": "'Person' object has no attribute 'gender'",
          "output_type": "error",
          "traceback": [
            "\u001b[0;31m---------------------------------------------------------------------------\u001b[0m",
            "\u001b[0;31mAttributeError\u001b[0m                            Traceback (most recent call last)",
            "\u001b[0;32m/tmp/ipython-input-21-4235307197.py\u001b[0m in \u001b[0;36m<cell line: 0>\u001b[0;34m()\u001b[0m\n\u001b[1;32m      1\u001b[0m \u001b[0mp\u001b[0m \u001b[0;34m=\u001b[0m \u001b[0mPerson\u001b[0m\u001b[0;34m(\u001b[0m\u001b[0;34m'A'\u001b[0m\u001b[0;34m,\u001b[0m\u001b[0;34m'Usa'\u001b[0m\u001b[0;34m)\u001b[0m\u001b[0;34m\u001b[0m\u001b[0;34m\u001b[0m\u001b[0m\n\u001b[0;32m----> 2\u001b[0;31m \u001b[0mp\u001b[0m\u001b[0;34m.\u001b[0m\u001b[0mgender\u001b[0m \u001b[0;34m=\u001b[0m \u001b[0;34m'male'\u001b[0m\u001b[0;34m\u001b[0m\u001b[0;34m\u001b[0m\u001b[0m\n\u001b[0m",
            "\u001b[0;31mAttributeError\u001b[0m: 'Person' object has no attribute 'gender'"
          ]
        }
      ],
      "source": [
        "p = Person('A','Usa')\n",
        "p.gender = 'male'"
      ]
    },
    {
      "cell_type": "markdown",
      "metadata": {
        "id": "R0rFmhXjmHIR"
      },
      "source": [
        "# ***setattr***"
      ]
    },
    {
      "cell_type": "code",
      "execution_count": null,
      "metadata": {
        "id": "11MZHL4jlbnB"
      },
      "outputs": [],
      "source": [
        "class Person:\n",
        "    allowed = {'name', 'country'}\n",
        "\n",
        "    def __init__(self, name, country):\n",
        "        self.name = name\n",
        "        self.country = country\n",
        "\n",
        "    def __setattr__(self, key, value):\n",
        "        if key not in self.allowed:\n",
        "            raise AttributeError(f\"Cannot set attribute '{key}'\")\n",
        "        super().__setattr__(key, value)"
      ]
    },
    {
      "cell_type": "code",
      "execution_count": null,
      "metadata": {
        "colab": {
          "base_uri": "https://localhost:8080/",
          "height": 263
        },
        "id": "vKTb9QaumKTy",
        "outputId": "0a6f0148-be71-403e-e6fc-2119edeada2e"
      },
      "outputs": [
        {
          "ename": "AttributeError",
          "evalue": "Cannot set attribute 'gender'",
          "output_type": "error",
          "traceback": [
            "\u001b[0;31m---------------------------------------------------------------------------\u001b[0m",
            "\u001b[0;31mAttributeError\u001b[0m                            Traceback (most recent call last)",
            "\u001b[0;32m/tmp/ipython-input-24-4235307197.py\u001b[0m in \u001b[0;36m<cell line: 0>\u001b[0;34m()\u001b[0m\n\u001b[1;32m      1\u001b[0m \u001b[0mp\u001b[0m \u001b[0;34m=\u001b[0m \u001b[0mPerson\u001b[0m\u001b[0;34m(\u001b[0m\u001b[0;34m'A'\u001b[0m\u001b[0;34m,\u001b[0m\u001b[0;34m'Usa'\u001b[0m\u001b[0;34m)\u001b[0m\u001b[0;34m\u001b[0m\u001b[0;34m\u001b[0m\u001b[0m\n\u001b[0;32m----> 2\u001b[0;31m \u001b[0mp\u001b[0m\u001b[0;34m.\u001b[0m\u001b[0mgender\u001b[0m \u001b[0;34m=\u001b[0m \u001b[0;34m'male'\u001b[0m\u001b[0;34m\u001b[0m\u001b[0;34m\u001b[0m\u001b[0m\n\u001b[0m",
            "\u001b[0;32m/tmp/ipython-input-23-1671057073.py\u001b[0m in \u001b[0;36m__setattr__\u001b[0;34m(self, key, value)\u001b[0m\n\u001b[1;32m      8\u001b[0m     \u001b[0;32mdef\u001b[0m \u001b[0m__setattr__\u001b[0m\u001b[0;34m(\u001b[0m\u001b[0mself\u001b[0m\u001b[0;34m,\u001b[0m \u001b[0mkey\u001b[0m\u001b[0;34m,\u001b[0m \u001b[0mvalue\u001b[0m\u001b[0;34m)\u001b[0m\u001b[0;34m:\u001b[0m\u001b[0;34m\u001b[0m\u001b[0;34m\u001b[0m\u001b[0m\n\u001b[1;32m      9\u001b[0m         \u001b[0;32mif\u001b[0m \u001b[0mkey\u001b[0m \u001b[0;32mnot\u001b[0m \u001b[0;32min\u001b[0m \u001b[0mself\u001b[0m\u001b[0;34m.\u001b[0m\u001b[0mallowed\u001b[0m\u001b[0;34m:\u001b[0m\u001b[0;34m\u001b[0m\u001b[0;34m\u001b[0m\u001b[0m\n\u001b[0;32m---> 10\u001b[0;31m             \u001b[0;32mraise\u001b[0m \u001b[0mAttributeError\u001b[0m\u001b[0;34m(\u001b[0m\u001b[0;34mf\"Cannot set attribute '{key}'\"\u001b[0m\u001b[0;34m)\u001b[0m\u001b[0;34m\u001b[0m\u001b[0;34m\u001b[0m\u001b[0m\n\u001b[0m\u001b[1;32m     11\u001b[0m         \u001b[0msuper\u001b[0m\u001b[0;34m(\u001b[0m\u001b[0;34m)\u001b[0m\u001b[0;34m.\u001b[0m\u001b[0m__setattr__\u001b[0m\u001b[0;34m(\u001b[0m\u001b[0mkey\u001b[0m\u001b[0;34m,\u001b[0m \u001b[0mvalue\u001b[0m\u001b[0;34m)\u001b[0m\u001b[0;34m\u001b[0m\u001b[0;34m\u001b[0m\u001b[0m\n",
            "\u001b[0;31mAttributeError\u001b[0m: Cannot set attribute 'gender'"
          ]
        }
      ],
      "source": [
        "p = Person('A','Usa')\n",
        "p.gender = 'male'"
      ]
    },
    {
      "cell_type": "markdown",
      "metadata": {
        "id": "0-ySQHK9mom2"
      },
      "source": [
        "### Reference Variables\n",
        "\n",
        "- Reference variables hold the objects\n",
        "- We can create objects without reference variable as well\n",
        "- An object can have multiple reference variables\n",
        "- Assigning a new reference variable to an existing object does not create a new object"
      ]
    },
    {
      "cell_type": "code",
      "execution_count": null,
      "metadata": {
        "id": "8uqU9WSGmktg"
      },
      "outputs": [],
      "source": [
        "# object without a reference\n",
        "class Person:\n",
        "\n",
        "  def __init__(self):\n",
        "    self.name = 'nitish'\n",
        "    self.gender = 'male'\n",
        "\n",
        "p = Person()\n",
        "q = p"
      ]
    },
    {
      "cell_type": "code",
      "execution_count": null,
      "metadata": {
        "colab": {
          "base_uri": "https://localhost:8080/"
        },
        "id": "CYUKchfjmqtA",
        "outputId": "08a4aa9c-124e-41e2-f6e3-2789627fc7cc"
      },
      "outputs": [
        {
          "name": "stdout",
          "output_type": "stream",
          "text": [
            "133463944864400\n",
            "133463944864400\n"
          ]
        }
      ],
      "source": [
        "# Multiple ref\n",
        "print(id(p))\n",
        "print(id(q))"
      ]
    },
    {
      "cell_type": "code",
      "execution_count": null,
      "metadata": {
        "colab": {
          "base_uri": "https://localhost:8080/"
        },
        "id": "CszfoPBdmsci",
        "outputId": "48cd173e-cef4-44fa-e07b-599be1a7518c"
      },
      "outputs": [
        {
          "name": "stdout",
          "output_type": "stream",
          "text": [
            "nitish\n",
            "nitish\n",
            "ankit\n",
            "ankit\n"
          ]
        }
      ],
      "source": [
        "print(p.name)\n",
        "print(q.name)\n",
        "q.name = 'ankit'\n",
        "print(q.name)\n",
        "print(p.name)"
      ]
    },
    {
      "cell_type": "markdown",
      "metadata": {
        "id": "434K_sS7oUL1"
      },
      "source": [
        "### Pass by reference"
      ]
    },
    {
      "cell_type": "code",
      "execution_count": null,
      "metadata": {
        "colab": {
          "base_uri": "https://localhost:8080/"
        },
        "id": "Ecj9Bk3XmvsY",
        "outputId": "d67e52cd-cdcc-4486-c2eb-dde798420a74"
      },
      "outputs": [
        {
          "name": "stdout",
          "output_type": "stream",
          "text": [
            "Hi my name is nitish and I am a male\n",
            "ankit\n",
            "male\n"
          ]
        }
      ],
      "source": [
        "class Person:\n",
        "\n",
        "  def __init__(self,name,gender):\n",
        "    self.name = name\n",
        "    self.gender = gender\n",
        "\n",
        "# outside the class -> function\n",
        "def greet(person):\n",
        "  print('Hi my name is',person.name,'and I am a',person.gender)\n",
        "  p1 = Person('ankit','male')\n",
        "  return p1\n",
        "\n",
        "p = Person('nitish','male')\n",
        "x = greet(p)\n",
        "print(x.name)\n",
        "print(x.gender)"
      ]
    },
    {
      "cell_type": "code",
      "execution_count": null,
      "metadata": {
        "colab": {
          "base_uri": "https://localhost:8080/"
        },
        "id": "PzG1sYxhoWro",
        "outputId": "ff1d291c-622d-4adb-bb6a-a643a87b0015"
      },
      "outputs": [
        {
          "name": "stdout",
          "output_type": "stream",
          "text": [
            "133463944745744\n",
            "133463944745744\n"
          ]
        }
      ],
      "source": [
        "class Person:\n",
        "\n",
        "  def __init__(self,name,gender):\n",
        "    self.name = name\n",
        "    self.gender = gender\n",
        "\n",
        "# outside the class -> function\n",
        "def greet(person):\n",
        "  person.name = 'ankit'\n",
        "  return person\n",
        "\n",
        "p = Person('nitish','male')\n",
        "print(id(p))\n",
        "p1 = greet(p)\n",
        "print(id(p1))"
      ]
    },
    {
      "cell_type": "markdown",
      "metadata": {
        "id": "MXEgbWZzrQBn"
      },
      "source": [
        "# **Hence Object are mutable**\n",
        "\n",
        "- Mutable make changes at that refernce point\n",
        "- Immutable create new refernce and make changes at that point and return new reference just like tuple\n"
      ]
    },
    {
      "cell_type": "code",
      "execution_count": null,
      "metadata": {
        "id": "VIMgAWrirPEV"
      },
      "outputs": [],
      "source": [
        "# instance var -> python tutor\n",
        "class Person:\n",
        "\n",
        "  def __init__(self,name_input,country_input):\n",
        "    self.name = name_input\n",
        "    self.country = country_input\n",
        "\n",
        "p1 = Person('nitish','india') # instance var ->\n",
        "p2 = Person('steve','australia') # instance var ->"
      ]
    },
    {
      "cell_type": "markdown",
      "metadata": {
        "id": "pT_UnOBmLwiE"
      },
      "source": [
        "# **Encapsulation**\n",
        "\n",
        "`- __balance = _className__balance  (private variable name changed to) `"
      ]
    },
    {
      "cell_type": "code",
      "execution_count": null,
      "metadata": {
        "id": "BGvU6EK0q8fW"
      },
      "outputs": [],
      "source": [
        "class Atm:\n",
        "\n",
        "  def __init__(self):\n",
        "    self.pin = None\n",
        "    self.__balance = 0\n",
        "\n",
        "  def menu(self):\n",
        "    user_input = input(\"\"\"\n",
        "    Hi how can I help you?\n",
        "    1. Press 1 to create pin\n",
        "    2. Press 2 to change pin\n",
        "    3. Press 3 to check balance\n",
        "    4. Press 4 to withdraw\n",
        "    5. Anything else to exit\n",
        "    \"\"\")\n",
        "\n",
        "    if user_input == '1':\n",
        "      self.create_pin()\n",
        "    elif user_input == '2':\n",
        "      self.change_pin()\n",
        "    elif user_input == '3':\n",
        "      self.check_balance()\n",
        "    elif user_input == '4':\n",
        "      self.withdraw()\n",
        "    else:\n",
        "      exit()\n",
        "\n",
        "  def create_pin(self):\n",
        "    self.pin = input(\"Enter the pin\")\n",
        "\n",
        "    user_balance = int(input('enter balance'))\n",
        "    self.__balance = user_balance\n",
        "\n",
        "    print('pin created successfully')\n",
        "    self.menu()\n",
        "\n",
        "  def change_pin(self):\n",
        "    old_pin = input('enter old pin')\n",
        "    if old_pin == self.pin:\n",
        "      self.pin = input(\"Enter the new pin\")\n",
        "      print('pin change successful')\n",
        "      self.menu()\n",
        "    else:\n",
        "       print('wrong pin, try again.')\n",
        "    self.menu()\n",
        "\n",
        "  def check_balance(self):\n",
        "    pin = input('Enter the pin')\n",
        "    if pin == self.pin:\n",
        "      print(\"Balance : \",self.__balance)\n",
        "    else:\n",
        "       print(\"Enter right pin\")\n",
        "    self.menu()\n",
        "\n",
        "  def withdraw(self):\n",
        "    pin = input('Enter the pin')\n",
        "    if pin == self.pin:\n",
        "      amount = int(input('Enter the amount'))\n",
        "      if amount<=self.__balance:\n",
        "        self.__balance -= amount\n",
        "      else:\n",
        "        print('Amount is greater than balance')\n",
        "\n",
        "    else:\n",
        "       print('wrong pin, try again.')\n",
        "    self.menu()\n",
        "\n",
        "\n"
      ]
    },
    {
      "cell_type": "code",
      "execution_count": null,
      "metadata": {
        "id": "pNPVLn-KAZQO"
      },
      "outputs": [],
      "source": [
        "p = Atm()"
      ]
    },
    {
      "cell_type": "code",
      "execution_count": null,
      "metadata": {
        "colab": {
          "base_uri": "https://localhost:8080/"
        },
        "id": "K1j_Z0QjBcGf",
        "outputId": "856846cf-9ad3-4cc9-cd94-0080bdbe63a4"
      },
      "outputs": [
        {
          "name": "stdout",
          "output_type": "stream",
          "text": [
            "Enter the pin1234\n",
            "enter balance10000\n",
            "pin created successfully\n",
            "\n",
            "    Hi how can I help you?\n",
            "    1. Press 1 to create pin\n",
            "    2. Press 2 to change pin\n",
            "    3. Press 3 to check balance\n",
            "    4. Press 4 to withdraw\n",
            "    5. Anything else to exit\n",
            "    5\n"
          ]
        }
      ],
      "source": [
        "p.create_pin()"
      ]
    },
    {
      "cell_type": "code",
      "execution_count": null,
      "metadata": {
        "id": "tMvXFN4xBfzg"
      },
      "outputs": [],
      "source": [
        "p.__balance =2000\n"
      ]
    },
    {
      "cell_type": "code",
      "execution_count": null,
      "metadata": {
        "colab": {
          "background_save": true
        },
        "id": "4FzgfYZHBou3"
      },
      "outputs": [],
      "source": [
        "p._Atm__balance"
      ]
    },
    {
      "cell_type": "markdown",
      "metadata": {
        "id": "RdoytDyH_l3W"
      },
      "source": [
        "### Class Relationships\n",
        "\n",
        "- Aggregation\n",
        "- Inheritance"
      ]
    },
    {
      "cell_type": "code",
      "execution_count": null,
      "metadata": {
        "id": "qUgVyZdaBtZn"
      },
      "outputs": [],
      "source": [
        "# example\n",
        "class Customer:\n",
        "\n",
        "  def __init__(self,name,gender,address):\n",
        "    self.name = name\n",
        "    self.gender = gender\n",
        "    self.address = address\n",
        "\n",
        "  def print_address(self):\n",
        "    print(self.name,self.gender,self.address.get_city(),self.address.pin,self.address.state)\n",
        "\n",
        "  def edit_profile(self,new_name,new_city,new_pin,new_state):\n",
        "    self.name = new_name\n",
        "    self.address.edit_address(new_city,new_pin,new_state)\n",
        "\n",
        "class Address:\n",
        "\n",
        "      def __init__(self,city,pin,state):\n",
        "        self.__city = city\n",
        "        self.pin = pin\n",
        "        self.state = state\n",
        "\n",
        "      def get_city(self):\n",
        "        return self.__city\n",
        "\n",
        "      def edit_address(self,new_city,new_pin,new_state):\n",
        "        self.__city = new_city\n",
        "        self.pin = new_pin\n",
        "        self.state = new_state"
      ]
    },
    {
      "cell_type": "code",
      "execution_count": null,
      "metadata": {
        "colab": {
          "base_uri": "https://localhost:8080/"
        },
        "id": "e_vgePOhAbxE",
        "outputId": "76da57e0-c4e4-444e-8ca2-26215bf21bd9"
      },
      "outputs": [
        {
          "name": "stdout",
          "output_type": "stream",
          "text": [
            "nitish male gurgaon 122011 haryana\n"
          ]
        }
      ],
      "source": [
        "add1 = Address('gurgaon',122011,'haryana')\n",
        "cust = Customer('nitish','male',add1)\n",
        "cust.print_address()"
      ]
    },
    {
      "cell_type": "code",
      "execution_count": null,
      "metadata": {
        "colab": {
          "base_uri": "https://localhost:8080/"
        },
        "id": "uPWA433RA3QZ",
        "outputId": "e439a1cf-3ded-43bb-cfdc-c0edb5458dc0"
      },
      "outputs": [
        {
          "name": "stdout",
          "output_type": "stream",
          "text": [
            "ankit male mumbai 111111 maharastra\n"
          ]
        }
      ],
      "source": [
        "cust.edit_profile('ankit','mumbai',111111,'maharastra')\n",
        "cust.print_address()"
      ]
    },
    {
      "cell_type": "code",
      "execution_count": null,
      "metadata": {
        "colab": {
          "base_uri": "https://localhost:8080/",
          "height": 176
        },
        "id": "x4hlhkAjBaMa",
        "outputId": "c8944108-b9b7-40f4-b8a9-eb282accd1fe"
      },
      "outputs": [
        {
          "ename": "AttributeError",
          "evalue": "'Student' object has no attribute 'name'",
          "output_type": "error",
          "traceback": [
            "\u001b[0;31m---------------------------------------------------------------------------\u001b[0m",
            "\u001b[0;31mAttributeError\u001b[0m                            Traceback (most recent call last)",
            "\u001b[0;32m/tmp/ipython-input-19-1137016146.py\u001b[0m in \u001b[0;36m<cell line: 0>\u001b[0;34m()\u001b[0m\n\u001b[1;32m     22\u001b[0m \u001b[0mu\u001b[0m \u001b[0;34m=\u001b[0m \u001b[0mUser\u001b[0m\u001b[0;34m(\u001b[0m\u001b[0;34m)\u001b[0m\u001b[0;34m\u001b[0m\u001b[0;34m\u001b[0m\u001b[0m\n\u001b[1;32m     23\u001b[0m \u001b[0ms\u001b[0m \u001b[0;34m=\u001b[0m \u001b[0mStudent\u001b[0m\u001b[0;34m(\u001b[0m\u001b[0;34m)\u001b[0m\u001b[0;34m\u001b[0m\u001b[0;34m\u001b[0m\u001b[0m\n\u001b[0;32m---> 24\u001b[0;31m \u001b[0ms\u001b[0m\u001b[0;34m.\u001b[0m\u001b[0mname\u001b[0m\u001b[0;34m\u001b[0m\u001b[0;34m\u001b[0m\u001b[0m\n\u001b[0m",
            "\u001b[0;31mAttributeError\u001b[0m: 'Student' object has no attribute 'name'"
          ]
        }
      ],
      "source": [
        "# Example\n",
        "\n",
        "# parent\n",
        "class User:\n",
        "\n",
        "  def __init__(self):\n",
        "    self.name = 'nitish'\n",
        "    self.gender = 'male'\n",
        "\n",
        "  def login(self):\n",
        "    print('login')\n",
        "\n",
        "# child\n",
        "class Student(User):\n",
        "\n",
        "  def __init__(self):\n",
        "    self.rollno = 100\n",
        "\n",
        "  def enroll(self):\n",
        "    print('enroll into the course')\n",
        "\n",
        "u = User()\n",
        "s = Student()\n",
        "s.name"
      ]
    },
    {
      "cell_type": "code",
      "execution_count": null,
      "metadata": {
        "colab": {
          "base_uri": "https://localhost:8080/"
        },
        "id": "ix87mMNKB1Ab",
        "outputId": "3bbe4d81-51b3-4cb5-f71a-8db8be948d27"
      },
      "outputs": [
        {
          "name": "stdout",
          "output_type": "stream",
          "text": [
            "login\n"
          ]
        }
      ],
      "source": [
        "s.login()"
      ]
    },
    {
      "cell_type": "code",
      "execution_count": null,
      "metadata": {
        "colab": {
          "base_uri": "https://localhost:8080/",
          "height": 141
        },
        "id": "Wqg9ZxSgDaPY",
        "outputId": "dac52b94-1c37-4f3b-cfcb-f00381008cc2"
      },
      "outputs": [
        {
          "ename": "AttributeError",
          "evalue": "'Student' object has no attribute 'name'",
          "output_type": "error",
          "traceback": [
            "\u001b[0;31m---------------------------------------------------------------------------\u001b[0m",
            "\u001b[0;31mAttributeError\u001b[0m                            Traceback (most recent call last)",
            "\u001b[0;32m/tmp/ipython-input-13-3776615351.py\u001b[0m in \u001b[0;36m<cell line: 0>\u001b[0;34m()\u001b[0m\n\u001b[0;32m----> 1\u001b[0;31m \u001b[0ms\u001b[0m\u001b[0;34m.\u001b[0m\u001b[0mname\u001b[0m\u001b[0;34m\u001b[0m\u001b[0;34m\u001b[0m\u001b[0m\n\u001b[0m",
            "\u001b[0;31mAttributeError\u001b[0m: 'Student' object has no attribute 'name'"
          ]
        }
      ],
      "source": [
        "s.name"
      ]
    },
    {
      "cell_type": "code",
      "execution_count": null,
      "metadata": {
        "colab": {
          "base_uri": "https://localhost:8080/",
          "height": 36
        },
        "id": "gQEMW4o4Dd5g",
        "outputId": "a83d14be-477b-4136-a1b7-19b8ae2cdb28"
      },
      "outputs": [
        {
          "data": {
            "application/vnd.google.colaboratory.intrinsic+json": {
              "type": "string"
            },
            "text/plain": [
              "'nitish'"
            ]
          },
          "execution_count": 20,
          "metadata": {},
          "output_type": "execute_result"
        }
      ],
      "source": [
        "# parent\n",
        "class User:\n",
        "\n",
        "  def __init__(self):     ################### method overriding (consrtuctor issue) #####################\n",
        "    self.name = 'nitish'\n",
        "    self.gender = 'male'\n",
        "\n",
        "  def login(self):\n",
        "    print('login')\n",
        "\n",
        "# child\n",
        "class Student(User):\n",
        "\n",
        "  def enroll(self):\n",
        "    print('enroll into the course')\n",
        "\n",
        "\n",
        "u = User()\n",
        "s = Student()\n",
        "s.name"
      ]
    },
    {
      "cell_type": "markdown",
      "metadata": {
        "id": "OXKsMrzkF2gS"
      },
      "source": [
        "##### What gets inherited?\n",
        "\n",
        "- Constructor\n",
        "- Non Private Attributes\n",
        "- Non Private Methods"
      ]
    },
    {
      "cell_type": "code",
      "execution_count": null,
      "metadata": {
        "colab": {
          "base_uri": "https://localhost:8080/"
        },
        "id": "DmO7F9RAEhxI",
        "outputId": "ab88fc27-1c1c-4c6b-eeed-8cc3a0dbbe1b"
      },
      "outputs": [
        {
          "name": "stdout",
          "output_type": "stream",
          "text": [
            "Inside phone constructor\n",
            "20000\n"
          ]
        }
      ],
      "source": [
        "# child can't access private members of the class\n",
        "\n",
        "class Phone:\n",
        "    def __init__(self, price, brand, camera):\n",
        "        print (\"Inside phone constructor\")\n",
        "        self.__price = price\n",
        "        self.brand = brand\n",
        "        self.camera = camera\n",
        "\n",
        "    #getter\n",
        "    def show(self):\n",
        "        print (self.__price)\n",
        "\n",
        "class SmartPhone(Phone):\n",
        "    def check(self):\n",
        "        print(self.__price)\n",
        "\n",
        "s=SmartPhone(20000, \"Apple\", 13)\n",
        "s.show()"
      ]
    },
    {
      "cell_type": "code",
      "execution_count": null,
      "metadata": {
        "colab": {
          "base_uri": "https://localhost:8080/"
        },
        "id": "8F7WOdwuKAG9",
        "outputId": "5bd44fca-66b4-441d-b9f3-451da046f864"
      },
      "outputs": [
        {
          "name": "stdout",
          "output_type": "stream",
          "text": [
            "100\n",
            "This is in child class\n"
          ]
        }
      ],
      "source": [
        "class Parent:\n",
        "\n",
        "    def __init__(self,num):\n",
        "        self.__num=num\n",
        "\n",
        "    def get_num(self):\n",
        "        return self.__num\n",
        "\n",
        "class Child(Parent):\n",
        "\n",
        "    def show(self):\n",
        "        print(\"This is in child class\")\n",
        "\n",
        "son=Child(100)\n",
        "print(son.get_num())\n",
        "son.show()"
      ]
    },
    {
      "cell_type": "code",
      "execution_count": null,
      "metadata": {
        "colab": {
          "base_uri": "https://localhost:8080/"
        },
        "id": "zDa4Y52PK9nt",
        "outputId": "01fbc0a2-424f-4170-8c9f-a9950c6c999a"
      },
      "outputs": [
        {
          "name": "stdout",
          "output_type": "stream",
          "text": [
            "class A : 100\n"
          ]
        }
      ],
      "source": [
        "class A:\n",
        "    def __init__(self):\n",
        "        self.var1=100\n",
        "\n",
        "    def display1(self,var1):\n",
        "        print(\"class A :\", self.var1)\n",
        "class B(A):\n",
        "\n",
        "    def display2(self,var1):\n",
        "        print(\"class B :\", self.var1)\n",
        "\n",
        "obj=B()\n",
        "obj.display1(200)"
      ]
    },
    {
      "cell_type": "markdown",
      "metadata": {
        "id": "epgleCv3UnyB"
      },
      "source": [
        "### Super Keyword"
      ]
    },
    {
      "cell_type": "code",
      "execution_count": null,
      "metadata": {
        "id": "Pfin6RQiLvPs"
      },
      "outputs": [],
      "source": [
        "class Phone:\n",
        "    def __init__(self, price, brand, camera):  ############### constructor and super keyword ##################\n",
        "        print (\"Inside phone constructor\")\n",
        "        self.__price = price\n",
        "        self.brand = brand\n",
        "        self.camera = camera\n",
        "\n",
        "    def buy(self):\n",
        "        print (\"Buying a phone\")\n",
        "\n",
        "class SmartPhone(Phone):\n",
        "  def __init__(self,price,brand,camers,ram):\n",
        "    super().__init__(price,brand,camers)\n",
        "    self.ram = ram\n",
        "\n",
        "  def buy(self):\n",
        "    print(\"Smart\")\n",
        "    print(self.brand)\n",
        "    super().buy()"
      ]
    },
    {
      "cell_type": "code",
      "execution_count": null,
      "metadata": {
        "colab": {
          "base_uri": "https://localhost:8080/"
        },
        "id": "i6TOGHcEaCtu",
        "outputId": "b530e348-d071-4a7f-835b-c1ca0f66e45a"
      },
      "outputs": [
        {
          "name": "stdout",
          "output_type": "stream",
          "text": [
            "Inside phone constructor\n",
            "Smart\n",
            "asd\n",
            "Buying a phone\n"
          ]
        }
      ],
      "source": [
        "a = SmartPhone(100,'asd','ads',8)\n",
        "a.buy()"
      ]
    },
    {
      "cell_type": "code",
      "execution_count": null,
      "metadata": {
        "colab": {
          "base_uri": "https://localhost:8080/",
          "height": 193
        },
        "id": "PT_tVHZEaS0s",
        "outputId": "561acf32-2937-4af8-d015-a552898690e8"
      },
      "outputs": [
        {
          "name": "stdout",
          "output_type": "stream",
          "text": [
            "Inside phone constructor\n"
          ]
        },
        {
          "ename": "AttributeError",
          "evalue": "'SmartPhone' object has no attribute 'super'",
          "output_type": "error",
          "traceback": [
            "\u001b[0;31m---------------------------------------------------------------------------\u001b[0m",
            "\u001b[0;31mAttributeError\u001b[0m                            Traceback (most recent call last)",
            "\u001b[0;32m/tmp/ipython-input-38-435747596.py\u001b[0m in \u001b[0;36m<cell line: 0>\u001b[0;34m()\u001b[0m\n\u001b[1;32m     18\u001b[0m \u001b[0ms\u001b[0m\u001b[0;34m=\u001b[0m\u001b[0mSmartPhone\u001b[0m\u001b[0;34m(\u001b[0m\u001b[0;36m20000\u001b[0m\u001b[0;34m,\u001b[0m \u001b[0;34m\"Apple\"\u001b[0m\u001b[0;34m,\u001b[0m \u001b[0;36m13\u001b[0m\u001b[0;34m)\u001b[0m\u001b[0;34m\u001b[0m\u001b[0;34m\u001b[0m\u001b[0m\n\u001b[1;32m     19\u001b[0m \u001b[0;34m\u001b[0m\u001b[0m\n\u001b[0;32m---> 20\u001b[0;31m \u001b[0ms\u001b[0m\u001b[0;34m.\u001b[0m\u001b[0msuper\u001b[0m\u001b[0;34m(\u001b[0m\u001b[0;34m)\u001b[0m\u001b[0;34m.\u001b[0m\u001b[0mbuy\u001b[0m\u001b[0;34m(\u001b[0m\u001b[0;34m)\u001b[0m\u001b[0;34m\u001b[0m\u001b[0;34m\u001b[0m\u001b[0m\n\u001b[0m",
            "\u001b[0;31mAttributeError\u001b[0m: 'SmartPhone' object has no attribute 'super'"
          ]
        }
      ],
      "source": [
        "# using super outside the class\n",
        "class Phone:\n",
        "    def __init__(self, price, brand, camera):\n",
        "        print (\"Inside phone constructor\")\n",
        "        self.__price = price\n",
        "        self.brand = brand\n",
        "        self.camera = camera\n",
        "\n",
        "    def buy(self):\n",
        "        print (\"Buying a phone\")\n",
        "\n",
        "class SmartPhone(Phone):\n",
        "    def buy(self):\n",
        "        print (\"Buying a smartphone\")\n",
        "        # syntax to call parent ka buy method\n",
        "        super().buy()\n",
        "\n",
        "s=SmartPhone(20000, \"Apple\", 13)\n",
        "\n",
        "s.super().buy()"
      ]
    },
    {
      "cell_type": "code",
      "execution_count": null,
      "metadata": {
        "colab": {
          "base_uri": "https://localhost:8080/"
        },
        "id": "TvDoaRmTcL2A",
        "outputId": "c820ecea-3cd6-444b-8ebb-4c3b03b704e7"
      },
      "outputs": [
        {
          "name": "stdout",
          "output_type": "stream",
          "text": [
            "Buying a smartphone\n",
            "Buying a phone\n"
          ]
        }
      ],
      "source": [
        "s.buy"
      ]
    },
    {
      "cell_type": "markdown",
      "metadata": {
        "id": "QMQkAeofceEZ"
      },
      "source": [
        "# ***SUPER***\n",
        "\n",
        "- super cannot access varible\n",
        "- super does not work outside of class\n",
        "- super is inside the child class"
      ]
    },
    {
      "cell_type": "code",
      "execution_count": null,
      "metadata": {
        "colab": {
          "base_uri": "https://localhost:8080/",
          "height": 332
        },
        "id": "cfufgHEgcNn6",
        "outputId": "d9ee2ce0-c815-42f3-b235-c4a61a63f85b"
      },
      "outputs": [
        {
          "name": "stdout",
          "output_type": "stream",
          "text": [
            "Inside phone constructor\n",
            "Buying a smartphone\n"
          ]
        },
        {
          "ename": "AttributeError",
          "evalue": "'super' object has no attribute 'brand'",
          "output_type": "error",
          "traceback": [
            "\u001b[0;31m---------------------------------------------------------------------------\u001b[0m",
            "\u001b[0;31mAttributeError\u001b[0m                            Traceback (most recent call last)",
            "\u001b[0;32m/tmp/ipython-input-44-3026210146.py\u001b[0m in \u001b[0;36m<cell line: 0>\u001b[0;34m()\u001b[0m\n\u001b[1;32m     19\u001b[0m \u001b[0ms\u001b[0m\u001b[0;34m=\u001b[0m\u001b[0mSmartPhone\u001b[0m\u001b[0;34m(\u001b[0m\u001b[0;36m20000\u001b[0m\u001b[0;34m,\u001b[0m \u001b[0;34m\"Apple\"\u001b[0m\u001b[0;34m,\u001b[0m \u001b[0;36m13\u001b[0m\u001b[0;34m)\u001b[0m\u001b[0;34m\u001b[0m\u001b[0;34m\u001b[0m\u001b[0m\n\u001b[1;32m     20\u001b[0m \u001b[0;34m\u001b[0m\u001b[0m\n\u001b[0;32m---> 21\u001b[0;31m \u001b[0ms\u001b[0m\u001b[0;34m.\u001b[0m\u001b[0mbuy\u001b[0m\u001b[0;34m(\u001b[0m\u001b[0;34m)\u001b[0m\u001b[0;34m\u001b[0m\u001b[0;34m\u001b[0m\u001b[0m\n\u001b[0m",
            "\u001b[0;32m/tmp/ipython-input-44-3026210146.py\u001b[0m in \u001b[0;36mbuy\u001b[0;34m(self)\u001b[0m\n\u001b[1;32m     15\u001b[0m         \u001b[0mprint\u001b[0m \u001b[0;34m(\u001b[0m\u001b[0;34m\"Buying a smartphone\"\u001b[0m\u001b[0;34m)\u001b[0m\u001b[0;34m\u001b[0m\u001b[0;34m\u001b[0m\u001b[0m\n\u001b[1;32m     16\u001b[0m         \u001b[0;31m# syntax to call parent ka buy method\u001b[0m\u001b[0;34m\u001b[0m\u001b[0;34m\u001b[0m\u001b[0m\n\u001b[0;32m---> 17\u001b[0;31m         \u001b[0mprint\u001b[0m\u001b[0;34m(\u001b[0m\u001b[0msuper\u001b[0m\u001b[0;34m(\u001b[0m\u001b[0;34m)\u001b[0m\u001b[0;34m.\u001b[0m\u001b[0mbrand\u001b[0m\u001b[0;34m)\u001b[0m\u001b[0;34m\u001b[0m\u001b[0;34m\u001b[0m\u001b[0m\n\u001b[0m\u001b[1;32m     18\u001b[0m \u001b[0;34m\u001b[0m\u001b[0m\n\u001b[1;32m     19\u001b[0m \u001b[0ms\u001b[0m\u001b[0;34m=\u001b[0m\u001b[0mSmartPhone\u001b[0m\u001b[0;34m(\u001b[0m\u001b[0;36m20000\u001b[0m\u001b[0;34m,\u001b[0m \u001b[0;34m\"Apple\"\u001b[0m\u001b[0;34m,\u001b[0m \u001b[0;36m13\u001b[0m\u001b[0;34m)\u001b[0m\u001b[0;34m\u001b[0m\u001b[0;34m\u001b[0m\u001b[0m\n",
            "\u001b[0;31mAttributeError\u001b[0m: 'super' object has no attribute 'brand'"
          ]
        }
      ],
      "source": [
        "# can super access parent ka data?\n",
        "# using super outside the class\n",
        "class Phone:\n",
        "    def __init__(self, price, brand, camera):\n",
        "        print (\"Inside phone constructor\")\n",
        "        self.__price = price\n",
        "        self.brand = brand\n",
        "        self.camera = camera\n",
        "\n",
        "    def buy(self):\n",
        "        print (\"Buying a phone\")\n",
        "\n",
        "class SmartPhone(Phone):\n",
        "    def buy(self):\n",
        "        print (\"Buying a smartphone\")\n",
        "        # syntax to call parent ka buy method\n",
        "        print(super().brand)\n",
        "\n",
        "s=SmartPhone(20000, \"Apple\", 13)\n",
        "\n",
        "s.buy()"
      ]
    },
    {
      "cell_type": "code",
      "execution_count": null,
      "metadata": {
        "colab": {
          "base_uri": "https://localhost:8080/",
          "height": 280
        },
        "id": "W2Cu4g5Udd3x",
        "outputId": "9e53d498-8b74-477f-f093-98eaf7372341"
      },
      "outputs": [
        {
          "name": "stdout",
          "output_type": "stream",
          "text": [
            "Buying a smartphone\n"
          ]
        },
        {
          "ename": "AttributeError",
          "evalue": "'super' object has no attribute 'brand'",
          "output_type": "error",
          "traceback": [
            "\u001b[0;31m---------------------------------------------------------------------------\u001b[0m",
            "\u001b[0;31mAttributeError\u001b[0m                            Traceback (most recent call last)",
            "\u001b[0;32m/tmp/ipython-input-45-3755078355.py\u001b[0m in \u001b[0;36m<cell line: 0>\u001b[0;34m()\u001b[0m\n\u001b[0;32m----> 1\u001b[0;31m \u001b[0ms\u001b[0m\u001b[0;34m.\u001b[0m\u001b[0mbuy\u001b[0m\u001b[0;34m(\u001b[0m\u001b[0;34m)\u001b[0m\u001b[0;34m\u001b[0m\u001b[0;34m\u001b[0m\u001b[0m\n\u001b[0m",
            "\u001b[0;32m/tmp/ipython-input-44-3026210146.py\u001b[0m in \u001b[0;36mbuy\u001b[0;34m(self)\u001b[0m\n\u001b[1;32m     15\u001b[0m         \u001b[0mprint\u001b[0m \u001b[0;34m(\u001b[0m\u001b[0;34m\"Buying a smartphone\"\u001b[0m\u001b[0;34m)\u001b[0m\u001b[0;34m\u001b[0m\u001b[0;34m\u001b[0m\u001b[0m\n\u001b[1;32m     16\u001b[0m         \u001b[0;31m# syntax to call parent ka buy method\u001b[0m\u001b[0;34m\u001b[0m\u001b[0;34m\u001b[0m\u001b[0m\n\u001b[0;32m---> 17\u001b[0;31m         \u001b[0mprint\u001b[0m\u001b[0;34m(\u001b[0m\u001b[0msuper\u001b[0m\u001b[0;34m(\u001b[0m\u001b[0;34m)\u001b[0m\u001b[0;34m.\u001b[0m\u001b[0mbrand\u001b[0m\u001b[0;34m)\u001b[0m\u001b[0;34m\u001b[0m\u001b[0;34m\u001b[0m\u001b[0m\n\u001b[0m\u001b[1;32m     18\u001b[0m \u001b[0;34m\u001b[0m\u001b[0m\n\u001b[1;32m     19\u001b[0m \u001b[0ms\u001b[0m\u001b[0;34m=\u001b[0m\u001b[0mSmartPhone\u001b[0m\u001b[0;34m(\u001b[0m\u001b[0;36m20000\u001b[0m\u001b[0;34m,\u001b[0m \u001b[0;34m\"Apple\"\u001b[0m\u001b[0;34m,\u001b[0m \u001b[0;36m13\u001b[0m\u001b[0;34m)\u001b[0m\u001b[0;34m\u001b[0m\u001b[0;34m\u001b[0m\u001b[0m\n",
            "\u001b[0;31mAttributeError\u001b[0m: 'super' object has no attribute 'brand'"
          ]
        }
      ],
      "source": []
    },
    {
      "cell_type": "markdown",
      "metadata": {
        "id": "IAuIwUzydFym"
      },
      "source": [
        "##### Inheritance in summary\n",
        "\n",
        "- A class can inherit from another class.\n",
        "\n",
        "- Inheritance improves code reuse\n",
        "\n",
        "- Constructor, attributes, methods get inherited to the child class\n",
        "\n",
        "- The parent has no access to the child class\n",
        "\n",
        "- Private properties of parent are not accessible directly in child class\n",
        "\n",
        "- Child class can override the attributes or methods. This is called method overriding\n",
        "\n",
        "- super() is an inbuilt function which is used to invoke the parent class methods and constructor"
      ]
    },
    {
      "cell_type": "code",
      "execution_count": null,
      "metadata": {
        "colab": {
          "base_uri": "https://localhost:8080/"
        },
        "id": "XlPK_GZWc6QQ",
        "outputId": "f11fdea1-fb7d-4f75-b700-12e1f88185d4"
      },
      "outputs": [
        {
          "name": "stdout",
          "output_type": "stream",
          "text": [
            "100\n",
            "200\n"
          ]
        }
      ],
      "source": [
        "class Parent:\n",
        "\n",
        "    def __init__(self,num):\n",
        "      self.__num=num\n",
        "\n",
        "    def get_num(self):\n",
        "      return self.__num\n",
        "\n",
        "class Child(Parent):\n",
        "\n",
        "    def __init__(self,num,val):\n",
        "      super().__init__(num)\n",
        "      self.__val=val\n",
        "\n",
        "    def get_val(self):\n",
        "      return self.__val\n",
        "\n",
        "son=Child(100,200)\n",
        "print(son.get_num())\n",
        "print(son.get_val())"
      ]
    },
    {
      "cell_type": "code",
      "execution_count": null,
      "metadata": {
        "colab": {
          "base_uri": "https://localhost:8080/"
        },
        "id": "5THpR-q0d8X3",
        "outputId": "e9ced900-74c1-4983-a21b-17165caa0c1f"
      },
      "outputs": [
        {
          "name": "stdout",
          "output_type": "stream",
          "text": [
            "100\n",
            "200\n"
          ]
        }
      ],
      "source": [
        "class Parent:\n",
        "    def __init__(self):\n",
        "        self.num=100\n",
        "\n",
        "class Child(Parent):\n",
        "\n",
        "    def __init__(self):\n",
        "        super().__init__()\n",
        "        self.var=200\n",
        "\n",
        "    def show(self):\n",
        "        print(self.num)\n",
        "        print(self.var)\n",
        "\n",
        "son=Child()\n",
        "son.show()"
      ]
    },
    {
      "cell_type": "markdown",
      "metadata": {
        "id": "Zh9TBQ_7e1Aw"
      },
      "source": [
        "### Types of Inheritance\n",
        "\n",
        "- Single Inheritance\n",
        "- Multilevel Inheritance\n",
        "- Hierarchical Inheritance\n",
        "- Multiple Inheritance(Diamond Problem)\n",
        "- Hybrid Inheritance"
      ]
    },
    {
      "cell_type": "code",
      "execution_count": null,
      "metadata": {
        "colab": {
          "base_uri": "https://localhost:8080/"
        },
        "id": "UvEgZAAFeC_n",
        "outputId": "8db7f401-06c9-4a1a-d78c-55c48c5e4480"
      },
      "outputs": [
        {
          "name": "stdout",
          "output_type": "stream",
          "text": [
            "Inside phone constructor\n",
            "Buying a phone\n"
          ]
        }
      ],
      "source": [
        "# single inheritance\n",
        "class Phone:\n",
        "    def __init__(self, price, brand, camera):\n",
        "        print (\"Inside phone constructor\")\n",
        "        self.__price = price\n",
        "        self.brand = brand\n",
        "        self.camera = camera\n",
        "\n",
        "    def buy(self):\n",
        "        print (\"Buying a phone\")\n",
        "\n",
        "class SmartPhone(Phone):\n",
        "    pass\n",
        "\n",
        "SmartPhone(1000,\"Apple\",\"13px\").buy()"
      ]
    },
    {
      "cell_type": "code",
      "execution_count": null,
      "metadata": {
        "colab": {
          "base_uri": "https://localhost:8080/"
        },
        "id": "HrNHAw3B6_VN",
        "outputId": "b6783ac4-3b2a-485c-e00b-52eb0b24bc5b"
      },
      "outputs": [
        {
          "name": "stdout",
          "output_type": "stream",
          "text": [
            "Inside phone constructor\n",
            "Buying a phone\n",
            "Product customer review\n"
          ]
        }
      ],
      "source": [
        "# multilevel\n",
        "class Product:\n",
        "    def review(self):\n",
        "        print (\"Product customer review\")\n",
        "\n",
        "class Phone(Product):\n",
        "    def __init__(self, price, brand, camera):\n",
        "        print (\"Inside phone constructor\")\n",
        "        self.__price = price\n",
        "        self.brand = brand\n",
        "        self.camera = camera\n",
        "\n",
        "    def buy(self):\n",
        "        print (\"Buying a phone\")\n",
        "\n",
        "class SmartPhone(Phone):\n",
        "    pass\n",
        "\n",
        "s=SmartPhone(20000, \"Apple\", 12)\n",
        "\n",
        "s.buy()\n",
        "s.review()"
      ]
    },
    {
      "cell_type": "code",
      "execution_count": null,
      "metadata": {
        "colab": {
          "base_uri": "https://localhost:8080/"
        },
        "id": "datLpkKA7BNz",
        "outputId": "bb1df899-90f5-4c4d-a53a-6a4eca107f66"
      },
      "outputs": [
        {
          "name": "stdout",
          "output_type": "stream",
          "text": [
            "Inside phone constructor\n",
            "Buying a phone\n",
            "Inside phone constructor\n",
            "Buying a phone\n"
          ]
        }
      ],
      "source": [
        "# Hierarchical\n",
        "class Phone:\n",
        "    def __init__(self, price, brand, camera):\n",
        "        print (\"Inside phone constructor\")\n",
        "        self.__price = price\n",
        "        self.brand = brand\n",
        "        self.camera = camera\n",
        "\n",
        "    def buy(self):\n",
        "        print (\"Buying a phone\")\n",
        "\n",
        "class SmartPhone(Phone):\n",
        "    pass\n",
        "\n",
        "class FeaturePhone(Phone):\n",
        "    pass\n",
        "\n",
        "SmartPhone(1000,\"Apple\",\"13px\").buy()\n",
        "FeaturePhone(10,\"Lava\",\"1px\").buy()"
      ]
    },
    {
      "cell_type": "code",
      "execution_count": null,
      "metadata": {
        "colab": {
          "base_uri": "https://localhost:8080/"
        },
        "id": "bka0eK3K7ETz",
        "outputId": "f9cbffe2-9ec0-49e5-9f21-8c07bee9ae9f"
      },
      "outputs": [
        {
          "name": "stdout",
          "output_type": "stream",
          "text": [
            "Inside phone constructor\n",
            "Buying a phone\n",
            "Customer review\n"
          ]
        }
      ],
      "source": [
        "# Multiple\n",
        "class Phone:\n",
        "    def __init__(self, price, brand, camera):\n",
        "        print (\"Inside phone constructor\")\n",
        "        self.__price = price\n",
        "        self.brand = brand\n",
        "        self.camera = camera\n",
        "\n",
        "    def buy(self):\n",
        "        print (\"Buying a phone\")\n",
        "\n",
        "class Product:\n",
        "    def review(self):\n",
        "        print (\"Customer review\")\n",
        "\n",
        "class SmartPhone(Phone, Product):\n",
        "    pass\n",
        "\n",
        "s=SmartPhone(20000, \"Apple\", 12)\n",
        "\n",
        "s.buy()\n",
        "s.review()\n"
      ]
    },
    {
      "cell_type": "code",
      "execution_count": null,
      "metadata": {
        "colab": {
          "base_uri": "https://localhost:8080/"
        },
        "id": "4BHAujBQ7HCr",
        "outputId": "77f7680b-8657-48d6-a274-a7813405a940"
      },
      "outputs": [
        {
          "name": "stdout",
          "output_type": "stream",
          "text": [
            "Inside phone constructor\n",
            "Buying a phone\n"
          ]
        }
      ],
      "source": [
        "# the diamond problem\n",
        "# https://stackoverflow.com/questions/56361048/what-is-the-diamond-problem-in-python-and-why-its-not-appear-in-python2\n",
        "class Phone:\n",
        "    def __init__(self, price, brand, camera):\n",
        "        print (\"Inside phone constructor\")\n",
        "        self.__price = price\n",
        "        self.brand = brand\n",
        "        self.camera = camera\n",
        "\n",
        "    def buy(self):\n",
        "        print (\"Buying a phone\")\n",
        "\n",
        "class Product:\n",
        "    def buy(self):\n",
        "        print (\"Product buy method\")\n",
        "\n",
        "# Method resolution order\n",
        "class SmartPhone(Phone,Product):   ## Method resolution order (Order matter , which ever first it will get execute ) ##\n",
        "    pass\n",
        "\n",
        "s=SmartPhone(20000, \"Apple\", 12)\n",
        "\n",
        "s.buy()"
      ]
    },
    {
      "cell_type": "markdown",
      "metadata": {
        "id": "bFXAu2MdB8N3"
      },
      "source": [
        "### Polymorphism\n",
        "\n",
        "- Method Overriding\n",
        "- Method Overloading   (Does not work in python)\n",
        "- Operator Overloading"
      ]
    },
    {
      "cell_type": "code",
      "execution_count": null,
      "metadata": {
        "colab": {
          "base_uri": "https://localhost:8080/"
        },
        "id": "xnv4L2qW9LQ8",
        "outputId": "09a6bafc-af07-406e-93f8-a560f4ecbaff"
      },
      "outputs": [
        {
          "name": "stdout",
          "output_type": "stream",
          "text": [
            "12.56\n",
            "12\n"
          ]
        }
      ],
      "source": [
        "class Shape:\n",
        "\n",
        "  def area(self,a,b=0):\n",
        "    if b == 0:\n",
        "      return 3.14*a*a\n",
        "    else:\n",
        "      return a*b\n",
        "\n",
        "s = Shape()\n",
        "\n",
        "print(s.area(2))\n",
        "print(s.area(3,4))"
      ]
    },
    {
      "cell_type": "code",
      "execution_count": null,
      "metadata": {
        "id": "NpDE1eNSCLUx"
      },
      "outputs": [],
      "source": [
        "from abc import ABC,abstractmethod\n",
        "class BankApp(ABC):\n",
        "\n",
        "  def database(self):\n",
        "    print('connected to database')\n",
        "\n",
        "  @abstractmethod\n",
        "  def security(self):\n",
        "    pass\n",
        "\n",
        "  @abstractmethod\n",
        "  def display(self):\n",
        "    pass\n"
      ]
    },
    {
      "cell_type": "code",
      "execution_count": null,
      "metadata": {
        "id": "UOUuUIHhVR27"
      },
      "outputs": [],
      "source": [
        "class MobileApp(BankApp):\n",
        "\n",
        "  def mobile_login(self):\n",
        "    print('login into mobile')\n",
        "\n",
        "  def security(self):\n",
        "    print('mobile security')\n",
        "\n",
        "  def display(self):\n",
        "    print('display')"
      ]
    },
    {
      "cell_type": "code",
      "execution_count": null,
      "metadata": {
        "id": "lEjC_SKmVWyw"
      },
      "outputs": [],
      "source": [
        "mob = MobileApp()"
      ]
    },
    {
      "cell_type": "code",
      "execution_count": null,
      "metadata": {
        "colab": {
          "base_uri": "https://localhost:8080/"
        },
        "id": "FVkNY_yqVYnQ",
        "outputId": "043691e8-60de-4a49-f909-93db2e05e572"
      },
      "outputs": [
        {
          "name": "stdout",
          "output_type": "stream",
          "text": [
            "mobile security\n"
          ]
        }
      ],
      "source": [
        "mob.security()"
      ]
    },
    {
      "cell_type": "code",
      "execution_count": null,
      "metadata": {
        "colab": {
          "base_uri": "https://localhost:8080/",
          "height": 141
        },
        "id": "p4A7rHGvVaQQ",
        "outputId": "cc7443ad-a6f1-445a-974a-b59b045d750f"
      },
      "outputs": [
        {
          "ename": "TypeError",
          "evalue": "Can't instantiate abstract class BankApp with abstract methods display, security",
          "output_type": "error",
          "traceback": [
            "\u001b[0;31m---------------------------------------------------------------------------\u001b[0m",
            "\u001b[0;31mTypeError\u001b[0m                                 Traceback (most recent call last)",
            "\u001b[0;32m/tmp/ipython-input-5-1177365575.py\u001b[0m in \u001b[0;36m<cell line: 0>\u001b[0;34m()\u001b[0m\n\u001b[0;32m----> 1\u001b[0;31m \u001b[0mobj\u001b[0m \u001b[0;34m=\u001b[0m \u001b[0mBankApp\u001b[0m\u001b[0;34m(\u001b[0m\u001b[0;34m)\u001b[0m\u001b[0;34m\u001b[0m\u001b[0;34m\u001b[0m\u001b[0m\n\u001b[0m",
            "\u001b[0;31mTypeError\u001b[0m: Can't instantiate abstract class BankApp with abstract methods display, security"
          ]
        }
      ],
      "source": [
        "obj = BankApp()  ########### can't make obj of abstract class ############"
      ]
    },
    {
      "cell_type": "markdown",
      "metadata": {
        "id": "mERA3LAPs8Ej"
      },
      "source": [
        "Skip to content\n",
        "Chat history\n",
        "\n",
        "You said:\n",
        "Q-1: Rectangle Class\n",
        "Write a Rectangle class in Python language, allowing you to build a rectangle with length and width attributes.\n",
        "\n",
        "Create a Perimeter() method to calculate the perimeter of the rectangle and a Area() method to calculate the area of ​​the rectangle.\n",
        "\n",
        "Create a method display() that display the length, width, perimeter and area of an object created using an instantiation on rectangle class.\n",
        "ChatGPT said:\n",
        "Here's a complete implementation of the Rectangle class in Python as per your requirements:\n",
        "\n",
        "class Rectangle:\n",
        "    def __init__(self, length, width):\n",
        "        self.length = length\n",
        "        self.width = width\n",
        "\n",
        "    def Perimeter(self):\n",
        "        return 2 * (self.length + self.width)\n",
        "\n",
        "    def Area(self):\n",
        "        return self.length * self.width\n",
        "\n",
        "    def display(self):\n",
        "        print(f\"Length: {self.length}\")\n",
        "        print(f\"Width: {self.width}\")\n",
        "        print(f\"Perimeter: {self.Perimeter()}\")\n",
        "        print(f\"Area: {self.Area()}\")\n",
        "\n",
        "\n",
        "# Example usage\n",
        "rect1 = Rectangle(10, 5)\n",
        "rect1.display()\n",
        "💡 Output:\n",
        "Length: 10\n",
        "Width: 5\n",
        "Perimeter: 30\n",
        "Area: 50\n",
        "✅ Explanation:\n",
        "__init__ initializes the object with length and width.\n",
        "\n",
        "Perimeter() calculates the perimeter using the formula 2 × (length + width).\n",
        "\n",
        "Area() calculates the area using the formula length × width.\n",
        "\n",
        "display() prints all attributes and computed values.\n",
        "\n",
        "Let me know if you want to add error checking or support for square detection.\n",
        "\n",
        "You said:\n",
        "Q-3:Computation class\n",
        "Create a Computation class with a default constructor (without parameters) allowing to perform various calculations on integers numbers.\n",
        "\n",
        "Create a method called Factorial() which allows to calculate the factorial of an integer n. Integer n as parameter for this method\n",
        "\n",
        "Create a method called naturalSum() allowing to calculate the sum of the first n integers 1 + 2 + 3 + .. + n. Integer n as parameter for this method.\n",
        "\n",
        "Create a method called testPrime() in the Calculation class to test the primality of a given integer n, n is Prime or Not? Integer n as parameter for this method.\n",
        "\n",
        "Create a method called testPrims() allowing to test if two numbers are prime between them. Two integers are prime to one another if they have only 1 as their common divisor. Eg. 4 and 9 are prime to each other.\n",
        "\n",
        "Create a tableMult() method which creates and displays the multiplication table of a given integer. Then create an allTablesMult() method to display all the integer multiplication tables 1, 2, 3, ..., 9.\n",
        "\n",
        "Create a static listDiv() method that gets all the divisors of a given integer on new list called Ldiv. Create another listDivPrim() method that gets all the prime divisors of a given integer.\n",
        "ChatGPT said:\n",
        "Here's the full implementation of the Computation class in Python, covering all the methods you specified:\n",
        "\n",
        "class Computation:\n",
        "    def __init__(self):\n",
        "        pass\n",
        "\n",
        "    def Factorial(self, n):\n",
        "        if n < 0:\n",
        "            return \"Factorial not defined for negative numbers.\"\n",
        "        fact = 1\n",
        "        for i in range(2, n + 1):\n",
        "            fact *= i\n",
        "        return fact\n",
        "\n",
        "    def naturalSum(self, n):\n",
        "        if n < 1:\n",
        "            return 0\n",
        "        return n * (n + 1) // 2  # Using formula for sum of first n natural numbers\n",
        "\n",
        "    def testPrime(self, n):\n",
        "        if n < 2:\n",
        "            return False\n",
        "        for i in range(2, int(n**0.5) + 1):\n",
        "            if n % i == 0:\n",
        "                return False\n",
        "        return True\n",
        "\n",
        "    def testPrims(self, a, b):\n",
        "        # If GCD of two numbers is 1, they are co-prime (prime to each other)\n",
        "        def gcd(x, y):\n",
        "            while y:\n",
        "                x, y = y, x % y\n",
        "            return x\n",
        "\n",
        "        return gcd(a, b) == 1\n",
        "\n",
        "    def tableMult(self, n):\n",
        "        print(f\"Multiplication Table for {n}:\")\n",
        "        for i in range(1, 11):\n",
        "            print(f\"{n} x {i} = {n * i}\")\n",
        "\n",
        "    def allTablesMult(self):\n",
        "        for i in range(1, 10):\n",
        "            print(\"\\n------------------------\")\n",
        "            self.tableMult(i)\n",
        "\n",
        "    @staticmethod\n",
        "    def listDiv(n):\n",
        "        Ldiv = []\n",
        "        for i in range(1, n + 1):\n",
        "            if n % i == 0:\n",
        "                Ldiv.append(i)\n",
        "        return Ldiv\n",
        "\n",
        "    @staticmethod\n",
        "    def listDivPrim(n):\n",
        "        def is_prime(x):\n",
        "            if x < 2:\n",
        "                return False\n",
        "            for i in range(2, int(x**0.5) + 1):\n",
        "                if x % i == 0:\n",
        "                    return False\n",
        "            return True\n",
        "\n",
        "        return [i for i in Computation.listDiv(n) if is_prime(i)]\n",
        "\n",
        "\n",
        "# Example usage:\n",
        "comp = Computation()\n",
        "\n",
        "print(\"Factorial of 5:\", comp.Factorial(5))\n",
        "print(\"Natural sum of first 5 numbers:\", comp.naturalSum(5))\n",
        "print(\"Is 17 prime?\", comp.testPrime(17))\n",
        "print(\"Are 9 and 28 prime to each other?\", comp.testPrims(9, 28))\n",
        "comp.tableMult(4)\n",
        "comp.allTablesMult()\n",
        "print(\"Divisors of 18:\", Computation.listDiv(18))\n",
        "print(\"Prime divisors of 18:\", Computation.listDivPrim(18))\n",
        "✅ Output Sample (shortened for brevity):\n",
        "Factorial of 5: 120\n",
        "Natural sum of first 5 numbers: 15\n",
        "Is 17 prime? True\n",
        "Are 9 and 28 prime to each other? True\n",
        "Multiplication Table for 4:\n",
        "4 x 1 = 4\n",
        "4 x 2 = 8\n",
        "...\n",
        "Divisors of 18: [1, 2, 3, 6, 9, 18]\n",
        "Prime divisors of 18: [2, 3]\n",
        "🧠 Summary of Methods:\n",
        "Method\tDescription\n",
        "Factorial(n)\tReturns n!\n",
        "naturalSum(n)\tReturns sum from 1 to n\n",
        "testPrime(n)\tChecks if n is prime\n",
        "testPrims(a,b)\tChecks if a and b are co-prime\n",
        "tableMult(n)\tPrints multiplication table for n\n",
        "allTablesMult()\tPrints tables for 1 to 9\n",
        "listDiv(n)\tReturns list of all divisors of n\n",
        "listDivPrim(n)\tReturns list of prime divisors of n\n",
        "Let me know if you want this wrapped into a menu-driven CLI or GUI version for user interaction.\n",
        "\n",
        "You said:\n",
        "Build flashcard using class in Python.\n",
        "Build a flashcard using class in python. A flashcard is a card having information on both sides, which can be used as an aid in memoization. Flashcards usually have a question on one side and an answer on the other.\n",
        "\n",
        "Example 1:\n",
        "\n",
        "Approach:\n",
        "\n",
        "Create a class named FlashCard.\n",
        "Initialize dictionary fruits using init() method. Here you have to define fruit name as key and it's color as value. E.g., {\"Banana\": \"yellow\", \"Strawberries\": \"pink\"}\n",
        "Now randomly choose a pair from fruits by using random module and store the key in variable fruit and value in variable color.\n",
        "Now prompt the user to answer the color of the randomly chosen fruit.\n",
        "If correct print correct else print wrong.\n",
        "welcome to fruit quiz\n",
        "What is the color of Strawberries\n",
        "pink\n",
        "Correct answer\n",
        "Enter 0, if you want to play again: 0\n",
        "What is the color of watermelon\n",
        "green\n",
        "Correct answer\n",
        "Enter 0, if you want to play again: 1\n",
        "ChatGPT said:\n",
        "\n",
        "\n",
        "\n",
        "No file chosenNo file chosen\n",
        "ChatGPT can make mistakes. Check important info. See Cookie Preferences.\n",
        "ChatGPT is still generating a response..."
      ]
    },
    {
      "cell_type": "code",
      "execution_count": null,
      "metadata": {
        "colab": {
          "base_uri": "https://localhost:8080/"
        },
        "id": "kESbFeIkVb5A",
        "outputId": "bb7dc1df-e267-41f9-c0aa-04b204bfe833"
      },
      "outputs": [
        {
          "name": "stdout",
          "output_type": "stream",
          "text": [
            "Welcome to the Fruit Quiz!\n",
            "What is the color of Orange? orange\n",
            "✅ Correct answer\n",
            "Enter 0 to play again, any other key to exit: 0\n",
            "What is the color of Watermelon? green\n",
            "✅ Correct answer\n",
            "Enter 0 to play again, any other key to exit: 1\n",
            "Thanks for playing!\n"
          ]
        }
      ],
      "source": [
        "import random\n",
        "\n",
        "class FlashCard:\n",
        "    def __init__(self):\n",
        "        self.fruits = {\n",
        "            \"Banana\": \"yellow\",\n",
        "            \"Strawberries\": \"pink\",\n",
        "            \"Watermelon\": \"green\",\n",
        "            \"Orange\": \"orange\",\n",
        "            \"Grapes\": \"purple\",\n",
        "            \"Apple\": \"red\"\n",
        "        }\n",
        "\n",
        "    def quiz(self):\n",
        "        print(\"Welcome to the Fruit Quiz!\")\n",
        "        while True:\n",
        "            fruit, color = random.choice(list(self.fruits.items()))\n",
        "            answer = input(f\"What is the color of {fruit}? \").strip().lower()\n",
        "\n",
        "            if answer == color.lower():\n",
        "                print(\"✅ Correct answer\")\n",
        "            else:\n",
        "                print(f\"❌ Wrong answer. The correct color is {color}.\")\n",
        "\n",
        "            play_again = input(\"Enter 0 to play again, any other key to exit: \").strip()\n",
        "            if play_again != \"0\":\n",
        "                print(\"Thanks for playing!\")\n",
        "                break\n",
        "\n",
        "\n",
        "# Example usage\n",
        "game = FlashCard()\n",
        "game.quiz()\n"
      ]
    },
    {
      "cell_type": "markdown",
      "metadata": {
        "id": "J-awMO1Ni4hX"
      },
      "source": [
        " Problem 5 based on OOP Python.\n",
        "TechWorld, a technology training center, wants to allocate courses for instructors. An instructor is identified by name, technology skills, experience and average feedback. An instructor is allocated a course, if he/she satisfies the below two conditions:\n",
        "\n",
        "eligibility criteria:\n",
        "if experience is more than 3 years, average feedback should be 4.5 or more\n",
        "if experience is 3 years or less, average feedback should be 4 or more\n",
        "he/she should posses the technology skill for the course\n",
        "Identify the class name and attributes to represent instructors. Write a Python program to implement the class chosen with its attributes and methods.\n",
        "\n",
        "Note:\n",
        "\n",
        "Consider all instance variables to be private and methods to be public.\n",
        "An instructor may have multiple technology skills, so consider instance variable, technology_skill to be a list.\n",
        "check_eligibility(): Return true if eligibility criteria is satisfied by the instructor. Else, return false\n",
        "allocate_course(technology): Return true if the course which requires the given technology can be allocated to the instructor. Else, return false.\n",
        "Represent a few objects of the class, initialize instance variables using setter methods, invoke appropriate methods and test your program"
      ]
    },
    {
      "cell_type": "code",
      "execution_count": null,
      "metadata": {
        "colab": {
          "base_uri": "https://localhost:8080/"
        },
        "id": "AXiV3eA6tKoD",
        "outputId": "e0125117-7afe-4882-8934-8a47524fd284"
      },
      "outputs": [
        {
          "name": "stdout",
          "output_type": "stream",
          "text": [
            "Instructor 1 eligible: True\n",
            "Can allocate Python: True\n",
            "Can allocate C++: False\n",
            "\n",
            "Instructor 2 eligible: False\n",
            "Can allocate C++: False\n",
            "\n",
            "Instructor 3 eligible: True\n",
            "Can allocate Java: False\n"
          ]
        }
      ],
      "source": [
        "class Instructor:\n",
        "    def __init__(self):\n",
        "        self.__name = \"\"\n",
        "        self.__technology_skill = []\n",
        "        self.__experience = 0\n",
        "        self.__avg_feedback = 0.0\n",
        "\n",
        "    # Setter methods\n",
        "    def set_name(self, name):\n",
        "        self.__name = name\n",
        "\n",
        "    def set_technology_skill(self, skill_list):\n",
        "        self.__technology_skill = skill_list\n",
        "\n",
        "    def set_experience(self, experience):\n",
        "        self.__experience = experience\n",
        "\n",
        "    def set_avg_feedback(self, avg_feedback):\n",
        "        self.__avg_feedback = avg_feedback\n",
        "\n",
        "    # Public method to check eligibility\n",
        "    def check_eligibility(self):\n",
        "        if self.__experience > 3 and self.__avg_feedback >= 4.5:\n",
        "            return True\n",
        "        elif self.__experience <= 3 and self.__avg_feedback >= 4.0:\n",
        "            return True\n",
        "        else:\n",
        "            return False\n",
        "\n",
        "    # Public method to allocate course\n",
        "    def allocate_course(self, technology):\n",
        "        if self.check_eligibility() and technology in self.__technology_skill:\n",
        "            return True\n",
        "        return False\n",
        "\n",
        "\n",
        "# -------------------------------\n",
        "# ✅ Create and test Instructor objects\n",
        "# -------------------------------\n",
        "\n",
        "# Instructor 1: Eligible and has the skill\n",
        "instructor1 = Instructor()\n",
        "instructor1.set_name(\"Alice\")\n",
        "instructor1.set_technology_skill([\"Python\", \"Java\"])\n",
        "instructor1.set_experience(5)\n",
        "instructor1.set_avg_feedback(4.6)\n",
        "\n",
        "print(\"Instructor 1 eligible:\", instructor1.check_eligibility())  # True\n",
        "print(\"Can allocate Python:\", instructor1.allocate_course(\"Python\"))  # True\n",
        "print(\"Can allocate C++:\", instructor1.allocate_course(\"C++\"))  # False\n",
        "\n",
        "# Instructor 2: Not eligible due to low feedback\n",
        "instructor2 = Instructor()\n",
        "instructor2.set_name(\"Bob\")\n",
        "instructor2.set_technology_skill([\"C++\", \"JavaScript\"])\n",
        "instructor2.set_experience(4)\n",
        "instructor2.set_avg_feedback(4.0)\n",
        "\n",
        "print(\"\\nInstructor 2 eligible:\", instructor2.check_eligibility())  # False\n",
        "print(\"Can allocate C++:\", instructor2.allocate_course(\"C++\"))  # False\n",
        "\n",
        "# Instructor 3: Eligible but lacks technology\n",
        "instructor3 = Instructor()\n",
        "instructor3.set_name(\"Charlie\")\n",
        "instructor3.set_technology_skill([\"HTML\", \"CSS\"])\n",
        "instructor3.set_experience(2)\n",
        "instructor3.set_avg_feedback(4.2)\n",
        "\n",
        "print(\"\\nInstructor 3 eligible:\", instructor3.check_eligibility())  # True\n",
        "print(\"Can allocate Java:\", instructor3.allocate_course(\"Java\"))  # False\n"
      ]
    },
    {
      "cell_type": "markdown",
      "metadata": {
        "id": "z29XRY-clq8Z"
      },
      "source": [
        "###`Q1:`Count number of instances of a class created in Python?\n",
        "\n",
        "Example:\n",
        "Say `Car` is any class.\n",
        "```\n",
        "maruti = Car()\n",
        "bmw = Car()\n",
        "honda = Car()\n",
        "```\n",
        "So after creating above instances. We want to count how many instances are created of Car class.\n",
        "\n",
        "For above example `no of instances = 3`.\n",
        "\n",
        "Write a program for above problem.\n"
      ]
    },
    {
      "cell_type": "code",
      "execution_count": null,
      "metadata": {
        "colab": {
          "background_save": true
        },
        "id": "WatZlZIXlqNr",
        "outputId": "b7325b0b-d033-4edb-8bf1-980da10daead"
      },
      "outputs": [
        {
          "data": {
            "text/plain": [
              "4"
            ]
          },
          "execution_count": 17,
          "metadata": {},
          "output_type": "execute_result"
        }
      ],
      "source": [
        "class Car:\n",
        "  __count = 1\n",
        "  def __init__(self,name):\n",
        "    self.name =name\n",
        "    Car.__count+=1\n",
        "\n",
        "  @staticmethod\n",
        "  def get_count():\n",
        "    return Car.__count\n",
        "\n",
        "maruti = Car('maruti')\n",
        "bmw = Car('BMW')\n",
        "honda = Car('Honda')\n",
        "Car.get_count()"
      ]
    },
    {
      "cell_type": "code",
      "execution_count": 1,
      "metadata": {
        "id": "unzPmHgAmKIS",
        "colab": {
          "base_uri": "https://localhost:8080/",
          "height": 106
        },
        "outputId": "d089fcfb-95e3-4928-92f3-e298ecb57b5c"
      },
      "outputs": [
        {
          "output_type": "error",
          "ename": "SyntaxError",
          "evalue": "incomplete input (ipython-input-1-2963571889.py, line 8)",
          "traceback": [
            "\u001b[0;36m  File \u001b[0;32m\"/tmp/ipython-input-1-2963571889.py\"\u001b[0;36m, line \u001b[0;32m8\u001b[0m\n\u001b[0;31m    \u001b[0m\n\u001b[0m    ^\u001b[0m\n\u001b[0;31mSyntaxError\u001b[0m\u001b[0;31m:\u001b[0m incomplete input\n"
          ]
        }
      ],
      "source": [
        "class Update_Menu:\n",
        "  breakfast_id = 1\n",
        "  def __init__(self):\n",
        "    self.menu = []\n",
        "\n",
        "  def add_items(self):\n",
        "\n",
        ""
      ]
    },
    {
      "cell_type": "code",
      "source": [
        "set([\"1\",1])"
      ],
      "metadata": {
        "colab": {
          "base_uri": "https://localhost:8080/"
        },
        "id": "tlBUOx8iYqc4",
        "outputId": "8b26a964-4636-4e2c-9e5c-35d1ad5f177d"
      },
      "execution_count": 2,
      "outputs": [
        {
          "output_type": "execute_result",
          "data": {
            "text/plain": [
              "{1, '1'}"
            ]
          },
          "metadata": {},
          "execution_count": 2
        }
      ]
    },
    {
      "cell_type": "code",
      "source": [
        "def a(**args):\n",
        "  for i in args:\n",
        "    print(args[i])"
      ],
      "metadata": {
        "id": "a5r9gxVfYtKu"
      },
      "execution_count": 14,
      "outputs": []
    },
    {
      "cell_type": "code",
      "source": [
        "a(n=3,y=6)"
      ],
      "metadata": {
        "colab": {
          "base_uri": "https://localhost:8080/"
        },
        "id": "kCOldey5ZVM-",
        "outputId": "f2323204-d447-48b0-8657-7ffc7942d738"
      },
      "execution_count": 15,
      "outputs": [
        {
          "output_type": "stream",
          "name": "stdout",
          "text": [
            "3\n",
            "6\n"
          ]
        }
      ]
    },
    {
      "cell_type": "code",
      "source": [
        "class Vehicle:\n",
        "  def __init__(self,capacity):\n",
        "    self.price = None\n",
        "    self.capacity = capacity\n",
        "\n",
        "  def fare(self):\n",
        "    self.price = self.capacity * 100\n",
        "\n",
        "class Bus(Vehicle):\n",
        "  def __init__(self,capacity=50):\n",
        "    super().__init__(capacity)\n",
        "\n",
        "  def fare(self):\n",
        "    self.price = self.capacity*100*1.1\n",
        "    print(self.price)"
      ],
      "metadata": {
        "id": "_NLxc7k7b7PK"
      },
      "execution_count": 25,
      "outputs": []
    },
    {
      "cell_type": "code",
      "source": [
        "\n",
        "Bus().fare()\n"
      ],
      "metadata": {
        "colab": {
          "base_uri": "https://localhost:8080/"
        },
        "id": "_6nCyYpZZX0m",
        "outputId": "cc879499-871c-4c6c-e7ec-17212a822404"
      },
      "execution_count": 26,
      "outputs": [
        {
          "output_type": "stream",
          "name": "stdout",
          "text": [
            "5500.0\n"
          ]
        }
      ]
    },
    {
      "cell_type": "markdown",
      "source": [
        "The colon (:) is not a dictionary syntax. Instead, this is called a type hint (or type annotation).\n",
        "\n",
        "🔍 What it means:\n",
        "start: Point tells Python (and humans) that the parameter start is expected to be an object of class Point.\n",
        "\n",
        "It's just a hint, not a restriction — Python will not enforce the type at runtime unless you explicitly check it."
      ],
      "metadata": {
        "id": "uYDrz3ZPhAda"
      }
    },
    {
      "cell_type": "code",
      "source": [
        "class Point:\n",
        "    def __init__(self, x, y):\n",
        "        self.x = x\n",
        "        self.y = y\n",
        "\n",
        "class Location:\n",
        "    def __init__(self, start: Point,end: Point):\n",
        "        self.start = start\n",
        "        self.end = end\n",
        "\n",
        "    def reflection(self):\n",
        "      reflected = Point(self.end.x, -self.end.y)\n",
        "      print(reflected.x,reflected.y)\n",
        "\n",
        ""
      ],
      "metadata": {
        "id": "2lagsMyOeZRe"
      },
      "execution_count": 27,
      "outputs": []
    },
    {
      "cell_type": "code",
      "source": [
        "Location(Point(2,3),Point(4,3)).reflection()"
      ],
      "metadata": {
        "colab": {
          "base_uri": "https://localhost:8080/"
        },
        "id": "MvnUq46NhfH_",
        "outputId": "bbc54fd5-1c5b-4d69-b85d-43dab38be74c"
      },
      "execution_count": 28,
      "outputs": [
        {
          "output_type": "stream",
          "name": "stdout",
          "text": [
            "4 -3\n"
          ]
        }
      ]
    },
    {
      "cell_type": "code",
      "source": [
        "from abc import ABC,abstractmethod\n",
        "\n",
        "class Polygon(ABC):\n",
        "  @abstractmethod\n",
        "  def get_dimensions(self):\n",
        "    pass\n",
        "\n",
        "  @abstractmethod\n",
        "  def area(self):\n",
        "    pass\n",
        "\n",
        "class Rectangle(Polygon):\n",
        "  def get_dimensions(self):\n",
        "     self.length = float(input(\"Enter length of rectangle: \"))\n",
        "     self.breadth = float(input(\"Enter breadth of rectangle: \"))\n",
        "\n",
        "  def area(self):\n",
        "    return self.length * self.breadth\n",
        "\n",
        "class Triangle(Polygon):\n",
        "    def get_dimensions(self):\n",
        "        self.base = float(input(\"Enter base of triangle: \"))\n",
        "        self.height = float(input(\"Enter height of triangle: \"))\n",
        "\n",
        "    def area(self):\n",
        "        return 0.5 * self.base * self.height"
      ],
      "metadata": {
        "id": "3oypXLMfhz5O"
      },
      "execution_count": 36,
      "outputs": []
    },
    {
      "cell_type": "code",
      "source": [
        "\n",
        "rect = Rectangle()\n",
        "rect.get_dimensions()\n",
        "print(\"Area of rectangle:\", rect.area())\n",
        "\n",
        "\n",
        "tri = Triangle()\n",
        "tri.get_dimensions()\n",
        "print(\"Area of triangle:\", tri.area())\n"
      ],
      "metadata": {
        "colab": {
          "base_uri": "https://localhost:8080/"
        },
        "id": "GoBxdhyqmhCu",
        "outputId": "e134b6b2-6cc5-4ac3-8a13-7ddf482efb63"
      },
      "execution_count": 37,
      "outputs": [
        {
          "output_type": "stream",
          "name": "stdout",
          "text": [
            "Enter length of rectangle: 25\n",
            "Enter breadth of rectangle: 10\n",
            "Area of rectangle: 250.0\n",
            "Enter base of triangle: 12\n",
            "Enter height of triangle: 6\n",
            "Area of triangle: 36.0\n"
          ]
        }
      ]
    },
    {
      "cell_type": "code",
      "source": [
        "class A(dict):\n",
        "\n",
        "  def __getitem__(self,key):\n",
        "    try:\n",
        "      return super().__getitem__(key)\n",
        "    except:\n",
        "      alt_key = self._convert_key(key)\n",
        "      if alt_key in self:\n",
        "        return super().__getitem__(alt_key)\n",
        "      raise KeyError(f\"{key} not found in dictionary.\")\n",
        "\n",
        "  def __contains__(self, key):\n",
        "      return super().__contains__(key) or super().__contains__(self._convert_key(key))\n",
        "\n",
        "  def _convert_key(self,key):\n",
        "    if isinstance(key,str) and key.isdigit():\n",
        "      return int(key)\n",
        "    elif isinstance(key, int):\n",
        "          return str(key)\n",
        "    return key"
      ],
      "metadata": {
        "id": "c21gsx8xmi72"
      },
      "execution_count": 53,
      "outputs": []
    },
    {
      "cell_type": "code",
      "source": [
        "fd = A()"
      ],
      "metadata": {
        "id": "zmKoAdBZqCMG"
      },
      "execution_count": 54,
      "outputs": []
    },
    {
      "cell_type": "code",
      "source": [
        "fd[2]=100"
      ],
      "metadata": {
        "id": "OM9jCdaRqLze"
      },
      "execution_count": 55,
      "outputs": []
    },
    {
      "cell_type": "code",
      "source": [
        "fd[3]=200\n"
      ],
      "metadata": {
        "id": "PGh4LVmYqPBI"
      },
      "execution_count": 59,
      "outputs": []
    },
    {
      "cell_type": "code",
      "source": [
        "fd['2']"
      ],
      "metadata": {
        "colab": {
          "base_uri": "https://localhost:8080/"
        },
        "id": "88w_plsAqThh",
        "outputId": "d856060f-08d8-4971-b34a-3138d6367c1e"
      },
      "execution_count": 60,
      "outputs": [
        {
          "output_type": "execute_result",
          "data": {
            "text/plain": [
              "100"
            ]
          },
          "metadata": {},
          "execution_count": 60
        }
      ]
    },
    {
      "cell_type": "code",
      "source": [
        "isinstance(2,int)"
      ],
      "metadata": {
        "colab": {
          "base_uri": "https://localhost:8080/"
        },
        "id": "HCPRlWTCtVi2",
        "outputId": "a94c9915-c14c-464e-912d-951d44cfc339"
      },
      "execution_count": 61,
      "outputs": [
        {
          "output_type": "execute_result",
          "data": {
            "text/plain": [
              "True"
            ]
          },
          "metadata": {},
          "execution_count": 61
        }
      ]
    },
    {
      "cell_type": "code",
      "source": [],
      "metadata": {
        "id": "IHYXhv2jtb02"
      },
      "execution_count": null,
      "outputs": []
    }
  ],
  "metadata": {
    "colab": {
      "provenance": [],
      "authorship_tag": "ABX9TyOXWoEQesLxX5FkDa06COD5",
      "include_colab_link": true
    },
    "kernelspec": {
      "display_name": "Python 3",
      "name": "python3"
    },
    "language_info": {
      "name": "python"
    }
  },
  "nbformat": 4,
  "nbformat_minor": 0
}