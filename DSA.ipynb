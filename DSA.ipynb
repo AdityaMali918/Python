{
  "nbformat": 4,
  "nbformat_minor": 0,
  "metadata": {
    "colab": {
      "provenance": [],
      "authorship_tag": "ABX9TyN4st1nNO/q5MYmPIdiyrHq",
      "include_colab_link": true
    },
    "kernelspec": {
      "name": "python3",
      "display_name": "Python 3"
    },
    "language_info": {
      "name": "python"
    }
  },
  "cells": [
    {
      "cell_type": "markdown",
      "metadata": {
        "id": "view-in-github",
        "colab_type": "text"
      },
      "source": [
        "<a href=\"https://colab.research.google.com/github/AdityaMali918/Python/blob/main/DSA.ipynb\" target=\"_parent\"><img src=\"https://colab.research.google.com/assets/colab-badge.svg\" alt=\"Open In Colab\"/></a>"
      ]
    },
    {
      "cell_type": "markdown",
      "source": [
        "# **Time Calculating methods**"
      ],
      "metadata": {
        "id": "htUBaatoOPgp"
      }
    },
    {
      "cell_type": "markdown",
      "source": [
        "#  1. using time"
      ],
      "metadata": {
        "id": "mSgH20t6OduA"
      }
    },
    {
      "cell_type": "code",
      "execution_count": null,
      "metadata": {
        "colab": {
          "base_uri": "https://localhost:8080/"
        },
        "id": "hPR6mhNfNrjE",
        "outputId": "3a48bb4b-380d-43b2-b803-a79875c29042"
      },
      "outputs": [
        {
          "output_type": "stream",
          "name": "stdout",
          "text": [
            "1\n",
            "2\n",
            "3\n",
            "4\n",
            "5\n",
            "6\n",
            "7\n",
            "8\n",
            "9\n",
            "10\n",
            "0.00021600723266601562\n"
          ]
        }
      ],
      "source": [
        "import time\n",
        "\n",
        "start = time.time()\n",
        "for i in range(1,11):\n",
        "  print(i)\n",
        "end = time.time()\n",
        "\n",
        "print(end - start)\n",
        "\n",
        "# problem  1 - Hardware difference\n",
        "# problem  2 - Using different loops or any different functionality\n",
        "# problem  3 - Using different loops or any different functionality\n",
        "# problem 4  - No relationship between input and time"
      ]
    },
    {
      "cell_type": "markdown",
      "source": [
        "#  2. counting operation"
      ],
      "metadata": {
        "id": "jU1Guh1eW0AJ"
      }
    },
    {
      "cell_type": "code",
      "source": [
        "#x = c*0.9/5 + 32  No of operation is 3\n",
        "\n",
        "# problem solved  1 - Hardware difference\n",
        "# problem solved  4  - No relationship between input and time (t = 3) for any input for above operation"
      ],
      "metadata": {
        "id": "jbArLCruO0vJ"
      },
      "execution_count": null,
      "outputs": []
    },
    {
      "cell_type": "markdown",
      "source": [
        "# **What do we want?**\n",
        "\n",
        "- We want to evaluate algorithm\n",
        "- We want to evaluate scalability\n",
        "- We want to evaluate in terms of input size"
      ],
      "metadata": {
        "id": "0W-1ZRZlYTZx"
      }
    },
    {
      "cell_type": "markdown",
      "source": [
        "# Common Orders of Growth (Big-O Notation)\n",
        "- ### **O(log n**) – Logarithmic Time\n",
        "\n",
        "   Time increases slowly as input size increases.\n",
        "\n",
        "   Example: Binary search.\n",
        "\n",
        "- ### **O(n)** – Linear Time\n",
        "\n",
        "   Time increases directly with input size.\n",
        "\n",
        "   Example: Iterating through an array.\n",
        "\n",
        "- ### **O(n log n)** – Linearithmic Time\n",
        "\n",
        "   Common in efficient sorting algorithms.\n",
        "\n",
        "   Example: Merge Sort, Heap Sort, Quick Sort (average case).\n",
        "\n",
        "- ### **O(n²)** – Quadratic Time\n",
        "\n",
        "   Time increases with the square of the input size.\n",
        "\n",
        "   Example: Bubble Sort, Insertion Sort, Selection Sort (worst case).\n",
        "\n",
        "- ### **O(n³**) – Cubic Time\n",
        "\n",
        "   Time increases with the cube of the input size.\n",
        "\n",
        "   Example: Matrix multiplication (naive method).\n",
        "\n",
        "- ### **O(2ⁿ)** – Exponential Time\n",
        "\n",
        "   Time doubles with each additional input element.\n",
        "\n",
        "   Example: Recursive solutions to Fibonacci, subsets.\n",
        "\n",
        "- ### **O(n!)** – Factorial Time\n",
        "\n",
        "   Extremely inefficient for large inputs.\n",
        "\n",
        "   Example: Solving Traveling Salesman Problem (brute force), permutations."
      ],
      "metadata": {
        "id": "cTZZjY7dcGxa"
      }
    },
    {
      "cell_type": "markdown",
      "source": [
        "✅ 1. Drop Constants\n",
        "Rule: Ignore constant multipliers.\n",
        "\n",
        "Why? Because constants don't grow with input size.\n",
        "\n",
        "Example:\n",
        "\n",
        "O(5n) → O(n)\n",
        "\n",
        "O(100) → O(1)\n",
        "\n",
        "✅ 2. Drop Lower-Order Terms\n",
        "Rule: Keep only the dominant term (the one that grows the fastest).\n",
        "\n",
        "Example:\n",
        "\n",
        "O(n² + n + 1) → O(n²)\n",
        "\n",
        "O(n log n + n) → O(n log n)\n",
        "\n",
        "✅ 3. Different Inputs → Different Variables\n",
        "Rule: Use different variables for different inputs.\n",
        "\n",
        "Example:\n",
        "\n",
        "If a function takes two arrays of sizes n and m:\n",
        "\n",
        "Complexity: O(n + m), not O(n) or O(m).\n",
        "\n",
        "✅ 4. Loops\n",
        "Rule: The time complexity is usually the number of loop iterations.\n",
        "\n",
        "Example:\n",
        "\n",
        "python\n",
        "Copy\n",
        "Edit\n",
        "for i in range(n):   # O(n)\n",
        "    print(i)\n",
        "✅ 5. Nested Loops\n",
        "Rule: Multiply the complexities of nested loops.\n",
        "\n",
        "Example:\n",
        "\n",
        "python\n",
        "Copy\n",
        "Edit\n",
        "for i in range(n):         # O(n)\n",
        "    for j in range(n):     # O(n)\n",
        "        print(i, j)        # Total: O(n²)\n",
        "✅ 6. Consecutive Statements\n",
        "Rule: Add complexities, but simplify with dominant term.\n",
        "\n",
        "Example:\n",
        "\n",
        "python\n",
        "Copy\n",
        "Edit\n",
        "for i in range(n):     # O(n)\n",
        "    print(i)\n",
        "\n",
        "for j in range(n):     # O(n)\n",
        "    print(j)\n",
        "Total: O(n + n) → O(n)\n",
        "\n",
        "✅ 7. Recursive Functions\n",
        "Rule: Use recurrence relations and solve them.\n",
        "\n",
        "Example: Fibonacci\n",
        "\n",
        "python\n",
        "Copy\n",
        "Edit\n",
        "def fib(n):\n",
        "    if n <= 1:\n",
        "        return 1\n",
        "    return fib(n-1) + fib(n-2)\n",
        "Time Complexity: O(2ⁿ)\n",
        "\n"
      ],
      "metadata": {
        "id": "INPJfu-RdEBS"
      }
    },
    {
      "cell_type": "code",
      "source": [],
      "metadata": {
        "id": "8bdGwyIyYKNU"
      },
      "execution_count": null,
      "outputs": []
    }
  ]
}