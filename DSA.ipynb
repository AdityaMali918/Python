{
  "nbformat": 4,
  "nbformat_minor": 0,
  "metadata": {
    "colab": {
      "provenance": [],
      "authorship_tag": "ABX9TyPMu2YDvGMZNMsHGt1QVsQD",
      "include_colab_link": true
    },
    "kernelspec": {
      "name": "python3",
      "display_name": "Python 3"
    },
    "language_info": {
      "name": "python"
    }
  },
  "cells": [
    {
      "cell_type": "markdown",
      "metadata": {
        "id": "view-in-github",
        "colab_type": "text"
      },
      "source": [
        "<a href=\"https://colab.research.google.com/github/AdityaMali918/Python/blob/main/DSA.ipynb\" target=\"_parent\"><img src=\"https://colab.research.google.com/assets/colab-badge.svg\" alt=\"Open In Colab\"/></a>"
      ]
    },
    {
      "cell_type": "markdown",
      "source": [
        "# **Time Calculating methods**"
      ],
      "metadata": {
        "id": "htUBaatoOPgp"
      }
    },
    {
      "cell_type": "markdown",
      "source": [
        "#  1. using time"
      ],
      "metadata": {
        "id": "mSgH20t6OduA"
      }
    },
    {
      "cell_type": "code",
      "execution_count": 7,
      "metadata": {
        "colab": {
          "base_uri": "https://localhost:8080/"
        },
        "id": "hPR6mhNfNrjE",
        "outputId": "3a48bb4b-380d-43b2-b803-a79875c29042"
      },
      "outputs": [
        {
          "output_type": "stream",
          "name": "stdout",
          "text": [
            "1\n",
            "2\n",
            "3\n",
            "4\n",
            "5\n",
            "6\n",
            "7\n",
            "8\n",
            "9\n",
            "10\n",
            "0.00021600723266601562\n"
          ]
        }
      ],
      "source": [
        "import time\n",
        "\n",
        "start = time.time()\n",
        "for i in range(1,11):\n",
        "  print(i)\n",
        "end = time.time()\n",
        "\n",
        "print(end - start)\n",
        "\n",
        "# problem  1 - Hardware difference\n",
        "# problem  2 - Using different loops or any different functionality\n",
        "# problem  3 - Using different loops or any different functionality\n",
        "# problem 4  - No relationship between input and time"
      ]
    },
    {
      "cell_type": "code",
      "source": [],
      "metadata": {
        "id": "jbArLCruO0vJ"
      },
      "execution_count": 5,
      "outputs": []
    }
  ]
}